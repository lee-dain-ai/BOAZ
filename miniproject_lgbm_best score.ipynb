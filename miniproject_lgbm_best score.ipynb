{
  "nbformat": 4,
  "nbformat_minor": 0,
  "metadata": {
    "colab": {
      "name": "miniproject lgbm.ipynb",
      "provenance": [],
      "collapsed_sections": [],
      "machine_shape": "hm",
      "authorship_tag": "ABX9TyO9dPPGfkemLG1hJldZ72yt",
      "include_colab_link": true
    },
    "kernelspec": {
      "name": "python3",
      "display_name": "Python 3"
    }
  },
  "cells": [
    {
      "cell_type": "markdown",
      "metadata": {
        "id": "view-in-github",
        "colab_type": "text"
      },
      "source": [
        "<a href=\"https://colab.research.google.com/github/manypeople-AI/-/blob/main/miniproject_lgbm_best%20score.ipynb\" target=\"_parent\"><img src=\"https://colab.research.google.com/assets/colab-badge.svg\" alt=\"Open In Colab\"/></a>"
      ]
    },
    {
      "cell_type": "code",
      "metadata": {
        "colab": {
          "base_uri": "https://localhost:8080/"
        },
        "id": "MCQtQ4bG48rk",
        "outputId": "31526a06-975c-4b08-86ec-4e094a3fe080"
      },
      "source": [
        "!pip install category_encoders"
      ],
      "execution_count": 1,
      "outputs": [
        {
          "output_type": "stream",
          "text": [
            "Requirement already satisfied: category_encoders in /usr/local/lib/python3.7/dist-packages (2.2.2)\n",
            "Requirement already satisfied: statsmodels>=0.9.0 in /usr/local/lib/python3.7/dist-packages (from category_encoders) (0.10.2)\n",
            "Requirement already satisfied: scipy>=1.0.0 in /usr/local/lib/python3.7/dist-packages (from category_encoders) (1.4.1)\n",
            "Requirement already satisfied: patsy>=0.5.1 in /usr/local/lib/python3.7/dist-packages (from category_encoders) (0.5.1)\n",
            "Requirement already satisfied: pandas>=0.21.1 in /usr/local/lib/python3.7/dist-packages (from category_encoders) (1.1.5)\n",
            "Requirement already satisfied: numpy>=1.14.0 in /usr/local/lib/python3.7/dist-packages (from category_encoders) (1.19.5)\n",
            "Requirement already satisfied: scikit-learn>=0.20.0 in /usr/local/lib/python3.7/dist-packages (from category_encoders) (0.22.2.post1)\n",
            "Requirement already satisfied: six in /usr/local/lib/python3.7/dist-packages (from patsy>=0.5.1->category_encoders) (1.15.0)\n",
            "Requirement already satisfied: python-dateutil>=2.7.3 in /usr/local/lib/python3.7/dist-packages (from pandas>=0.21.1->category_encoders) (2.8.1)\n",
            "Requirement already satisfied: pytz>=2017.2 in /usr/local/lib/python3.7/dist-packages (from pandas>=0.21.1->category_encoders) (2018.9)\n",
            "Requirement already satisfied: joblib>=0.11 in /usr/local/lib/python3.7/dist-packages (from scikit-learn>=0.20.0->category_encoders) (1.0.1)\n"
          ],
          "name": "stdout"
        }
      ]
    },
    {
      "cell_type": "code",
      "metadata": {
        "colab": {
          "base_uri": "https://localhost:8080/"
        },
        "id": "UeZF7E4R5mpB",
        "outputId": "9f41907d-8029-425d-8608-de0566db6e46"
      },
      "source": [
        "import pandas as pd\r\n",
        "import numpy as np\r\n",
        "from itertools import product\r\n",
        "from collections import Counter\r\n",
        "from sklearn.cluster import KMeans\r\n",
        "from sklearn.preprocessing import LabelEncoder\r\n",
        "le=LabelEncoder()\r\n",
        "import category_encoders as ce\r\n",
        "import warnings"
      ],
      "execution_count": 2,
      "outputs": [
        {
          "output_type": "stream",
          "text": [
            "/usr/local/lib/python3.7/dist-packages/statsmodels/tools/_testing.py:19: FutureWarning: pandas.util.testing is deprecated. Use the functions in the public API at pandas.testing instead.\n",
            "  import pandas.util.testing as tm\n"
          ],
          "name": "stderr"
        }
      ]
    },
    {
      "cell_type": "markdown",
      "metadata": {
        "id": "jxZVgBbe5pvx"
      },
      "source": [
        "# Preparing & Preprocessing Dataset"
      ]
    },
    {
      "cell_type": "code",
      "metadata": {
        "colab": {
          "base_uri": "https://localhost:8080/"
        },
        "id": "O9cZsN1Z48yZ",
        "outputId": "96ccf206-15dc-4a41-b046-ca9540348e7d"
      },
      "source": [
        "from google.colab import drive\r\n",
        "\r\n",
        "drive.mount('/content/gdrive')"
      ],
      "execution_count": 3,
      "outputs": [
        {
          "output_type": "stream",
          "text": [
            "Drive already mounted at /content/gdrive; to attempt to forcibly remount, call drive.mount(\"/content/gdrive\", force_remount=True).\n"
          ],
          "name": "stdout"
        }
      ]
    },
    {
      "cell_type": "code",
      "metadata": {
        "colab": {
          "base_uri": "https://localhost:8080/"
        },
        "id": "7Caoh-6o480p",
        "outputId": "7a6e62ae-e6ef-4e7a-8fc9-3a7d188c1bed"
      },
      "source": [
        "cd /content/gdrive/My Drive/mini_project"
      ],
      "execution_count": 4,
      "outputs": [
        {
          "output_type": "stream",
          "text": [
            "/content/gdrive/My Drive/mini_project\n"
          ],
          "name": "stdout"
        }
      ]
    },
    {
      "cell_type": "code",
      "metadata": {
        "id": "RL0rb_yk4822"
      },
      "source": [
        "items = pd.read_csv(\"items.csv\")\r\n",
        "shops = pd.read_csv(\"shops.csv\")\r\n",
        "categ = pd.read_csv(\"item_categories.csv\")\r\n",
        "train = pd.read_csv(\"sales_train.csv\")\r\n",
        "test= pd.read_csv(\"test.csv\").set_index('ID')"
      ],
      "execution_count": 5,
      "outputs": []
    },
    {
      "cell_type": "markdown",
      "metadata": {
        "id": "YQHiL3irI8g7"
      },
      "source": [
        "train data 결측치/이상치/중복행 제거"
      ]
    },
    {
      "cell_type": "code",
      "metadata": {
        "colab": {
          "base_uri": "https://localhost:8080/"
        },
        "id": "gdP-9A8gJHNb",
        "outputId": "c8ea0337-e65c-4a69-c23b-647654d62043"
      },
      "source": [
        "#train data 결측치 확인\r\n",
        "\r\n",
        "train.isnull().sum()"
      ],
      "execution_count": 6,
      "outputs": [
        {
          "output_type": "execute_result",
          "data": {
            "text/plain": [
              "date              0\n",
              "date_block_num    0\n",
              "shop_id           0\n",
              "item_id           0\n",
              "item_price        0\n",
              "item_cnt_day      0\n",
              "dtype: int64"
            ]
          },
          "metadata": {
            "tags": []
          },
          "execution_count": 6
        }
      ]
    },
    {
      "cell_type": "markdown",
      "metadata": {
        "id": "D7uWKRkcJTrk"
      },
      "source": [
        "-> 결측치는 없음"
      ]
    },
    {
      "cell_type": "code",
      "metadata": {
        "colab": {
          "base_uri": "https://localhost:8080/"
        },
        "id": "gG_5nh_7JHTT",
        "outputId": "3e58c604-222d-4614-c704-76aa3a2d4dec"
      },
      "source": [
        "#train/test data 중복 여부 확인\r\n",
        "sum(train.duplicated()), sum(test.duplicated())"
      ],
      "execution_count": 7,
      "outputs": [
        {
          "output_type": "execute_result",
          "data": {
            "text/plain": [
              "(6, 0)"
            ]
          },
          "metadata": {
            "tags": []
          },
          "execution_count": 7
        }
      ]
    },
    {
      "cell_type": "markdown",
      "metadata": {
        "id": "jJoFaGpDKMzy"
      },
      "source": [
        "-> train data에 중복행이 6개 존재"
      ]
    },
    {
      "cell_type": "code",
      "metadata": {
        "colab": {
          "base_uri": "https://localhost:8080/"
        },
        "id": "HYEGgy37JHWw",
        "outputId": "943070b1-9c0a-4101-fcd8-06fd1be622c8"
      },
      "source": [
        "#item, category, shops 중복 여부 확인\r\n",
        "sum(items.duplicated()),sum(categ.duplicated()),sum(shops.duplicated())"
      ],
      "execution_count": 8,
      "outputs": [
        {
          "output_type": "execute_result",
          "data": {
            "text/plain": [
              "(0, 0, 0)"
            ]
          },
          "metadata": {
            "tags": []
          },
          "execution_count": 8
        }
      ]
    },
    {
      "cell_type": "code",
      "metadata": {
        "id": "OZZKUctdKLvO"
      },
      "source": [
        "#train data 중복행 제거해주기\r\n",
        "train.drop_duplicates(inplace=True)"
      ],
      "execution_count": 9,
      "outputs": []
    },
    {
      "cell_type": "code",
      "metadata": {
        "colab": {
          "base_uri": "https://localhost:8080/"
        },
        "id": "A_CDu3zjKLyo",
        "outputId": "7e34f2bb-d253-4501-dbb4-6d69bbcede40"
      },
      "source": [
        "train.info()"
      ],
      "execution_count": 10,
      "outputs": [
        {
          "output_type": "stream",
          "text": [
            "<class 'pandas.core.frame.DataFrame'>\n",
            "Int64Index: 2935843 entries, 0 to 2935848\n",
            "Data columns (total 6 columns):\n",
            " #   Column          Dtype  \n",
            "---  ------          -----  \n",
            " 0   date            object \n",
            " 1   date_block_num  int64  \n",
            " 2   shop_id         int64  \n",
            " 3   item_id         int64  \n",
            " 4   item_price      float64\n",
            " 5   item_cnt_day    float64\n",
            "dtypes: float64(2), int64(3), object(1)\n",
            "memory usage: 156.8+ MB\n"
          ],
          "name": "stdout"
        }
      ]
    },
    {
      "cell_type": "code",
      "metadata": {
        "colab": {
          "base_uri": "https://localhost:8080/",
          "height": 592
        },
        "id": "qe25wMC1KL0r",
        "outputId": "14679ec9-77fd-4ceb-aa9c-575bfce54cd0"
      },
      "source": [
        "#이상치 처리\r\n",
        "import seaborn as sns\r\n",
        "import matplotlib.pyplot as plt\r\n",
        "\r\n",
        "#상자그림으로 확인해보기 - item price\r\n",
        "plt.figure(figsize=(2,10))\r\n",
        "train.boxplot(column =['item_price'])\r\n",
        "plt.show()"
      ],
      "execution_count": 11,
      "outputs": [
        {
          "output_type": "display_data",
          "data": {
            "image/png": "[encoded data removed]",
            "text/plain": [
              "<Figure size 144x720 with 1 Axes>"
            ]
          },
          "metadata": {
            "tags": [],
            "needs_background": "light"
          }
        }
      ]
    },
    {
      "cell_type": "code",
      "metadata": {
        "colab": {
          "base_uri": "https://localhost:8080/",
          "height": 592
        },
        "id": "ftWvO0TbK5qh",
        "outputId": "9a747143-183c-48c2-af24-1ee7de7891b5"
      },
      "source": [
        "#상자그림 -  item_cnt_day(하루에 해당 item이 팔린 갯수)\r\n",
        "plt.figure(figsize=(2,10))\r\n",
        "train.boxplot(column=['item_cnt_day'])\r\n",
        "plt.show()"
      ],
      "execution_count": 12,
      "outputs": [
        {
          "output_type": "display_data",
          "data": {
            "image/png": "[encoded data removed]",
            "text/plain": [
              "<Figure size 144x720 with 1 Axes>"
            ]
          },
          "metadata": {
            "tags": [],
            "needs_background": "light"
          }
        }
      ]
    },
    {
      "cell_type": "code",
      "metadata": {
        "id": "A1c__mKJK5u1"
      },
      "source": [
        "#이상치 제거\r\n",
        "train = train[train.item_price<=100000]\r\n",
        "train = train[train.item_cnt_day<=1002]\r\n",
        "train = train[train.item_price>=0]\r\n",
        "train = train[train.item_cnt_day>=0]"
      ],
      "execution_count": 13,
      "outputs": []
    },
    {
      "cell_type": "code",
      "metadata": {
        "colab": {
          "base_uri": "https://localhost:8080/"
        },
        "id": "URVlECxOK5yJ",
        "outputId": "94f417c0-82cb-4a52-f973-58f78a6ef09c"
      },
      "source": [
        "train.info()"
      ],
      "execution_count": 14,
      "outputs": [
        {
          "output_type": "stream",
          "text": [
            "<class 'pandas.core.frame.DataFrame'>\n",
            "Int64Index: 2928484 entries, 0 to 2935848\n",
            "Data columns (total 6 columns):\n",
            " #   Column          Dtype  \n",
            "---  ------          -----  \n",
            " 0   date            object \n",
            " 1   date_block_num  int64  \n",
            " 2   shop_id         int64  \n",
            " 3   item_id         int64  \n",
            " 4   item_price      float64\n",
            " 5   item_cnt_day    float64\n",
            "dtypes: float64(2), int64(3), object(1)\n",
            "memory usage: 156.4+ MB\n"
          ],
          "name": "stdout"
        }
      ]
    },
    {
      "cell_type": "markdown",
      "metadata": {
        "id": "V3JST_oG9OB9"
      },
      "source": [
        "category data"
      ]
    },
    {
      "cell_type": "code",
      "metadata": {
        "colab": {
          "base_uri": "https://localhost:8080/",
          "height": 196
        },
        "id": "f_L6yp2eBxwo",
        "outputId": "c6f882ed-a490-4f0d-97f3-3683ebf554fd"
      },
      "source": [
        "categ.head()"
      ],
      "execution_count": 15,
      "outputs": [
        {
          "output_type": "execute_result",
          "data": {
            "text/html": [
              "<div>\n",
              "<style scoped>\n",
              "    .dataframe tbody tr th:only-of-type {\n",
              "        vertical-align: middle;\n",
              "    }\n",
              "\n",
              "    .dataframe tbody tr th {\n",
              "        vertical-align: top;\n",
              "    }\n",
              "\n",
              "    .dataframe thead th {\n",
              "        text-align: right;\n",
              "    }\n",
              "</style>\n",
              "<table border=\"1\" class=\"dataframe\">\n",
              "  <thead>\n",
              "    <tr style=\"text-align: right;\">\n",
              "      <th></th>\n",
              "      <th>item_category_name</th>\n",
              "      <th>item_category_id</th>\n",
              "    </tr>\n",
              "  </thead>\n",
              "  <tbody>\n",
              "    <tr>\n",
              "      <th>0</th>\n",
              "      <td>PC - Гарнитуры/Наушники</td>\n",
              "      <td>0</td>\n",
              "    </tr>\n",
              "    <tr>\n",
              "      <th>1</th>\n",
              "      <td>Аксессуары - PS2</td>\n",
              "      <td>1</td>\n",
              "    </tr>\n",
              "    <tr>\n",
              "      <th>2</th>\n",
              "      <td>Аксессуары - PS3</td>\n",
              "      <td>2</td>\n",
              "    </tr>\n",
              "    <tr>\n",
              "      <th>3</th>\n",
              "      <td>Аксессуары - PS4</td>\n",
              "      <td>3</td>\n",
              "    </tr>\n",
              "    <tr>\n",
              "      <th>4</th>\n",
              "      <td>Аксессуары - PSP</td>\n",
              "      <td>4</td>\n",
              "    </tr>\n",
              "  </tbody>\n",
              "</table>\n",
              "</div>"
            ],
            "text/plain": [
              "        item_category_name  item_category_id\n",
              "0  PC - Гарнитуры/Наушники                 0\n",
              "1         Аксессуары - PS2                 1\n",
              "2         Аксессуары - PS3                 2\n",
              "3         Аксессуары - PS4                 3\n",
              "4         Аксессуары - PSP                 4"
            ]
          },
          "metadata": {
            "tags": []
          },
          "execution_count": 15
        }
      ]
    },
    {
      "cell_type": "code",
      "metadata": {
        "colab": {
          "base_uri": "https://localhost:8080/",
          "height": 1000
        },
        "id": "EEdTW4Vr4849",
        "outputId": "45493a1f-d96c-46ec-ce3b-35a4c70fe7dd"
      },
      "source": [
        "pd.DataFrame(categ.item_category_name.values.reshape(-1,4))"
      ],
      "execution_count": 16,
      "outputs": [
        {
          "output_type": "execute_result",
          "data": {
            "text/html": [
              "<div>\n",
              "<style scoped>\n",
              "    .dataframe tbody tr th:only-of-type {\n",
              "        vertical-align: middle;\n",
              "    }\n",
              "\n",
              "    .dataframe tbody tr th {\n",
              "        vertical-align: top;\n",
              "    }\n",
              "\n",
              "    .dataframe thead th {\n",
              "        text-align: right;\n",
              "    }\n",
              "</style>\n",
              "<table border=\"1\" class=\"dataframe\">\n",
              "  <thead>\n",
              "    <tr style=\"text-align: right;\">\n",
              "      <th></th>\n",
              "      <th>0</th>\n",
              "      <th>1</th>\n",
              "      <th>2</th>\n",
              "      <th>3</th>\n",
              "    </tr>\n",
              "  </thead>\n",
              "  <tbody>\n",
              "    <tr>\n",
              "      <th>0</th>\n",
              "      <td>PC - Гарнитуры/Наушники</td>\n",
              "      <td>Аксессуары - PS2</td>\n",
              "      <td>Аксессуары - PS3</td>\n",
              "      <td>Аксессуары - PS4</td>\n",
              "    </tr>\n",
              "    <tr>\n",
              "      <th>1</th>\n",
              "      <td>Аксессуары - PSP</td>\n",
              "      <td>Аксессуары - PSVita</td>\n",
              "      <td>Аксессуары - XBOX 360</td>\n",
              "      <td>Аксессуары - XBOX ONE</td>\n",
              "    </tr>\n",
              "    <tr>\n",
              "      <th>2</th>\n",
              "      <td>Билеты (Цифра)</td>\n",
              "      <td>Доставка товара</td>\n",
              "      <td>Игровые консоли - PS2</td>\n",
              "      <td>Игровые консоли - PS3</td>\n",
              "    </tr>\n",
              "    <tr>\n",
              "      <th>3</th>\n",
              "      <td>Игровые консоли - PS4</td>\n",
              "      <td>Игровые консоли - PSP</td>\n",
              "      <td>Игровые консоли - PSVita</td>\n",
              "      <td>Игровые консоли - XBOX 360</td>\n",
              "    </tr>\n",
              "    <tr>\n",
              "      <th>4</th>\n",
              "      <td>Игровые консоли - XBOX ONE</td>\n",
              "      <td>Игровые консоли - Прочие</td>\n",
              "      <td>Игры - PS2</td>\n",
              "      <td>Игры - PS3</td>\n",
              "    </tr>\n",
              "    <tr>\n",
              "      <th>5</th>\n",
              "      <td>Игры - PS4</td>\n",
              "      <td>Игры - PSP</td>\n",
              "      <td>Игры - PSVita</td>\n",
              "      <td>Игры - XBOX 360</td>\n",
              "    </tr>\n",
              "    <tr>\n",
              "      <th>6</th>\n",
              "      <td>Игры - XBOX ONE</td>\n",
              "      <td>Игры - Аксессуары для игр</td>\n",
              "      <td>Игры Android - Цифра</td>\n",
              "      <td>Игры MAC - Цифра</td>\n",
              "    </tr>\n",
              "    <tr>\n",
              "      <th>7</th>\n",
              "      <td>Игры PC - Дополнительные издания</td>\n",
              "      <td>Игры PC - Коллекционные издания</td>\n",
              "      <td>Игры PC - Стандартные издания</td>\n",
              "      <td>Игры PC - Цифра</td>\n",
              "    </tr>\n",
              "    <tr>\n",
              "      <th>8</th>\n",
              "      <td>Карты оплаты (Кино, Музыка, Игры)</td>\n",
              "      <td>Карты оплаты - Live!</td>\n",
              "      <td>Карты оплаты - Live! (Цифра)</td>\n",
              "      <td>Карты оплаты - PSN</td>\n",
              "    </tr>\n",
              "    <tr>\n",
              "      <th>9</th>\n",
              "      <td>Карты оплаты - Windows (Цифра)</td>\n",
              "      <td>Кино - Blu-Ray</td>\n",
              "      <td>Кино - Blu-Ray 3D</td>\n",
              "      <td>Кино - Blu-Ray 4K</td>\n",
              "    </tr>\n",
              "    <tr>\n",
              "      <th>10</th>\n",
              "      <td>Кино - DVD</td>\n",
              "      <td>Кино - Коллекционное</td>\n",
              "      <td>Книги - Артбуки, энциклопедии</td>\n",
              "      <td>Книги - Аудиокниги</td>\n",
              "    </tr>\n",
              "    <tr>\n",
              "      <th>11</th>\n",
              "      <td>Книги - Аудиокниги (Цифра)</td>\n",
              "      <td>Книги - Аудиокниги 1С</td>\n",
              "      <td>Книги - Бизнес литература</td>\n",
              "      <td>Книги - Комиксы, манга</td>\n",
              "    </tr>\n",
              "    <tr>\n",
              "      <th>12</th>\n",
              "      <td>Книги - Компьютерная литература</td>\n",
              "      <td>Книги - Методические материалы 1С</td>\n",
              "      <td>Книги - Открытки</td>\n",
              "      <td>Книги - Познавательная литература</td>\n",
              "    </tr>\n",
              "    <tr>\n",
              "      <th>13</th>\n",
              "      <td>Книги - Путеводители</td>\n",
              "      <td>Книги - Художественная литература</td>\n",
              "      <td>Книги - Цифра</td>\n",
              "      <td>Музыка - CD локального производства</td>\n",
              "    </tr>\n",
              "    <tr>\n",
              "      <th>14</th>\n",
              "      <td>Музыка - CD фирменного производства</td>\n",
              "      <td>Музыка - MP3</td>\n",
              "      <td>Музыка - Винил</td>\n",
              "      <td>Музыка - Музыкальное видео</td>\n",
              "    </tr>\n",
              "    <tr>\n",
              "      <th>15</th>\n",
              "      <td>Музыка - Подарочные издания</td>\n",
              "      <td>Подарки - Атрибутика</td>\n",
              "      <td>Подарки - Гаджеты, роботы, спорт</td>\n",
              "      <td>Подарки - Мягкие игрушки</td>\n",
              "    </tr>\n",
              "    <tr>\n",
              "      <th>16</th>\n",
              "      <td>Подарки - Настольные игры</td>\n",
              "      <td>Подарки - Настольные игры (компактные)</td>\n",
              "      <td>Подарки - Открытки, наклейки</td>\n",
              "      <td>Подарки - Развитие</td>\n",
              "    </tr>\n",
              "    <tr>\n",
              "      <th>17</th>\n",
              "      <td>Подарки - Сертификаты, услуги</td>\n",
              "      <td>Подарки - Сувениры</td>\n",
              "      <td>Подарки - Сувениры (в навеску)</td>\n",
              "      <td>Подарки - Сумки, Альбомы, Коврики д/мыши</td>\n",
              "    </tr>\n",
              "    <tr>\n",
              "      <th>18</th>\n",
              "      <td>Подарки - Фигурки</td>\n",
              "      <td>Программы - 1С:Предприятие 8</td>\n",
              "      <td>Программы - MAC (Цифра)</td>\n",
              "      <td>Программы - Для дома и офиса</td>\n",
              "    </tr>\n",
              "    <tr>\n",
              "      <th>19</th>\n",
              "      <td>Программы - Для дома и офиса (Цифра)</td>\n",
              "      <td>Программы - Обучающие</td>\n",
              "      <td>Программы - Обучающие (Цифра)</td>\n",
              "      <td>Служебные</td>\n",
              "    </tr>\n",
              "    <tr>\n",
              "      <th>20</th>\n",
              "      <td>Служебные - Билеты</td>\n",
              "      <td>Чистые носители (шпиль)</td>\n",
              "      <td>Чистые носители (штучные)</td>\n",
              "      <td>Элементы питания</td>\n",
              "    </tr>\n",
              "  </tbody>\n",
              "</table>\n",
              "</div>"
            ],
            "text/plain": [
              "                                       0  ...                                         3\n",
              "0                PC - Гарнитуры/Наушники  ...                          Аксессуары - PS4\n",
              "1                       Аксессуары - PSP  ...                     Аксессуары - XBOX ONE\n",
              "2                         Билеты (Цифра)  ...                     Игровые консоли - PS3\n",
              "3                  Игровые консоли - PS4  ...                Игровые консоли - XBOX 360\n",
              "4             Игровые консоли - XBOX ONE  ...                                Игры - PS3\n",
              "5                             Игры - PS4  ...                           Игры - XBOX 360\n",
              "6                        Игры - XBOX ONE  ...                          Игры MAC - Цифра\n",
              "7       Игры PC - Дополнительные издания  ...                           Игры PC - Цифра\n",
              "8      Карты оплаты (Кино, Музыка, Игры)  ...                        Карты оплаты - PSN\n",
              "9         Карты оплаты - Windows (Цифра)  ...                         Кино - Blu-Ray 4K\n",
              "10                            Кино - DVD  ...                        Книги - Аудиокниги\n",
              "11            Книги - Аудиокниги (Цифра)  ...                    Книги - Комиксы, манга\n",
              "12       Книги - Компьютерная литература  ...         Книги - Познавательная литература\n",
              "13                  Книги - Путеводители  ...       Музыка - CD локального производства\n",
              "14   Музыка - CD фирменного производства  ...                Музыка - Музыкальное видео\n",
              "15           Музыка - Подарочные издания  ...                  Подарки - Мягкие игрушки\n",
              "16             Подарки - Настольные игры  ...                        Подарки - Развитие\n",
              "17         Подарки - Сертификаты, услуги  ...  Подарки - Сумки, Альбомы, Коврики д/мыши\n",
              "18                     Подарки - Фигурки  ...              Программы - Для дома и офиса\n",
              "19  Программы - Для дома и офиса (Цифра)  ...                                 Служебные\n",
              "20                    Служебные - Билеты  ...                          Элементы питания\n",
              "\n",
              "[21 rows x 4 columns]"
            ]
          },
          "metadata": {
            "tags": []
          },
          "execution_count": 16
        }
      ]
    },
    {
      "cell_type": "code",
      "metadata": {
        "colab": {
          "base_uri": "https://localhost:8080/",
          "height": 196
        },
        "id": "5pWrXhNh486b",
        "outputId": "1db42c73-10e2-421b-b7bd-4103269a0a97"
      },
      "source": [
        "# 모든 카테고리 이름들에 기본과 하위 사이에 '-'가 있는 것은 X\r\n",
        "# 문자가 아닌 것들의 바로 앞 이름을 추출해 그룹을 생성하고 그룹이름을 인코딩하는 레이블로 group_id 열을 생성\r\n",
        "\r\n",
        "\r\n",
        "#pandas에서 문자열 관련 함수를 사용, 전처리하기 위해서는 명령어 앞에 str을 붙인다\r\n",
        "#extract() : 원하는 문자열 추출, 정규표현식 이용\r\n",
        "categ['group_name'] = categ['item_category_name'].str.extract(r'(^[\\w\\s]*)')\r\n",
        "\r\n",
        "#strip() : 공백제거\r\n",
        "categ['group_name'] = categ['group_name'].str.strip()\r\n",
        "\r\n",
        "#label encoding 하기\r\n",
        "categ['type_id']=le.fit_transform(categ.group_name.values)\r\n",
        "\r\n",
        "categ.head(5)"
      ],
      "execution_count": 17,
      "outputs": [
        {
          "output_type": "execute_result",
          "data": {
            "text/html": [
              "<div>\n",
              "<style scoped>\n",
              "    .dataframe tbody tr th:only-of-type {\n",
              "        vertical-align: middle;\n",
              "    }\n",
              "\n",
              "    .dataframe tbody tr th {\n",
              "        vertical-align: top;\n",
              "    }\n",
              "\n",
              "    .dataframe thead th {\n",
              "        text-align: right;\n",
              "    }\n",
              "</style>\n",
              "<table border=\"1\" class=\"dataframe\">\n",
              "  <thead>\n",
              "    <tr style=\"text-align: right;\">\n",
              "      <th></th>\n",
              "      <th>item_category_name</th>\n",
              "      <th>item_category_id</th>\n",
              "      <th>group_name</th>\n",
              "      <th>type_id</th>\n",
              "    </tr>\n",
              "  </thead>\n",
              "  <tbody>\n",
              "    <tr>\n",
              "      <th>0</th>\n",
              "      <td>PC - Гарнитуры/Наушники</td>\n",
              "      <td>0</td>\n",
              "      <td>PC</td>\n",
              "      <td>0</td>\n",
              "    </tr>\n",
              "    <tr>\n",
              "      <th>1</th>\n",
              "      <td>Аксессуары - PS2</td>\n",
              "      <td>1</td>\n",
              "      <td>Аксессуары</td>\n",
              "      <td>1</td>\n",
              "    </tr>\n",
              "    <tr>\n",
              "      <th>2</th>\n",
              "      <td>Аксессуары - PS3</td>\n",
              "      <td>2</td>\n",
              "      <td>Аксессуары</td>\n",
              "      <td>1</td>\n",
              "    </tr>\n",
              "    <tr>\n",
              "      <th>3</th>\n",
              "      <td>Аксессуары - PS4</td>\n",
              "      <td>3</td>\n",
              "      <td>Аксессуары</td>\n",
              "      <td>1</td>\n",
              "    </tr>\n",
              "    <tr>\n",
              "      <th>4</th>\n",
              "      <td>Аксессуары - PSP</td>\n",
              "      <td>4</td>\n",
              "      <td>Аксессуары</td>\n",
              "      <td>1</td>\n",
              "    </tr>\n",
              "  </tbody>\n",
              "</table>\n",
              "</div>"
            ],
            "text/plain": [
              "        item_category_name  item_category_id  group_name  type_id\n",
              "0  PC - Гарнитуры/Наушники                 0          PC        0\n",
              "1         Аксессуары - PS2                 1  Аксессуары        1\n",
              "2         Аксессуары - PS3                 2  Аксессуары        1\n",
              "3         Аксессуары - PS4                 3  Аксессуары        1\n",
              "4         Аксессуары - PSP                 4  Аксессуары        1"
            ]
          },
          "metadata": {
            "tags": []
          },
          "execution_count": 17
        }
      ]
    },
    {
      "cell_type": "code",
      "metadata": {
        "colab": {
          "base_uri": "https://localhost:8080/",
          "height": 137
        },
        "id": "CnhTpDetInv0",
        "outputId": "fc22c8bf-8d5f-4cb4-df62-f2f9cd491821"
      },
      "source": [
        "categ=categ[['item_category_id','type_id']]\r\n",
        "categ.head(3)"
      ],
      "execution_count": 18,
      "outputs": [
        {
          "output_type": "execute_result",
          "data": {
            "text/html": [
              "<div>\n",
              "<style scoped>\n",
              "    .dataframe tbody tr th:only-of-type {\n",
              "        vertical-align: middle;\n",
              "    }\n",
              "\n",
              "    .dataframe tbody tr th {\n",
              "        vertical-align: top;\n",
              "    }\n",
              "\n",
              "    .dataframe thead th {\n",
              "        text-align: right;\n",
              "    }\n",
              "</style>\n",
              "<table border=\"1\" class=\"dataframe\">\n",
              "  <thead>\n",
              "    <tr style=\"text-align: right;\">\n",
              "      <th></th>\n",
              "      <th>item_category_id</th>\n",
              "      <th>type_id</th>\n",
              "    </tr>\n",
              "  </thead>\n",
              "  <tbody>\n",
              "    <tr>\n",
              "      <th>0</th>\n",
              "      <td>0</td>\n",
              "      <td>0</td>\n",
              "    </tr>\n",
              "    <tr>\n",
              "      <th>1</th>\n",
              "      <td>1</td>\n",
              "      <td>1</td>\n",
              "    </tr>\n",
              "    <tr>\n",
              "      <th>2</th>\n",
              "      <td>2</td>\n",
              "      <td>1</td>\n",
              "    </tr>\n",
              "  </tbody>\n",
              "</table>\n",
              "</div>"
            ],
            "text/plain": [
              "   item_category_id  type_id\n",
              "0                 0        0\n",
              "1                 1        1\n",
              "2                 2        1"
            ]
          },
          "metadata": {
            "tags": []
          },
          "execution_count": 18
        }
      ]
    },
    {
      "cell_type": "markdown",
      "metadata": {
        "id": "uFYvCrPrNA2b"
      },
      "source": [
        "item data"
      ]
    },
    {
      "cell_type": "code",
      "metadata": {
        "colab": {
          "base_uri": "https://localhost:8080/",
          "height": 137
        },
        "id": "WiMFs-6RInx-",
        "outputId": "784fc065-3e59-4ec7-bc36-fdc09656fe69"
      },
      "source": [
        "items.head(3)"
      ],
      "execution_count": 19,
      "outputs": [
        {
          "output_type": "execute_result",
          "data": {
            "text/html": [
              "<div>\n",
              "<style scoped>\n",
              "    .dataframe tbody tr th:only-of-type {\n",
              "        vertical-align: middle;\n",
              "    }\n",
              "\n",
              "    .dataframe tbody tr th {\n",
              "        vertical-align: top;\n",
              "    }\n",
              "\n",
              "    .dataframe thead th {\n",
              "        text-align: right;\n",
              "    }\n",
              "</style>\n",
              "<table border=\"1\" class=\"dataframe\">\n",
              "  <thead>\n",
              "    <tr style=\"text-align: right;\">\n",
              "      <th></th>\n",
              "      <th>item_name</th>\n",
              "      <th>item_id</th>\n",
              "      <th>item_category_id</th>\n",
              "    </tr>\n",
              "  </thead>\n",
              "  <tbody>\n",
              "    <tr>\n",
              "      <th>0</th>\n",
              "      <td>! ВО ВЛАСТИ НАВАЖДЕНИЯ (ПЛАСТ.)         D</td>\n",
              "      <td>0</td>\n",
              "      <td>40</td>\n",
              "    </tr>\n",
              "    <tr>\n",
              "      <th>1</th>\n",
              "      <td>!ABBYY FineReader 12 Professional Edition Full...</td>\n",
              "      <td>1</td>\n",
              "      <td>76</td>\n",
              "    </tr>\n",
              "    <tr>\n",
              "      <th>2</th>\n",
              "      <td>***В ЛУЧАХ СЛАВЫ   (UNV)                    D</td>\n",
              "      <td>2</td>\n",
              "      <td>40</td>\n",
              "    </tr>\n",
              "  </tbody>\n",
              "</table>\n",
              "</div>"
            ],
            "text/plain": [
              "                                           item_name  item_id  item_category_id\n",
              "0          ! ВО ВЛАСТИ НАВАЖДЕНИЯ (ПЛАСТ.)         D        0                40\n",
              "1  !ABBYY FineReader 12 Professional Edition Full...        1                76\n",
              "2      ***В ЛУЧАХ СЛАВЫ   (UNV)                    D        2                40"
            ]
          },
          "metadata": {
            "tags": []
          },
          "execution_count": 19
        }
      ]
    },
    {
      "cell_type": "code",
      "metadata": {
        "id": "alcg5R09Inz7"
      },
      "source": [
        "#item_name clean\r\n",
        "\r\n",
        "#소문자로 바꾸기\r\n",
        "items['item_name'] = items['item_name'].str.lower()\r\n",
        "items['item_name'] = items['item_name'].str.replace('.','')\r\n",
        "\r\n",
        "#정규표현식, 제거?\r\n",
        "for i in [r'[^\\w\\d\\s\\.]', r'\\bthe\\b', r'\\bin\\b', r'\\bis\\b',r'\\bfor\\b', r'\\bof\\b', r'\\bon\\b', r'\\band\\b',r'\\bto\\b', r'\\bwith\\b' , r'\\byo\\b']:\r\n",
        "    items['item_name'] = items['item_name'].str.replace(i, ' ')\r\n",
        "\r\n",
        "\r\n",
        "items['item_name'] = items['item_name'].str.replace(r'\\b.\\b', ' ')"
      ],
      "execution_count": 20,
      "outputs": []
    },
    {
      "cell_type": "code",
      "metadata": {
        "id": "5mfpEjkCPL11"
      },
      "source": [
        "#extract first n characters of name\r\n",
        "items['item_name_no_space'] = items['item_name'].str.replace(' ', '')\r\n",
        "items['item_name_first4'] = [x[:4] for x in items['item_name_no_space']]\r\n",
        "items['item_name_first6'] = [x[:6] for x in items['item_name_no_space']]\r\n",
        "items['item_name_first11'] = [x[:11] for x in items['item_name_no_space']]\r\n",
        "del items['item_name_no_space']\r\n"
      ],
      "execution_count": 21,
      "outputs": []
    },
    {
      "cell_type": "code",
      "metadata": {
        "id": "WXl91WpiPm7k"
      },
      "source": [
        "#label encode \r\n",
        "items.item_name_first4 = le.fit_transform(items.item_name_first4.values)\r\n",
        "items.item_name_first6 = le.fit_transform(items.item_name_first6.values)\r\n",
        "items.item_name_first11 = le.fit_transform(items.item_name_first11.values)"
      ],
      "execution_count": 22,
      "outputs": []
    },
    {
      "cell_type": "code",
      "metadata": {
        "colab": {
          "base_uri": "https://localhost:8080/",
          "height": 666
        },
        "id": "mcXfZrr9Pq5W",
        "outputId": "02e0df58-4dfb-47d7-b833-934243741ded"
      },
      "source": [
        "#join category_name, group_name and group_id to items\r\n",
        "items = items.join(categ.set_index('item_category_id'), on='item_category_id')\r\n",
        "items.sample(10)"
      ],
      "execution_count": 23,
      "outputs": [
        {
          "output_type": "execute_result",
          "data": {
            "text/html": [
              "<div>\n",
              "<style scoped>\n",
              "    .dataframe tbody tr th:only-of-type {\n",
              "        vertical-align: middle;\n",
              "    }\n",
              "\n",
              "    .dataframe tbody tr th {\n",
              "        vertical-align: top;\n",
              "    }\n",
              "\n",
              "    .dataframe thead th {\n",
              "        text-align: right;\n",
              "    }\n",
              "</style>\n",
              "<table border=\"1\" class=\"dataframe\">\n",
              "  <thead>\n",
              "    <tr style=\"text-align: right;\">\n",
              "      <th></th>\n",
              "      <th>item_name</th>\n",
              "      <th>item_id</th>\n",
              "      <th>item_category_id</th>\n",
              "      <th>item_name_first4</th>\n",
              "      <th>item_name_first6</th>\n",
              "      <th>item_name_first11</th>\n",
              "      <th>type_id</th>\n",
              "    </tr>\n",
              "  </thead>\n",
              "  <tbody>\n",
              "    <tr>\n",
              "      <th>12764</th>\n",
              "      <td>копы   юбках  bd</td>\n",
              "      <td>12764</td>\n",
              "      <td>37</td>\n",
              "      <td>2245</td>\n",
              "      <td>3481</td>\n",
              "      <td>6078</td>\n",
              "      <td>10</td>\n",
              "    </tr>\n",
              "    <tr>\n",
              "      <th>8733</th>\n",
              "      <td>безумный макс   полный апокалипсис  регион</td>\n",
              "      <td>8733</td>\n",
              "      <td>40</td>\n",
              "      <td>1392</td>\n",
              "      <td>2078</td>\n",
              "      <td>3663</td>\n",
              "      <td>10</td>\n",
              "    </tr>\n",
              "    <tr>\n",
              "      <th>21341</th>\n",
              "      <td>хворостовский дмитрий  романсы</td>\n",
              "      <td>21341</td>\n",
              "      <td>55</td>\n",
              "      <td>3662</td>\n",
              "      <td>5668</td>\n",
              "      <td>9929</td>\n",
              "      <td>12</td>\n",
              "    </tr>\n",
              "    <tr>\n",
              "      <th>9795</th>\n",
              "      <td>великий уравнитель  регион</td>\n",
              "      <td>9795</td>\n",
              "      <td>40</td>\n",
              "      <td>1574</td>\n",
              "      <td>2390</td>\n",
              "      <td>4229</td>\n",
              "      <td>10</td>\n",
              "    </tr>\n",
              "    <tr>\n",
              "      <th>21363</th>\n",
              "      <td>хоббит трилогия    real 3d bd   bd</td>\n",
              "      <td>21363</td>\n",
              "      <td>41</td>\n",
              "      <td>3675</td>\n",
              "      <td>5682</td>\n",
              "      <td>9955</td>\n",
              "      <td>10</td>\n",
              "    </tr>\n",
              "    <tr>\n",
              "      <th>1731</th>\n",
              "      <td>bocelli andrea  cieldi di toscana</td>\n",
              "      <td>1731</td>\n",
              "      <td>55</td>\n",
              "      <td>220</td>\n",
              "      <td>301</td>\n",
              "      <td>524</td>\n",
              "      <td>12</td>\n",
              "    </tr>\n",
              "    <tr>\n",
              "      <th>10634</th>\n",
              "      <td>головоломка двойное      cast</td>\n",
              "      <td>10634</td>\n",
              "      <td>67</td>\n",
              "      <td>1745</td>\n",
              "      <td>2645</td>\n",
              "      <td>4595</td>\n",
              "      <td>13</td>\n",
              "    </tr>\n",
              "    <tr>\n",
              "      <th>9697</th>\n",
              "      <td>ввс планета земля  4bd</td>\n",
              "      <td>9697</td>\n",
              "      <td>37</td>\n",
              "      <td>1562</td>\n",
              "      <td>2359</td>\n",
              "      <td>4177</td>\n",
              "      <td>10</td>\n",
              "    </tr>\n",
              "    <tr>\n",
              "      <th>314</th>\n",
              "      <td>1с аудиокниги марк твен принц   нищий  jewel</td>\n",
              "      <td>314</td>\n",
              "      <td>45</td>\n",
              "      <td>33</td>\n",
              "      <td>38</td>\n",
              "      <td>52</td>\n",
              "      <td>11</td>\n",
              "    </tr>\n",
              "    <tr>\n",
              "      <th>14983</th>\n",
              "      <td>маска dota   juggernaut</td>\n",
              "      <td>14983</td>\n",
              "      <td>61</td>\n",
              "      <td>2456</td>\n",
              "      <td>3815</td>\n",
              "      <td>6741</td>\n",
              "      <td>13</td>\n",
              "    </tr>\n",
              "  </tbody>\n",
              "</table>\n",
              "</div>"
            ],
            "text/plain": [
              "                                           item_name  ...  type_id\n",
              "12764                              копы   юбках  bd   ...       10\n",
              "8733     безумный макс   полный апокалипсис  регион   ...       10\n",
              "21341                 хворостовский дмитрий  романсы  ...       12\n",
              "9795                     великий уравнитель  регион   ...       10\n",
              "21363            хоббит трилогия    real 3d bd   bd   ...       10\n",
              "1731               bocelli andrea  cieldi di toscana  ...       12\n",
              "10634           головоломка двойное      cast         ...       13\n",
              "9697                         ввс планета земля  4bd   ...       10\n",
              "314    1с аудиокниги марк твен принц   нищий  jewel   ...       11\n",
              "14983                        маска dota   juggernaut  ...       13\n",
              "\n",
              "[10 rows x 7 columns]"
            ]
          },
          "metadata": {
            "tags": []
          },
          "execution_count": 23
        }
      ]
    },
    {
      "cell_type": "markdown",
      "metadata": {
        "id": "RciyWtAqQHE2"
      },
      "source": [
        "item data에서 중복행 제거"
      ]
    },
    {
      "cell_type": "code",
      "metadata": {
        "colab": {
          "base_uri": "https://localhost:8080/",
          "height": 1000
        },
        "id": "oPwMPzgHQDVi",
        "outputId": "9c254442-a4ba-4186-d24c-a51d8a3ec4fb"
      },
      "source": [
        "dupes = items[(items.duplicated(subset=['item_name','item_category_id'],keep=False))]\r\n",
        "dupes"
      ],
      "execution_count": 24,
      "outputs": [
        {
          "output_type": "execute_result",
          "data": {
            "text/html": [
              "<div>\n",
              "<style scoped>\n",
              "    .dataframe tbody tr th:only-of-type {\n",
              "        vertical-align: middle;\n",
              "    }\n",
              "\n",
              "    .dataframe tbody tr th {\n",
              "        vertical-align: top;\n",
              "    }\n",
              "\n",
              "    .dataframe thead th {\n",
              "        text-align: right;\n",
              "    }\n",
              "</style>\n",
              "<table border=\"1\" class=\"dataframe\">\n",
              "  <thead>\n",
              "    <tr style=\"text-align: right;\">\n",
              "      <th></th>\n",
              "      <th>item_name</th>\n",
              "      <th>item_id</th>\n",
              "      <th>item_category_id</th>\n",
              "      <th>item_name_first4</th>\n",
              "      <th>item_name_first6</th>\n",
              "      <th>item_name_first11</th>\n",
              "      <th>type_id</th>\n",
              "    </tr>\n",
              "  </thead>\n",
              "  <tbody>\n",
              "    <tr>\n",
              "      <th>32</th>\n",
              "      <td></td>\n",
              "      <td>32</td>\n",
              "      <td>40</td>\n",
              "      <td>0</td>\n",
              "      <td>0</td>\n",
              "      <td>0</td>\n",
              "      <td>10</td>\n",
              "    </tr>\n",
              "    <tr>\n",
              "      <th>126</th>\n",
              "      <td>1с аудиокниги  сказки выпуск     цифровая версия</td>\n",
              "      <td>126</td>\n",
              "      <td>44</td>\n",
              "      <td>33</td>\n",
              "      <td>38</td>\n",
              "      <td>52</td>\n",
              "      <td>11</td>\n",
              "    </tr>\n",
              "    <tr>\n",
              "      <th>127</th>\n",
              "      <td>1с аудиокниги  сказки выпуск     цифровая версия</td>\n",
              "      <td>127</td>\n",
              "      <td>44</td>\n",
              "      <td>33</td>\n",
              "      <td>38</td>\n",
              "      <td>52</td>\n",
              "      <td>11</td>\n",
              "    </tr>\n",
              "    <tr>\n",
              "      <th>128</th>\n",
              "      <td>1с аудиокниги  сказки выпуск     цифровая версия</td>\n",
              "      <td>128</td>\n",
              "      <td>44</td>\n",
              "      <td>33</td>\n",
              "      <td>38</td>\n",
              "      <td>52</td>\n",
              "      <td>11</td>\n",
              "    </tr>\n",
              "    <tr>\n",
              "      <th>129</th>\n",
              "      <td>1с аудиокниги  сказки выпуск     цифровая версия</td>\n",
              "      <td>129</td>\n",
              "      <td>44</td>\n",
              "      <td>33</td>\n",
              "      <td>38</td>\n",
              "      <td>52</td>\n",
              "      <td>11</td>\n",
              "    </tr>\n",
              "    <tr>\n",
              "      <th>...</th>\n",
              "      <td>...</td>\n",
              "      <td>...</td>\n",
              "      <td>...</td>\n",
              "      <td>...</td>\n",
              "      <td>...</td>\n",
              "      <td>...</td>\n",
              "      <td>...</td>\n",
              "    </tr>\n",
              "    <tr>\n",
              "      <th>22036</th>\n",
              "      <td>элвин   бурундуки    bd</td>\n",
              "      <td>22036</td>\n",
              "      <td>37</td>\n",
              "      <td>3832</td>\n",
              "      <td>5920</td>\n",
              "      <td>10302</td>\n",
              "      <td>10</td>\n",
              "    </tr>\n",
              "    <tr>\n",
              "      <th>22038</th>\n",
              "      <td>элвин   бурундуки</td>\n",
              "      <td>22038</td>\n",
              "      <td>40</td>\n",
              "      <td>3832</td>\n",
              "      <td>5920</td>\n",
              "      <td>10302</td>\n",
              "      <td>10</td>\n",
              "    </tr>\n",
              "    <tr>\n",
              "      <th>22039</th>\n",
              "      <td>элвин   бурундуки    bd</td>\n",
              "      <td>22039</td>\n",
              "      <td>37</td>\n",
              "      <td>3832</td>\n",
              "      <td>5920</td>\n",
              "      <td>10302</td>\n",
              "      <td>10</td>\n",
              "    </tr>\n",
              "    <tr>\n",
              "      <th>22111</th>\n",
              "      <td>юмор   сатира     рассказы русских писателей  ...</td>\n",
              "      <td>22111</td>\n",
              "      <td>43</td>\n",
              "      <td>3855</td>\n",
              "      <td>5947</td>\n",
              "      <td>10336</td>\n",
              "      <td>11</td>\n",
              "    </tr>\n",
              "    <tr>\n",
              "      <th>22112</th>\n",
              "      <td>юмор   сатира     рассказы русских писателей  ...</td>\n",
              "      <td>22112</td>\n",
              "      <td>43</td>\n",
              "      <td>3855</td>\n",
              "      <td>5947</td>\n",
              "      <td>10336</td>\n",
              "      <td>11</td>\n",
              "    </tr>\n",
              "  </tbody>\n",
              "</table>\n",
              "<p>1484 rows × 7 columns</p>\n",
              "</div>"
            ],
            "text/plain": [
              "                                               item_name  ...  type_id\n",
              "32                                                        ...       10\n",
              "126    1с аудиокниги  сказки выпуск     цифровая версия   ...       11\n",
              "127    1с аудиокниги  сказки выпуск     цифровая версия   ...       11\n",
              "128    1с аудиокниги  сказки выпуск     цифровая версия   ...       11\n",
              "129    1с аудиокниги  сказки выпуск     цифровая версия   ...       11\n",
              "...                                                  ...  ...      ...\n",
              "22036                           элвин   бурундуки    bd   ...       10\n",
              "22038                                элвин   бурундуки    ...       10\n",
              "22039                           элвин   бурундуки    bd   ...       10\n",
              "22111  юмор   сатира     рассказы русских писателей  ...  ...       11\n",
              "22112  юмор   сатира     рассказы русских писателей  ...  ...       11\n",
              "\n",
              "[1484 rows x 7 columns]"
            ]
          },
          "metadata": {
            "tags": []
          },
          "execution_count": 24
        }
      ]
    },
    {
      "cell_type": "code",
      "metadata": {
        "colab": {
          "base_uri": "https://localhost:8080/"
        },
        "id": "eLlAnhC0Ril4",
        "outputId": "be626ba5-78cb-455f-9ce2-e074796065e6"
      },
      "source": [
        "#isin() : series나 dataframe 안에 요소가 isin()메서드에 입력된 데이터에 있는지 판별해줌\r\n",
        "dupes['in_test'] = dupes.item_id.isin(test.item_id.unique())\r\n",
        "dupes = dupes.groupby('item_name').agg({'item_id':['first','last'],'in_test':['first','last']})"
      ],
      "execution_count": 25,
      "outputs": [
        {
          "output_type": "stream",
          "text": [
            "/usr/local/lib/python3.7/dist-packages/ipykernel_launcher.py:2: SettingWithCopyWarning: \n",
            "A value is trying to be set on a copy of a slice from a DataFrame.\n",
            "Try using .loc[row_indexer,col_indexer] = value instead\n",
            "\n",
            "See the caveats in the documentation: https://pandas.pydata.org/pandas-docs/stable/user_guide/indexing.html#returning-a-view-versus-a-copy\n",
            "  \n"
          ],
          "name": "stderr"
        }
      ]
    },
    {
      "cell_type": "code",
      "metadata": {
        "id": "oBx3ZglLRirY"
      },
      "source": [
        "#if both item id's are in the test set do nothing\r\n",
        "dupes = dupes[(dupes[('in_test', 'first')]==False) | (dupes[('in_test', 'last')]==False)]\r\n",
        "#if only the first id is in the test set assign this id to both\r\n",
        "temp = dupes[dupes[('in_test', 'first')]==True]\r\n",
        "keep_first = dict(zip(temp[('item_id', 'last')], temp[('item_id',  'first')]))\r\n",
        "#if neither id or only the second id is in the test set, assign the second id to both\r\n",
        "temp = dupes[dupes[('in_test', 'first')]==False]\r\n",
        "keep_second = dict(zip(temp[('item_id', 'first')], temp[('item_id',  'last')]))\r\n",
        "item_map = {**keep_first, **keep_second}"
      ],
      "execution_count": 26,
      "outputs": []
    },
    {
      "cell_type": "markdown",
      "metadata": {
        "id": "QnQfgKo7SEtl"
      },
      "source": [
        "sales data"
      ]
    },
    {
      "cell_type": "code",
      "metadata": {
        "id": "1TkCJvkTRiue"
      },
      "source": [
        "sales = (train\r\n",
        "    .query('0 < item_price < 50000 and 0 < item_cnt_day < 1001') #removing outliers\r\n",
        "    .replace({\r\n",
        "        'shop_id':{0:57, 1:58, 11:10}, #replacing obsolete shop id's\r\n",
        "        'item_id':item_map #fixing duplicate item id's  \r\n",
        "    })    \r\n",
        ")\r\n",
        "\r\n",
        "#removing shops which don't appear in the test set\r\n",
        "sales = sales[sales['shop_id'].isin(test.shop_id.unique())]\r\n",
        "\r\n",
        "sales['date'] = pd.to_datetime(sales.date,format='%d.%m.%Y')\r\n",
        "sales['weekday'] = sales.date.dt.dayofweek\r\n",
        "\r\n",
        "#first day the item was sold, day 0 is the first day of the training set period\r\n",
        "sales['first_sale_day'] = sales.date.dt.dayofyear \r\n",
        "sales['first_sale_day'] += 365 * (sales.date.dt.year-2013)\r\n",
        "sales['first_sale_day'] = sales.groupby('item_id')['first_sale_day'].transform('min').astype('int16')\r\n",
        "\r\n",
        "#revenue is needed to accurately calculate prices after grouping\r\n",
        "sales['revenue'] = sales['item_cnt_day']*sales['item_price']"
      ],
      "execution_count": 27,
      "outputs": []
    },
    {
      "cell_type": "code",
      "metadata": {
        "colab": {
          "base_uri": "https://localhost:8080/",
          "height": 494
        },
        "id": "M1ODu42iSi2a",
        "outputId": "24e38934-b5a6-4724-9d8a-71c92dba65bd"
      },
      "source": [
        "temp = sales.groupby(['shop_id','weekday']).agg({'item_cnt_day':'sum'}).reset_index()\r\n",
        "temp = pd.merge(temp, sales.groupby(['shop_id']).agg({'item_cnt_day':'sum'}).reset_index(), on='shop_id', how='left')\r\n",
        "temp.columns = ['shop_id','weekday', 'shop_day_sales', 'shop_total_sales']\r\n",
        "temp['day_quality'] = temp['shop_day_sales']/temp['shop_total_sales']\r\n",
        "temp = temp[['shop_id','weekday','day_quality']]\r\n",
        "\r\n",
        "dates = pd.DataFrame(data={'date':pd.date_range(start='2013-01-01',end='2015-11-30')})\r\n",
        "dates['weekday'] = dates.date.dt.dayofweek\r\n",
        "dates['month'] = dates.date.dt.month\r\n",
        "dates['year'] = dates.date.dt.year - 2013\r\n",
        "dates['date_block_num'] = dates['year']*12 + dates['month'] - 1\r\n",
        "dates['first_day_of_month'] = dates.date.dt.dayofyear\r\n",
        "dates['first_day_of_month'] += 365 * dates['year']\r\n",
        "dates = dates.join(temp.set_index('weekday'), on='weekday')\r\n",
        "dates = dates.groupby(['date_block_num','shop_id','month','year']).agg({'day_quality':'sum','first_day_of_month':'min'}).reset_index()\r\n",
        "\r\n",
        "dates.query('shop_id == 28').head(15)"
      ],
      "execution_count": 28,
      "outputs": [
        {
          "output_type": "execute_result",
          "data": {
            "text/html": [
              "<div>\n",
              "<style scoped>\n",
              "    .dataframe tbody tr th:only-of-type {\n",
              "        vertical-align: middle;\n",
              "    }\n",
              "\n",
              "    .dataframe tbody tr th {\n",
              "        vertical-align: top;\n",
              "    }\n",
              "\n",
              "    .dataframe thead th {\n",
              "        text-align: right;\n",
              "    }\n",
              "</style>\n",
              "<table border=\"1\" class=\"dataframe\">\n",
              "  <thead>\n",
              "    <tr style=\"text-align: right;\">\n",
              "      <th></th>\n",
              "      <th>date_block_num</th>\n",
              "      <th>shop_id</th>\n",
              "      <th>month</th>\n",
              "      <th>year</th>\n",
              "      <th>day_quality</th>\n",
              "      <th>first_day_of_month</th>\n",
              "    </tr>\n",
              "  </thead>\n",
              "  <tbody>\n",
              "    <tr>\n",
              "      <th>18</th>\n",
              "      <td>0</td>\n",
              "      <td>28</td>\n",
              "      <td>1</td>\n",
              "      <td>0</td>\n",
              "      <td>4.300037</td>\n",
              "      <td>1</td>\n",
              "    </tr>\n",
              "    <tr>\n",
              "      <th>60</th>\n",
              "      <td>1</td>\n",
              "      <td>28</td>\n",
              "      <td>2</td>\n",
              "      <td>0</td>\n",
              "      <td>4.000000</td>\n",
              "      <td>32</td>\n",
              "    </tr>\n",
              "    <tr>\n",
              "      <th>102</th>\n",
              "      <td>2</td>\n",
              "      <td>28</td>\n",
              "      <td>3</td>\n",
              "      <td>0</td>\n",
              "      <td>4.605952</td>\n",
              "      <td>60</td>\n",
              "    </tr>\n",
              "    <tr>\n",
              "      <th>144</th>\n",
              "      <td>3</td>\n",
              "      <td>28</td>\n",
              "      <td>4</td>\n",
              "      <td>0</td>\n",
              "      <td>4.193211</td>\n",
              "      <td>91</td>\n",
              "    </tr>\n",
              "    <tr>\n",
              "      <th>186</th>\n",
              "      <td>4</td>\n",
              "      <td>28</td>\n",
              "      <td>5</td>\n",
              "      <td>0</td>\n",
              "      <td>4.333970</td>\n",
              "      <td>121</td>\n",
              "    </tr>\n",
              "    <tr>\n",
              "      <th>228</th>\n",
              "      <td>5</td>\n",
              "      <td>28</td>\n",
              "      <td>6</td>\n",
              "      <td>0</td>\n",
              "      <td>4.472819</td>\n",
              "      <td>152</td>\n",
              "    </tr>\n",
              "    <tr>\n",
              "      <th>270</th>\n",
              "      <td>6</td>\n",
              "      <td>28</td>\n",
              "      <td>7</td>\n",
              "      <td>0</td>\n",
              "      <td>4.287644</td>\n",
              "      <td>182</td>\n",
              "    </tr>\n",
              "    <tr>\n",
              "      <th>312</th>\n",
              "      <td>7</td>\n",
              "      <td>28</td>\n",
              "      <td>8</td>\n",
              "      <td>0</td>\n",
              "      <td>4.492718</td>\n",
              "      <td>213</td>\n",
              "    </tr>\n",
              "    <tr>\n",
              "      <th>354</th>\n",
              "      <td>8</td>\n",
              "      <td>28</td>\n",
              "      <td>9</td>\n",
              "      <td>0</td>\n",
              "      <td>4.313648</td>\n",
              "      <td>244</td>\n",
              "    </tr>\n",
              "    <tr>\n",
              "      <th>396</th>\n",
              "      <td>9</td>\n",
              "      <td>28</td>\n",
              "      <td>10</td>\n",
              "      <td>0</td>\n",
              "      <td>4.300037</td>\n",
              "      <td>274</td>\n",
              "    </tr>\n",
              "    <tr>\n",
              "      <th>438</th>\n",
              "      <td>10</td>\n",
              "      <td>28</td>\n",
              "      <td>11</td>\n",
              "      <td>0</td>\n",
              "      <td>4.386314</td>\n",
              "      <td>305</td>\n",
              "    </tr>\n",
              "    <tr>\n",
              "      <th>480</th>\n",
              "      <td>11</td>\n",
              "      <td>28</td>\n",
              "      <td>12</td>\n",
              "      <td>0</td>\n",
              "      <td>4.412849</td>\n",
              "      <td>335</td>\n",
              "    </tr>\n",
              "    <tr>\n",
              "      <th>522</th>\n",
              "      <td>12</td>\n",
              "      <td>28</td>\n",
              "      <td>1</td>\n",
              "      <td>1</td>\n",
              "      <td>4.333970</td>\n",
              "      <td>366</td>\n",
              "    </tr>\n",
              "    <tr>\n",
              "      <th>564</th>\n",
              "      <td>13</td>\n",
              "      <td>28</td>\n",
              "      <td>2</td>\n",
              "      <td>1</td>\n",
              "      <td>4.000000</td>\n",
              "      <td>397</td>\n",
              "    </tr>\n",
              "    <tr>\n",
              "      <th>606</th>\n",
              "      <td>14</td>\n",
              "      <td>28</td>\n",
              "      <td>3</td>\n",
              "      <td>1</td>\n",
              "      <td>4.566829</td>\n",
              "      <td>425</td>\n",
              "    </tr>\n",
              "  </tbody>\n",
              "</table>\n",
              "</div>"
            ],
            "text/plain": [
              "     date_block_num  shop_id  month  year  day_quality  first_day_of_month\n",
              "18                0       28      1     0     4.300037                   1\n",
              "60                1       28      2     0     4.000000                  32\n",
              "102               2       28      3     0     4.605952                  60\n",
              "144               3       28      4     0     4.193211                  91\n",
              "186               4       28      5     0     4.333970                 121\n",
              "228               5       28      6     0     4.472819                 152\n",
              "270               6       28      7     0     4.287644                 182\n",
              "312               7       28      8     0     4.492718                 213\n",
              "354               8       28      9     0     4.313648                 244\n",
              "396               9       28     10     0     4.300037                 274\n",
              "438              10       28     11     0     4.386314                 305\n",
              "480              11       28     12     0     4.412849                 335\n",
              "522              12       28      1     1     4.333970                 366\n",
              "564              13       28      2     1     4.000000                 397\n",
              "606              14       28      3     1     4.566829                 425"
            ]
          },
          "metadata": {
            "tags": []
          },
          "execution_count": 28
        }
      ]
    },
    {
      "cell_type": "code",
      "metadata": {
        "colab": {
          "base_uri": "https://localhost:8080/",
          "height": 196
        },
        "id": "d9tV6FIwSi7b",
        "outputId": "ada530ae-1a33-4740-ef43-0d982c11c51e"
      },
      "source": [
        "sales = (sales\r\n",
        "     .groupby(['date_block_num', 'shop_id', 'item_id'])\r\n",
        "     .agg({\r\n",
        "         'item_cnt_day':'sum', \r\n",
        "         'revenue':'sum',\r\n",
        "         'first_sale_day':'first'\r\n",
        "     })\r\n",
        "     .reset_index()\r\n",
        "     .rename(columns={'item_cnt_day':'item_cnt'})\r\n",
        ")\r\n",
        "sales.sample(5)"
      ],
      "execution_count": 29,
      "outputs": [
        {
          "output_type": "execute_result",
          "data": {
            "text/html": [
              "<div>\n",
              "<style scoped>\n",
              "    .dataframe tbody tr th:only-of-type {\n",
              "        vertical-align: middle;\n",
              "    }\n",
              "\n",
              "    .dataframe tbody tr th {\n",
              "        vertical-align: top;\n",
              "    }\n",
              "\n",
              "    .dataframe thead th {\n",
              "        text-align: right;\n",
              "    }\n",
              "</style>\n",
              "<table border=\"1\" class=\"dataframe\">\n",
              "  <thead>\n",
              "    <tr style=\"text-align: right;\">\n",
              "      <th></th>\n",
              "      <th>date_block_num</th>\n",
              "      <th>shop_id</th>\n",
              "      <th>item_id</th>\n",
              "      <th>item_cnt</th>\n",
              "      <th>revenue</th>\n",
              "      <th>first_sale_day</th>\n",
              "    </tr>\n",
              "  </thead>\n",
              "  <tbody>\n",
              "    <tr>\n",
              "      <th>561605</th>\n",
              "      <td>12</td>\n",
              "      <td>26</td>\n",
              "      <td>4571</td>\n",
              "      <td>1.0</td>\n",
              "      <td>299.0</td>\n",
              "      <td>95</td>\n",
              "    </tr>\n",
              "    <tr>\n",
              "      <th>849455</th>\n",
              "      <td>19</td>\n",
              "      <td>58</td>\n",
              "      <td>11684</td>\n",
              "      <td>1.0</td>\n",
              "      <td>199.0</td>\n",
              "      <td>564</td>\n",
              "    </tr>\n",
              "    <tr>\n",
              "      <th>26694</th>\n",
              "      <td>0</td>\n",
              "      <td>35</td>\n",
              "      <td>2307</td>\n",
              "      <td>1.0</td>\n",
              "      <td>2798.5</td>\n",
              "      <td>1</td>\n",
              "    </tr>\n",
              "    <tr>\n",
              "      <th>510046</th>\n",
              "      <td>11</td>\n",
              "      <td>25</td>\n",
              "      <td>5235</td>\n",
              "      <td>18.0</td>\n",
              "      <td>17581.5</td>\n",
              "      <td>323</td>\n",
              "    </tr>\n",
              "    <tr>\n",
              "      <th>1251303</th>\n",
              "      <td>31</td>\n",
              "      <td>35</td>\n",
              "      <td>8452</td>\n",
              "      <td>3.0</td>\n",
              "      <td>7570.0</td>\n",
              "      <td>634</td>\n",
              "    </tr>\n",
              "  </tbody>\n",
              "</table>\n",
              "</div>"
            ],
            "text/plain": [
              "         date_block_num  shop_id  item_id  item_cnt  revenue  first_sale_day\n",
              "561605               12       26     4571       1.0    299.0              95\n",
              "849455               19       58    11684       1.0    199.0             564\n",
              "26694                 0       35     2307       1.0   2798.5               1\n",
              "510046               11       25     5235      18.0  17581.5             323\n",
              "1251303              31       35     8452       3.0   7570.0             634"
            ]
          },
          "metadata": {
            "tags": []
          },
          "execution_count": 29
        }
      ]
    },
    {
      "cell_type": "markdown",
      "metadata": {
        "id": "Q17K6CSwSrOx"
      },
      "source": [
        "constructing training dataframe"
      ]
    },
    {
      "cell_type": "code",
      "metadata": {
        "colab": {
          "base_uri": "https://localhost:8080/",
          "height": 196
        },
        "id": "XnQTnm01SjBI",
        "outputId": "29f55e73-94ff-48c5-9d97-d02db4c3aaca"
      },
      "source": [
        "df = [] \r\n",
        "for block_num in sales['date_block_num'].unique():\r\n",
        "    cur_shops = sales.loc[sales['date_block_num'] == block_num, 'shop_id'].unique()\r\n",
        "    cur_items = sales.loc[sales['date_block_num'] == block_num, 'item_id'].unique()\r\n",
        "    df.append(np.array(list(product(*[cur_shops, cur_items, [block_num]]))))\r\n",
        "\r\n",
        "df = pd.DataFrame(np.vstack(df), columns=['shop_id', 'item_id', 'date_block_num'])\r\n",
        "df.head()"
      ],
      "execution_count": 30,
      "outputs": [
        {
          "output_type": "execute_result",
          "data": {
            "text/html": [
              "<div>\n",
              "<style scoped>\n",
              "    .dataframe tbody tr th:only-of-type {\n",
              "        vertical-align: middle;\n",
              "    }\n",
              "\n",
              "    .dataframe tbody tr th {\n",
              "        vertical-align: top;\n",
              "    }\n",
              "\n",
              "    .dataframe thead th {\n",
              "        text-align: right;\n",
              "    }\n",
              "</style>\n",
              "<table border=\"1\" class=\"dataframe\">\n",
              "  <thead>\n",
              "    <tr style=\"text-align: right;\">\n",
              "      <th></th>\n",
              "      <th>shop_id</th>\n",
              "      <th>item_id</th>\n",
              "      <th>date_block_num</th>\n",
              "    </tr>\n",
              "  </thead>\n",
              "  <tbody>\n",
              "    <tr>\n",
              "      <th>0</th>\n",
              "      <td>2</td>\n",
              "      <td>27</td>\n",
              "      <td>0</td>\n",
              "    </tr>\n",
              "    <tr>\n",
              "      <th>1</th>\n",
              "      <td>2</td>\n",
              "      <td>33</td>\n",
              "      <td>0</td>\n",
              "    </tr>\n",
              "    <tr>\n",
              "      <th>2</th>\n",
              "      <td>2</td>\n",
              "      <td>317</td>\n",
              "      <td>0</td>\n",
              "    </tr>\n",
              "    <tr>\n",
              "      <th>3</th>\n",
              "      <td>2</td>\n",
              "      <td>438</td>\n",
              "      <td>0</td>\n",
              "    </tr>\n",
              "    <tr>\n",
              "      <th>4</th>\n",
              "      <td>2</td>\n",
              "      <td>473</td>\n",
              "      <td>0</td>\n",
              "    </tr>\n",
              "  </tbody>\n",
              "</table>\n",
              "</div>"
            ],
            "text/plain": [
              "   shop_id  item_id  date_block_num\n",
              "0        2       27               0\n",
              "1        2       33               0\n",
              "2        2      317               0\n",
              "3        2      438               0\n",
              "4        2      473               0"
            ]
          },
          "metadata": {
            "tags": []
          },
          "execution_count": 30
        }
      ]
    },
    {
      "cell_type": "code",
      "metadata": {
        "colab": {
          "base_uri": "https://localhost:8080/"
        },
        "id": "Ilx0_uidT57s",
        "outputId": "90154d3d-d029-4180-bdd7-44597a015cba"
      },
      "source": [
        "test.columns"
      ],
      "execution_count": 31,
      "outputs": [
        {
          "output_type": "execute_result",
          "data": {
            "text/plain": [
              "Index(['shop_id', 'item_id'], dtype='object')"
            ]
          },
          "metadata": {
            "tags": []
          },
          "execution_count": 31
        }
      ]
    },
    {
      "cell_type": "code",
      "metadata": {
        "id": "wnG74I0eSv6a"
      },
      "source": [
        "#add the appropriate date_block_num value to the test set\r\n",
        "test['date_block_num'] = 34\r\n",
        "\r\n",
        "#append test set to training dataframe\r\n",
        "df = pd.concat([df,test]).fillna(0)\r\n",
        "df = df.reset_index()\r\n",
        "del df['index']"
      ],
      "execution_count": 32,
      "outputs": []
    },
    {
      "cell_type": "code",
      "metadata": {
        "colab": {
          "base_uri": "https://localhost:8080/",
          "height": 274
        },
        "id": "pMHKxtdQUV_K",
        "outputId": "a768f482-ffc5-476b-9cb9-06db05809056"
      },
      "source": [
        "items.head(3)"
      ],
      "execution_count": 33,
      "outputs": [
        {
          "output_type": "execute_result",
          "data": {
            "text/html": [
              "<div>\n",
              "<style scoped>\n",
              "    .dataframe tbody tr th:only-of-type {\n",
              "        vertical-align: middle;\n",
              "    }\n",
              "\n",
              "    .dataframe tbody tr th {\n",
              "        vertical-align: top;\n",
              "    }\n",
              "\n",
              "    .dataframe thead th {\n",
              "        text-align: right;\n",
              "    }\n",
              "</style>\n",
              "<table border=\"1\" class=\"dataframe\">\n",
              "  <thead>\n",
              "    <tr style=\"text-align: right;\">\n",
              "      <th></th>\n",
              "      <th>item_name</th>\n",
              "      <th>item_id</th>\n",
              "      <th>item_category_id</th>\n",
              "      <th>item_name_first4</th>\n",
              "      <th>item_name_first6</th>\n",
              "      <th>item_name_first11</th>\n",
              "      <th>type_id</th>\n",
              "    </tr>\n",
              "  </thead>\n",
              "  <tbody>\n",
              "    <tr>\n",
              "      <th>0</th>\n",
              "      <td>во власти наваждения  пласт</td>\n",
              "      <td>0</td>\n",
              "      <td>40</td>\n",
              "      <td>1623</td>\n",
              "      <td>2463</td>\n",
              "      <td>4332</td>\n",
              "      <td>10</td>\n",
              "    </tr>\n",
              "    <tr>\n",
              "      <th>1</th>\n",
              "      <td>abbyy finereader 12 professional edition full...</td>\n",
              "      <td>1</td>\n",
              "      <td>76</td>\n",
              "      <td>105</td>\n",
              "      <td>130</td>\n",
              "      <td>211</td>\n",
              "      <td>14</td>\n",
              "    </tr>\n",
              "    <tr>\n",
              "      <th>2</th>\n",
              "      <td>лучах славы    unv</td>\n",
              "      <td>2</td>\n",
              "      <td>40</td>\n",
              "      <td>2409</td>\n",
              "      <td>3707</td>\n",
              "      <td>6553</td>\n",
              "      <td>10</td>\n",
              "    </tr>\n",
              "  </tbody>\n",
              "</table>\n",
              "</div>"
            ],
            "text/plain": [
              "                                           item_name  ...  type_id\n",
              "0             во власти наваждения  пласт             ...       10\n",
              "1   abbyy finereader 12 professional edition full...  ...       14\n",
              "2           лучах славы    unv                        ...       10\n",
              "\n",
              "[3 rows x 7 columns]"
            ]
          },
          "metadata": {
            "tags": []
          },
          "execution_count": 33
        }
      ]
    },
    {
      "cell_type": "code",
      "metadata": {
        "id": "dQ2SDH2ySv_h"
      },
      "source": [
        "#join sales and item inforamtion to the training dataframe\r\n",
        "df = pd.merge(df, sales, on=['shop_id', 'item_id', 'date_block_num'], how='left').fillna(0)\r\n",
        "df = pd.merge(df, dates, on=['date_block_num','shop_id'], how='left')\r\n",
        "df = pd.merge(df, items.drop(columns=['item_name']), on='item_id', how='left')"
      ],
      "execution_count": 34,
      "outputs": []
    },
    {
      "cell_type": "markdown",
      "metadata": {
        "id": "yuUPaRpFS1BF"
      },
      "source": [
        "adding shop information"
      ]
    },
    {
      "cell_type": "code",
      "metadata": {
        "colab": {
          "base_uri": "https://localhost:8080/",
          "height": 424
        },
        "id": "-jJg-8qfV0pl",
        "outputId": "617d4acf-6be6-461b-f213-2d2043615666"
      },
      "source": [
        "df"
      ],
      "execution_count": 35,
      "outputs": [
        {
          "output_type": "execute_result",
          "data": {
            "text/html": [
              "<div>\n",
              "<style scoped>\n",
              "    .dataframe tbody tr th:only-of-type {\n",
              "        vertical-align: middle;\n",
              "    }\n",
              "\n",
              "    .dataframe tbody tr th {\n",
              "        vertical-align: top;\n",
              "    }\n",
              "\n",
              "    .dataframe thead th {\n",
              "        text-align: right;\n",
              "    }\n",
              "</style>\n",
              "<table border=\"1\" class=\"dataframe\">\n",
              "  <thead>\n",
              "    <tr style=\"text-align: right;\">\n",
              "      <th></th>\n",
              "      <th>shop_id</th>\n",
              "      <th>item_id</th>\n",
              "      <th>date_block_num</th>\n",
              "      <th>item_cnt</th>\n",
              "      <th>revenue</th>\n",
              "      <th>first_sale_day</th>\n",
              "      <th>month</th>\n",
              "      <th>year</th>\n",
              "      <th>day_quality</th>\n",
              "      <th>first_day_of_month</th>\n",
              "      <th>item_category_id</th>\n",
              "      <th>item_name_first4</th>\n",
              "      <th>item_name_first6</th>\n",
              "      <th>item_name_first11</th>\n",
              "      <th>type_id</th>\n",
              "    </tr>\n",
              "  </thead>\n",
              "  <tbody>\n",
              "    <tr>\n",
              "      <th>0</th>\n",
              "      <td>2</td>\n",
              "      <td>27</td>\n",
              "      <td>0</td>\n",
              "      <td>1.0</td>\n",
              "      <td>2499.0</td>\n",
              "      <td>2.0</td>\n",
              "      <td>1</td>\n",
              "      <td>0</td>\n",
              "      <td>4.381749</td>\n",
              "      <td>1</td>\n",
              "      <td>19</td>\n",
              "      <td>1</td>\n",
              "      <td>1</td>\n",
              "      <td>1</td>\n",
              "      <td>5</td>\n",
              "    </tr>\n",
              "    <tr>\n",
              "      <th>1</th>\n",
              "      <td>2</td>\n",
              "      <td>33</td>\n",
              "      <td>0</td>\n",
              "      <td>1.0</td>\n",
              "      <td>499.0</td>\n",
              "      <td>2.0</td>\n",
              "      <td>1</td>\n",
              "      <td>0</td>\n",
              "      <td>4.381749</td>\n",
              "      <td>1</td>\n",
              "      <td>37</td>\n",
              "      <td>187</td>\n",
              "      <td>249</td>\n",
              "      <td>414</td>\n",
              "      <td>10</td>\n",
              "    </tr>\n",
              "    <tr>\n",
              "      <th>2</th>\n",
              "      <td>2</td>\n",
              "      <td>317</td>\n",
              "      <td>0</td>\n",
              "      <td>1.0</td>\n",
              "      <td>299.0</td>\n",
              "      <td>4.0</td>\n",
              "      <td>1</td>\n",
              "      <td>0</td>\n",
              "      <td>4.381749</td>\n",
              "      <td>1</td>\n",
              "      <td>45</td>\n",
              "      <td>33</td>\n",
              "      <td>38</td>\n",
              "      <td>52</td>\n",
              "      <td>11</td>\n",
              "    </tr>\n",
              "    <tr>\n",
              "      <th>3</th>\n",
              "      <td>2</td>\n",
              "      <td>438</td>\n",
              "      <td>0</td>\n",
              "      <td>1.0</td>\n",
              "      <td>299.0</td>\n",
              "      <td>19.0</td>\n",
              "      <td>1</td>\n",
              "      <td>0</td>\n",
              "      <td>4.381749</td>\n",
              "      <td>1</td>\n",
              "      <td>45</td>\n",
              "      <td>33</td>\n",
              "      <td>38</td>\n",
              "      <td>54</td>\n",
              "      <td>11</td>\n",
              "    </tr>\n",
              "    <tr>\n",
              "      <th>4</th>\n",
              "      <td>2</td>\n",
              "      <td>473</td>\n",
              "      <td>0</td>\n",
              "      <td>2.0</td>\n",
              "      <td>798.0</td>\n",
              "      <td>3.0</td>\n",
              "      <td>1</td>\n",
              "      <td>0</td>\n",
              "      <td>4.381749</td>\n",
              "      <td>1</td>\n",
              "      <td>49</td>\n",
              "      <td>35</td>\n",
              "      <td>43</td>\n",
              "      <td>59</td>\n",
              "      <td>11</td>\n",
              "    </tr>\n",
              "    <tr>\n",
              "      <th>...</th>\n",
              "      <td>...</td>\n",
              "      <td>...</td>\n",
              "      <td>...</td>\n",
              "      <td>...</td>\n",
              "      <td>...</td>\n",
              "      <td>...</td>\n",
              "      <td>...</td>\n",
              "      <td>...</td>\n",
              "      <td>...</td>\n",
              "      <td>...</td>\n",
              "      <td>...</td>\n",
              "      <td>...</td>\n",
              "      <td>...</td>\n",
              "      <td>...</td>\n",
              "      <td>...</td>\n",
              "    </tr>\n",
              "    <tr>\n",
              "      <th>8756434</th>\n",
              "      <td>45</td>\n",
              "      <td>18454</td>\n",
              "      <td>34</td>\n",
              "      <td>0.0</td>\n",
              "      <td>0.0</td>\n",
              "      <td>0.0</td>\n",
              "      <td>11</td>\n",
              "      <td>2</td>\n",
              "      <td>4.288065</td>\n",
              "      <td>1035</td>\n",
              "      <td>55</td>\n",
              "      <td>3230</td>\n",
              "      <td>5005</td>\n",
              "      <td>8681</td>\n",
              "      <td>12</td>\n",
              "    </tr>\n",
              "    <tr>\n",
              "      <th>8756435</th>\n",
              "      <td>45</td>\n",
              "      <td>16188</td>\n",
              "      <td>34</td>\n",
              "      <td>0.0</td>\n",
              "      <td>0.0</td>\n",
              "      <td>0.0</td>\n",
              "      <td>11</td>\n",
              "      <td>2</td>\n",
              "      <td>4.288065</td>\n",
              "      <td>1035</td>\n",
              "      <td>64</td>\n",
              "      <td>2622</td>\n",
              "      <td>4079</td>\n",
              "      <td>7191</td>\n",
              "      <td>13</td>\n",
              "    </tr>\n",
              "    <tr>\n",
              "      <th>8756436</th>\n",
              "      <td>45</td>\n",
              "      <td>15757</td>\n",
              "      <td>34</td>\n",
              "      <td>0.0</td>\n",
              "      <td>0.0</td>\n",
              "      <td>0.0</td>\n",
              "      <td>11</td>\n",
              "      <td>2</td>\n",
              "      <td>4.288065</td>\n",
              "      <td>1035</td>\n",
              "      <td>55</td>\n",
              "      <td>2693</td>\n",
              "      <td>4180</td>\n",
              "      <td>7335</td>\n",
              "      <td>12</td>\n",
              "    </tr>\n",
              "    <tr>\n",
              "      <th>8756437</th>\n",
              "      <td>45</td>\n",
              "      <td>19648</td>\n",
              "      <td>34</td>\n",
              "      <td>0.0</td>\n",
              "      <td>0.0</td>\n",
              "      <td>0.0</td>\n",
              "      <td>11</td>\n",
              "      <td>2</td>\n",
              "      <td>4.288065</td>\n",
              "      <td>1035</td>\n",
              "      <td>40</td>\n",
              "      <td>3465</td>\n",
              "      <td>5407</td>\n",
              "      <td>9365</td>\n",
              "      <td>10</td>\n",
              "    </tr>\n",
              "    <tr>\n",
              "      <th>8756438</th>\n",
              "      <td>45</td>\n",
              "      <td>969</td>\n",
              "      <td>34</td>\n",
              "      <td>0.0</td>\n",
              "      <td>0.0</td>\n",
              "      <td>0.0</td>\n",
              "      <td>11</td>\n",
              "      <td>2</td>\n",
              "      <td>4.288065</td>\n",
              "      <td>1035</td>\n",
              "      <td>37</td>\n",
              "      <td>1891</td>\n",
              "      <td>2886</td>\n",
              "      <td>4991</td>\n",
              "      <td>10</td>\n",
              "    </tr>\n",
              "  </tbody>\n",
              "</table>\n",
              "<p>8756439 rows × 15 columns</p>\n",
              "</div>"
            ],
            "text/plain": [
              "         shop_id  item_id  ...  item_name_first11  type_id\n",
              "0              2       27  ...                  1        5\n",
              "1              2       33  ...                414       10\n",
              "2              2      317  ...                 52       11\n",
              "3              2      438  ...                 54       11\n",
              "4              2      473  ...                 59       11\n",
              "...          ...      ...  ...                ...      ...\n",
              "8756434       45    18454  ...               8681       12\n",
              "8756435       45    16188  ...               7191       13\n",
              "8756436       45    15757  ...               7335       12\n",
              "8756437       45    19648  ...               9365       10\n",
              "8756438       45      969  ...               4991       10\n",
              "\n",
              "[8756439 rows x 15 columns]"
            ]
          },
          "metadata": {
            "tags": []
          },
          "execution_count": 35
        }
      ]
    },
    {
      "cell_type": "code",
      "metadata": {
        "id": "G1Jl49jRSwDP"
      },
      "source": [
        "#clustering shops\r\n",
        "shops_cats = pd.DataFrame(\r\n",
        "    np.array(list(product(*[df['shop_id'].unique(), df['item_category_id'].unique()]))),\r\n",
        "    columns =['shop_id', 'item_category_id']\r\n",
        ")\r\n",
        "temp = df.groupby(['item_category_id', 'shop_id']).agg({'item_cnt':'sum'}).reset_index()\r\n",
        "temp2 = temp.groupby('shop_id').agg({'item_cnt':'sum'}).rename(columns={'item_cnt':'shop_total'})\r\n",
        "temp = temp.join(temp2, on='shop_id')\r\n",
        "temp['category_proportion'] = temp['item_cnt']/temp['shop_total']\r\n",
        "temp = temp[['shop_id', 'item_category_id', 'category_proportion']]\r\n",
        "shops_cats = pd.merge(shops_cats, temp, on=['shop_id','item_category_id'], how='left')\r\n",
        "shops_cats = shops_cats.fillna(0)\r\n",
        "\r\n",
        "shops_cats = shops_cats.pivot(index='shop_id', columns=['item_category_id'])\r\n",
        "kmeans = KMeans(n_clusters=7, random_state=0).fit(shops_cats)\r\n",
        "shops_cats['shop_cluster'] = kmeans.labels_.astype('int8')\r\n",
        "\r\n",
        "#adding these clusters to the shops dataframe\r\n",
        "shops = shops.join(shops_cats['shop_cluster'], on='shop_id')"
      ],
      "execution_count": 36,
      "outputs": []
    },
    {
      "cell_type": "code",
      "metadata": {
        "colab": {
          "base_uri": "https://localhost:8080/",
          "height": 196
        },
        "id": "actNX26JS51V",
        "outputId": "84343847-e231-4035-ccdd-459a7c22bf74"
      },
      "source": [
        "#removing unused shop ids\r\n",
        "shops.dropna(inplace=True)\r\n",
        "\r\n",
        "#cleaning the name column\r\n",
        "shops['shop_name'] = shops['shop_name'].str.lower()\r\n",
        "shops['shop_name'] = shops['shop_name'].str.replace(r'[^\\w\\d\\s]', ' ')\r\n",
        "\r\n",
        "#creating a column for the type of shop\r\n",
        "shops['shop_type'] = 'regular'\r\n",
        "\r\n",
        "#there is some overlap in tc and mall, mall is given precedence\r\n",
        "shops.loc[shops['shop_name'].str.contains(r'tc'), 'shop_type'] = 'tc'\r\n",
        "shops.loc[shops['shop_name'].str.contains(r'mall|center|mega'), 'shop_type'] = 'mall'\r\n",
        "shops.loc[shops['shop_id'].isin([9,20]), 'shop_type'] = 'special'\r\n",
        "shops.loc[shops['shop_id'].isin([12,55]), 'shop_type'] = 'online'\r\n",
        "\r\n",
        "#the first word of shop name is largely sufficient as a city feature\r\n",
        "shops['shop_city'] = shops['shop_name'].str.split().str[0]\r\n",
        "shops.loc[shops['shop_id'].isin([12,55]), 'shop_city'] = 'online'\r\n",
        "shops.shop_city = le.fit_transform(shops.shop_city.values)\r\n",
        "shops.shop_type = le.fit_transform(shops.shop_type.values)\r\n",
        "shops.head()"
      ],
      "execution_count": 37,
      "outputs": [
        {
          "output_type": "execute_result",
          "data": {
            "text/html": [
              "<div>\n",
              "<style scoped>\n",
              "    .dataframe tbody tr th:only-of-type {\n",
              "        vertical-align: middle;\n",
              "    }\n",
              "\n",
              "    .dataframe tbody tr th {\n",
              "        vertical-align: top;\n",
              "    }\n",
              "\n",
              "    .dataframe thead th {\n",
              "        text-align: right;\n",
              "    }\n",
              "</style>\n",
              "<table border=\"1\" class=\"dataframe\">\n",
              "  <thead>\n",
              "    <tr style=\"text-align: right;\">\n",
              "      <th></th>\n",
              "      <th>shop_name</th>\n",
              "      <th>shop_id</th>\n",
              "      <th>shop_cluster</th>\n",
              "      <th>shop_type</th>\n",
              "      <th>shop_city</th>\n",
              "    </tr>\n",
              "  </thead>\n",
              "  <tbody>\n",
              "    <tr>\n",
              "      <th>2</th>\n",
              "      <td>адыгея тц  мега</td>\n",
              "      <td>2</td>\n",
              "      <td>4.0</td>\n",
              "      <td>1</td>\n",
              "      <td>1</td>\n",
              "    </tr>\n",
              "    <tr>\n",
              "      <th>3</th>\n",
              "      <td>балашиха трк  октябрь киномир</td>\n",
              "      <td>3</td>\n",
              "      <td>0.0</td>\n",
              "      <td>1</td>\n",
              "      <td>2</td>\n",
              "    </tr>\n",
              "    <tr>\n",
              "      <th>4</th>\n",
              "      <td>волжский тц  волга молл</td>\n",
              "      <td>4</td>\n",
              "      <td>0.0</td>\n",
              "      <td>1</td>\n",
              "      <td>3</td>\n",
              "    </tr>\n",
              "    <tr>\n",
              "      <th>5</th>\n",
              "      <td>вологда трц  мармелад</td>\n",
              "      <td>5</td>\n",
              "      <td>0.0</td>\n",
              "      <td>1</td>\n",
              "      <td>4</td>\n",
              "    </tr>\n",
              "    <tr>\n",
              "      <th>6</th>\n",
              "      <td>воронеж  плехановская  13</td>\n",
              "      <td>6</td>\n",
              "      <td>0.0</td>\n",
              "      <td>1</td>\n",
              "      <td>5</td>\n",
              "    </tr>\n",
              "  </tbody>\n",
              "</table>\n",
              "</div>"
            ],
            "text/plain": [
              "                        shop_name  shop_id  shop_cluster  shop_type  shop_city\n",
              "2                адыгея тц  мега         2           4.0          1          1\n",
              "3  балашиха трк  октябрь киномир         3           0.0          1          2\n",
              "4        волжский тц  волга молл         4           0.0          1          3\n",
              "5          вологда трц  мармелад         5           0.0          1          4\n",
              "6      воронеж  плехановская  13         6           0.0          1          5"
            ]
          },
          "metadata": {
            "tags": []
          },
          "execution_count": 37
        }
      ]
    },
    {
      "cell_type": "code",
      "metadata": {
        "colab": {
          "base_uri": "https://localhost:8080/",
          "height": 216
        },
        "id": "HwbLzPM5S58I",
        "outputId": "7709bf07-2a8d-4efd-d01f-4a72515b3829"
      },
      "source": [
        "df = pd.merge(df, shops.drop(columns='shop_name'), on='shop_id', how='left')\r\n",
        "df.head()"
      ],
      "execution_count": 38,
      "outputs": [
        {
          "output_type": "execute_result",
          "data": {
            "text/html": [
              "<div>\n",
              "<style scoped>\n",
              "    .dataframe tbody tr th:only-of-type {\n",
              "        vertical-align: middle;\n",
              "    }\n",
              "\n",
              "    .dataframe tbody tr th {\n",
              "        vertical-align: top;\n",
              "    }\n",
              "\n",
              "    .dataframe thead th {\n",
              "        text-align: right;\n",
              "    }\n",
              "</style>\n",
              "<table border=\"1\" class=\"dataframe\">\n",
              "  <thead>\n",
              "    <tr style=\"text-align: right;\">\n",
              "      <th></th>\n",
              "      <th>shop_id</th>\n",
              "      <th>item_id</th>\n",
              "      <th>date_block_num</th>\n",
              "      <th>item_cnt</th>\n",
              "      <th>revenue</th>\n",
              "      <th>first_sale_day</th>\n",
              "      <th>month</th>\n",
              "      <th>year</th>\n",
              "      <th>day_quality</th>\n",
              "      <th>first_day_of_month</th>\n",
              "      <th>item_category_id</th>\n",
              "      <th>item_name_first4</th>\n",
              "      <th>item_name_first6</th>\n",
              "      <th>item_name_first11</th>\n",
              "      <th>type_id</th>\n",
              "      <th>shop_cluster</th>\n",
              "      <th>shop_type</th>\n",
              "      <th>shop_city</th>\n",
              "    </tr>\n",
              "  </thead>\n",
              "  <tbody>\n",
              "    <tr>\n",
              "      <th>0</th>\n",
              "      <td>2</td>\n",
              "      <td>27</td>\n",
              "      <td>0</td>\n",
              "      <td>1.0</td>\n",
              "      <td>2499.0</td>\n",
              "      <td>2.0</td>\n",
              "      <td>1</td>\n",
              "      <td>0</td>\n",
              "      <td>4.381749</td>\n",
              "      <td>1</td>\n",
              "      <td>19</td>\n",
              "      <td>1</td>\n",
              "      <td>1</td>\n",
              "      <td>1</td>\n",
              "      <td>5</td>\n",
              "      <td>4.0</td>\n",
              "      <td>1</td>\n",
              "      <td>1</td>\n",
              "    </tr>\n",
              "    <tr>\n",
              "      <th>1</th>\n",
              "      <td>2</td>\n",
              "      <td>33</td>\n",
              "      <td>0</td>\n",
              "      <td>1.0</td>\n",
              "      <td>499.0</td>\n",
              "      <td>2.0</td>\n",
              "      <td>1</td>\n",
              "      <td>0</td>\n",
              "      <td>4.381749</td>\n",
              "      <td>1</td>\n",
              "      <td>37</td>\n",
              "      <td>187</td>\n",
              "      <td>249</td>\n",
              "      <td>414</td>\n",
              "      <td>10</td>\n",
              "      <td>4.0</td>\n",
              "      <td>1</td>\n",
              "      <td>1</td>\n",
              "    </tr>\n",
              "    <tr>\n",
              "      <th>2</th>\n",
              "      <td>2</td>\n",
              "      <td>317</td>\n",
              "      <td>0</td>\n",
              "      <td>1.0</td>\n",
              "      <td>299.0</td>\n",
              "      <td>4.0</td>\n",
              "      <td>1</td>\n",
              "      <td>0</td>\n",
              "      <td>4.381749</td>\n",
              "      <td>1</td>\n",
              "      <td>45</td>\n",
              "      <td>33</td>\n",
              "      <td>38</td>\n",
              "      <td>52</td>\n",
              "      <td>11</td>\n",
              "      <td>4.0</td>\n",
              "      <td>1</td>\n",
              "      <td>1</td>\n",
              "    </tr>\n",
              "    <tr>\n",
              "      <th>3</th>\n",
              "      <td>2</td>\n",
              "      <td>438</td>\n",
              "      <td>0</td>\n",
              "      <td>1.0</td>\n",
              "      <td>299.0</td>\n",
              "      <td>19.0</td>\n",
              "      <td>1</td>\n",
              "      <td>0</td>\n",
              "      <td>4.381749</td>\n",
              "      <td>1</td>\n",
              "      <td>45</td>\n",
              "      <td>33</td>\n",
              "      <td>38</td>\n",
              "      <td>54</td>\n",
              "      <td>11</td>\n",
              "      <td>4.0</td>\n",
              "      <td>1</td>\n",
              "      <td>1</td>\n",
              "    </tr>\n",
              "    <tr>\n",
              "      <th>4</th>\n",
              "      <td>2</td>\n",
              "      <td>473</td>\n",
              "      <td>0</td>\n",
              "      <td>2.0</td>\n",
              "      <td>798.0</td>\n",
              "      <td>3.0</td>\n",
              "      <td>1</td>\n",
              "      <td>0</td>\n",
              "      <td>4.381749</td>\n",
              "      <td>1</td>\n",
              "      <td>49</td>\n",
              "      <td>35</td>\n",
              "      <td>43</td>\n",
              "      <td>59</td>\n",
              "      <td>11</td>\n",
              "      <td>4.0</td>\n",
              "      <td>1</td>\n",
              "      <td>1</td>\n",
              "    </tr>\n",
              "  </tbody>\n",
              "</table>\n",
              "</div>"
            ],
            "text/plain": [
              "   shop_id  item_id  date_block_num  ...  shop_cluster  shop_type  shop_city\n",
              "0        2       27               0  ...           4.0          1          1\n",
              "1        2       33               0  ...           4.0          1          1\n",
              "2        2      317               0  ...           4.0          1          1\n",
              "3        2      438               0  ...           4.0          1          1\n",
              "4        2      473               0  ...           4.0          1          1\n",
              "\n",
              "[5 rows x 18 columns]"
            ]
          },
          "metadata": {
            "tags": []
          },
          "execution_count": 38
        }
      ]
    },
    {
      "cell_type": "markdown",
      "metadata": {
        "id": "3iHb7l44hSnZ"
      },
      "source": [
        "Ages & Aggregating sales/price information"
      ]
    },
    {
      "cell_type": "code",
      "metadata": {
        "id": "y2mCvYT9hRAD"
      },
      "source": [
        "df['first_sale_day'] = df.groupby('item_id')['first_sale_day'].transform('max').astype('int16')\r\n",
        "df.loc[df['first_sale_day']==0, 'first_sale_day'] = 1035\r\n",
        "df['prev_days_on_sale'] = [max(idx) for idx in zip(df['first_day_of_month']-df['first_sale_day'],[0]*len(df))]\r\n",
        "del df['first_day_of_month']"
      ],
      "execution_count": 39,
      "outputs": []
    },
    {
      "cell_type": "code",
      "metadata": {
        "colab": {
          "base_uri": "https://localhost:8080/",
          "height": 216
        },
        "id": "vBx1-Uky_Oqe",
        "outputId": "f0b0bd5c-ce7c-4eaa-fee8-5776e0a06eb0"
      },
      "source": [
        "#freeing RAM, removing unneeded columns and encoding object columns\r\n",
        "del sales, categ, shops, shops_cats, temp, temp2, test, dupes, item_map, \r\n",
        "df.head()"
      ],
      "execution_count": 40,
      "outputs": [
        {
          "output_type": "execute_result",
          "data": {
            "text/html": [
              "<div>\n",
              "<style scoped>\n",
              "    .dataframe tbody tr th:only-of-type {\n",
              "        vertical-align: middle;\n",
              "    }\n",
              "\n",
              "    .dataframe tbody tr th {\n",
              "        vertical-align: top;\n",
              "    }\n",
              "\n",
              "    .dataframe thead th {\n",
              "        text-align: right;\n",
              "    }\n",
              "</style>\n",
              "<table border=\"1\" class=\"dataframe\">\n",
              "  <thead>\n",
              "    <tr style=\"text-align: right;\">\n",
              "      <th></th>\n",
              "      <th>shop_id</th>\n",
              "      <th>item_id</th>\n",
              "      <th>date_block_num</th>\n",
              "      <th>item_cnt</th>\n",
              "      <th>revenue</th>\n",
              "      <th>first_sale_day</th>\n",
              "      <th>month</th>\n",
              "      <th>year</th>\n",
              "      <th>day_quality</th>\n",
              "      <th>item_category_id</th>\n",
              "      <th>item_name_first4</th>\n",
              "      <th>item_name_first6</th>\n",
              "      <th>item_name_first11</th>\n",
              "      <th>type_id</th>\n",
              "      <th>shop_cluster</th>\n",
              "      <th>shop_type</th>\n",
              "      <th>shop_city</th>\n",
              "      <th>prev_days_on_sale</th>\n",
              "    </tr>\n",
              "  </thead>\n",
              "  <tbody>\n",
              "    <tr>\n",
              "      <th>0</th>\n",
              "      <td>2</td>\n",
              "      <td>27</td>\n",
              "      <td>0</td>\n",
              "      <td>1.0</td>\n",
              "      <td>2499.0</td>\n",
              "      <td>2</td>\n",
              "      <td>1</td>\n",
              "      <td>0</td>\n",
              "      <td>4.381749</td>\n",
              "      <td>19</td>\n",
              "      <td>1</td>\n",
              "      <td>1</td>\n",
              "      <td>1</td>\n",
              "      <td>5</td>\n",
              "      <td>4.0</td>\n",
              "      <td>1</td>\n",
              "      <td>1</td>\n",
              "      <td>0</td>\n",
              "    </tr>\n",
              "    <tr>\n",
              "      <th>1</th>\n",
              "      <td>2</td>\n",
              "      <td>33</td>\n",
              "      <td>0</td>\n",
              "      <td>1.0</td>\n",
              "      <td>499.0</td>\n",
              "      <td>2</td>\n",
              "      <td>1</td>\n",
              "      <td>0</td>\n",
              "      <td>4.381749</td>\n",
              "      <td>37</td>\n",
              "      <td>187</td>\n",
              "      <td>249</td>\n",
              "      <td>414</td>\n",
              "      <td>10</td>\n",
              "      <td>4.0</td>\n",
              "      <td>1</td>\n",
              "      <td>1</td>\n",
              "      <td>0</td>\n",
              "    </tr>\n",
              "    <tr>\n",
              "      <th>2</th>\n",
              "      <td>2</td>\n",
              "      <td>317</td>\n",
              "      <td>0</td>\n",
              "      <td>1.0</td>\n",
              "      <td>299.0</td>\n",
              "      <td>4</td>\n",
              "      <td>1</td>\n",
              "      <td>0</td>\n",
              "      <td>4.381749</td>\n",
              "      <td>45</td>\n",
              "      <td>33</td>\n",
              "      <td>38</td>\n",
              "      <td>52</td>\n",
              "      <td>11</td>\n",
              "      <td>4.0</td>\n",
              "      <td>1</td>\n",
              "      <td>1</td>\n",
              "      <td>0</td>\n",
              "    </tr>\n",
              "    <tr>\n",
              "      <th>3</th>\n",
              "      <td>2</td>\n",
              "      <td>438</td>\n",
              "      <td>0</td>\n",
              "      <td>1.0</td>\n",
              "      <td>299.0</td>\n",
              "      <td>19</td>\n",
              "      <td>1</td>\n",
              "      <td>0</td>\n",
              "      <td>4.381749</td>\n",
              "      <td>45</td>\n",
              "      <td>33</td>\n",
              "      <td>38</td>\n",
              "      <td>54</td>\n",
              "      <td>11</td>\n",
              "      <td>4.0</td>\n",
              "      <td>1</td>\n",
              "      <td>1</td>\n",
              "      <td>0</td>\n",
              "    </tr>\n",
              "    <tr>\n",
              "      <th>4</th>\n",
              "      <td>2</td>\n",
              "      <td>473</td>\n",
              "      <td>0</td>\n",
              "      <td>2.0</td>\n",
              "      <td>798.0</td>\n",
              "      <td>3</td>\n",
              "      <td>1</td>\n",
              "      <td>0</td>\n",
              "      <td>4.381749</td>\n",
              "      <td>49</td>\n",
              "      <td>35</td>\n",
              "      <td>43</td>\n",
              "      <td>59</td>\n",
              "      <td>11</td>\n",
              "      <td>4.0</td>\n",
              "      <td>1</td>\n",
              "      <td>1</td>\n",
              "      <td>0</td>\n",
              "    </tr>\n",
              "  </tbody>\n",
              "</table>\n",
              "</div>"
            ],
            "text/plain": [
              "   shop_id  item_id  date_block_num  ...  shop_type  shop_city  prev_days_on_sale\n",
              "0        2       27               0  ...          1          1                  0\n",
              "1        2       33               0  ...          1          1                  0\n",
              "2        2      317               0  ...          1          1                  0\n",
              "3        2      438               0  ...          1          1                  0\n",
              "4        2      473               0  ...          1          1                  0\n",
              "\n",
              "[5 rows x 18 columns]"
            ]
          },
          "metadata": {
            "tags": []
          },
          "execution_count": 40
        }
      ]
    },
    {
      "cell_type": "code",
      "metadata": {
        "id": "Qtpj0ElFhRHG"
      },
      "source": [
        "df['item_cnt_unclipped'] = df['item_cnt']\r\n",
        "df['item_cnt'] = df['item_cnt'].clip(0, 20)"
      ],
      "execution_count": 41,
      "outputs": []
    },
    {
      "cell_type": "code",
      "metadata": {
        "id": "zqZWhEC4hRJs"
      },
      "source": [
        "def downcast(df):\r\n",
        "    #reduce size of the dataframe\r\n",
        "    float_cols = [c for c in df if df[c].dtype in [\"float64\"]]\r\n",
        "    int_cols = [c for c in df if df[c].dtype in ['int64']]\r\n",
        "    df[float_cols] = df[float_cols].astype('float32')\r\n",
        "    df[int_cols] = df[int_cols].astype('int16')\r\n",
        "    return df\r\n",
        "df = downcast(df)"
      ],
      "execution_count": 42,
      "outputs": []
    },
    {
      "cell_type": "code",
      "metadata": {
        "id": "Ot4sYA6whdWv"
      },
      "source": [
        "df['item_age'] = (df['date_block_num'] - df.groupby('item_id')['date_block_num'].transform('min')).astype('int8')\r\n",
        "df['item_name_first4_age'] = (df['date_block_num'] - df.groupby('item_name_first4')['date_block_num'].transform('min')).astype('int8')\r\n",
        "df['item_name_first6_age'] = (df['date_block_num'] - df.groupby('item_name_first6')['date_block_num'].transform('min')).astype('int8')\r\n",
        "df['item_name_first11_age'] = (df['date_block_num'] - df.groupby('item_name_first11')['date_block_num'].transform('min')).astype('int8')\r\n",
        "df['category_age'] = (df['date_block_num'] - df.groupby('item_category_id')['date_block_num'].transform('min')).astype('int8')\r\n",
        "df['group_age'] = (df['date_block_num'] - df.groupby('type_id')['date_block_num'].transform('min')).astype('int8')\r\n",
        "df['shop_age'] = (df['date_block_num'] - df.groupby('shop_id')['date_block_num'].transform('min')).astype('int8')"
      ],
      "execution_count": 43,
      "outputs": []
    },
    {
      "cell_type": "code",
      "metadata": {
        "id": "FsIFB8R8hdZY"
      },
      "source": [
        "#indicates whether shops have previously sold the item\r\n",
        "temp = df.query('item_cnt > 0').groupby(['item_id','shop_id']).agg({'date_block_num':'min'}).reset_index()\r\n",
        "temp.columns = ['item_id', 'shop_id', 'item_shop_first_sale']\r\n",
        "df = pd.merge(df, temp, on=['item_id','shop_id'], how='left')\r\n",
        "df['item_shop_first_sale'] = df['item_shop_first_sale'].fillna(50)\r\n",
        "#item age that stays at 0 if a shop hasn't sold the item\r\n",
        "df['item_age_if_shop_sale'] = (df['date_block_num'] > df['item_shop_first_sale']) * df['item_age']\r\n",
        "#the length of time an item has been for sale without being sold at individual shops\r\n",
        "df['item_age_without_shop_sale'] = (df['date_block_num'] <= df['item_shop_first_sale']) * df['item_age']\r\n",
        "del df['item_shop_first_sale']"
      ],
      "execution_count": 44,
      "outputs": []
    },
    {
      "cell_type": "code",
      "metadata": {
        "id": "cEBBl7lEhhq8"
      },
      "source": [
        "def agg_cnt_col(df, merging_cols, new_col,aggregation):\r\n",
        "    temp = df.groupby(merging_cols).agg(aggregation).reset_index()\r\n",
        "    temp.columns = merging_cols + [new_col]\r\n",
        "    df = pd.merge(df, temp, on=merging_cols, how='left')\r\n",
        "    return df\r\n",
        "\r\n",
        "#individual items across all shops\r\n",
        "df = agg_cnt_col(df, ['date_block_num','item_id'],'item_cnt_all_shops',{'item_cnt':'mean'})\r\n",
        "df = agg_cnt_col(df, ['date_block_num','item_category_id','shop_id'],'item_cnt_all_shops_median',{'item_cnt':'median'}) \r\n",
        "#all items in category at individual shops\r\n",
        "df = agg_cnt_col(df, ['date_block_num','item_category_id','shop_id'],'category_cnt',{'item_cnt':'mean'})\r\n",
        "df = agg_cnt_col(df, ['date_block_num','item_category_id','shop_id'],'category_cnt_median',{'item_cnt':'median'}) \r\n",
        "#all items in category across all shops\r\n",
        "df = agg_cnt_col(df, ['date_block_num','item_category_id'],'category_cnt_all_shops',{'item_cnt':'mean'})\r\n",
        "df = agg_cnt_col(df, ['date_block_num','item_category_id'],'category_cnt_all_shops_median',{'item_cnt':'median'})\r\n",
        "#all items in group\r\n",
        "df = agg_cnt_col(df, ['date_block_num','type_id','shop_id'],'group_cnt',{'item_cnt':'mean'})\r\n",
        "#all items in group across all shops\r\n",
        "df = agg_cnt_col(df, ['date_block_num','type_id'],'group_cnt_all_shops',{'item_cnt':'mean'})\r\n",
        "#all items at individual shops\r\n",
        "df = agg_cnt_col(df, ['date_block_num','shop_id'],'shop_cnt',{'item_cnt':'mean'})\r\n",
        "#all items at all shops within the city\r\n",
        "df = agg_cnt_col(df, ['date_block_num','shop_city'],'city_cnt',{'item_cnt':'mean'})"
      ],
      "execution_count": 45,
      "outputs": []
    },
    {
      "cell_type": "code",
      "metadata": {
        "id": "rBtZ9SychhxY"
      },
      "source": [
        "def new_item_sales(df, merging_cols, new_col):\r\n",
        "    temp = (\r\n",
        "        df\r\n",
        "        .query('item_age==0')\r\n",
        "        .groupby(merging_cols)['item_cnt']\r\n",
        "        .mean()\r\n",
        "        .reset_index()\r\n",
        "        .rename(columns={'item_cnt': new_col})\r\n",
        "    )\r\n",
        "    df = pd.merge(df, temp, on=merging_cols, how='left')\r\n",
        "    return df\r\n",
        "\r\n",
        "#mean units sold of new item in category at individual shop\r\n",
        "df = new_item_sales(df, ['date_block_num','item_category_id','shop_id'], 'new_items_in_cat')\r\n",
        "#mean units sold of new item in category across all shops\r\n",
        "df = new_item_sales(df, ['date_block_num','item_category_id'], 'new_items_in_cat_all_shops')"
      ],
      "execution_count": 46,
      "outputs": []
    },
    {
      "cell_type": "code",
      "metadata": {
        "id": "DLHi5oDzhh00"
      },
      "source": [
        "def agg_price_col(df, merging_cols, new_col):\r\n",
        "    temp = df.groupby(merging_cols).agg({'revenue':'sum','item_cnt_unclipped':'sum'}).reset_index()\r\n",
        "    temp[new_col] = temp['revenue']/temp['item_cnt_unclipped']\r\n",
        "    temp = temp[merging_cols + [new_col]]\r\n",
        "    df = pd.merge(df, temp, on=merging_cols, how='left')\r\n",
        "    return df\r\n",
        "\r\n",
        "#average item price\r\n",
        "df = agg_price_col(df,['date_block_num','item_id'],'item_price')\r\n",
        "#average price of items in category\r\n",
        "df = agg_price_col(df,['date_block_num','item_category_id'],'category_price')\r\n",
        "#average price of all items\r\n",
        "df = agg_price_col(df,['date_block_num'],'block_price')"
      ],
      "execution_count": 47,
      "outputs": []
    },
    {
      "cell_type": "code",
      "metadata": {
        "id": "n_tkGGMzhnx3"
      },
      "source": [
        "df = downcast(df)"
      ],
      "execution_count": 48,
      "outputs": []
    },
    {
      "cell_type": "markdown",
      "metadata": {
        "id": "XuivuFHshpvu"
      },
      "source": [
        "Lagging values & features that use prior information"
      ]
    },
    {
      "cell_type": "code",
      "metadata": {
        "id": "cC-AJSOdhn2x"
      },
      "source": [
        "def lag_feature(df, lag, col, merge_cols):        \r\n",
        "    temp = df[merge_cols + [col]]\r\n",
        "    temp = temp.groupby(merge_cols).agg({f'{col}':'first'}).reset_index()\r\n",
        "    temp.columns = merge_cols + [f'{col}_lag{lag}']\r\n",
        "    temp['date_block_num'] += lag\r\n",
        "    df = pd.merge(df, temp, on=merge_cols, how='left')\r\n",
        "    df[f'{col}_lag{lag}'] = df[f'{col}_lag{lag}'].fillna(0).astype('float32')\r\n",
        "    return df"
      ],
      "execution_count": 49,
      "outputs": []
    },
    {
      "cell_type": "code",
      "metadata": {
        "id": "uantunUyhn7f"
      },
      "source": [
        "lag12_cols = {\r\n",
        "    'item_cnt':['date_block_num', 'shop_id', 'item_id'],\r\n",
        "    'item_cnt_all_shops':['date_block_num', 'item_id'],\r\n",
        "    'category_cnt':['date_block_num', 'shop_id', 'item_category_id'],\r\n",
        "    'category_cnt_all_shops':['date_block_num', 'item_category_id'],\r\n",
        "    'group_cnt':['date_block_num', 'shop_id', 'type_id'],\r\n",
        "    'group_cnt_all_shops':['date_block_num', 'type_id'],\r\n",
        "    'shop_cnt':['date_block_num', 'shop_id'],\r\n",
        "    'city_cnt':['date_block_num', 'shop_city'],\r\n",
        "    'new_items_in_cat':['date_block_num', 'shop_id', 'item_category_id'],\r\n",
        "    'new_items_in_cat_all_shops':['date_block_num', 'item_category_id']\r\n",
        "}\r\n",
        "for col,merge_cols in lag12_cols.items():\r\n",
        "    df[f'{col}_lag1to12'] = 0\r\n",
        "    for i in range(1,13):\r\n",
        "        df = lag_feature(df, i, col, merge_cols)\r\n",
        "        df[f'{col}_lag1to12'] += df[f'{col}_lag{i}']\r\n",
        "        if i > 2:\r\n",
        "            del df[f'{col}_lag{i}']\r\n",
        "    if col == 'item_cnt':\r\n",
        "        del df[f'{col}_lag1']\r\n",
        "        del df[f'{col}_lag2']        \r\n",
        "    else:\r\n",
        "        del df[col]"
      ],
      "execution_count": 50,
      "outputs": []
    },
    {
      "cell_type": "code",
      "metadata": {
        "id": "bl8rWF4nhzi8"
      },
      "source": [
        "lag2_cols = {\r\n",
        "    'item_cnt_unclipped':['date_block_num', 'shop_id', 'item_id'],\r\n",
        "    'item_cnt_all_shops_median':['date_block_num', 'item_id'],\r\n",
        "    'category_cnt_median':['date_block_num', 'shop_id', 'category_id'],\r\n",
        "    'category_cnt_all_shops_median':['date_block_num', 'category_id']\r\n",
        "}\r\n",
        "for col in lag2_cols:\r\n",
        "    df = lag_feature(df, 1, col, merge_cols)\r\n",
        "    df = lag_feature(df, 2, col, merge_cols)\r\n",
        "    if col!='item_cnt_unclipped':\r\n",
        "        del df[col]"
      ],
      "execution_count": 51,
      "outputs": []
    },
    {
      "cell_type": "code",
      "metadata": {
        "id": "A_PSEqHthzmj"
      },
      "source": [
        "df['item_cnt_diff'] = df['item_cnt_unclipped_lag1']/df['item_cnt_lag1to12']\r\n",
        "df['item_cnt_all_shops_diff'] = df['item_cnt_all_shops_lag1']/df['item_cnt_all_shops_lag1to12']\r\n",
        "df['category_cnt_diff'] = df['category_cnt_lag1']/df['category_cnt_lag1to12']\r\n",
        "df['category_cnt_all_shops_diff'] = df['category_cnt_all_shops_lag1']/df['category_cnt_all_shops_lag1to12']"
      ],
      "execution_count": 52,
      "outputs": []
    },
    {
      "cell_type": "code",
      "metadata": {
        "id": "ZJkFpeDNhzrA"
      },
      "source": [
        "df = lag_feature(df, 1, 'category_price',['date_block_num', 'item_category_id'])\r\n",
        "df = lag_feature(df, 1, 'block_price',['date_block_num'])\r\n",
        "del df['category_price'], df['block_price']"
      ],
      "execution_count": 53,
      "outputs": []
    },
    {
      "cell_type": "code",
      "metadata": {
        "id": "zkIkFl2vh4Qr"
      },
      "source": [
        "df.loc[(df['item_age']>0) & (df['item_cnt_lag1to12'].isna()), 'item_cnt_lag1to12'] = 0\r\n",
        "df.loc[(df['category_age']>0) & (df['category_cnt_lag1to12'].isna()), 'category_cnt_lag1to12'] = 0\r\n",
        "df.loc[(df['group_age']>0) & (df['group_cnt_lag1to12'].isna()), 'group_cnt_lag1to12'] = 0"
      ],
      "execution_count": 54,
      "outputs": []
    },
    {
      "cell_type": "code",
      "metadata": {
        "id": "q1O02tCgh4UD"
      },
      "source": [
        "df['item_cnt_lag1to12'] /= [min(idx) for idx in zip(df['item_age'],df['shop_age'],[12]*len(df))]\r\n",
        "df['item_cnt_all_shops_lag1to12'] /= [min(idx) for idx in zip(df['item_age'],[12]*len(df))]\r\n",
        "df['category_cnt_lag1to12'] /= [min(idx) for idx in zip(df['category_age'],df['shop_age'],[12]*len(df))]\r\n",
        "df['category_cnt_all_shops_lag1to12'] /= [min(idx) for idx in zip(df['category_age'],[12]*len(df))]\r\n",
        "df['group_cnt_lag1to12'] /= [min(idx) for idx in zip(df['group_age'],df['shop_age'],[12]*len(df))]\r\n",
        "df['group_cnt_all_shops_lag1to12'] /= [min(idx) for idx in zip(df['group_age'],[12]*len(df))]\r\n",
        "df['city_cnt_lag1to12'] /= [min(idx) for idx in zip(df['date_block_num'],[12]*len(df))]\r\n",
        "df['shop_cnt_lag1to12'] /= [min(idx) for idx in zip(df['shop_age'],[12]*len(df))]\r\n",
        "df['new_items_in_cat_lag1to12'] /= [min(idx) for idx in zip(df['category_age'],df['shop_age'],[12]*len(df))]\r\n",
        "df['new_items_in_cat_all_shops_lag1to12'] /= [min(idx) for idx in zip(df['category_age'],[12]*len(df))]"
      ],
      "execution_count": 55,
      "outputs": []
    },
    {
      "cell_type": "code",
      "metadata": {
        "id": "p6bN9hHth4Y3"
      },
      "source": [
        "df = downcast(df)"
      ],
      "execution_count": 56,
      "outputs": []
    },
    {
      "cell_type": "code",
      "metadata": {
        "id": "XpVAla1Ph4d4"
      },
      "source": [
        "def past_information(df, merging_cols, new_col, aggregation):\r\n",
        "    temp = []\r\n",
        "    for i in range(1,35):\r\n",
        "        block = df.query(f'date_block_num < {i}').groupby(merging_cols).agg(aggregation).reset_index()\r\n",
        "        block.columns = merging_cols + [new_col]\r\n",
        "        block['date_block_num'] = i\r\n",
        "        block = block[block[new_col]>0]\r\n",
        "        temp.append(block)\r\n",
        "    temp = pd.concat(temp)\r\n",
        "    df = pd.merge(df, temp, on=['date_block_num']+merging_cols, how='left')\r\n",
        "    return df\r\n",
        "\r\n",
        "#average item price in latest block item was sold\r\n",
        "df = past_information(df, ['item_id'],'last_item_price',{'item_price':'last'})\r\n",
        "#total units of item sold at individual shop\r\n",
        "df = past_information(df, ['shop_id','item_id'],'item_cnt_sum_alltime',{'item_cnt':'sum'})\r\n",
        "#total units of item sold at all shops\r\n",
        "df = past_information(df, ['item_id'],'item_cnt_sum_alltime_allshops',{'item_cnt':'sum'})\r\n",
        "\r\n",
        "#these columns are no longer needed, and would cause data leakage if retained\r\n",
        "del df['revenue'], df['item_cnt_unclipped'], df['item_price']"
      ],
      "execution_count": 57,
      "outputs": []
    },
    {
      "cell_type": "code",
      "metadata": {
        "id": "hvrRGIyeiBNd"
      },
      "source": [
        "df['relative_price_item_block_lag1'] = df['last_item_price']/df['block_price_lag1']"
      ],
      "execution_count": 58,
      "outputs": []
    },
    {
      "cell_type": "code",
      "metadata": {
        "id": "hYwSWIvziBRJ"
      },
      "source": [
        "df['item_cnt_per_day_alltime'] = (df['item_cnt_sum_alltime']/df['prev_days_on_sale']).fillna(0)\r\n",
        "df['item_cnt_per_day_alltime_allshops'] = (df['item_cnt_sum_alltime_allshops']/df['prev_days_on_sale']).fillna(0)"
      ],
      "execution_count": 59,
      "outputs": []
    },
    {
      "cell_type": "code",
      "metadata": {
        "id": "YaMwOy_7iEOF"
      },
      "source": [
        "import gc\r\n",
        "gc.collect()\r\n",
        "df = downcast(df)"
      ],
      "execution_count": 60,
      "outputs": []
    },
    {
      "cell_type": "code",
      "metadata": {
        "id": "kMVC_syPiERC"
      },
      "source": [
        "def matching_name_cat_age(df,n,all_shops):\r\n",
        "    temp_cols = [f'same_name{n}catage_cnt','date_block_num', f'item_name_first{n}','item_age','item_category_id']\r\n",
        "    if all_shops:\r\n",
        "        temp_cols[0] += '_all_shops'\r\n",
        "    else:\r\n",
        "        temp_cols += ['shop_id']\r\n",
        "    temp = []\r\n",
        "    for i in range(1,35):\r\n",
        "        block = (\r\n",
        "            df\r\n",
        "            .query(f'date_block_num < {i}')\r\n",
        "            .groupby(temp_cols[2:])\r\n",
        "            .agg({'item_cnt':'mean'})\r\n",
        "            .reset_index()\r\n",
        "            .rename(columns={'item_cnt':temp_cols[0]})\r\n",
        "        )\r\n",
        "        block = block[block[temp_cols[0]]>0]\r\n",
        "        block['date_block_num'] = i\r\n",
        "        temp.append(block)\r\n",
        "    temp = pd.concat(temp)\r\n",
        "    df = pd.merge(df, temp, on=temp_cols[1:], how='left')\r\n",
        "    return df\r\n",
        "\r\n",
        "for n in [4,6,11]:\r\n",
        "    for all_shops in [True,False]:\r\n",
        "        df = matching_name_cat_age(df,n,all_shops)"
      ],
      "execution_count": 61,
      "outputs": []
    },
    {
      "cell_type": "code",
      "metadata": {
        "id": "kChEV7kziEUz"
      },
      "source": [
        "#assign appropriate datatypes\r\n",
        "df = downcast(df)\r\n",
        "int8_cols = [\r\n",
        "    'item_cnt','month','type_id','shop_type',\r\n",
        "    'shop_city','shop_id','date_block_num','item_category_id',\r\n",
        "    'item_age',\r\n",
        "]\r\n",
        "int16_cols = [\r\n",
        "    'item_id','item_name_first4',\r\n",
        "    'item_name_first6','item_name_first11'\r\n",
        "]\r\n",
        "for col in int8_cols:\r\n",
        "    df[col] = df[col].astype('int8')\r\n",
        "for col in int16_cols:\r\n",
        "    df[col] = df[col].astype('int16')"
      ],
      "execution_count": 62,
      "outputs": []
    },
    {
      "cell_type": "code",
      "metadata": {
        "colab": {
          "base_uri": "https://localhost:8080/"
        },
        "id": "nBIvBTejiKj-",
        "outputId": "6c751835-e908-4bbe-c7e9-0e98b1957664"
      },
      "source": [
        "def nearby_item_data(df,col):\r\n",
        "    if col in ['item_cnt_unclipped_lag1','item_cnt_lag1to12']:\r\n",
        "        cols = ['date_block_num', 'shop_id', 'item_id']\r\n",
        "        temp = df[cols + [col]] \r\n",
        "    else:\r\n",
        "        cols = ['date_block_num', 'item_id']\r\n",
        "        temp = df.groupby(cols).agg({col:'first'}).reset_index()[cols + [col]]   \r\n",
        "    \r\n",
        "    temp.columns = cols + [f'below_{col}']\r\n",
        "    temp['item_id'] += 1\r\n",
        "    df = pd.merge(df, temp, on=cols, how='left')\r\n",
        "    \r\n",
        "    temp.columns = cols + [f'above_{col}']\r\n",
        "    temp['item_id'] -= 2\r\n",
        "    df = pd.merge(df, temp, on=cols, how='left')\r\n",
        "    \r\n",
        "    return df\r\n",
        "\r\n",
        "item_cols = ['item_cnt_unclipped_lag1','item_cnt_lag1to12',\r\n",
        "             'item_cnt_all_shops_lag1','item_cnt_all_shops_lag1to12']\r\n",
        "for col in item_cols:\r\n",
        "    df = nearby_item_data(df,col)\r\n",
        "    \r\n",
        "del temp"
      ],
      "execution_count": 63,
      "outputs": [
        {
          "output_type": "stream",
          "text": [
            "/usr/local/lib/python3.7/dist-packages/ipykernel_launcher.py:10: SettingWithCopyWarning: \n",
            "A value is trying to be set on a copy of a slice from a DataFrame.\n",
            "Try using .loc[row_indexer,col_indexer] = value instead\n",
            "\n",
            "See the caveats in the documentation: https://pandas.pydata.org/pandas-docs/stable/user_guide/indexing.html#returning-a-view-versus-a-copy\n",
            "  # Remove the CWD from sys.path while we load stuff.\n",
            "/usr/local/lib/python3.7/dist-packages/ipykernel_launcher.py:14: SettingWithCopyWarning: \n",
            "A value is trying to be set on a copy of a slice from a DataFrame.\n",
            "Try using .loc[row_indexer,col_indexer] = value instead\n",
            "\n",
            "See the caveats in the documentation: https://pandas.pydata.org/pandas-docs/stable/user_guide/indexing.html#returning-a-view-versus-a-copy\n",
            "  \n"
          ],
          "name": "stderr"
        }
      ]
    },
    {
      "cell_type": "markdown",
      "metadata": {
        "id": "vYVUiEtYiN34"
      },
      "source": [
        "encoding name information"
      ]
    },
    {
      "cell_type": "code",
      "metadata": {
        "id": "NajZHVMuiKpt"
      },
      "source": [
        "results = Counter()\r\n",
        "items['item_name'].str.split().apply(results.update)\r\n",
        "\r\n",
        "words = []\r\n",
        "cnts = []\r\n",
        "for key, value in results.items():\r\n",
        "    words.append(key)\r\n",
        "    cnts.append(value)\r\n",
        "    \r\n",
        "counts = pd.DataFrame({'word':words,'count':cnts})\r\n",
        "common_words = counts.query('count>200').word.to_list()\r\n",
        "for word in common_words:\r\n",
        "    items[f'{word}_in_name'] = items['item_name'].str.contains(word).astype('int8')\r\n",
        "drop_cols = [\r\n",
        "    'item_id','item_category_id','item_name','item_name_first4',\r\n",
        "    'item_name_first6','item_name_first11',\r\n",
        "    'type_id'\r\n",
        "]\r\n",
        "items = items.drop(columns=drop_cols)"
      ],
      "execution_count": 64,
      "outputs": []
    },
    {
      "cell_type": "code",
      "metadata": {
        "id": "RTnJ53pXiKt6"
      },
      "source": [
        "df = df.join(items, on='item_id')"
      ],
      "execution_count": 65,
      "outputs": []
    },
    {
      "cell_type": "code",
      "metadata": {
        "colab": {
          "base_uri": "https://localhost:8080/"
        },
        "id": "V4cu0R-miR_i",
        "outputId": "7a5a4f47-c674-4175-bddd-e84c2d65d811"
      },
      "source": [
        "def binary_encode(df, letters, cols):\r\n",
        "    encoder = ce.BinaryEncoder(cols=[f'item_name_first{letters}'], return_df=True)\r\n",
        "    temp = encoder.fit_transform(df[f'item_name_first{letters}'])\r\n",
        "    df = pd.concat([df,temp], axis=1)\r\n",
        "    del df[f'item_name_first{letters}_0']\r\n",
        "    name_cols = [f'item_name_first{letters}_{x}' for x in range(1,cols)]\r\n",
        "    df[name_cols] = df[name_cols].astype('int8')\r\n",
        "    return df\r\n",
        "\r\n",
        "df = binary_encode(df, 11, 15)\r\n",
        "    \r\n",
        "del df['item_name_first4'], df['item_name_first6']"
      ],
      "execution_count": 66,
      "outputs": [
        {
          "output_type": "stream",
          "text": [
            "/usr/local/lib/python3.7/dist-packages/category_encoders/utils.py:21: FutureWarning: is_categorical is deprecated and will be removed in a future version.  Use is_categorical_dtype instead\n",
            "  elif pd.api.types.is_categorical(cols):\n"
          ],
          "name": "stderr"
        }
      ]
    },
    {
      "cell_type": "code",
      "metadata": {
        "id": "8041uECIiSCS"
      },
      "source": [
        "#save dataframe for later use\r\n",
        "df.to_pickle('df_complete.pkl')\r\n",
        "#Reset the kernel to clear memory.\r\n",
        "%reset -f"
      ],
      "execution_count": 67,
      "outputs": []
    },
    {
      "cell_type": "markdown",
      "metadata": {
        "id": "efSm071iiY7t"
      },
      "source": [
        "# Modeling"
      ]
    },
    {
      "cell_type": "code",
      "metadata": {
        "id": "ZXPxSSs0iSHb"
      },
      "source": [
        "import pandas as pd\r\n",
        "import numpy as np\r\n",
        "import lightgbm as lgb\r\n",
        "from plotly.subplots import make_subplots\r\n",
        "import plotly.graph_objects as go\r\n",
        "\r\n",
        "pd.set_option('display.max_rows', 160)\r\n",
        "pd.set_option('display.max_columns', 160)\r\n",
        "pd.set_option('display.max_colwidth', 30)\r\n",
        "\r\n",
        "import warnings\r\n",
        "warnings.filterwarnings(\"ignore\")"
      ],
      "execution_count": 68,
      "outputs": []
    },
    {
      "cell_type": "code",
      "metadata": {
        "id": "2b4ghAZjiv82"
      },
      "source": [
        "#load the saved training dataframe\r\n",
        "df = pd.read_pickle('df_complete.pkl')\r\n",
        "\r\n",
        "X_train = df[~df.date_block_num.isin([0,1,33,34])]\r\n",
        "y_train = X_train['item_cnt']\r\n",
        "del X_train['item_cnt']\r\n",
        "\r\n",
        "X_val = df[df['date_block_num']==33]\r\n",
        "y_val = X_val['item_cnt']\r\n",
        "del X_val['item_cnt']\r\n",
        "\r\n",
        "X_test = df[df['date_block_num']==34].drop(columns='item_cnt')\r\n",
        "X_test = X_test.reset_index()\r\n",
        "del X_test['index']\r\n",
        "\r\n",
        "#free memory\r\n",
        "del df"
      ],
      "execution_count": 69,
      "outputs": []
    },
    {
      "cell_type": "code",
      "metadata": {
        "colab": {
          "base_uri": "https://localhost:8080/"
        },
        "id": "5PsHAcaGiwHb",
        "outputId": "f85bab0f-bfa6-478f-c477-d4a8c896d733"
      },
      "source": [
        "!pip install optuna"
      ],
      "execution_count": 70,
      "outputs": [
        {
          "output_type": "stream",
          "text": [
            "Requirement already satisfied: optuna in /usr/local/lib/python3.7/dist-packages (2.6.0)\n",
            "Requirement already satisfied: packaging>=20.0 in /usr/local/lib/python3.7/dist-packages (from optuna) (20.9)\n",
            "Requirement already satisfied: numpy<1.20.0 in /usr/local/lib/python3.7/dist-packages (from optuna) (1.19.5)\n",
            "Requirement already satisfied: alembic in /usr/local/lib/python3.7/dist-packages (from optuna) (1.5.6)\n",
            "Requirement already satisfied: cliff in /usr/local/lib/python3.7/dist-packages (from optuna) (3.7.0)\n",
            "Requirement already satisfied: sqlalchemy>=1.1.0 in /usr/local/lib/python3.7/dist-packages (from optuna) (1.3.23)\n",
            "Requirement already satisfied: tqdm in /usr/local/lib/python3.7/dist-packages (from optuna) (4.41.1)\n",
            "Requirement already satisfied: scipy!=1.4.0 in /usr/local/lib/python3.7/dist-packages (from optuna) (1.4.1)\n",
            "Requirement already satisfied: cmaes>=0.8.2 in /usr/local/lib/python3.7/dist-packages (from optuna) (0.8.2)\n",
            "Requirement already satisfied: colorlog in /usr/local/lib/python3.7/dist-packages (from optuna) (4.7.2)\n",
            "Requirement already satisfied: pyparsing>=2.0.2 in /usr/local/lib/python3.7/dist-packages (from packaging>=20.0->optuna) (2.4.7)\n",
            "Requirement already satisfied: python-dateutil in /usr/local/lib/python3.7/dist-packages (from alembic->optuna) (2.8.1)\n",
            "Requirement already satisfied: python-editor>=0.3 in /usr/local/lib/python3.7/dist-packages (from alembic->optuna) (1.0.4)\n",
            "Requirement already satisfied: Mako in /usr/local/lib/python3.7/dist-packages (from alembic->optuna) (1.1.4)\n",
            "Requirement already satisfied: PyYAML>=3.12 in /usr/local/lib/python3.7/dist-packages (from cliff->optuna) (3.13)\n",
            "Requirement already satisfied: PrettyTable>=0.7.2 in /usr/local/lib/python3.7/dist-packages (from cliff->optuna) (2.1.0)\n",
            "Requirement already satisfied: cmd2>=1.0.0 in /usr/local/lib/python3.7/dist-packages (from cliff->optuna) (1.5.0)\n",
            "Requirement already satisfied: pbr!=2.1.0,>=2.0.0 in /usr/local/lib/python3.7/dist-packages (from cliff->optuna) (5.5.1)\n",
            "Requirement already satisfied: stevedore>=2.0.1 in /usr/local/lib/python3.7/dist-packages (from cliff->optuna) (3.3.0)\n",
            "Requirement already satisfied: six>=1.5 in /usr/local/lib/python3.7/dist-packages (from python-dateutil->alembic->optuna) (1.15.0)\n",
            "Requirement already satisfied: MarkupSafe>=0.9.2 in /usr/local/lib/python3.7/dist-packages (from Mako->alembic->optuna) (1.1.1)\n",
            "Requirement already satisfied: wcwidth in /usr/local/lib/python3.7/dist-packages (from PrettyTable>=0.7.2->cliff->optuna) (0.2.5)\n",
            "Requirement already satisfied: importlib-metadata; python_version < \"3.8\" in /usr/local/lib/python3.7/dist-packages (from PrettyTable>=0.7.2->cliff->optuna) (3.7.0)\n",
            "Requirement already satisfied: attrs>=16.3.0 in /usr/local/lib/python3.7/dist-packages (from cmd2>=1.0.0->cliff->optuna) (20.3.0)\n",
            "Requirement already satisfied: pyperclip>=1.6 in /usr/local/lib/python3.7/dist-packages (from cmd2>=1.0.0->cliff->optuna) (1.8.2)\n",
            "Requirement already satisfied: colorama>=0.3.7 in /usr/local/lib/python3.7/dist-packages (from cmd2>=1.0.0->cliff->optuna) (0.4.4)\n",
            "Requirement already satisfied: typing-extensions>=3.6.4; python_version < \"3.8\" in /usr/local/lib/python3.7/dist-packages (from importlib-metadata; python_version < \"3.8\"->PrettyTable>=0.7.2->cliff->optuna) (3.7.4.3)\n",
            "Requirement already satisfied: zipp>=0.5 in /usr/local/lib/python3.7/dist-packages (from importlib-metadata; python_version < \"3.8\"->PrettyTable>=0.7.2->cliff->optuna) (3.4.1)\n"
          ],
          "name": "stdout"
        }
      ]
    },
    {
      "cell_type": "code",
      "metadata": {
        "id": "rN8EtvZOi7rB"
      },
      "source": [
        "import optuna\r\n",
        "from optuna import Trial, visualization\r\n",
        "from optuna.samplers import TPESampler"
      ],
      "execution_count": 71,
      "outputs": []
    },
    {
      "cell_type": "code",
      "metadata": {
        "id": "ONJxdQPNi7vI"
      },
      "source": [
        "lgb_train = lgb.Dataset(X_train, y_train)\r\n",
        "lgb_eval  = lgb.Dataset(X_val, y_val, reference=lgb_train)"
      ],
      "execution_count": 72,
      "outputs": []
    },
    {
      "cell_type": "code",
      "metadata": {
        "id": "Qzs-9kQ3i-u_"
      },
      "source": [
        "def objective(trial):\r\n",
        "\r\n",
        "    # choose parameters that you want\r\n",
        "    \r\n",
        "    param = {\r\n",
        "        \"objective\": \"regression\",\r\n",
        "        \"metric\": \"rmse\",\r\n",
        "        \"verbosity\": -1,\r\n",
        "        \"boosting_type\": \"gbdt\",\r\n",
        "        \"lambda_l1\": trial.suggest_float(\"lambda_l1\", 1e-8, 10.0, log=True),\r\n",
        "        \"lambda_l2\": trial.suggest_float(\"lambda_l2\", 1e-8, 10.0, log=True),\r\n",
        "        \"num_leaves\": trial.suggest_int(\"num_leaves\", 2, 256),\r\n",
        "        \"feature_fraction\": trial.suggest_float(\"feature_fraction\", 0.4, 1.0),\r\n",
        "        \"bagging_fraction\": trial.suggest_float(\"bagging_fraction\", 0.4, 1.0),\r\n",
        "        \"bagging_freq\": trial.suggest_int(\"bagging_freq\", 1, 7),\r\n",
        "        \"min_child_samples\": trial.suggest_int(\"min_child_samples\", 5, 100),\r\n",
        "    }\r\n",
        "\r\n",
        "    model = lgb.train(param, \r\n",
        "                      lgb_train,\r\n",
        "                      valid_sets=[lgb_train,lgb_eval],\r\n",
        "                      early_stopping_rounds=15, #10,\r\n",
        "                      verbose_eval=1)\r\n",
        "    \r\n",
        "    y_pred = model.predict(X_val)\r\n",
        "    accuracy = mean_squared_error(y_val, y_pred,squared=False)\r\n",
        "\r\n",
        "    return accuracy"
      ],
      "execution_count": 73,
      "outputs": []
    },
    {
      "cell_type": "code",
      "metadata": {
        "colab": {
          "base_uri": "https://localhost:8080/"
        },
        "id": "qkQTi0DCi-2b",
        "outputId": "d7a299ab-814e-4e39-fd33-f154636e5036"
      },
      "source": [
        "from sklearn.metrics import mean_squared_error\r\n",
        "\r\n",
        "study = optuna.create_study(direction='minimize')\r\n",
        "study.optimize(objective, n_trials=5)\r\n",
        " \r\n",
        "print('Number of finished trials:', len(study.trials))\r\n",
        "print('Best trial:', study.best_trial.params)"
      ],
      "execution_count": 75,
      "outputs": [
        {
          "output_type": "stream",
          "text": [
            "\u001b[32m[I 2021-03-09 18:07:49,214]\u001b[0m A new study created in memory with name: no-name-1533e947-da92-43e8-a0ff-22d900b384db\u001b[0m\n"
          ],
          "name": "stderr"
        },
        {
          "output_type": "stream",
          "text": [
            "[1]\ttraining's rmse: 1.1898\tvalid_1's rmse: 1.03429\n",
            "Training until validation scores don't improve for 15 rounds.\n",
            "[2]\ttraining's rmse: 1.1404\tvalid_1's rmse: 0.993885\n",
            "[3]\ttraining's rmse: 1.09743\tvalid_1's rmse: 0.962671\n",
            "[4]\ttraining's rmse: 1.05946\tvalid_1's rmse: 0.930012\n",
            "[5]\ttraining's rmse: 1.02698\tvalid_1's rmse: 0.903287\n",
            "[6]\ttraining's rmse: 0.998309\tvalid_1's rmse: 0.88061\n",
            "[7]\ttraining's rmse: 0.976497\tvalid_1's rmse: 0.863158\n",
            "[8]\ttraining's rmse: 0.95525\tvalid_1's rmse: 0.847942\n",
            "[9]\ttraining's rmse: 0.936493\tvalid_1's rmse: 0.833127\n",
            "[10]\ttraining's rmse: 0.919897\tvalid_1's rmse: 0.823302\n",
            "[11]\ttraining's rmse: 0.905066\tvalid_1's rmse: 0.815077\n",
            "[12]\ttraining's rmse: 0.893006\tvalid_1's rmse: 0.806743\n",
            "[13]\ttraining's rmse: 0.882548\tvalid_1's rmse: 0.798965\n",
            "[14]\ttraining's rmse: 0.872787\tvalid_1's rmse: 0.793161\n",
            "[15]\ttraining's rmse: 0.864673\tvalid_1's rmse: 0.786518\n",
            "[16]\ttraining's rmse: 0.856852\tvalid_1's rmse: 0.782238\n",
            "[17]\ttraining's rmse: 0.850065\tvalid_1's rmse: 0.77902\n",
            "[18]\ttraining's rmse: 0.84365\tvalid_1's rmse: 0.775055\n",
            "[19]\ttraining's rmse: 0.837919\tvalid_1's rmse: 0.771599\n",
            "[20]\ttraining's rmse: 0.832455\tvalid_1's rmse: 0.768573\n",
            "[21]\ttraining's rmse: 0.82714\tvalid_1's rmse: 0.765764\n",
            "[22]\ttraining's rmse: 0.823195\tvalid_1's rmse: 0.764273\n",
            "[23]\ttraining's rmse: 0.818452\tvalid_1's rmse: 0.76325\n",
            "[24]\ttraining's rmse: 0.81497\tvalid_1's rmse: 0.762024\n",
            "[25]\ttraining's rmse: 0.812037\tvalid_1's rmse: 0.761418\n",
            "[26]\ttraining's rmse: 0.808283\tvalid_1's rmse: 0.760211\n",
            "[27]\ttraining's rmse: 0.80571\tvalid_1's rmse: 0.760969\n",
            "[28]\ttraining's rmse: 0.802984\tvalid_1's rmse: 0.760504\n",
            "[29]\ttraining's rmse: 0.800442\tvalid_1's rmse: 0.761188\n",
            "[30]\ttraining's rmse: 0.797734\tvalid_1's rmse: 0.760894\n",
            "[31]\ttraining's rmse: 0.795633\tvalid_1's rmse: 0.760858\n",
            "[32]\ttraining's rmse: 0.793761\tvalid_1's rmse: 0.760664\n",
            "[33]\ttraining's rmse: 0.791543\tvalid_1's rmse: 0.759894\n",
            "[34]\ttraining's rmse: 0.789659\tvalid_1's rmse: 0.759527\n",
            "[35]\ttraining's rmse: 0.787368\tvalid_1's rmse: 0.758683\n",
            "[36]\ttraining's rmse: 0.785448\tvalid_1's rmse: 0.758586\n",
            "[37]\ttraining's rmse: 0.783779\tvalid_1's rmse: 0.758366\n",
            "[38]\ttraining's rmse: 0.782154\tvalid_1's rmse: 0.75849\n",
            "[39]\ttraining's rmse: 0.780928\tvalid_1's rmse: 0.758797\n",
            "[40]\ttraining's rmse: 0.779481\tvalid_1's rmse: 0.758022\n",
            "[41]\ttraining's rmse: 0.77783\tvalid_1's rmse: 0.757066\n",
            "[42]\ttraining's rmse: 0.776665\tvalid_1's rmse: 0.756674\n",
            "[43]\ttraining's rmse: 0.77554\tvalid_1's rmse: 0.757037\n",
            "[44]\ttraining's rmse: 0.773771\tvalid_1's rmse: 0.756678\n",
            "[45]\ttraining's rmse: 0.772077\tvalid_1's rmse: 0.756597\n",
            "[46]\ttraining's rmse: 0.771069\tvalid_1's rmse: 0.756802\n",
            "[47]\ttraining's rmse: 0.769975\tvalid_1's rmse: 0.755978\n",
            "[48]\ttraining's rmse: 0.768818\tvalid_1's rmse: 0.756128\n",
            "[49]\ttraining's rmse: 0.767313\tvalid_1's rmse: 0.756394\n",
            "[50]\ttraining's rmse: 0.766266\tvalid_1's rmse: 0.756492\n",
            "[51]\ttraining's rmse: 0.764598\tvalid_1's rmse: 0.756453\n",
            "[52]\ttraining's rmse: 0.763578\tvalid_1's rmse: 0.756787\n",
            "[53]\ttraining's rmse: 0.762541\tvalid_1's rmse: 0.757462\n",
            "[54]\ttraining's rmse: 0.760815\tvalid_1's rmse: 0.755631\n",
            "[55]\ttraining's rmse: 0.759498\tvalid_1's rmse: 0.756823\n",
            "[56]\ttraining's rmse: 0.758511\tvalid_1's rmse: 0.756485\n",
            "[57]\ttraining's rmse: 0.756999\tvalid_1's rmse: 0.756251\n",
            "[58]\ttraining's rmse: 0.755866\tvalid_1's rmse: 0.756264\n",
            "[59]\ttraining's rmse: 0.754989\tvalid_1's rmse: 0.756334\n",
            "[60]\ttraining's rmse: 0.754184\tvalid_1's rmse: 0.756871\n",
            "[61]\ttraining's rmse: 0.753385\tvalid_1's rmse: 0.757126\n",
            "[62]\ttraining's rmse: 0.752593\tvalid_1's rmse: 0.756828\n",
            "[63]\ttraining's rmse: 0.751488\tvalid_1's rmse: 0.756858\n",
            "[64]\ttraining's rmse: 0.750418\tvalid_1's rmse: 0.757047\n",
            "[65]\ttraining's rmse: 0.749603\tvalid_1's rmse: 0.75676\n",
            "[66]\ttraining's rmse: 0.748988\tvalid_1's rmse: 0.756502\n",
            "[67]\ttraining's rmse: 0.748361\tvalid_1's rmse: 0.756511\n",
            "[68]\ttraining's rmse: 0.747704\tvalid_1's rmse: 0.756708\n",
            "[69]\ttraining's rmse: 0.746398\tvalid_1's rmse: 0.756907\n",
            "Early stopping, best iteration is:\n",
            "[54]\ttraining's rmse: 0.760815\tvalid_1's rmse: 0.755631\n"
          ],
          "name": "stdout"
        },
        {
          "output_type": "stream",
          "text": [
            "\u001b[32m[I 2021-03-09 18:09:12,483]\u001b[0m Trial 0 finished with value: 0.755631118720165 and parameters: {'lambda_l1': 2.6251110956893468e-08, 'lambda_l2': 3.6301168455245703e-06, 'num_leaves': 151, 'feature_fraction': 0.5789235227080344, 'bagging_fraction': 0.7184556777661023, 'bagging_freq': 3, 'min_child_samples': 96}. Best is trial 0 with value: 0.755631118720165.\u001b[0m\n"
          ],
          "name": "stderr"
        },
        {
          "output_type": "stream",
          "text": [
            "[1]\ttraining's rmse: 1.19797\tvalid_1's rmse: 1.03774\n",
            "Training until validation scores don't improve for 15 rounds.\n",
            "[2]\ttraining's rmse: 1.15508\tvalid_1's rmse: 0.999101\n",
            "[3]\ttraining's rmse: 1.11946\tvalid_1's rmse: 0.967511\n",
            "[4]\ttraining's rmse: 1.08779\tvalid_1's rmse: 0.939559\n",
            "[5]\ttraining's rmse: 1.0605\tvalid_1's rmse: 0.915354\n",
            "[6]\ttraining's rmse: 1.03682\tvalid_1's rmse: 0.893406\n",
            "[7]\ttraining's rmse: 1.01679\tvalid_1's rmse: 0.878355\n",
            "[8]\ttraining's rmse: 0.999914\tvalid_1's rmse: 0.864077\n",
            "[9]\ttraining's rmse: 0.98516\tvalid_1's rmse: 0.852678\n",
            "[10]\ttraining's rmse: 0.973026\tvalid_1's rmse: 0.842819\n",
            "[11]\ttraining's rmse: 0.962549\tvalid_1's rmse: 0.834738\n",
            "[12]\ttraining's rmse: 0.952634\tvalid_1's rmse: 0.825554\n",
            "[13]\ttraining's rmse: 0.943279\tvalid_1's rmse: 0.819276\n",
            "[14]\ttraining's rmse: 0.935239\tvalid_1's rmse: 0.813823\n",
            "[15]\ttraining's rmse: 0.928362\tvalid_1's rmse: 0.809517\n",
            "[16]\ttraining's rmse: 0.921893\tvalid_1's rmse: 0.805814\n",
            "[17]\ttraining's rmse: 0.91632\tvalid_1's rmse: 0.801742\n",
            "[18]\ttraining's rmse: 0.911544\tvalid_1's rmse: 0.798824\n",
            "[19]\ttraining's rmse: 0.907379\tvalid_1's rmse: 0.796324\n",
            "[20]\ttraining's rmse: 0.90316\tvalid_1's rmse: 0.793654\n",
            "[21]\ttraining's rmse: 0.899407\tvalid_1's rmse: 0.791822\n",
            "[22]\ttraining's rmse: 0.896293\tvalid_1's rmse: 0.790142\n",
            "[23]\ttraining's rmse: 0.892948\tvalid_1's rmse: 0.787999\n",
            "[24]\ttraining's rmse: 0.889957\tvalid_1's rmse: 0.786583\n",
            "[25]\ttraining's rmse: 0.887166\tvalid_1's rmse: 0.784853\n",
            "[26]\ttraining's rmse: 0.884887\tvalid_1's rmse: 0.783672\n",
            "[27]\ttraining's rmse: 0.882792\tvalid_1's rmse: 0.783094\n",
            "[28]\ttraining's rmse: 0.880077\tvalid_1's rmse: 0.782057\n",
            "[29]\ttraining's rmse: 0.87854\tvalid_1's rmse: 0.781727\n",
            "[30]\ttraining's rmse: 0.876761\tvalid_1's rmse: 0.781303\n",
            "[31]\ttraining's rmse: 0.874902\tvalid_1's rmse: 0.781546\n",
            "[32]\ttraining's rmse: 0.872356\tvalid_1's rmse: 0.77934\n",
            "[33]\ttraining's rmse: 0.8706\tvalid_1's rmse: 0.778632\n",
            "[34]\ttraining's rmse: 0.869181\tvalid_1's rmse: 0.777882\n",
            "[35]\ttraining's rmse: 0.867667\tvalid_1's rmse: 0.777361\n",
            "[36]\ttraining's rmse: 0.866177\tvalid_1's rmse: 0.776713\n",
            "[37]\ttraining's rmse: 0.864764\tvalid_1's rmse: 0.774832\n",
            "[38]\ttraining's rmse: 0.863384\tvalid_1's rmse: 0.774215\n",
            "[39]\ttraining's rmse: 0.86241\tvalid_1's rmse: 0.77389\n",
            "[40]\ttraining's rmse: 0.86127\tvalid_1's rmse: 0.772919\n",
            "[41]\ttraining's rmse: 0.860011\tvalid_1's rmse: 0.772872\n",
            "[42]\ttraining's rmse: 0.858896\tvalid_1's rmse: 0.772539\n",
            "[43]\ttraining's rmse: 0.857628\tvalid_1's rmse: 0.771701\n",
            "[44]\ttraining's rmse: 0.856611\tvalid_1's rmse: 0.770249\n",
            "[45]\ttraining's rmse: 0.855195\tvalid_1's rmse: 0.769438\n",
            "[46]\ttraining's rmse: 0.853947\tvalid_1's rmse: 0.768535\n",
            "[47]\ttraining's rmse: 0.852635\tvalid_1's rmse: 0.767602\n",
            "[48]\ttraining's rmse: 0.851535\tvalid_1's rmse: 0.766959\n",
            "[49]\ttraining's rmse: 0.848242\tvalid_1's rmse: 0.765915\n",
            "[50]\ttraining's rmse: 0.846815\tvalid_1's rmse: 0.764535\n",
            "[51]\ttraining's rmse: 0.845938\tvalid_1's rmse: 0.764341\n",
            "[52]\ttraining's rmse: 0.844984\tvalid_1's rmse: 0.764114\n",
            "[53]\ttraining's rmse: 0.844293\tvalid_1's rmse: 0.763836\n",
            "[54]\ttraining's rmse: 0.843371\tvalid_1's rmse: 0.762482\n",
            "[55]\ttraining's rmse: 0.842803\tvalid_1's rmse: 0.762028\n",
            "[56]\ttraining's rmse: 0.84224\tvalid_1's rmse: 0.761635\n",
            "[57]\ttraining's rmse: 0.841536\tvalid_1's rmse: 0.761387\n",
            "[58]\ttraining's rmse: 0.840606\tvalid_1's rmse: 0.761376\n",
            "[59]\ttraining's rmse: 0.839487\tvalid_1's rmse: 0.7612\n",
            "[60]\ttraining's rmse: 0.838736\tvalid_1's rmse: 0.761715\n",
            "[61]\ttraining's rmse: 0.836802\tvalid_1's rmse: 0.761599\n",
            "[62]\ttraining's rmse: 0.835873\tvalid_1's rmse: 0.761356\n",
            "[63]\ttraining's rmse: 0.834746\tvalid_1's rmse: 0.761026\n",
            "[64]\ttraining's rmse: 0.832935\tvalid_1's rmse: 0.760859\n",
            "[65]\ttraining's rmse: 0.832029\tvalid_1's rmse: 0.760293\n",
            "[66]\ttraining's rmse: 0.831466\tvalid_1's rmse: 0.760026\n",
            "[67]\ttraining's rmse: 0.830636\tvalid_1's rmse: 0.76011\n",
            "[68]\ttraining's rmse: 0.830074\tvalid_1's rmse: 0.759622\n",
            "[69]\ttraining's rmse: 0.829502\tvalid_1's rmse: 0.759761\n",
            "[70]\ttraining's rmse: 0.828412\tvalid_1's rmse: 0.75875\n",
            "[71]\ttraining's rmse: 0.827742\tvalid_1's rmse: 0.758728\n",
            "[72]\ttraining's rmse: 0.827184\tvalid_1's rmse: 0.758437\n",
            "[73]\ttraining's rmse: 0.82639\tvalid_1's rmse: 0.758627\n",
            "[74]\ttraining's rmse: 0.825872\tvalid_1's rmse: 0.758651\n",
            "[75]\ttraining's rmse: 0.825197\tvalid_1's rmse: 0.758793\n",
            "[76]\ttraining's rmse: 0.824164\tvalid_1's rmse: 0.759752\n",
            "[77]\ttraining's rmse: 0.823363\tvalid_1's rmse: 0.75969\n",
            "[78]\ttraining's rmse: 0.822029\tvalid_1's rmse: 0.759519\n",
            "[79]\ttraining's rmse: 0.821432\tvalid_1's rmse: 0.758896\n",
            "[80]\ttraining's rmse: 0.820978\tvalid_1's rmse: 0.758702\n",
            "[81]\ttraining's rmse: 0.820529\tvalid_1's rmse: 0.758073\n",
            "[82]\ttraining's rmse: 0.820135\tvalid_1's rmse: 0.758615\n",
            "[83]\ttraining's rmse: 0.818687\tvalid_1's rmse: 0.758193\n",
            "[84]\ttraining's rmse: 0.818202\tvalid_1's rmse: 0.758213\n",
            "[85]\ttraining's rmse: 0.817737\tvalid_1's rmse: 0.758045\n",
            "[86]\ttraining's rmse: 0.817322\tvalid_1's rmse: 0.757767\n",
            "[87]\ttraining's rmse: 0.816963\tvalid_1's rmse: 0.75768\n",
            "[88]\ttraining's rmse: 0.816509\tvalid_1's rmse: 0.75739\n",
            "[89]\ttraining's rmse: 0.816075\tvalid_1's rmse: 0.757217\n",
            "[90]\ttraining's rmse: 0.815705\tvalid_1's rmse: 0.757191\n",
            "[91]\ttraining's rmse: 0.81529\tvalid_1's rmse: 0.756857\n",
            "[92]\ttraining's rmse: 0.81476\tvalid_1's rmse: 0.757046\n",
            "[93]\ttraining's rmse: 0.814298\tvalid_1's rmse: 0.756793\n",
            "[94]\ttraining's rmse: 0.813935\tvalid_1's rmse: 0.756447\n",
            "[95]\ttraining's rmse: 0.812978\tvalid_1's rmse: 0.755868\n",
            "[96]\ttraining's rmse: 0.812593\tvalid_1's rmse: 0.756013\n",
            "[97]\ttraining's rmse: 0.81189\tvalid_1's rmse: 0.755923\n",
            "[98]\ttraining's rmse: 0.811467\tvalid_1's rmse: 0.756402\n",
            "[99]\ttraining's rmse: 0.811172\tvalid_1's rmse: 0.756089\n",
            "[100]\ttraining's rmse: 0.809743\tvalid_1's rmse: 0.755547\n",
            "Did not meet early stopping. Best iteration is:\n",
            "[100]\ttraining's rmse: 0.809743\tvalid_1's rmse: 0.755547\n"
          ],
          "name": "stdout"
        },
        {
          "output_type": "stream",
          "text": [
            "\u001b[32m[I 2021-03-09 18:10:56,136]\u001b[0m Trial 1 finished with value: 0.755547139266804 and parameters: {'lambda_l1': 7.839629713067307e-06, 'lambda_l2': 0.001972648618422759, 'num_leaves': 28, 'feature_fraction': 0.8675640553279816, 'bagging_fraction': 0.7433995835009533, 'bagging_freq': 5, 'min_child_samples': 99}. Best is trial 1 with value: 0.755547139266804.\u001b[0m\n"
          ],
          "name": "stderr"
        },
        {
          "output_type": "stream",
          "text": [
            "[1]\ttraining's rmse: 1.19366\tvalid_1's rmse: 1.03537\n",
            "Training until validation scores don't improve for 15 rounds.\n",
            "[2]\ttraining's rmse: 1.14845\tvalid_1's rmse: 0.99443\n",
            "[3]\ttraining's rmse: 1.10823\tvalid_1's rmse: 0.962124\n",
            "[4]\ttraining's rmse: 1.07369\tvalid_1's rmse: 0.930538\n",
            "[5]\ttraining's rmse: 1.04339\tvalid_1's rmse: 0.905385\n",
            "[6]\ttraining's rmse: 1.01793\tvalid_1's rmse: 0.882935\n",
            "[7]\ttraining's rmse: 0.997882\tvalid_1's rmse: 0.86741\n",
            "[8]\ttraining's rmse: 0.978831\tvalid_1's rmse: 0.852967\n",
            "[9]\ttraining's rmse: 0.962128\tvalid_1's rmse: 0.841078\n",
            "[10]\ttraining's rmse: 0.946789\tvalid_1's rmse: 0.832099\n",
            "[11]\ttraining's rmse: 0.933875\tvalid_1's rmse: 0.822616\n",
            "[12]\ttraining's rmse: 0.922166\tvalid_1's rmse: 0.814689\n",
            "[13]\ttraining's rmse: 0.9127\tvalid_1's rmse: 0.806932\n",
            "[14]\ttraining's rmse: 0.90366\tvalid_1's rmse: 0.801038\n",
            "[15]\ttraining's rmse: 0.895801\tvalid_1's rmse: 0.795073\n",
            "[16]\ttraining's rmse: 0.888793\tvalid_1's rmse: 0.79099\n",
            "[17]\ttraining's rmse: 0.881839\tvalid_1's rmse: 0.787322\n",
            "[18]\ttraining's rmse: 0.876109\tvalid_1's rmse: 0.784653\n",
            "[19]\ttraining's rmse: 0.870877\tvalid_1's rmse: 0.781509\n",
            "[20]\ttraining's rmse: 0.866328\tvalid_1's rmse: 0.778884\n",
            "[21]\ttraining's rmse: 0.861861\tvalid_1's rmse: 0.776997\n",
            "[22]\ttraining's rmse: 0.857856\tvalid_1's rmse: 0.772878\n",
            "[23]\ttraining's rmse: 0.853644\tvalid_1's rmse: 0.771\n",
            "[24]\ttraining's rmse: 0.850392\tvalid_1's rmse: 0.769013\n",
            "[25]\ttraining's rmse: 0.847403\tvalid_1's rmse: 0.766969\n",
            "[26]\ttraining's rmse: 0.844416\tvalid_1's rmse: 0.766888\n",
            "[27]\ttraining's rmse: 0.841848\tvalid_1's rmse: 0.766631\n",
            "[28]\ttraining's rmse: 0.8395\tvalid_1's rmse: 0.765293\n",
            "[29]\ttraining's rmse: 0.837207\tvalid_1's rmse: 0.764813\n",
            "[30]\ttraining's rmse: 0.835113\tvalid_1's rmse: 0.764137\n",
            "[31]\ttraining's rmse: 0.832795\tvalid_1's rmse: 0.763452\n",
            "[32]\ttraining's rmse: 0.83039\tvalid_1's rmse: 0.762666\n",
            "[33]\ttraining's rmse: 0.828712\tvalid_1's rmse: 0.762075\n",
            "[34]\ttraining's rmse: 0.827045\tvalid_1's rmse: 0.761103\n",
            "[35]\ttraining's rmse: 0.825467\tvalid_1's rmse: 0.759903\n",
            "[36]\ttraining's rmse: 0.82395\tvalid_1's rmse: 0.759182\n",
            "[37]\ttraining's rmse: 0.822667\tvalid_1's rmse: 0.758932\n",
            "[38]\ttraining's rmse: 0.821088\tvalid_1's rmse: 0.758467\n",
            "[39]\ttraining's rmse: 0.819704\tvalid_1's rmse: 0.758354\n",
            "[40]\ttraining's rmse: 0.818281\tvalid_1's rmse: 0.758001\n",
            "[41]\ttraining's rmse: 0.816327\tvalid_1's rmse: 0.757913\n",
            "[42]\ttraining's rmse: 0.814863\tvalid_1's rmse: 0.758196\n",
            "[43]\ttraining's rmse: 0.813801\tvalid_1's rmse: 0.757773\n",
            "[44]\ttraining's rmse: 0.812626\tvalid_1's rmse: 0.757431\n",
            "[45]\ttraining's rmse: 0.811393\tvalid_1's rmse: 0.756753\n",
            "[46]\ttraining's rmse: 0.810501\tvalid_1's rmse: 0.755594\n",
            "[47]\ttraining's rmse: 0.809368\tvalid_1's rmse: 0.755506\n",
            "[48]\ttraining's rmse: 0.80847\tvalid_1's rmse: 0.754619\n",
            "[49]\ttraining's rmse: 0.807068\tvalid_1's rmse: 0.754416\n",
            "[50]\ttraining's rmse: 0.805852\tvalid_1's rmse: 0.753857\n",
            "[51]\ttraining's rmse: 0.804727\tvalid_1's rmse: 0.753353\n",
            "[52]\ttraining's rmse: 0.803807\tvalid_1's rmse: 0.75317\n",
            "[53]\ttraining's rmse: 0.802674\tvalid_1's rmse: 0.752053\n",
            "[54]\ttraining's rmse: 0.800943\tvalid_1's rmse: 0.751894\n",
            "[55]\ttraining's rmse: 0.800026\tvalid_1's rmse: 0.751502\n",
            "[56]\ttraining's rmse: 0.798687\tvalid_1's rmse: 0.751009\n",
            "[57]\ttraining's rmse: 0.798025\tvalid_1's rmse: 0.750782\n",
            "[58]\ttraining's rmse: 0.797142\tvalid_1's rmse: 0.750931\n",
            "[59]\ttraining's rmse: 0.796235\tvalid_1's rmse: 0.751077\n",
            "[60]\ttraining's rmse: 0.795436\tvalid_1's rmse: 0.750927\n",
            "[61]\ttraining's rmse: 0.794639\tvalid_1's rmse: 0.750906\n",
            "[62]\ttraining's rmse: 0.793596\tvalid_1's rmse: 0.750715\n",
            "[63]\ttraining's rmse: 0.792849\tvalid_1's rmse: 0.750822\n",
            "[64]\ttraining's rmse: 0.792116\tvalid_1's rmse: 0.750656\n",
            "[65]\ttraining's rmse: 0.791453\tvalid_1's rmse: 0.751059\n",
            "[66]\ttraining's rmse: 0.790795\tvalid_1's rmse: 0.750429\n",
            "[67]\ttraining's rmse: 0.790253\tvalid_1's rmse: 0.749975\n",
            "[68]\ttraining's rmse: 0.789644\tvalid_1's rmse: 0.750118\n",
            "[69]\ttraining's rmse: 0.78858\tvalid_1's rmse: 0.749412\n",
            "[70]\ttraining's rmse: 0.788095\tvalid_1's rmse: 0.74911\n",
            "[71]\ttraining's rmse: 0.787176\tvalid_1's rmse: 0.749163\n",
            "[72]\ttraining's rmse: 0.786161\tvalid_1's rmse: 0.748642\n",
            "[73]\ttraining's rmse: 0.785641\tvalid_1's rmse: 0.748702\n",
            "[74]\ttraining's rmse: 0.783854\tvalid_1's rmse: 0.748423\n",
            "[75]\ttraining's rmse: 0.783216\tvalid_1's rmse: 0.74819\n",
            "[76]\ttraining's rmse: 0.782633\tvalid_1's rmse: 0.747664\n",
            "[77]\ttraining's rmse: 0.782174\tvalid_1's rmse: 0.747136\n",
            "[78]\ttraining's rmse: 0.780709\tvalid_1's rmse: 0.747142\n",
            "[79]\ttraining's rmse: 0.779244\tvalid_1's rmse: 0.745975\n",
            "[80]\ttraining's rmse: 0.778366\tvalid_1's rmse: 0.745885\n",
            "[81]\ttraining's rmse: 0.777391\tvalid_1's rmse: 0.745657\n",
            "[82]\ttraining's rmse: 0.776939\tvalid_1's rmse: 0.745579\n",
            "[83]\ttraining's rmse: 0.776373\tvalid_1's rmse: 0.745549\n",
            "[84]\ttraining's rmse: 0.774728\tvalid_1's rmse: 0.745859\n",
            "[85]\ttraining's rmse: 0.774295\tvalid_1's rmse: 0.745819\n",
            "[86]\ttraining's rmse: 0.773751\tvalid_1's rmse: 0.746325\n",
            "[87]\ttraining's rmse: 0.772266\tvalid_1's rmse: 0.746429\n",
            "[88]\ttraining's rmse: 0.771056\tvalid_1's rmse: 0.746556\n",
            "[89]\ttraining's rmse: 0.770631\tvalid_1's rmse: 0.746382\n",
            "[90]\ttraining's rmse: 0.770163\tvalid_1's rmse: 0.746684\n",
            "[91]\ttraining's rmse: 0.76982\tvalid_1's rmse: 0.746478\n",
            "[92]\ttraining's rmse: 0.769531\tvalid_1's rmse: 0.746504\n",
            "[93]\ttraining's rmse: 0.768902\tvalid_1's rmse: 0.746103\n",
            "[94]\ttraining's rmse: 0.76832\tvalid_1's rmse: 0.745665\n",
            "[95]\ttraining's rmse: 0.767776\tvalid_1's rmse: 0.745999\n",
            "[96]\ttraining's rmse: 0.766936\tvalid_1's rmse: 0.745996\n",
            "[97]\ttraining's rmse: 0.766528\tvalid_1's rmse: 0.746569\n",
            "[98]\ttraining's rmse: 0.765987\tvalid_1's rmse: 0.746548\n",
            "Early stopping, best iteration is:\n",
            "[83]\ttraining's rmse: 0.776373\tvalid_1's rmse: 0.745549\n"
          ],
          "name": "stdout"
        },
        {
          "output_type": "stream",
          "text": [
            "\u001b[32m[I 2021-03-09 18:12:25,584]\u001b[0m Trial 2 finished with value: 0.7455493908480426 and parameters: {'lambda_l1': 0.46635320365294364, 'lambda_l2': 5.044542976160322e-06, 'num_leaves': 63, 'feature_fraction': 0.6910346500368354, 'bagging_fraction': 0.5867866139707472, 'bagging_freq': 3, 'min_child_samples': 21}. Best is trial 2 with value: 0.7455493908480426.\u001b[0m\n"
          ],
          "name": "stderr"
        },
        {
          "output_type": "stream",
          "text": [
            "[1]\ttraining's rmse: 1.19092\tvalid_1's rmse: 1.03533\n",
            "Training until validation scores don't improve for 15 rounds.\n",
            "[2]\ttraining's rmse: 1.14247\tvalid_1's rmse: 0.996251\n",
            "[3]\ttraining's rmse: 1.09983\tvalid_1's rmse: 0.962638\n",
            "[4]\ttraining's rmse: 1.06283\tvalid_1's rmse: 0.931371\n",
            "[5]\ttraining's rmse: 1.03128\tvalid_1's rmse: 0.904706\n",
            "[6]\ttraining's rmse: 1.00345\tvalid_1's rmse: 0.886544\n",
            "[7]\ttraining's rmse: 0.982369\tvalid_1's rmse: 0.868879\n",
            "[8]\ttraining's rmse: 0.961243\tvalid_1's rmse: 0.854034\n",
            "[9]\ttraining's rmse: 0.942913\tvalid_1's rmse: 0.839858\n",
            "[10]\ttraining's rmse: 0.926162\tvalid_1's rmse: 0.829046\n",
            "[11]\ttraining's rmse: 0.911814\tvalid_1's rmse: 0.820792\n",
            "[12]\ttraining's rmse: 0.899575\tvalid_1's rmse: 0.812547\n",
            "[13]\ttraining's rmse: 0.889206\tvalid_1's rmse: 0.804211\n",
            "[14]\ttraining's rmse: 0.879438\tvalid_1's rmse: 0.799418\n",
            "[15]\ttraining's rmse: 0.872059\tvalid_1's rmse: 0.794819\n",
            "[16]\ttraining's rmse: 0.863861\tvalid_1's rmse: 0.790252\n",
            "[17]\ttraining's rmse: 0.857094\tvalid_1's rmse: 0.786412\n",
            "[18]\ttraining's rmse: 0.851169\tvalid_1's rmse: 0.78232\n",
            "[19]\ttraining's rmse: 0.845423\tvalid_1's rmse: 0.779825\n",
            "[20]\ttraining's rmse: 0.83937\tvalid_1's rmse: 0.777727\n",
            "[21]\ttraining's rmse: 0.834076\tvalid_1's rmse: 0.775321\n",
            "[22]\ttraining's rmse: 0.830337\tvalid_1's rmse: 0.773616\n",
            "[23]\ttraining's rmse: 0.826069\tvalid_1's rmse: 0.771895\n",
            "[24]\ttraining's rmse: 0.822323\tvalid_1's rmse: 0.769505\n",
            "[25]\ttraining's rmse: 0.818895\tvalid_1's rmse: 0.767632\n",
            "[26]\ttraining's rmse: 0.815952\tvalid_1's rmse: 0.767098\n",
            "[27]\ttraining's rmse: 0.813407\tvalid_1's rmse: 0.765479\n",
            "[28]\ttraining's rmse: 0.810363\tvalid_1's rmse: 0.765408\n",
            "[29]\ttraining's rmse: 0.80731\tvalid_1's rmse: 0.765813\n",
            "[30]\ttraining's rmse: 0.804904\tvalid_1's rmse: 0.764427\n",
            "[31]\ttraining's rmse: 0.801837\tvalid_1's rmse: 0.763777\n",
            "[32]\ttraining's rmse: 0.799655\tvalid_1's rmse: 0.763615\n",
            "[33]\ttraining's rmse: 0.796629\tvalid_1's rmse: 0.763303\n",
            "[34]\ttraining's rmse: 0.794834\tvalid_1's rmse: 0.762474\n",
            "[35]\ttraining's rmse: 0.793003\tvalid_1's rmse: 0.762183\n",
            "[36]\ttraining's rmse: 0.791066\tvalid_1's rmse: 0.761324\n",
            "[37]\ttraining's rmse: 0.789452\tvalid_1's rmse: 0.76122\n",
            "[38]\ttraining's rmse: 0.787802\tvalid_1's rmse: 0.76092\n",
            "[39]\ttraining's rmse: 0.786163\tvalid_1's rmse: 0.760452\n",
            "[40]\ttraining's rmse: 0.784577\tvalid_1's rmse: 0.760261\n",
            "[41]\ttraining's rmse: 0.783033\tvalid_1's rmse: 0.760375\n",
            "[42]\ttraining's rmse: 0.781755\tvalid_1's rmse: 0.759961\n",
            "[43]\ttraining's rmse: 0.780221\tvalid_1's rmse: 0.759685\n",
            "[44]\ttraining's rmse: 0.77848\tvalid_1's rmse: 0.75948\n",
            "[45]\ttraining's rmse: 0.776766\tvalid_1's rmse: 0.757573\n",
            "[46]\ttraining's rmse: 0.77544\tvalid_1's rmse: 0.756829\n",
            "[47]\ttraining's rmse: 0.774561\tvalid_1's rmse: 0.756599\n",
            "[48]\ttraining's rmse: 0.773272\tvalid_1's rmse: 0.756335\n",
            "[49]\ttraining's rmse: 0.770594\tvalid_1's rmse: 0.755069\n",
            "[50]\ttraining's rmse: 0.769339\tvalid_1's rmse: 0.755224\n",
            "[51]\ttraining's rmse: 0.768159\tvalid_1's rmse: 0.754849\n",
            "[52]\ttraining's rmse: 0.766915\tvalid_1's rmse: 0.754078\n",
            "[53]\ttraining's rmse: 0.766026\tvalid_1's rmse: 0.753602\n",
            "[54]\ttraining's rmse: 0.764894\tvalid_1's rmse: 0.753881\n",
            "[55]\ttraining's rmse: 0.763391\tvalid_1's rmse: 0.754542\n",
            "[56]\ttraining's rmse: 0.762201\tvalid_1's rmse: 0.755543\n",
            "[57]\ttraining's rmse: 0.760865\tvalid_1's rmse: 0.755481\n",
            "[58]\ttraining's rmse: 0.759839\tvalid_1's rmse: 0.754961\n",
            "[59]\ttraining's rmse: 0.758989\tvalid_1's rmse: 0.755369\n",
            "[60]\ttraining's rmse: 0.757957\tvalid_1's rmse: 0.754973\n",
            "[61]\ttraining's rmse: 0.755993\tvalid_1's rmse: 0.75434\n",
            "[62]\ttraining's rmse: 0.755106\tvalid_1's rmse: 0.753486\n",
            "[63]\ttraining's rmse: 0.754302\tvalid_1's rmse: 0.753893\n",
            "[64]\ttraining's rmse: 0.753315\tvalid_1's rmse: 0.753393\n",
            "[65]\ttraining's rmse: 0.752429\tvalid_1's rmse: 0.753403\n",
            "[66]\ttraining's rmse: 0.751805\tvalid_1's rmse: 0.753485\n",
            "[67]\ttraining's rmse: 0.751082\tvalid_1's rmse: 0.753741\n",
            "[68]\ttraining's rmse: 0.75027\tvalid_1's rmse: 0.753564\n",
            "[69]\ttraining's rmse: 0.749535\tvalid_1's rmse: 0.753538\n",
            "[70]\ttraining's rmse: 0.748775\tvalid_1's rmse: 0.753089\n",
            "[71]\ttraining's rmse: 0.748058\tvalid_1's rmse: 0.753175\n",
            "[72]\ttraining's rmse: 0.746624\tvalid_1's rmse: 0.753437\n",
            "[73]\ttraining's rmse: 0.745901\tvalid_1's rmse: 0.753401\n",
            "[74]\ttraining's rmse: 0.74502\tvalid_1's rmse: 0.752938\n",
            "[75]\ttraining's rmse: 0.744265\tvalid_1's rmse: 0.753307\n",
            "[76]\ttraining's rmse: 0.743568\tvalid_1's rmse: 0.753397\n",
            "[77]\ttraining's rmse: 0.743\tvalid_1's rmse: 0.75335\n",
            "[78]\ttraining's rmse: 0.74245\tvalid_1's rmse: 0.753696\n",
            "[79]\ttraining's rmse: 0.741951\tvalid_1's rmse: 0.753184\n",
            "[80]\ttraining's rmse: 0.740871\tvalid_1's rmse: 0.753617\n",
            "[81]\ttraining's rmse: 0.740298\tvalid_1's rmse: 0.753573\n",
            "[82]\ttraining's rmse: 0.739601\tvalid_1's rmse: 0.753423\n",
            "[83]\ttraining's rmse: 0.73915\tvalid_1's rmse: 0.753211\n",
            "[84]\ttraining's rmse: 0.738617\tvalid_1's rmse: 0.753335\n",
            "[85]\ttraining's rmse: 0.738091\tvalid_1's rmse: 0.753834\n",
            "[86]\ttraining's rmse: 0.73737\tvalid_1's rmse: 0.753816\n",
            "[87]\ttraining's rmse: 0.736928\tvalid_1's rmse: 0.753193\n",
            "[88]\ttraining's rmse: 0.736415\tvalid_1's rmse: 0.753004\n",
            "[89]\ttraining's rmse: 0.735585\tvalid_1's rmse: 0.753216\n",
            "Early stopping, best iteration is:\n",
            "[74]\ttraining's rmse: 0.74502\tvalid_1's rmse: 0.752938\n"
          ],
          "name": "stdout"
        },
        {
          "output_type": "stream",
          "text": [
            "\u001b[32m[I 2021-03-09 18:14:08,403]\u001b[0m Trial 3 finished with value: 0.7529375971294733 and parameters: {'lambda_l1': 0.0033782860584436964, 'lambda_l2': 1.7401699559340357e-07, 'num_leaves': 119, 'feature_fraction': 0.5462183519166149, 'bagging_fraction': 0.9364540364136891, 'bagging_freq': 7, 'min_child_samples': 22}. Best is trial 2 with value: 0.7455493908480426.\u001b[0m\n"
          ],
          "name": "stderr"
        },
        {
          "output_type": "stream",
          "text": [
            "[1]\ttraining's rmse: 1.18947\tvalid_1's rmse: 1.032\n",
            "Training until validation scores don't improve for 15 rounds.\n",
            "[2]\ttraining's rmse: 1.14045\tvalid_1's rmse: 0.990232\n",
            "[3]\ttraining's rmse: 1.09724\tvalid_1's rmse: 0.955996\n",
            "[4]\ttraining's rmse: 1.05971\tvalid_1's rmse: 0.92788\n",
            "[5]\ttraining's rmse: 1.02713\tvalid_1's rmse: 0.903829\n",
            "[6]\ttraining's rmse: 0.99953\tvalid_1's rmse: 0.878292\n",
            "[7]\ttraining's rmse: 0.975328\tvalid_1's rmse: 0.859507\n",
            "[8]\ttraining's rmse: 0.954826\tvalid_1's rmse: 0.845307\n",
            "[9]\ttraining's rmse: 0.936596\tvalid_1's rmse: 0.832069\n",
            "[10]\ttraining's rmse: 0.921145\tvalid_1's rmse: 0.820749\n",
            "[11]\ttraining's rmse: 0.907894\tvalid_1's rmse: 0.80854\n",
            "[12]\ttraining's rmse: 0.89576\tvalid_1's rmse: 0.802255\n",
            "[13]\ttraining's rmse: 0.885453\tvalid_1's rmse: 0.796535\n",
            "[14]\ttraining's rmse: 0.875469\tvalid_1's rmse: 0.790799\n",
            "[15]\ttraining's rmse: 0.867302\tvalid_1's rmse: 0.785226\n",
            "[16]\ttraining's rmse: 0.859847\tvalid_1's rmse: 0.781398\n",
            "[17]\ttraining's rmse: 0.852852\tvalid_1's rmse: 0.776216\n",
            "[18]\ttraining's rmse: 0.846615\tvalid_1's rmse: 0.772058\n",
            "[19]\ttraining's rmse: 0.841339\tvalid_1's rmse: 0.769715\n",
            "[20]\ttraining's rmse: 0.836348\tvalid_1's rmse: 0.767108\n",
            "[21]\ttraining's rmse: 0.831621\tvalid_1's rmse: 0.765471\n",
            "[22]\ttraining's rmse: 0.827553\tvalid_1's rmse: 0.764361\n",
            "[23]\ttraining's rmse: 0.824004\tvalid_1's rmse: 0.762869\n",
            "[24]\ttraining's rmse: 0.820423\tvalid_1's rmse: 0.76229\n",
            "[25]\ttraining's rmse: 0.817257\tvalid_1's rmse: 0.761192\n",
            "[26]\ttraining's rmse: 0.814465\tvalid_1's rmse: 0.760289\n",
            "[27]\ttraining's rmse: 0.811599\tvalid_1's rmse: 0.759147\n",
            "[28]\ttraining's rmse: 0.808954\tvalid_1's rmse: 0.757951\n",
            "[29]\ttraining's rmse: 0.806404\tvalid_1's rmse: 0.757541\n",
            "[30]\ttraining's rmse: 0.804298\tvalid_1's rmse: 0.757723\n",
            "[31]\ttraining's rmse: 0.801601\tvalid_1's rmse: 0.756571\n",
            "[32]\ttraining's rmse: 0.798589\tvalid_1's rmse: 0.756042\n",
            "[33]\ttraining's rmse: 0.796031\tvalid_1's rmse: 0.755267\n",
            "[34]\ttraining's rmse: 0.794038\tvalid_1's rmse: 0.755096\n",
            "[35]\ttraining's rmse: 0.792471\tvalid_1's rmse: 0.755344\n",
            "[36]\ttraining's rmse: 0.790131\tvalid_1's rmse: 0.754384\n",
            "[37]\ttraining's rmse: 0.788504\tvalid_1's rmse: 0.754334\n",
            "[38]\ttraining's rmse: 0.786867\tvalid_1's rmse: 0.753869\n",
            "[39]\ttraining's rmse: 0.785267\tvalid_1's rmse: 0.753177\n",
            "[40]\ttraining's rmse: 0.78384\tvalid_1's rmse: 0.75285\n",
            "[41]\ttraining's rmse: 0.782089\tvalid_1's rmse: 0.752704\n",
            "[42]\ttraining's rmse: 0.780759\tvalid_1's rmse: 0.752551\n",
            "[43]\ttraining's rmse: 0.778199\tvalid_1's rmse: 0.752959\n",
            "[44]\ttraining's rmse: 0.77688\tvalid_1's rmse: 0.753004\n",
            "[45]\ttraining's rmse: 0.775317\tvalid_1's rmse: 0.753542\n",
            "[46]\ttraining's rmse: 0.773874\tvalid_1's rmse: 0.753047\n",
            "[47]\ttraining's rmse: 0.772456\tvalid_1's rmse: 0.752131\n",
            "[48]\ttraining's rmse: 0.770929\tvalid_1's rmse: 0.752078\n",
            "[49]\ttraining's rmse: 0.769928\tvalid_1's rmse: 0.751755\n",
            "[50]\ttraining's rmse: 0.768679\tvalid_1's rmse: 0.751221\n",
            "[51]\ttraining's rmse: 0.766912\tvalid_1's rmse: 0.751148\n",
            "[52]\ttraining's rmse: 0.765299\tvalid_1's rmse: 0.751102\n",
            "[53]\ttraining's rmse: 0.764154\tvalid_1's rmse: 0.750928\n",
            "[54]\ttraining's rmse: 0.763179\tvalid_1's rmse: 0.751129\n",
            "[55]\ttraining's rmse: 0.761891\tvalid_1's rmse: 0.750713\n",
            "[56]\ttraining's rmse: 0.760951\tvalid_1's rmse: 0.749549\n",
            "[57]\ttraining's rmse: 0.760059\tvalid_1's rmse: 0.748691\n",
            "[58]\ttraining's rmse: 0.758896\tvalid_1's rmse: 0.748062\n",
            "[59]\ttraining's rmse: 0.758068\tvalid_1's rmse: 0.747862\n",
            "[60]\ttraining's rmse: 0.75701\tvalid_1's rmse: 0.747462\n",
            "[61]\ttraining's rmse: 0.756303\tvalid_1's rmse: 0.74715\n",
            "[62]\ttraining's rmse: 0.755502\tvalid_1's rmse: 0.747715\n",
            "[63]\ttraining's rmse: 0.754815\tvalid_1's rmse: 0.747948\n",
            "[64]\ttraining's rmse: 0.753921\tvalid_1's rmse: 0.747508\n",
            "[65]\ttraining's rmse: 0.753274\tvalid_1's rmse: 0.747553\n",
            "[66]\ttraining's rmse: 0.751873\tvalid_1's rmse: 0.74656\n",
            "[67]\ttraining's rmse: 0.751242\tvalid_1's rmse: 0.746671\n",
            "[68]\ttraining's rmse: 0.749561\tvalid_1's rmse: 0.745469\n",
            "[69]\ttraining's rmse: 0.748942\tvalid_1's rmse: 0.745232\n",
            "[70]\ttraining's rmse: 0.748124\tvalid_1's rmse: 0.74543\n",
            "[71]\ttraining's rmse: 0.747112\tvalid_1's rmse: 0.744861\n",
            "[72]\ttraining's rmse: 0.746611\tvalid_1's rmse: 0.744632\n",
            "[73]\ttraining's rmse: 0.746065\tvalid_1's rmse: 0.744668\n",
            "[74]\ttraining's rmse: 0.74539\tvalid_1's rmse: 0.745112\n",
            "[75]\ttraining's rmse: 0.744782\tvalid_1's rmse: 0.74504\n",
            "[76]\ttraining's rmse: 0.744252\tvalid_1's rmse: 0.744843\n",
            "[77]\ttraining's rmse: 0.743559\tvalid_1's rmse: 0.745356\n",
            "[78]\ttraining's rmse: 0.742521\tvalid_1's rmse: 0.745151\n",
            "[79]\ttraining's rmse: 0.741687\tvalid_1's rmse: 0.745303\n",
            "[80]\ttraining's rmse: 0.741157\tvalid_1's rmse: 0.746163\n",
            "[81]\ttraining's rmse: 0.740675\tvalid_1's rmse: 0.745964\n",
            "[82]\ttraining's rmse: 0.740142\tvalid_1's rmse: 0.746101\n",
            "[83]\ttraining's rmse: 0.739574\tvalid_1's rmse: 0.746224\n",
            "[84]\ttraining's rmse: 0.738898\tvalid_1's rmse: 0.746247\n",
            "[85]\ttraining's rmse: 0.73849\tvalid_1's rmse: 0.746308\n",
            "[86]\ttraining's rmse: 0.738091\tvalid_1's rmse: 0.746074\n",
            "[87]\ttraining's rmse: 0.737753\tvalid_1's rmse: 0.746027\n",
            "Early stopping, best iteration is:\n",
            "[72]\ttraining's rmse: 0.746611\tvalid_1's rmse: 0.744632\n"
          ],
          "name": "stdout"
        },
        {
          "output_type": "stream",
          "text": [
            "\u001b[32m[I 2021-03-09 18:16:11,656]\u001b[0m Trial 4 finished with value: 0.7446317705982545 and parameters: {'lambda_l1': 0.04371319094958546, 'lambda_l2': 0.00011963621659485764, 'num_leaves': 131, 'feature_fraction': 0.9200627131285918, 'bagging_fraction': 0.5973665006710144, 'bagging_freq': 6, 'min_child_samples': 82}. Best is trial 4 with value: 0.7446317705982545.\u001b[0m\n"
          ],
          "name": "stderr"
        },
        {
          "output_type": "stream",
          "text": [
            "Number of finished trials: 5\n",
            "Best trial: {'lambda_l1': 0.04371319094958546, 'lambda_l2': 0.00011963621659485764, 'num_leaves': 131, 'feature_fraction': 0.9200627131285918, 'bagging_fraction': 0.5973665006710144, 'bagging_freq': 6, 'min_child_samples': 82}\n"
          ],
          "name": "stdout"
        }
      ]
    },
    {
      "cell_type": "code",
      "metadata": {
        "colab": {
          "base_uri": "https://localhost:8080/"
        },
        "id": "PldYraNEi-9E",
        "outputId": "0e167796-a0f7-49ee-b3a9-8e326986f5b4"
      },
      "source": [
        "best_params = study.best_trial.params\r\n",
        "print(f'Best trial parameters\\n{best_params}')"
      ],
      "execution_count": 76,
      "outputs": [
        {
          "output_type": "stream",
          "text": [
            "Best trial parameters\n",
            "{'lambda_l1': 0.04371319094958546, 'lambda_l2': 0.00011963621659485764, 'num_leaves': 131, 'feature_fraction': 0.9200627131285918, 'bagging_fraction': 0.5973665006710144, 'bagging_freq': 6, 'min_child_samples': 82}\n"
          ],
          "name": "stdout"
        }
      ]
    },
    {
      "cell_type": "code",
      "metadata": {
        "colab": {
          "base_uri": "https://localhost:8080/"
        },
        "id": "WbkeP5hjjHH-",
        "outputId": "11084314-0864-4070-bd2e-b00a2890d44f"
      },
      "source": [
        "# add some fix params\r\n",
        "\r\n",
        "x = {\"objective\": \"regression\",\r\n",
        "     \"metric\"   : \"rmse\",\r\n",
        "     \"verbosity\": -1,\r\n",
        "     \"boosting_type\": \"gbdt\"}\r\n",
        "\r\n",
        "best_params.update(x)\r\n",
        "best_params"
      ],
      "execution_count": 77,
      "outputs": [
        {
          "output_type": "execute_result",
          "data": {
            "text/plain": [
              "{'bagging_fraction': 0.5973665006710144,\n",
              " 'bagging_freq': 6,\n",
              " 'boosting_type': 'gbdt',\n",
              " 'feature_fraction': 0.9200627131285918,\n",
              " 'lambda_l1': 0.04371319094958546,\n",
              " 'lambda_l2': 0.00011963621659485764,\n",
              " 'metric': 'rmse',\n",
              " 'min_child_samples': 82,\n",
              " 'num_leaves': 131,\n",
              " 'objective': 'regression',\n",
              " 'verbosity': -1}"
            ]
          },
          "metadata": {
            "tags": []
          },
          "execution_count": 77
        }
      ]
    },
    {
      "cell_type": "code",
      "metadata": {
        "colab": {
          "base_uri": "https://localhost:8080/"
        },
        "id": "RYkvJbgbjHOh",
        "outputId": "455bd7c3-c2a5-4a76-89c5-027961151b6a"
      },
      "source": [
        "evals_result = {} \r\n",
        "\r\n",
        "model = lgb.train(best_params,\r\n",
        "                  lgb_train,\r\n",
        "                  valid_sets=[lgb_train,lgb_eval],\r\n",
        "\r\n",
        "                  evals_result=evals_result,\r\n",
        "                  early_stopping_rounds=10, # 20\r\n",
        "                  verbose_eval=1,\r\n",
        "                  )"
      ],
      "execution_count": 78,
      "outputs": [
        {
          "output_type": "stream",
          "text": [
            "[1]\ttraining's rmse: 1.18947\tvalid_1's rmse: 1.032\n",
            "Training until validation scores don't improve for 10 rounds.\n",
            "[2]\ttraining's rmse: 1.14045\tvalid_1's rmse: 0.990232\n",
            "[3]\ttraining's rmse: 1.09724\tvalid_1's rmse: 0.955996\n",
            "[4]\ttraining's rmse: 1.05971\tvalid_1's rmse: 0.92788\n",
            "[5]\ttraining's rmse: 1.02713\tvalid_1's rmse: 0.903829\n",
            "[6]\ttraining's rmse: 0.99953\tvalid_1's rmse: 0.878292\n",
            "[7]\ttraining's rmse: 0.975328\tvalid_1's rmse: 0.859507\n",
            "[8]\ttraining's rmse: 0.954826\tvalid_1's rmse: 0.845307\n",
            "[9]\ttraining's rmse: 0.936596\tvalid_1's rmse: 0.832069\n",
            "[10]\ttraining's rmse: 0.921145\tvalid_1's rmse: 0.820749\n",
            "[11]\ttraining's rmse: 0.907894\tvalid_1's rmse: 0.80854\n",
            "[12]\ttraining's rmse: 0.89576\tvalid_1's rmse: 0.802255\n",
            "[13]\ttraining's rmse: 0.885453\tvalid_1's rmse: 0.796535\n",
            "[14]\ttraining's rmse: 0.875469\tvalid_1's rmse: 0.790799\n",
            "[15]\ttraining's rmse: 0.867302\tvalid_1's rmse: 0.785226\n",
            "[16]\ttraining's rmse: 0.859847\tvalid_1's rmse: 0.781398\n",
            "[17]\ttraining's rmse: 0.852852\tvalid_1's rmse: 0.776216\n",
            "[18]\ttraining's rmse: 0.846615\tvalid_1's rmse: 0.772058\n",
            "[19]\ttraining's rmse: 0.841339\tvalid_1's rmse: 0.769715\n",
            "[20]\ttraining's rmse: 0.836348\tvalid_1's rmse: 0.767108\n",
            "[21]\ttraining's rmse: 0.831621\tvalid_1's rmse: 0.765471\n",
            "[22]\ttraining's rmse: 0.827553\tvalid_1's rmse: 0.764361\n",
            "[23]\ttraining's rmse: 0.824004\tvalid_1's rmse: 0.762869\n",
            "[24]\ttraining's rmse: 0.820423\tvalid_1's rmse: 0.76229\n",
            "[25]\ttraining's rmse: 0.817257\tvalid_1's rmse: 0.761192\n",
            "[26]\ttraining's rmse: 0.814465\tvalid_1's rmse: 0.760289\n",
            "[27]\ttraining's rmse: 0.811599\tvalid_1's rmse: 0.759147\n",
            "[28]\ttraining's rmse: 0.808954\tvalid_1's rmse: 0.757951\n",
            "[29]\ttraining's rmse: 0.806404\tvalid_1's rmse: 0.757541\n",
            "[30]\ttraining's rmse: 0.804298\tvalid_1's rmse: 0.757723\n",
            "[31]\ttraining's rmse: 0.801601\tvalid_1's rmse: 0.756571\n",
            "[32]\ttraining's rmse: 0.798589\tvalid_1's rmse: 0.756042\n",
            "[33]\ttraining's rmse: 0.796031\tvalid_1's rmse: 0.755267\n",
            "[34]\ttraining's rmse: 0.794038\tvalid_1's rmse: 0.755096\n",
            "[35]\ttraining's rmse: 0.792471\tvalid_1's rmse: 0.755344\n",
            "[36]\ttraining's rmse: 0.790131\tvalid_1's rmse: 0.754384\n",
            "[37]\ttraining's rmse: 0.788504\tvalid_1's rmse: 0.754334\n",
            "[38]\ttraining's rmse: 0.786867\tvalid_1's rmse: 0.753869\n",
            "[39]\ttraining's rmse: 0.785267\tvalid_1's rmse: 0.753177\n",
            "[40]\ttraining's rmse: 0.78384\tvalid_1's rmse: 0.75285\n",
            "[41]\ttraining's rmse: 0.782089\tvalid_1's rmse: 0.752704\n",
            "[42]\ttraining's rmse: 0.780759\tvalid_1's rmse: 0.752551\n",
            "[43]\ttraining's rmse: 0.778199\tvalid_1's rmse: 0.752959\n",
            "[44]\ttraining's rmse: 0.77688\tvalid_1's rmse: 0.753004\n",
            "[45]\ttraining's rmse: 0.775317\tvalid_1's rmse: 0.753542\n",
            "[46]\ttraining's rmse: 0.773874\tvalid_1's rmse: 0.753047\n",
            "[47]\ttraining's rmse: 0.772456\tvalid_1's rmse: 0.752131\n",
            "[48]\ttraining's rmse: 0.770929\tvalid_1's rmse: 0.752078\n",
            "[49]\ttraining's rmse: 0.769928\tvalid_1's rmse: 0.751755\n",
            "[50]\ttraining's rmse: 0.768679\tvalid_1's rmse: 0.751221\n",
            "[51]\ttraining's rmse: 0.766912\tvalid_1's rmse: 0.751148\n",
            "[52]\ttraining's rmse: 0.765299\tvalid_1's rmse: 0.751102\n",
            "[53]\ttraining's rmse: 0.764154\tvalid_1's rmse: 0.750928\n",
            "[54]\ttraining's rmse: 0.763179\tvalid_1's rmse: 0.751129\n",
            "[55]\ttraining's rmse: 0.761891\tvalid_1's rmse: 0.750713\n",
            "[56]\ttraining's rmse: 0.760951\tvalid_1's rmse: 0.749549\n",
            "[57]\ttraining's rmse: 0.760059\tvalid_1's rmse: 0.748691\n",
            "[58]\ttraining's rmse: 0.758896\tvalid_1's rmse: 0.748062\n",
            "[59]\ttraining's rmse: 0.758068\tvalid_1's rmse: 0.747862\n",
            "[60]\ttraining's rmse: 0.75701\tvalid_1's rmse: 0.747462\n",
            "[61]\ttraining's rmse: 0.756303\tvalid_1's rmse: 0.74715\n",
            "[62]\ttraining's rmse: 0.755502\tvalid_1's rmse: 0.747715\n",
            "[63]\ttraining's rmse: 0.754815\tvalid_1's rmse: 0.747948\n",
            "[64]\ttraining's rmse: 0.753921\tvalid_1's rmse: 0.747508\n",
            "[65]\ttraining's rmse: 0.753274\tvalid_1's rmse: 0.747553\n",
            "[66]\ttraining's rmse: 0.751873\tvalid_1's rmse: 0.74656\n",
            "[67]\ttraining's rmse: 0.751242\tvalid_1's rmse: 0.746671\n",
            "[68]\ttraining's rmse: 0.749561\tvalid_1's rmse: 0.745469\n",
            "[69]\ttraining's rmse: 0.748942\tvalid_1's rmse: 0.745232\n",
            "[70]\ttraining's rmse: 0.748124\tvalid_1's rmse: 0.74543\n",
            "[71]\ttraining's rmse: 0.747112\tvalid_1's rmse: 0.744861\n",
            "[72]\ttraining's rmse: 0.746611\tvalid_1's rmse: 0.744632\n",
            "[73]\ttraining's rmse: 0.746065\tvalid_1's rmse: 0.744668\n",
            "[74]\ttraining's rmse: 0.74539\tvalid_1's rmse: 0.745112\n",
            "[75]\ttraining's rmse: 0.744782\tvalid_1's rmse: 0.74504\n",
            "[76]\ttraining's rmse: 0.744252\tvalid_1's rmse: 0.744843\n",
            "[77]\ttraining's rmse: 0.743559\tvalid_1's rmse: 0.745356\n",
            "[78]\ttraining's rmse: 0.742521\tvalid_1's rmse: 0.745151\n",
            "[79]\ttraining's rmse: 0.741687\tvalid_1's rmse: 0.745303\n",
            "[80]\ttraining's rmse: 0.741157\tvalid_1's rmse: 0.746163\n",
            "[81]\ttraining's rmse: 0.740675\tvalid_1's rmse: 0.745964\n",
            "[82]\ttraining's rmse: 0.740142\tvalid_1's rmse: 0.746101\n",
            "Early stopping, best iteration is:\n",
            "[72]\ttraining's rmse: 0.746611\tvalid_1's rmse: 0.744632\n"
          ],
          "name": "stdout"
        }
      ]
    },
    {
      "cell_type": "code",
      "metadata": {
        "colab": {
          "base_uri": "https://localhost:8080/"
        },
        "id": "pqYFsvZjjJ_l",
        "outputId": "fde0fd9f-738d-4da4-acdd-b86463c0b3cd"
      },
      "source": [
        "y_pred = model.predict(X_val)\r\n",
        "mean_squared_error(y_val, y_pred,squared=False)"
      ],
      "execution_count": 79,
      "outputs": [
        {
          "output_type": "execute_result",
          "data": {
            "text/plain": [
              "0.7446317705982545"
            ]
          },
          "metadata": {
            "tags": []
          },
          "execution_count": 79
        }
      ]
    },
    {
      "cell_type": "code",
      "metadata": {
        "colab": {
          "base_uri": "https://localhost:8080/",
          "height": 367
        },
        "id": "1nUEBb5JjKE2",
        "outputId": "dd51c982-ff5b-49d4-e662-e7efa3d82234"
      },
      "source": [
        "print('Plot metrics recorded during training...')\r\n",
        "ax = lgb.plot_metric(evals_result, figsize=(10, 5))"
      ],
      "execution_count": 80,
      "outputs": [
        {
          "output_type": "stream",
          "text": [
            "Plot metrics recorded during training...\n"
          ],
          "name": "stdout"
        },
        {
          "output_type": "display_data",
          "data": {
            "image/png": "[encoded data removed]",
            "text/plain": [
              "<Figure size 720x360 with 1 Axes>"
            ]
          },
          "metadata": {
            "tags": [],
            "needs_background": "light"
          }
        }
      ]
    },
    {
      "cell_type": "code",
      "metadata": {
        "id": "-g3dtBPl8iNj"
      },
      "source": [
        "test= pd.read_csv(\"test.csv\").set_index('ID')"
      ],
      "execution_count": 81,
      "outputs": []
    },
    {
      "cell_type": "code",
      "metadata": {
        "colab": {
          "base_uri": "https://localhost:8080/",
          "height": 345
        },
        "id": "GT3QjlxijOPn",
        "outputId": "0c422ec9-cf13-45a5-8017-caf34d9b3c7c"
      },
      "source": [
        "# predicting model\r\n",
        "\r\n",
        "Y_test = model.predict(X_test).clip(0, 20)\r\n",
        "\r\n",
        "submission = pd.DataFrame({\r\n",
        "    \"ID\": test.index, \r\n",
        "    \"item_cnt_month\": Y_test\r\n",
        "})\r\n",
        "submission.head(10)"
      ],
      "execution_count": 82,
      "outputs": [
        {
          "output_type": "execute_result",
          "data": {
            "text/html": [
              "<div>\n",
              "<style scoped>\n",
              "    .dataframe tbody tr th:only-of-type {\n",
              "        vertical-align: middle;\n",
              "    }\n",
              "\n",
              "    .dataframe tbody tr th {\n",
              "        vertical-align: top;\n",
              "    }\n",
              "\n",
              "    .dataframe thead th {\n",
              "        text-align: right;\n",
              "    }\n",
              "</style>\n",
              "<table border=\"1\" class=\"dataframe\">\n",
              "  <thead>\n",
              "    <tr style=\"text-align: right;\">\n",
              "      <th></th>\n",
              "      <th>ID</th>\n",
              "      <th>item_cnt_month</th>\n",
              "    </tr>\n",
              "  </thead>\n",
              "  <tbody>\n",
              "    <tr>\n",
              "      <th>0</th>\n",
              "      <td>0</td>\n",
              "      <td>0.539693</td>\n",
              "    </tr>\n",
              "    <tr>\n",
              "      <th>1</th>\n",
              "      <td>1</td>\n",
              "      <td>1.920928</td>\n",
              "    </tr>\n",
              "    <tr>\n",
              "      <th>2</th>\n",
              "      <td>2</td>\n",
              "      <td>1.161255</td>\n",
              "    </tr>\n",
              "    <tr>\n",
              "      <th>3</th>\n",
              "      <td>3</td>\n",
              "      <td>0.759676</td>\n",
              "    </tr>\n",
              "    <tr>\n",
              "      <th>4</th>\n",
              "      <td>4</td>\n",
              "      <td>5.913251</td>\n",
              "    </tr>\n",
              "    <tr>\n",
              "      <th>5</th>\n",
              "      <td>5</td>\n",
              "      <td>0.457699</td>\n",
              "    </tr>\n",
              "    <tr>\n",
              "      <th>6</th>\n",
              "      <td>6</td>\n",
              "      <td>0.645941</td>\n",
              "    </tr>\n",
              "    <tr>\n",
              "      <th>7</th>\n",
              "      <td>7</td>\n",
              "      <td>0.207732</td>\n",
              "    </tr>\n",
              "    <tr>\n",
              "      <th>8</th>\n",
              "      <td>8</td>\n",
              "      <td>0.851401</td>\n",
              "    </tr>\n",
              "    <tr>\n",
              "      <th>9</th>\n",
              "      <td>9</td>\n",
              "      <td>0.415341</td>\n",
              "    </tr>\n",
              "  </tbody>\n",
              "</table>\n",
              "</div>"
            ],
            "text/plain": [
              "   ID  item_cnt_month\n",
              "0   0        0.539693\n",
              "1   1        1.920928\n",
              "2   2        1.161255\n",
              "3   3        0.759676\n",
              "4   4        5.913251\n",
              "5   5        0.457699\n",
              "6   6        0.645941\n",
              "7   7        0.207732\n",
              "8   8        0.851401\n",
              "9   9        0.415341"
            ]
          },
          "metadata": {
            "tags": []
          },
          "execution_count": 82
        }
      ]
    },
    {
      "cell_type": "code",
      "metadata": {
        "id": "6t9KOqDjjQHw"
      },
      "source": [
        "submission.to_csv('final2 submission.csv', index=False)"
      ],
      "execution_count": 83,
      "outputs": []
    }
  ]
}