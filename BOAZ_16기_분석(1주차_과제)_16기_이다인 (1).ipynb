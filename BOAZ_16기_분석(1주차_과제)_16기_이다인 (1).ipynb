{
  "nbformat": 4,
  "nbformat_minor": 0,
  "metadata": {
    "kernelspec": {
      "display_name": "Python 3",
      "language": "python",
      "name": "python3"
    },
    "language_info": {
      "codemirror_mode": {
        "name": "ipython",
        "version": 3
      },
      "file_extension": ".py",
      "mimetype": "text/x-python",
      "name": "python",
      "nbconvert_exporter": "python",
      "pygments_lexer": "ipython3",
      "version": "3.7.4"
    },
    "colab": {
      "name": "BOAZ 16기 분석(1주차 과제)_16기 이다인.ipynb",
      "provenance": [],
      "collapsed_sections": []
    }
  },
  "cells": [
    {
      "cell_type": "code",
      "metadata": {
        "id": "QvihCHvBE3cj"
      },
      "source": [
        "import numpy as np\n",
        "import pandas as pd"
      ],
      "execution_count": 1,
      "outputs": []
    },
    {
      "cell_type": "markdown",
      "metadata": {
        "id": "i9N2o6o4E3cp"
      },
      "source": [
        "### 0. 주어진 데이터를 불어온 후 상위 10개 행을 출력해 주세요."
      ]
    },
    {
      "cell_type": "code",
      "metadata": {
        "colab": {
          "base_uri": "https://localhost:8080/"
        },
        "id": "f9NT8oubE3cr",
        "outputId": "adb74f02-a6b6-46ad-aad2-d515e1c7db51"
      },
      "source": [
        "from google.colab import drive\r\n",
        "\r\n",
        "drive.mount('/content/gdrive')"
      ],
      "execution_count": 2,
      "outputs": [
        {
          "output_type": "stream",
          "text": [
            "Drive already mounted at /content/gdrive; to attempt to forcibly remount, call drive.mount(\"/content/gdrive\", force_remount=True).\n"
          ],
          "name": "stdout"
        }
      ]
    },
    {
      "cell_type": "code",
      "metadata": {
        "colab": {
          "base_uri": "https://localhost:8080/"
        },
        "id": "ZtQe3yekOc1_",
        "outputId": "7a22c5e1-662a-4eca-90ba-0d26a0887b44"
      },
      "source": [
        "cd /content/gdrive/My Drive/BOAZ"
      ],
      "execution_count": 3,
      "outputs": [
        {
          "output_type": "stream",
          "text": [
            "/content/gdrive/My Drive/BOAZ\n"
          ],
          "name": "stdout"
        }
      ]
    },
    {
      "cell_type": "code",
      "metadata": {
        "colab": {
          "base_uri": "https://localhost:8080/",
          "height": 359
        },
        "id": "aRt4CzACE3cs",
        "outputId": "0ec656ef-ac6c-4b77-aeb9-cdd7a7802eca"
      },
      "source": [
        "df=pd.read_csv(\"train.csv\")\r\n",
        "df.head(10)"
      ],
      "execution_count": 4,
      "outputs": [
        {
          "output_type": "execute_result",
          "data": {
            "text/html": [
              "<div>\n",
              "<style scoped>\n",
              "    .dataframe tbody tr th:only-of-type {\n",
              "        vertical-align: middle;\n",
              "    }\n",
              "\n",
              "    .dataframe tbody tr th {\n",
              "        vertical-align: top;\n",
              "    }\n",
              "\n",
              "    .dataframe thead th {\n",
              "        text-align: right;\n",
              "    }\n",
              "</style>\n",
              "<table border=\"1\" class=\"dataframe\">\n",
              "  <thead>\n",
              "    <tr style=\"text-align: right;\">\n",
              "      <th></th>\n",
              "      <th>id</th>\n",
              "      <th>date</th>\n",
              "      <th>price</th>\n",
              "      <th>bedrooms</th>\n",
              "      <th>bathrooms</th>\n",
              "      <th>sqft_living</th>\n",
              "      <th>sqft_lot</th>\n",
              "      <th>floors</th>\n",
              "      <th>waterfront</th>\n",
              "      <th>view</th>\n",
              "      <th>condition</th>\n",
              "      <th>grade</th>\n",
              "      <th>sqft_above</th>\n",
              "      <th>sqft_basement</th>\n",
              "      <th>yr_built</th>\n",
              "      <th>yr_renovated</th>\n",
              "      <th>zipcode</th>\n",
              "      <th>lat</th>\n",
              "      <th>long</th>\n",
              "      <th>sqft_living15</th>\n",
              "      <th>sqft_lot15</th>\n",
              "    </tr>\n",
              "  </thead>\n",
              "  <tbody>\n",
              "    <tr>\n",
              "      <th>0</th>\n",
              "      <td>0</td>\n",
              "      <td>20141013T000000</td>\n",
              "      <td>221900.0</td>\n",
              "      <td>3</td>\n",
              "      <td>1.00</td>\n",
              "      <td>1180</td>\n",
              "      <td>5650</td>\n",
              "      <td>1.0</td>\n",
              "      <td>0</td>\n",
              "      <td>0</td>\n",
              "      <td>3</td>\n",
              "      <td>7</td>\n",
              "      <td>1180</td>\n",
              "      <td>0</td>\n",
              "      <td>1955</td>\n",
              "      <td>0</td>\n",
              "      <td>98178</td>\n",
              "      <td>47.5112</td>\n",
              "      <td>-122.257</td>\n",
              "      <td>1340</td>\n",
              "      <td>5650</td>\n",
              "    </tr>\n",
              "    <tr>\n",
              "      <th>1</th>\n",
              "      <td>1</td>\n",
              "      <td>20150225T000000</td>\n",
              "      <td>180000.0</td>\n",
              "      <td>2</td>\n",
              "      <td>1.00</td>\n",
              "      <td>770</td>\n",
              "      <td>10000</td>\n",
              "      <td>1.0</td>\n",
              "      <td>0</td>\n",
              "      <td>0</td>\n",
              "      <td>3</td>\n",
              "      <td>6</td>\n",
              "      <td>770</td>\n",
              "      <td>0</td>\n",
              "      <td>1933</td>\n",
              "      <td>0</td>\n",
              "      <td>98028</td>\n",
              "      <td>47.7379</td>\n",
              "      <td>-122.233</td>\n",
              "      <td>2720</td>\n",
              "      <td>8062</td>\n",
              "    </tr>\n",
              "    <tr>\n",
              "      <th>2</th>\n",
              "      <td>2</td>\n",
              "      <td>20150218T000000</td>\n",
              "      <td>510000.0</td>\n",
              "      <td>3</td>\n",
              "      <td>2.00</td>\n",
              "      <td>1680</td>\n",
              "      <td>8080</td>\n",
              "      <td>1.0</td>\n",
              "      <td>0</td>\n",
              "      <td>0</td>\n",
              "      <td>3</td>\n",
              "      <td>8</td>\n",
              "      <td>1680</td>\n",
              "      <td>0</td>\n",
              "      <td>1987</td>\n",
              "      <td>0</td>\n",
              "      <td>98074</td>\n",
              "      <td>47.6168</td>\n",
              "      <td>-122.045</td>\n",
              "      <td>1800</td>\n",
              "      <td>7503</td>\n",
              "    </tr>\n",
              "    <tr>\n",
              "      <th>3</th>\n",
              "      <td>3</td>\n",
              "      <td>20140627T000000</td>\n",
              "      <td>257500.0</td>\n",
              "      <td>3</td>\n",
              "      <td>2.25</td>\n",
              "      <td>1715</td>\n",
              "      <td>6819</td>\n",
              "      <td>2.0</td>\n",
              "      <td>0</td>\n",
              "      <td>0</td>\n",
              "      <td>3</td>\n",
              "      <td>7</td>\n",
              "      <td>1715</td>\n",
              "      <td>0</td>\n",
              "      <td>1995</td>\n",
              "      <td>0</td>\n",
              "      <td>98003</td>\n",
              "      <td>47.3097</td>\n",
              "      <td>-122.327</td>\n",
              "      <td>2238</td>\n",
              "      <td>6819</td>\n",
              "    </tr>\n",
              "    <tr>\n",
              "      <th>4</th>\n",
              "      <td>4</td>\n",
              "      <td>20150115T000000</td>\n",
              "      <td>291850.0</td>\n",
              "      <td>3</td>\n",
              "      <td>1.50</td>\n",
              "      <td>1060</td>\n",
              "      <td>9711</td>\n",
              "      <td>1.0</td>\n",
              "      <td>0</td>\n",
              "      <td>0</td>\n",
              "      <td>3</td>\n",
              "      <td>7</td>\n",
              "      <td>1060</td>\n",
              "      <td>0</td>\n",
              "      <td>1963</td>\n",
              "      <td>0</td>\n",
              "      <td>98198</td>\n",
              "      <td>47.4095</td>\n",
              "      <td>-122.315</td>\n",
              "      <td>1650</td>\n",
              "      <td>9711</td>\n",
              "    </tr>\n",
              "    <tr>\n",
              "      <th>5</th>\n",
              "      <td>5</td>\n",
              "      <td>20150403T000000</td>\n",
              "      <td>662500.0</td>\n",
              "      <td>3</td>\n",
              "      <td>2.50</td>\n",
              "      <td>3560</td>\n",
              "      <td>9796</td>\n",
              "      <td>1.0</td>\n",
              "      <td>0</td>\n",
              "      <td>0</td>\n",
              "      <td>3</td>\n",
              "      <td>8</td>\n",
              "      <td>1860</td>\n",
              "      <td>1700</td>\n",
              "      <td>1965</td>\n",
              "      <td>0</td>\n",
              "      <td>98007</td>\n",
              "      <td>47.6007</td>\n",
              "      <td>-122.145</td>\n",
              "      <td>2210</td>\n",
              "      <td>8925</td>\n",
              "    </tr>\n",
              "    <tr>\n",
              "      <th>6</th>\n",
              "      <td>6</td>\n",
              "      <td>20140527T000000</td>\n",
              "      <td>468000.0</td>\n",
              "      <td>2</td>\n",
              "      <td>1.00</td>\n",
              "      <td>1160</td>\n",
              "      <td>6000</td>\n",
              "      <td>1.0</td>\n",
              "      <td>0</td>\n",
              "      <td>0</td>\n",
              "      <td>4</td>\n",
              "      <td>7</td>\n",
              "      <td>860</td>\n",
              "      <td>300</td>\n",
              "      <td>1942</td>\n",
              "      <td>0</td>\n",
              "      <td>98115</td>\n",
              "      <td>47.6900</td>\n",
              "      <td>-122.292</td>\n",
              "      <td>1330</td>\n",
              "      <td>6000</td>\n",
              "    </tr>\n",
              "    <tr>\n",
              "      <th>7</th>\n",
              "      <td>7</td>\n",
              "      <td>20140528T000000</td>\n",
              "      <td>310000.0</td>\n",
              "      <td>3</td>\n",
              "      <td>1.00</td>\n",
              "      <td>1430</td>\n",
              "      <td>19901</td>\n",
              "      <td>1.5</td>\n",
              "      <td>0</td>\n",
              "      <td>0</td>\n",
              "      <td>4</td>\n",
              "      <td>7</td>\n",
              "      <td>1430</td>\n",
              "      <td>0</td>\n",
              "      <td>1927</td>\n",
              "      <td>0</td>\n",
              "      <td>98028</td>\n",
              "      <td>47.7558</td>\n",
              "      <td>-122.229</td>\n",
              "      <td>1780</td>\n",
              "      <td>12697</td>\n",
              "    </tr>\n",
              "    <tr>\n",
              "      <th>8</th>\n",
              "      <td>8</td>\n",
              "      <td>20141007T000000</td>\n",
              "      <td>400000.0</td>\n",
              "      <td>3</td>\n",
              "      <td>1.75</td>\n",
              "      <td>1370</td>\n",
              "      <td>9680</td>\n",
              "      <td>1.0</td>\n",
              "      <td>0</td>\n",
              "      <td>0</td>\n",
              "      <td>4</td>\n",
              "      <td>7</td>\n",
              "      <td>1370</td>\n",
              "      <td>0</td>\n",
              "      <td>1977</td>\n",
              "      <td>0</td>\n",
              "      <td>98074</td>\n",
              "      <td>47.6127</td>\n",
              "      <td>-122.045</td>\n",
              "      <td>1370</td>\n",
              "      <td>10208</td>\n",
              "    </tr>\n",
              "    <tr>\n",
              "      <th>9</th>\n",
              "      <td>9</td>\n",
              "      <td>20150312T000000</td>\n",
              "      <td>530000.0</td>\n",
              "      <td>5</td>\n",
              "      <td>2.00</td>\n",
              "      <td>1810</td>\n",
              "      <td>4850</td>\n",
              "      <td>1.5</td>\n",
              "      <td>0</td>\n",
              "      <td>0</td>\n",
              "      <td>3</td>\n",
              "      <td>7</td>\n",
              "      <td>1810</td>\n",
              "      <td>0</td>\n",
              "      <td>1900</td>\n",
              "      <td>0</td>\n",
              "      <td>98107</td>\n",
              "      <td>47.6700</td>\n",
              "      <td>-122.394</td>\n",
              "      <td>1360</td>\n",
              "      <td>4850</td>\n",
              "    </tr>\n",
              "  </tbody>\n",
              "</table>\n",
              "</div>"
            ],
            "text/plain": [
              "   id             date     price  ...     long  sqft_living15  sqft_lot15\n",
              "0   0  20141013T000000  221900.0  ... -122.257           1340        5650\n",
              "1   1  20150225T000000  180000.0  ... -122.233           2720        8062\n",
              "2   2  20150218T000000  510000.0  ... -122.045           1800        7503\n",
              "3   3  20140627T000000  257500.0  ... -122.327           2238        6819\n",
              "4   4  20150115T000000  291850.0  ... -122.315           1650        9711\n",
              "5   5  20150403T000000  662500.0  ... -122.145           2210        8925\n",
              "6   6  20140527T000000  468000.0  ... -122.292           1330        6000\n",
              "7   7  20140528T000000  310000.0  ... -122.229           1780       12697\n",
              "8   8  20141007T000000  400000.0  ... -122.045           1370       10208\n",
              "9   9  20150312T000000  530000.0  ... -122.394           1360        4850\n",
              "\n",
              "[10 rows x 21 columns]"
            ]
          },
          "metadata": {
            "tags": []
          },
          "execution_count": 4
        }
      ]
    },
    {
      "cell_type": "markdown",
      "metadata": {
        "id": "pnSgW9FLE3cu"
      },
      "source": [
        "### 1. 각 Column별로 null값이 있는지 확인해주세요."
      ]
    },
    {
      "cell_type": "code",
      "metadata": {
        "scrolled": true,
        "colab": {
          "base_uri": "https://localhost:8080/"
        },
        "id": "wYPtiU9tE3cw",
        "outputId": "33f96e95-e9a5-4a29-847d-6dbac1bdba48"
      },
      "source": [
        "df.info()"
      ],
      "execution_count": 5,
      "outputs": [
        {
          "output_type": "stream",
          "text": [
            "<class 'pandas.core.frame.DataFrame'>\n",
            "RangeIndex: 15035 entries, 0 to 15034\n",
            "Data columns (total 21 columns):\n",
            " #   Column         Non-Null Count  Dtype  \n",
            "---  ------         --------------  -----  \n",
            " 0   id             15035 non-null  int64  \n",
            " 1   date           15035 non-null  object \n",
            " 2   price          15035 non-null  float64\n",
            " 3   bedrooms       15035 non-null  int64  \n",
            " 4   bathrooms      15035 non-null  float64\n",
            " 5   sqft_living    15035 non-null  int64  \n",
            " 6   sqft_lot       15035 non-null  int64  \n",
            " 7   floors         15035 non-null  float64\n",
            " 8   waterfront     15035 non-null  int64  \n",
            " 9   view           15035 non-null  int64  \n",
            " 10  condition      15035 non-null  int64  \n",
            " 11  grade          15035 non-null  int64  \n",
            " 12  sqft_above     15035 non-null  int64  \n",
            " 13  sqft_basement  15035 non-null  int64  \n",
            " 14  yr_built       15035 non-null  int64  \n",
            " 15  yr_renovated   15035 non-null  int64  \n",
            " 16  zipcode        15035 non-null  int64  \n",
            " 17  lat            15035 non-null  float64\n",
            " 18  long           15035 non-null  float64\n",
            " 19  sqft_living15  15035 non-null  int64  \n",
            " 20  sqft_lot15     15035 non-null  int64  \n",
            "dtypes: float64(5), int64(15), object(1)\n",
            "memory usage: 2.4+ MB\n"
          ],
          "name": "stdout"
        }
      ]
    },
    {
      "cell_type": "markdown",
      "metadata": {
        "id": "OE-jwIyrE3cy"
      },
      "source": [
        "### 2. grade Column에는 어떤 값이 있는지 확인해주세요."
      ]
    },
    {
      "cell_type": "code",
      "metadata": {
        "colab": {
          "base_uri": "https://localhost:8080/"
        },
        "id": "8WJE5FZXE3c0",
        "outputId": "0b6853ab-26d6-4873-fcea-fb78d52580c3"
      },
      "source": [
        "df.grade.unique()"
      ],
      "execution_count": 6,
      "outputs": [
        {
          "output_type": "execute_result",
          "data": {
            "text/plain": [
              "array([ 7,  6,  8,  9, 10, 11, 12,  5,  4,  3, 13,  1])"
            ]
          },
          "metadata": {
            "tags": []
          },
          "execution_count": 6
        }
      ]
    },
    {
      "cell_type": "markdown",
      "metadata": {
        "id": "8aOJoPtwE3c2"
      },
      "source": [
        "### 3. zipcode에 대해서 문자열로 바꿔주세요."
      ]
    },
    {
      "cell_type": "code",
      "metadata": {
        "id": "QpR5q082E3c3"
      },
      "source": [
        "df['zipcode']=df['zipcode'].astype(str)"
      ],
      "execution_count": 7,
      "outputs": []
    },
    {
      "cell_type": "code",
      "metadata": {
        "scrolled": true,
        "colab": {
          "base_uri": "https://localhost:8080/"
        },
        "id": "yY69VjsgE3c3",
        "outputId": "b7bfc3d9-4d0d-47f5-ab92-80e8ff1aa673"
      },
      "source": [
        "df.info()"
      ],
      "execution_count": 8,
      "outputs": [
        {
          "output_type": "stream",
          "text": [
            "<class 'pandas.core.frame.DataFrame'>\n",
            "RangeIndex: 15035 entries, 0 to 15034\n",
            "Data columns (total 21 columns):\n",
            " #   Column         Non-Null Count  Dtype  \n",
            "---  ------         --------------  -----  \n",
            " 0   id             15035 non-null  int64  \n",
            " 1   date           15035 non-null  object \n",
            " 2   price          15035 non-null  float64\n",
            " 3   bedrooms       15035 non-null  int64  \n",
            " 4   bathrooms      15035 non-null  float64\n",
            " 5   sqft_living    15035 non-null  int64  \n",
            " 6   sqft_lot       15035 non-null  int64  \n",
            " 7   floors         15035 non-null  float64\n",
            " 8   waterfront     15035 non-null  int64  \n",
            " 9   view           15035 non-null  int64  \n",
            " 10  condition      15035 non-null  int64  \n",
            " 11  grade          15035 non-null  int64  \n",
            " 12  sqft_above     15035 non-null  int64  \n",
            " 13  sqft_basement  15035 non-null  int64  \n",
            " 14  yr_built       15035 non-null  int64  \n",
            " 15  yr_renovated   15035 non-null  int64  \n",
            " 16  zipcode        15035 non-null  object \n",
            " 17  lat            15035 non-null  float64\n",
            " 18  long           15035 non-null  float64\n",
            " 19  sqft_living15  15035 non-null  int64  \n",
            " 20  sqft_lot15     15035 non-null  int64  \n",
            "dtypes: float64(5), int64(14), object(2)\n",
            "memory usage: 2.4+ MB\n"
          ],
          "name": "stdout"
        }
      ]
    },
    {
      "cell_type": "markdown",
      "metadata": {
        "id": "oW1IlvSQE3c4"
      },
      "source": [
        "### 4. loc를 활용하여 date, price, grade만 출력해주세요."
      ]
    },
    {
      "cell_type": "code",
      "metadata": {
        "colab": {
          "base_uri": "https://localhost:8080/",
          "height": 419
        },
        "id": "yP3-GYdNE3c5",
        "outputId": "f2ee1909-0f1a-49f1-d48c-ec69aabfd2f8"
      },
      "source": [
        "df.loc[:,['date','price','grade']]"
      ],
      "execution_count": 9,
      "outputs": [
        {
          "output_type": "execute_result",
          "data": {
            "text/html": [
              "<div>\n",
              "<style scoped>\n",
              "    .dataframe tbody tr th:only-of-type {\n",
              "        vertical-align: middle;\n",
              "    }\n",
              "\n",
              "    .dataframe tbody tr th {\n",
              "        vertical-align: top;\n",
              "    }\n",
              "\n",
              "    .dataframe thead th {\n",
              "        text-align: right;\n",
              "    }\n",
              "</style>\n",
              "<table border=\"1\" class=\"dataframe\">\n",
              "  <thead>\n",
              "    <tr style=\"text-align: right;\">\n",
              "      <th></th>\n",
              "      <th>date</th>\n",
              "      <th>price</th>\n",
              "      <th>grade</th>\n",
              "    </tr>\n",
              "  </thead>\n",
              "  <tbody>\n",
              "    <tr>\n",
              "      <th>0</th>\n",
              "      <td>20141013T000000</td>\n",
              "      <td>221900.0</td>\n",
              "      <td>7</td>\n",
              "    </tr>\n",
              "    <tr>\n",
              "      <th>1</th>\n",
              "      <td>20150225T000000</td>\n",
              "      <td>180000.0</td>\n",
              "      <td>6</td>\n",
              "    </tr>\n",
              "    <tr>\n",
              "      <th>2</th>\n",
              "      <td>20150218T000000</td>\n",
              "      <td>510000.0</td>\n",
              "      <td>8</td>\n",
              "    </tr>\n",
              "    <tr>\n",
              "      <th>3</th>\n",
              "      <td>20140627T000000</td>\n",
              "      <td>257500.0</td>\n",
              "      <td>7</td>\n",
              "    </tr>\n",
              "    <tr>\n",
              "      <th>4</th>\n",
              "      <td>20150115T000000</td>\n",
              "      <td>291850.0</td>\n",
              "      <td>7</td>\n",
              "    </tr>\n",
              "    <tr>\n",
              "      <th>...</th>\n",
              "      <td>...</td>\n",
              "      <td>...</td>\n",
              "      <td>...</td>\n",
              "    </tr>\n",
              "    <tr>\n",
              "      <th>15030</th>\n",
              "      <td>20141014T000000</td>\n",
              "      <td>610685.0</td>\n",
              "      <td>9</td>\n",
              "    </tr>\n",
              "    <tr>\n",
              "      <th>15031</th>\n",
              "      <td>20150326T000000</td>\n",
              "      <td>1007500.0</td>\n",
              "      <td>9</td>\n",
              "    </tr>\n",
              "    <tr>\n",
              "      <th>15032</th>\n",
              "      <td>20140521T000000</td>\n",
              "      <td>360000.0</td>\n",
              "      <td>8</td>\n",
              "    </tr>\n",
              "    <tr>\n",
              "      <th>15033</th>\n",
              "      <td>20150223T000000</td>\n",
              "      <td>400000.0</td>\n",
              "      <td>8</td>\n",
              "    </tr>\n",
              "    <tr>\n",
              "      <th>15034</th>\n",
              "      <td>20141015T000000</td>\n",
              "      <td>325000.0</td>\n",
              "      <td>7</td>\n",
              "    </tr>\n",
              "  </tbody>\n",
              "</table>\n",
              "<p>15035 rows × 3 columns</p>\n",
              "</div>"
            ],
            "text/plain": [
              "                  date      price  grade\n",
              "0      20141013T000000   221900.0      7\n",
              "1      20150225T000000   180000.0      6\n",
              "2      20150218T000000   510000.0      8\n",
              "3      20140627T000000   257500.0      7\n",
              "4      20150115T000000   291850.0      7\n",
              "...                ...        ...    ...\n",
              "15030  20141014T000000   610685.0      9\n",
              "15031  20150326T000000  1007500.0      9\n",
              "15032  20140521T000000   360000.0      8\n",
              "15033  20150223T000000   400000.0      8\n",
              "15034  20141015T000000   325000.0      7\n",
              "\n",
              "[15035 rows x 3 columns]"
            ]
          },
          "metadata": {
            "tags": []
          },
          "execution_count": 9
        }
      ]
    },
    {
      "cell_type": "markdown",
      "metadata": {
        "id": "8Oc6EapLE3c6"
      },
      "source": [
        "### 5. grade가 13인 행들만 보여주세요."
      ]
    },
    {
      "cell_type": "code",
      "metadata": {
        "colab": {
          "base_uri": "https://localhost:8080/",
          "height": 348
        },
        "id": "QVPAIVM7E3c7",
        "outputId": "4f6458d9-f263-4268-8d2e-ad51661a29b9"
      },
      "source": [
        "df.loc[df.grade==13 ]"
      ],
      "execution_count": 10,
      "outputs": [
        {
          "output_type": "execute_result",
          "data": {
            "text/html": [
              "<div>\n",
              "<style scoped>\n",
              "    .dataframe tbody tr th:only-of-type {\n",
              "        vertical-align: middle;\n",
              "    }\n",
              "\n",
              "    .dataframe tbody tr th {\n",
              "        vertical-align: top;\n",
              "    }\n",
              "\n",
              "    .dataframe thead th {\n",
              "        text-align: right;\n",
              "    }\n",
              "</style>\n",
              "<table border=\"1\" class=\"dataframe\">\n",
              "  <thead>\n",
              "    <tr style=\"text-align: right;\">\n",
              "      <th></th>\n",
              "      <th>id</th>\n",
              "      <th>date</th>\n",
              "      <th>price</th>\n",
              "      <th>bedrooms</th>\n",
              "      <th>bathrooms</th>\n",
              "      <th>sqft_living</th>\n",
              "      <th>sqft_lot</th>\n",
              "      <th>floors</th>\n",
              "      <th>waterfront</th>\n",
              "      <th>view</th>\n",
              "      <th>condition</th>\n",
              "      <th>grade</th>\n",
              "      <th>sqft_above</th>\n",
              "      <th>sqft_basement</th>\n",
              "      <th>yr_built</th>\n",
              "      <th>yr_renovated</th>\n",
              "      <th>zipcode</th>\n",
              "      <th>lat</th>\n",
              "      <th>long</th>\n",
              "      <th>sqft_living15</th>\n",
              "      <th>sqft_lot15</th>\n",
              "    </tr>\n",
              "  </thead>\n",
              "  <tbody>\n",
              "    <tr>\n",
              "      <th>3134</th>\n",
              "      <td>3134</td>\n",
              "      <td>20140804T000000</td>\n",
              "      <td>5570000.0</td>\n",
              "      <td>5</td>\n",
              "      <td>5.75</td>\n",
              "      <td>9200</td>\n",
              "      <td>35069</td>\n",
              "      <td>2.0</td>\n",
              "      <td>0</td>\n",
              "      <td>0</td>\n",
              "      <td>3</td>\n",
              "      <td>13</td>\n",
              "      <td>6200</td>\n",
              "      <td>3000</td>\n",
              "      <td>2001</td>\n",
              "      <td>0</td>\n",
              "      <td>98039</td>\n",
              "      <td>47.6289</td>\n",
              "      <td>-122.233</td>\n",
              "      <td>3560</td>\n",
              "      <td>24345</td>\n",
              "    </tr>\n",
              "    <tr>\n",
              "      <th>3867</th>\n",
              "      <td>3867</td>\n",
              "      <td>20141010T000000</td>\n",
              "      <td>1780000.0</td>\n",
              "      <td>4</td>\n",
              "      <td>3.25</td>\n",
              "      <td>4890</td>\n",
              "      <td>13402</td>\n",
              "      <td>2.0</td>\n",
              "      <td>0</td>\n",
              "      <td>0</td>\n",
              "      <td>3</td>\n",
              "      <td>13</td>\n",
              "      <td>4890</td>\n",
              "      <td>0</td>\n",
              "      <td>2004</td>\n",
              "      <td>0</td>\n",
              "      <td>98059</td>\n",
              "      <td>47.5303</td>\n",
              "      <td>-122.131</td>\n",
              "      <td>5790</td>\n",
              "      <td>13539</td>\n",
              "    </tr>\n",
              "    <tr>\n",
              "      <th>4266</th>\n",
              "      <td>4266</td>\n",
              "      <td>20141120T000000</td>\n",
              "      <td>2385000.0</td>\n",
              "      <td>4</td>\n",
              "      <td>4.00</td>\n",
              "      <td>6330</td>\n",
              "      <td>13296</td>\n",
              "      <td>2.0</td>\n",
              "      <td>0</td>\n",
              "      <td>2</td>\n",
              "      <td>3</td>\n",
              "      <td>13</td>\n",
              "      <td>4900</td>\n",
              "      <td>1430</td>\n",
              "      <td>2000</td>\n",
              "      <td>0</td>\n",
              "      <td>98033</td>\n",
              "      <td>47.6488</td>\n",
              "      <td>-122.201</td>\n",
              "      <td>2200</td>\n",
              "      <td>9196</td>\n",
              "    </tr>\n",
              "    <tr>\n",
              "      <th>4957</th>\n",
              "      <td>4957</td>\n",
              "      <td>20140701T000000</td>\n",
              "      <td>3800000.0</td>\n",
              "      <td>5</td>\n",
              "      <td>5.50</td>\n",
              "      <td>7050</td>\n",
              "      <td>42840</td>\n",
              "      <td>1.0</td>\n",
              "      <td>0</td>\n",
              "      <td>2</td>\n",
              "      <td>4</td>\n",
              "      <td>13</td>\n",
              "      <td>4320</td>\n",
              "      <td>2730</td>\n",
              "      <td>1978</td>\n",
              "      <td>0</td>\n",
              "      <td>98004</td>\n",
              "      <td>47.6229</td>\n",
              "      <td>-122.220</td>\n",
              "      <td>5070</td>\n",
              "      <td>20570</td>\n",
              "    </tr>\n",
              "    <tr>\n",
              "      <th>5108</th>\n",
              "      <td>5108</td>\n",
              "      <td>20141013T000000</td>\n",
              "      <td>7700000.0</td>\n",
              "      <td>6</td>\n",
              "      <td>8.00</td>\n",
              "      <td>12050</td>\n",
              "      <td>27600</td>\n",
              "      <td>2.5</td>\n",
              "      <td>0</td>\n",
              "      <td>3</td>\n",
              "      <td>4</td>\n",
              "      <td>13</td>\n",
              "      <td>8570</td>\n",
              "      <td>3480</td>\n",
              "      <td>1910</td>\n",
              "      <td>1987</td>\n",
              "      <td>98102</td>\n",
              "      <td>47.6298</td>\n",
              "      <td>-122.323</td>\n",
              "      <td>3940</td>\n",
              "      <td>8800</td>\n",
              "    </tr>\n",
              "    <tr>\n",
              "      <th>5560</th>\n",
              "      <td>5560</td>\n",
              "      <td>20140923T000000</td>\n",
              "      <td>3200000.0</td>\n",
              "      <td>6</td>\n",
              "      <td>5.00</td>\n",
              "      <td>7100</td>\n",
              "      <td>18200</td>\n",
              "      <td>2.5</td>\n",
              "      <td>0</td>\n",
              "      <td>0</td>\n",
              "      <td>3</td>\n",
              "      <td>13</td>\n",
              "      <td>5240</td>\n",
              "      <td>1860</td>\n",
              "      <td>1933</td>\n",
              "      <td>2002</td>\n",
              "      <td>98199</td>\n",
              "      <td>47.6427</td>\n",
              "      <td>-122.408</td>\n",
              "      <td>3130</td>\n",
              "      <td>6477</td>\n",
              "    </tr>\n",
              "    <tr>\n",
              "      <th>6469</th>\n",
              "      <td>6469</td>\n",
              "      <td>20140919T000000</td>\n",
              "      <td>6885000.0</td>\n",
              "      <td>6</td>\n",
              "      <td>7.75</td>\n",
              "      <td>9890</td>\n",
              "      <td>31374</td>\n",
              "      <td>2.0</td>\n",
              "      <td>0</td>\n",
              "      <td>4</td>\n",
              "      <td>3</td>\n",
              "      <td>13</td>\n",
              "      <td>8860</td>\n",
              "      <td>1030</td>\n",
              "      <td>2001</td>\n",
              "      <td>0</td>\n",
              "      <td>98039</td>\n",
              "      <td>47.6305</td>\n",
              "      <td>-122.240</td>\n",
              "      <td>4540</td>\n",
              "      <td>42730</td>\n",
              "    </tr>\n",
              "    <tr>\n",
              "      <th>7246</th>\n",
              "      <td>7246</td>\n",
              "      <td>20141212T000000</td>\n",
              "      <td>2983000.0</td>\n",
              "      <td>5</td>\n",
              "      <td>5.50</td>\n",
              "      <td>7400</td>\n",
              "      <td>18898</td>\n",
              "      <td>2.0</td>\n",
              "      <td>0</td>\n",
              "      <td>3</td>\n",
              "      <td>3</td>\n",
              "      <td>13</td>\n",
              "      <td>6290</td>\n",
              "      <td>1110</td>\n",
              "      <td>2001</td>\n",
              "      <td>0</td>\n",
              "      <td>98006</td>\n",
              "      <td>47.5431</td>\n",
              "      <td>-122.112</td>\n",
              "      <td>6110</td>\n",
              "      <td>26442</td>\n",
              "    </tr>\n",
              "    <tr>\n",
              "      <th>10152</th>\n",
              "      <td>10152</td>\n",
              "      <td>20140611T000000</td>\n",
              "      <td>2888000.0</td>\n",
              "      <td>5</td>\n",
              "      <td>6.25</td>\n",
              "      <td>8670</td>\n",
              "      <td>64033</td>\n",
              "      <td>2.0</td>\n",
              "      <td>0</td>\n",
              "      <td>4</td>\n",
              "      <td>3</td>\n",
              "      <td>13</td>\n",
              "      <td>6120</td>\n",
              "      <td>2550</td>\n",
              "      <td>1965</td>\n",
              "      <td>2003</td>\n",
              "      <td>98177</td>\n",
              "      <td>47.7295</td>\n",
              "      <td>-122.372</td>\n",
              "      <td>4140</td>\n",
              "      <td>81021</td>\n",
              "    </tr>\n",
              "  </tbody>\n",
              "</table>\n",
              "</div>"
            ],
            "text/plain": [
              "          id             date      price  ...     long  sqft_living15  sqft_lot15\n",
              "3134    3134  20140804T000000  5570000.0  ... -122.233           3560       24345\n",
              "3867    3867  20141010T000000  1780000.0  ... -122.131           5790       13539\n",
              "4266    4266  20141120T000000  2385000.0  ... -122.201           2200        9196\n",
              "4957    4957  20140701T000000  3800000.0  ... -122.220           5070       20570\n",
              "5108    5108  20141013T000000  7700000.0  ... -122.323           3940        8800\n",
              "5560    5560  20140923T000000  3200000.0  ... -122.408           3130        6477\n",
              "6469    6469  20140919T000000  6885000.0  ... -122.240           4540       42730\n",
              "7246    7246  20141212T000000  2983000.0  ... -122.112           6110       26442\n",
              "10152  10152  20140611T000000  2888000.0  ... -122.372           4140       81021\n",
              "\n",
              "[9 rows x 21 columns]"
            ]
          },
          "metadata": {
            "tags": []
          },
          "execution_count": 10
        }
      ]
    },
    {
      "cell_type": "markdown",
      "metadata": {
        "id": "ekh0prquE3c8"
      },
      "source": [
        "### 6. grade별로 평균 가격을 보여주세요."
      ]
    },
    {
      "cell_type": "code",
      "metadata": {
        "colab": {
          "base_uri": "https://localhost:8080/",
          "height": 452
        },
        "id": "uV7GtkGEE3c8",
        "outputId": "30116171-430b-44d2-caf1-fdcb2b46c108"
      },
      "source": [
        "df2=df.groupby('grade')['price'].agg([('grade_mean','mean')])\r\n",
        "df2"
      ],
      "execution_count": 11,
      "outputs": [
        {
          "output_type": "execute_result",
          "data": {
            "text/html": [
              "<div>\n",
              "<style scoped>\n",
              "    .dataframe tbody tr th:only-of-type {\n",
              "        vertical-align: middle;\n",
              "    }\n",
              "\n",
              "    .dataframe tbody tr th {\n",
              "        vertical-align: top;\n",
              "    }\n",
              "\n",
              "    .dataframe thead th {\n",
              "        text-align: right;\n",
              "    }\n",
              "</style>\n",
              "<table border=\"1\" class=\"dataframe\">\n",
              "  <thead>\n",
              "    <tr style=\"text-align: right;\">\n",
              "      <th></th>\n",
              "      <th>grade_mean</th>\n",
              "    </tr>\n",
              "    <tr>\n",
              "      <th>grade</th>\n",
              "      <th></th>\n",
              "    </tr>\n",
              "  </thead>\n",
              "  <tbody>\n",
              "    <tr>\n",
              "      <th>1</th>\n",
              "      <td>1.420000e+05</td>\n",
              "    </tr>\n",
              "    <tr>\n",
              "      <th>3</th>\n",
              "      <td>2.710000e+05</td>\n",
              "    </tr>\n",
              "    <tr>\n",
              "      <th>4</th>\n",
              "      <td>2.097413e+05</td>\n",
              "    </tr>\n",
              "    <tr>\n",
              "      <th>5</th>\n",
              "      <td>2.510696e+05</td>\n",
              "    </tr>\n",
              "    <tr>\n",
              "      <th>6</th>\n",
              "      <td>3.001554e+05</td>\n",
              "    </tr>\n",
              "    <tr>\n",
              "      <th>7</th>\n",
              "      <td>4.015281e+05</td>\n",
              "    </tr>\n",
              "    <tr>\n",
              "      <th>8</th>\n",
              "      <td>5.423156e+05</td>\n",
              "    </tr>\n",
              "    <tr>\n",
              "      <th>9</th>\n",
              "      <td>7.734781e+05</td>\n",
              "    </tr>\n",
              "    <tr>\n",
              "      <th>10</th>\n",
              "      <td>1.062482e+06</td>\n",
              "    </tr>\n",
              "    <tr>\n",
              "      <th>11</th>\n",
              "      <td>1.522459e+06</td>\n",
              "    </tr>\n",
              "    <tr>\n",
              "      <th>12</th>\n",
              "      <td>2.220540e+06</td>\n",
              "    </tr>\n",
              "    <tr>\n",
              "      <th>13</th>\n",
              "      <td>4.132333e+06</td>\n",
              "    </tr>\n",
              "  </tbody>\n",
              "</table>\n",
              "</div>"
            ],
            "text/plain": [
              "         grade_mean\n",
              "grade              \n",
              "1      1.420000e+05\n",
              "3      2.710000e+05\n",
              "4      2.097413e+05\n",
              "5      2.510696e+05\n",
              "6      3.001554e+05\n",
              "7      4.015281e+05\n",
              "8      5.423156e+05\n",
              "9      7.734781e+05\n",
              "10     1.062482e+06\n",
              "11     1.522459e+06\n",
              "12     2.220540e+06\n",
              "13     4.132333e+06"
            ]
          },
          "metadata": {
            "tags": []
          },
          "execution_count": 11
        }
      ]
    },
    {
      "cell_type": "markdown",
      "metadata": {
        "id": "ciRK1tEOE3c9"
      },
      "source": [
        "### 7. 6번에서 만든 데이터를 원본 데이터와 merge해주세요."
      ]
    },
    {
      "cell_type": "code",
      "metadata": {
        "colab": {
          "base_uri": "https://localhost:8080/",
          "height": 439
        },
        "id": "HuYdh-bhE3c-",
        "outputId": "8a34f787-2f10-4999-f445-17504f282bdb"
      },
      "source": [
        "pd.merge(df,df2,on=\"grade\",how=\"outer\")"
      ],
      "execution_count": 12,
      "outputs": [
        {
          "output_type": "execute_result",
          "data": {
            "text/html": [
              "<div>\n",
              "<style scoped>\n",
              "    .dataframe tbody tr th:only-of-type {\n",
              "        vertical-align: middle;\n",
              "    }\n",
              "\n",
              "    .dataframe tbody tr th {\n",
              "        vertical-align: top;\n",
              "    }\n",
              "\n",
              "    .dataframe thead th {\n",
              "        text-align: right;\n",
              "    }\n",
              "</style>\n",
              "<table border=\"1\" class=\"dataframe\">\n",
              "  <thead>\n",
              "    <tr style=\"text-align: right;\">\n",
              "      <th></th>\n",
              "      <th>id</th>\n",
              "      <th>date</th>\n",
              "      <th>price</th>\n",
              "      <th>bedrooms</th>\n",
              "      <th>bathrooms</th>\n",
              "      <th>sqft_living</th>\n",
              "      <th>sqft_lot</th>\n",
              "      <th>floors</th>\n",
              "      <th>waterfront</th>\n",
              "      <th>view</th>\n",
              "      <th>condition</th>\n",
              "      <th>grade</th>\n",
              "      <th>sqft_above</th>\n",
              "      <th>sqft_basement</th>\n",
              "      <th>yr_built</th>\n",
              "      <th>yr_renovated</th>\n",
              "      <th>zipcode</th>\n",
              "      <th>lat</th>\n",
              "      <th>long</th>\n",
              "      <th>sqft_living15</th>\n",
              "      <th>sqft_lot15</th>\n",
              "      <th>grade_mean</th>\n",
              "    </tr>\n",
              "  </thead>\n",
              "  <tbody>\n",
              "    <tr>\n",
              "      <th>0</th>\n",
              "      <td>0</td>\n",
              "      <td>20141013T000000</td>\n",
              "      <td>221900.0</td>\n",
              "      <td>3</td>\n",
              "      <td>1.00</td>\n",
              "      <td>1180</td>\n",
              "      <td>5650</td>\n",
              "      <td>1.0</td>\n",
              "      <td>0</td>\n",
              "      <td>0</td>\n",
              "      <td>3</td>\n",
              "      <td>7</td>\n",
              "      <td>1180</td>\n",
              "      <td>0</td>\n",
              "      <td>1955</td>\n",
              "      <td>0</td>\n",
              "      <td>98178</td>\n",
              "      <td>47.5112</td>\n",
              "      <td>-122.257</td>\n",
              "      <td>1340</td>\n",
              "      <td>5650</td>\n",
              "      <td>4.015281e+05</td>\n",
              "    </tr>\n",
              "    <tr>\n",
              "      <th>1</th>\n",
              "      <td>3</td>\n",
              "      <td>20140627T000000</td>\n",
              "      <td>257500.0</td>\n",
              "      <td>3</td>\n",
              "      <td>2.25</td>\n",
              "      <td>1715</td>\n",
              "      <td>6819</td>\n",
              "      <td>2.0</td>\n",
              "      <td>0</td>\n",
              "      <td>0</td>\n",
              "      <td>3</td>\n",
              "      <td>7</td>\n",
              "      <td>1715</td>\n",
              "      <td>0</td>\n",
              "      <td>1995</td>\n",
              "      <td>0</td>\n",
              "      <td>98003</td>\n",
              "      <td>47.3097</td>\n",
              "      <td>-122.327</td>\n",
              "      <td>2238</td>\n",
              "      <td>6819</td>\n",
              "      <td>4.015281e+05</td>\n",
              "    </tr>\n",
              "    <tr>\n",
              "      <th>2</th>\n",
              "      <td>4</td>\n",
              "      <td>20150115T000000</td>\n",
              "      <td>291850.0</td>\n",
              "      <td>3</td>\n",
              "      <td>1.50</td>\n",
              "      <td>1060</td>\n",
              "      <td>9711</td>\n",
              "      <td>1.0</td>\n",
              "      <td>0</td>\n",
              "      <td>0</td>\n",
              "      <td>3</td>\n",
              "      <td>7</td>\n",
              "      <td>1060</td>\n",
              "      <td>0</td>\n",
              "      <td>1963</td>\n",
              "      <td>0</td>\n",
              "      <td>98198</td>\n",
              "      <td>47.4095</td>\n",
              "      <td>-122.315</td>\n",
              "      <td>1650</td>\n",
              "      <td>9711</td>\n",
              "      <td>4.015281e+05</td>\n",
              "    </tr>\n",
              "    <tr>\n",
              "      <th>3</th>\n",
              "      <td>6</td>\n",
              "      <td>20140527T000000</td>\n",
              "      <td>468000.0</td>\n",
              "      <td>2</td>\n",
              "      <td>1.00</td>\n",
              "      <td>1160</td>\n",
              "      <td>6000</td>\n",
              "      <td>1.0</td>\n",
              "      <td>0</td>\n",
              "      <td>0</td>\n",
              "      <td>4</td>\n",
              "      <td>7</td>\n",
              "      <td>860</td>\n",
              "      <td>300</td>\n",
              "      <td>1942</td>\n",
              "      <td>0</td>\n",
              "      <td>98115</td>\n",
              "      <td>47.6900</td>\n",
              "      <td>-122.292</td>\n",
              "      <td>1330</td>\n",
              "      <td>6000</td>\n",
              "      <td>4.015281e+05</td>\n",
              "    </tr>\n",
              "    <tr>\n",
              "      <th>4</th>\n",
              "      <td>7</td>\n",
              "      <td>20140528T000000</td>\n",
              "      <td>310000.0</td>\n",
              "      <td>3</td>\n",
              "      <td>1.00</td>\n",
              "      <td>1430</td>\n",
              "      <td>19901</td>\n",
              "      <td>1.5</td>\n",
              "      <td>0</td>\n",
              "      <td>0</td>\n",
              "      <td>4</td>\n",
              "      <td>7</td>\n",
              "      <td>1430</td>\n",
              "      <td>0</td>\n",
              "      <td>1927</td>\n",
              "      <td>0</td>\n",
              "      <td>98028</td>\n",
              "      <td>47.7558</td>\n",
              "      <td>-122.229</td>\n",
              "      <td>1780</td>\n",
              "      <td>12697</td>\n",
              "      <td>4.015281e+05</td>\n",
              "    </tr>\n",
              "    <tr>\n",
              "      <th>...</th>\n",
              "      <td>...</td>\n",
              "      <td>...</td>\n",
              "      <td>...</td>\n",
              "      <td>...</td>\n",
              "      <td>...</td>\n",
              "      <td>...</td>\n",
              "      <td>...</td>\n",
              "      <td>...</td>\n",
              "      <td>...</td>\n",
              "      <td>...</td>\n",
              "      <td>...</td>\n",
              "      <td>...</td>\n",
              "      <td>...</td>\n",
              "      <td>...</td>\n",
              "      <td>...</td>\n",
              "      <td>...</td>\n",
              "      <td>...</td>\n",
              "      <td>...</td>\n",
              "      <td>...</td>\n",
              "      <td>...</td>\n",
              "      <td>...</td>\n",
              "      <td>...</td>\n",
              "    </tr>\n",
              "    <tr>\n",
              "      <th>15030</th>\n",
              "      <td>5560</td>\n",
              "      <td>20140923T000000</td>\n",
              "      <td>3200000.0</td>\n",
              "      <td>6</td>\n",
              "      <td>5.00</td>\n",
              "      <td>7100</td>\n",
              "      <td>18200</td>\n",
              "      <td>2.5</td>\n",
              "      <td>0</td>\n",
              "      <td>0</td>\n",
              "      <td>3</td>\n",
              "      <td>13</td>\n",
              "      <td>5240</td>\n",
              "      <td>1860</td>\n",
              "      <td>1933</td>\n",
              "      <td>2002</td>\n",
              "      <td>98199</td>\n",
              "      <td>47.6427</td>\n",
              "      <td>-122.408</td>\n",
              "      <td>3130</td>\n",
              "      <td>6477</td>\n",
              "      <td>4.132333e+06</td>\n",
              "    </tr>\n",
              "    <tr>\n",
              "      <th>15031</th>\n",
              "      <td>6469</td>\n",
              "      <td>20140919T000000</td>\n",
              "      <td>6885000.0</td>\n",
              "      <td>6</td>\n",
              "      <td>7.75</td>\n",
              "      <td>9890</td>\n",
              "      <td>31374</td>\n",
              "      <td>2.0</td>\n",
              "      <td>0</td>\n",
              "      <td>4</td>\n",
              "      <td>3</td>\n",
              "      <td>13</td>\n",
              "      <td>8860</td>\n",
              "      <td>1030</td>\n",
              "      <td>2001</td>\n",
              "      <td>0</td>\n",
              "      <td>98039</td>\n",
              "      <td>47.6305</td>\n",
              "      <td>-122.240</td>\n",
              "      <td>4540</td>\n",
              "      <td>42730</td>\n",
              "      <td>4.132333e+06</td>\n",
              "    </tr>\n",
              "    <tr>\n",
              "      <th>15032</th>\n",
              "      <td>7246</td>\n",
              "      <td>20141212T000000</td>\n",
              "      <td>2983000.0</td>\n",
              "      <td>5</td>\n",
              "      <td>5.50</td>\n",
              "      <td>7400</td>\n",
              "      <td>18898</td>\n",
              "      <td>2.0</td>\n",
              "      <td>0</td>\n",
              "      <td>3</td>\n",
              "      <td>3</td>\n",
              "      <td>13</td>\n",
              "      <td>6290</td>\n",
              "      <td>1110</td>\n",
              "      <td>2001</td>\n",
              "      <td>0</td>\n",
              "      <td>98006</td>\n",
              "      <td>47.5431</td>\n",
              "      <td>-122.112</td>\n",
              "      <td>6110</td>\n",
              "      <td>26442</td>\n",
              "      <td>4.132333e+06</td>\n",
              "    </tr>\n",
              "    <tr>\n",
              "      <th>15033</th>\n",
              "      <td>10152</td>\n",
              "      <td>20140611T000000</td>\n",
              "      <td>2888000.0</td>\n",
              "      <td>5</td>\n",
              "      <td>6.25</td>\n",
              "      <td>8670</td>\n",
              "      <td>64033</td>\n",
              "      <td>2.0</td>\n",
              "      <td>0</td>\n",
              "      <td>4</td>\n",
              "      <td>3</td>\n",
              "      <td>13</td>\n",
              "      <td>6120</td>\n",
              "      <td>2550</td>\n",
              "      <td>1965</td>\n",
              "      <td>2003</td>\n",
              "      <td>98177</td>\n",
              "      <td>47.7295</td>\n",
              "      <td>-122.372</td>\n",
              "      <td>4140</td>\n",
              "      <td>81021</td>\n",
              "      <td>4.132333e+06</td>\n",
              "    </tr>\n",
              "    <tr>\n",
              "      <th>15034</th>\n",
              "      <td>13522</td>\n",
              "      <td>20140926T000000</td>\n",
              "      <td>142000.0</td>\n",
              "      <td>0</td>\n",
              "      <td>0.00</td>\n",
              "      <td>290</td>\n",
              "      <td>20875</td>\n",
              "      <td>1.0</td>\n",
              "      <td>0</td>\n",
              "      <td>0</td>\n",
              "      <td>1</td>\n",
              "      <td>1</td>\n",
              "      <td>290</td>\n",
              "      <td>0</td>\n",
              "      <td>1963</td>\n",
              "      <td>0</td>\n",
              "      <td>98024</td>\n",
              "      <td>47.5308</td>\n",
              "      <td>-121.888</td>\n",
              "      <td>1620</td>\n",
              "      <td>22850</td>\n",
              "      <td>1.420000e+05</td>\n",
              "    </tr>\n",
              "  </tbody>\n",
              "</table>\n",
              "<p>15035 rows × 22 columns</p>\n",
              "</div>"
            ],
            "text/plain": [
              "          id             date  ...  sqft_lot15    grade_mean\n",
              "0          0  20141013T000000  ...        5650  4.015281e+05\n",
              "1          3  20140627T000000  ...        6819  4.015281e+05\n",
              "2          4  20150115T000000  ...        9711  4.015281e+05\n",
              "3          6  20140527T000000  ...        6000  4.015281e+05\n",
              "4          7  20140528T000000  ...       12697  4.015281e+05\n",
              "...      ...              ...  ...         ...           ...\n",
              "15030   5560  20140923T000000  ...        6477  4.132333e+06\n",
              "15031   6469  20140919T000000  ...       42730  4.132333e+06\n",
              "15032   7246  20141212T000000  ...       26442  4.132333e+06\n",
              "15033  10152  20140611T000000  ...       81021  4.132333e+06\n",
              "15034  13522  20140926T000000  ...       22850  1.420000e+05\n",
              "\n",
              "[15035 rows x 22 columns]"
            ]
          },
          "metadata": {
            "tags": []
          },
          "execution_count": 12
        }
      ]
    },
    {
      "cell_type": "markdown",
      "metadata": {
        "id": "TVHKBNOVE3c_"
      },
      "source": [
        "### 8. Date Column을 이용해 년, 월, 일에 해당하는 3개의 새로운 Column을 만들어주세요."
      ]
    },
    {
      "cell_type": "code",
      "metadata": {
        "colab": {
          "base_uri": "https://localhost:8080/",
          "height": 224
        },
        "id": "LI_7k_LZJuP_",
        "outputId": "fa081800-d117-473f-f48a-8af7e7ebf247"
      },
      "source": [
        "df['new_date']=pd.to_datetime(df['date'])\r\n",
        "\r\n",
        "df['year']=df['new_date'].dt.year\r\n",
        "df['month']=df['new_date'].dt.month\r\n",
        "df['day']=df['new_date'].dt.day\r\n",
        "\r\n",
        "df.drop(['new_date'], axis='columns').head(5)"
      ],
      "execution_count": 13,
      "outputs": [
        {
          "output_type": "execute_result",
          "data": {
            "text/html": [
              "<div>\n",
              "<style scoped>\n",
              "    .dataframe tbody tr th:only-of-type {\n",
              "        vertical-align: middle;\n",
              "    }\n",
              "\n",
              "    .dataframe tbody tr th {\n",
              "        vertical-align: top;\n",
              "    }\n",
              "\n",
              "    .dataframe thead th {\n",
              "        text-align: right;\n",
              "    }\n",
              "</style>\n",
              "<table border=\"1\" class=\"dataframe\">\n",
              "  <thead>\n",
              "    <tr style=\"text-align: right;\">\n",
              "      <th></th>\n",
              "      <th>id</th>\n",
              "      <th>date</th>\n",
              "      <th>price</th>\n",
              "      <th>bedrooms</th>\n",
              "      <th>bathrooms</th>\n",
              "      <th>sqft_living</th>\n",
              "      <th>sqft_lot</th>\n",
              "      <th>floors</th>\n",
              "      <th>waterfront</th>\n",
              "      <th>view</th>\n",
              "      <th>condition</th>\n",
              "      <th>grade</th>\n",
              "      <th>sqft_above</th>\n",
              "      <th>sqft_basement</th>\n",
              "      <th>yr_built</th>\n",
              "      <th>yr_renovated</th>\n",
              "      <th>zipcode</th>\n",
              "      <th>lat</th>\n",
              "      <th>long</th>\n",
              "      <th>sqft_living15</th>\n",
              "      <th>sqft_lot15</th>\n",
              "      <th>year</th>\n",
              "      <th>month</th>\n",
              "      <th>day</th>\n",
              "    </tr>\n",
              "  </thead>\n",
              "  <tbody>\n",
              "    <tr>\n",
              "      <th>0</th>\n",
              "      <td>0</td>\n",
              "      <td>20141013T000000</td>\n",
              "      <td>221900.0</td>\n",
              "      <td>3</td>\n",
              "      <td>1.00</td>\n",
              "      <td>1180</td>\n",
              "      <td>5650</td>\n",
              "      <td>1.0</td>\n",
              "      <td>0</td>\n",
              "      <td>0</td>\n",
              "      <td>3</td>\n",
              "      <td>7</td>\n",
              "      <td>1180</td>\n",
              "      <td>0</td>\n",
              "      <td>1955</td>\n",
              "      <td>0</td>\n",
              "      <td>98178</td>\n",
              "      <td>47.5112</td>\n",
              "      <td>-122.257</td>\n",
              "      <td>1340</td>\n",
              "      <td>5650</td>\n",
              "      <td>2014</td>\n",
              "      <td>10</td>\n",
              "      <td>13</td>\n",
              "    </tr>\n",
              "    <tr>\n",
              "      <th>1</th>\n",
              "      <td>1</td>\n",
              "      <td>20150225T000000</td>\n",
              "      <td>180000.0</td>\n",
              "      <td>2</td>\n",
              "      <td>1.00</td>\n",
              "      <td>770</td>\n",
              "      <td>10000</td>\n",
              "      <td>1.0</td>\n",
              "      <td>0</td>\n",
              "      <td>0</td>\n",
              "      <td>3</td>\n",
              "      <td>6</td>\n",
              "      <td>770</td>\n",
              "      <td>0</td>\n",
              "      <td>1933</td>\n",
              "      <td>0</td>\n",
              "      <td>98028</td>\n",
              "      <td>47.7379</td>\n",
              "      <td>-122.233</td>\n",
              "      <td>2720</td>\n",
              "      <td>8062</td>\n",
              "      <td>2015</td>\n",
              "      <td>2</td>\n",
              "      <td>25</td>\n",
              "    </tr>\n",
              "    <tr>\n",
              "      <th>2</th>\n",
              "      <td>2</td>\n",
              "      <td>20150218T000000</td>\n",
              "      <td>510000.0</td>\n",
              "      <td>3</td>\n",
              "      <td>2.00</td>\n",
              "      <td>1680</td>\n",
              "      <td>8080</td>\n",
              "      <td>1.0</td>\n",
              "      <td>0</td>\n",
              "      <td>0</td>\n",
              "      <td>3</td>\n",
              "      <td>8</td>\n",
              "      <td>1680</td>\n",
              "      <td>0</td>\n",
              "      <td>1987</td>\n",
              "      <td>0</td>\n",
              "      <td>98074</td>\n",
              "      <td>47.6168</td>\n",
              "      <td>-122.045</td>\n",
              "      <td>1800</td>\n",
              "      <td>7503</td>\n",
              "      <td>2015</td>\n",
              "      <td>2</td>\n",
              "      <td>18</td>\n",
              "    </tr>\n",
              "    <tr>\n",
              "      <th>3</th>\n",
              "      <td>3</td>\n",
              "      <td>20140627T000000</td>\n",
              "      <td>257500.0</td>\n",
              "      <td>3</td>\n",
              "      <td>2.25</td>\n",
              "      <td>1715</td>\n",
              "      <td>6819</td>\n",
              "      <td>2.0</td>\n",
              "      <td>0</td>\n",
              "      <td>0</td>\n",
              "      <td>3</td>\n",
              "      <td>7</td>\n",
              "      <td>1715</td>\n",
              "      <td>0</td>\n",
              "      <td>1995</td>\n",
              "      <td>0</td>\n",
              "      <td>98003</td>\n",
              "      <td>47.3097</td>\n",
              "      <td>-122.327</td>\n",
              "      <td>2238</td>\n",
              "      <td>6819</td>\n",
              "      <td>2014</td>\n",
              "      <td>6</td>\n",
              "      <td>27</td>\n",
              "    </tr>\n",
              "    <tr>\n",
              "      <th>4</th>\n",
              "      <td>4</td>\n",
              "      <td>20150115T000000</td>\n",
              "      <td>291850.0</td>\n",
              "      <td>3</td>\n",
              "      <td>1.50</td>\n",
              "      <td>1060</td>\n",
              "      <td>9711</td>\n",
              "      <td>1.0</td>\n",
              "      <td>0</td>\n",
              "      <td>0</td>\n",
              "      <td>3</td>\n",
              "      <td>7</td>\n",
              "      <td>1060</td>\n",
              "      <td>0</td>\n",
              "      <td>1963</td>\n",
              "      <td>0</td>\n",
              "      <td>98198</td>\n",
              "      <td>47.4095</td>\n",
              "      <td>-122.315</td>\n",
              "      <td>1650</td>\n",
              "      <td>9711</td>\n",
              "      <td>2015</td>\n",
              "      <td>1</td>\n",
              "      <td>15</td>\n",
              "    </tr>\n",
              "  </tbody>\n",
              "</table>\n",
              "</div>"
            ],
            "text/plain": [
              "   id             date     price  bedrooms  ...  sqft_lot15  year  month  day\n",
              "0   0  20141013T000000  221900.0         3  ...        5650  2014     10   13\n",
              "1   1  20150225T000000  180000.0         2  ...        8062  2015      2   25\n",
              "2   2  20150218T000000  510000.0         3  ...        7503  2015      2   18\n",
              "3   3  20140627T000000  257500.0         3  ...        6819  2014      6   27\n",
              "4   4  20150115T000000  291850.0         3  ...        9711  2015      1   15\n",
              "\n",
              "[5 rows x 24 columns]"
            ]
          },
          "metadata": {
            "tags": []
          },
          "execution_count": 13
        }
      ]
    },
    {
      "cell_type": "markdown",
      "metadata": {
        "id": "VH8me3N_E3dC"
      },
      "source": [
        "### 9. 이후 Price를 예측하는 모델을 제작하기 위해 추가적인 변수를 만드려고 합니다. Price의 데이터 분포를 확인하고 1개 이상의 EDA를 통해 의견을 제시해주세요."
      ]
    },
    {
      "cell_type": "code",
      "metadata": {
        "id": "-W6eBpHLE3dC"
      },
      "source": [
        "import matplotlib.pyplot as plt\n",
        "%matplotlib inline\n",
        "\n",
        "plt.rc('font', family='malgun gothic')\n",
        "plt.rc('axes', unicode_minus=False)\n",
        "plt.rcParams[\"figure.figsize\"] = (14,7)\n",
        "plt.rcParams['lines.linewidth'] = 3.0\n",
        "plt.rcParams['axes.grid'] = True \n",
        "plt.rc('axes', labelsize=15)\n",
        "plt.rc('axes', titlesize=20)"
      ],
      "execution_count": 14,
      "outputs": []
    },
    {
      "cell_type": "code",
      "metadata": {
        "id": "6x3TRrOqE3dD",
        "colab": {
          "base_uri": "https://localhost:8080/",
          "height": 498
        },
        "outputId": "899fcd8e-4a22-41b9-d34e-84da5e6b7f8d"
      },
      "source": [
        "#price 데이터 분포\r\n",
        "plt.hist(df['price'],color='skyblue')\r\n",
        "plt.title(\"histogram\")\r\n",
        "plt.show()"
      ],
      "execution_count": 15,
      "outputs": [
        {
          "output_type": "stream",
          "text": [
            "findfont: Font family ['malgun gothic'] not found. Falling back to DejaVu Sans.\n",
            "findfont: Font family ['malgun gothic'] not found. Falling back to DejaVu Sans.\n"
          ],
          "name": "stderr"
        },
        {
          "output_type": "display_data",
          "data": {
            "image/png": "[encoded data removed]",
            "text/plain": [
              "<Figure size 1008x504 with 1 Axes>"
            ]
          },
          "metadata": {
            "tags": [],
            "needs_background": "light"
          }
        }
      ]
    },
    {
      "cell_type": "code",
      "metadata": {
        "colab": {
          "base_uri": "https://localhost:8080/",
          "height": 449
        },
        "id": "zGMoJ7k0iMeX",
        "outputId": "bdef1e0d-56b8-4704-9130-836983e5066f"
      },
      "source": [
        "#왼쪽으로 치우쳐있어서 log이용\r\n",
        "new_price=np.log(df.price)\r\n",
        "plt.hist(new_price,color='skyblue')\r\n",
        "plt.title(\"histogram\")\r\n",
        "plt.show()"
      ],
      "execution_count": 16,
      "outputs": [
        {
          "output_type": "display_data",
          "data": {
            "image/png": "[encoded data removed]",
            "text/plain": [
              "<Figure size 1008x504 with 1 Axes>"
            ]
          },
          "metadata": {
            "tags": [],
            "needs_background": "light"
          }
        }
      ]
    },
    {
      "cell_type": "code",
      "metadata": {
        "colab": {
          "base_uri": "https://localhost:8080/"
        },
        "id": "qeo2hcG8dsEz",
        "outputId": "81ab1f40-518e-4283-b1a7-c16cfbbd3409"
      },
      "source": [
        "#price와의 상관관계를 피어슨 상관계수를 이용해 표현\r\n",
        "\r\n",
        "corr= df.corr(method='pearson').loc['price']\r\n",
        "corr"
      ],
      "execution_count": 17,
      "outputs": [
        {
          "output_type": "execute_result",
          "data": {
            "text/plain": [
              "id               0.020899\n",
              "price            1.000000\n",
              "bedrooms         0.323672\n",
              "bathrooms        0.525479\n",
              "sqft_living      0.702899\n",
              "sqft_lot         0.096793\n",
              "floors           0.262588\n",
              "waterfront       0.265738\n",
              "view             0.400806\n",
              "condition        0.039740\n",
              "grade            0.667211\n",
              "sqft_above       0.608577\n",
              "sqft_basement    0.322218\n",
              "yr_built         0.047290\n",
              "yr_renovated     0.140808\n",
              "lat              0.301604\n",
              "long             0.023547\n",
              "sqft_living15    0.586419\n",
              "sqft_lot15       0.086384\n",
              "year             0.008012\n",
              "month           -0.010352\n",
              "day             -0.013625\n",
              "Name: price, dtype: float64"
            ]
          },
          "metadata": {
            "tags": []
          },
          "execution_count": 17
        }
      ]
    },
    {
      "cell_type": "code",
      "metadata": {
        "colab": {
          "base_uri": "https://localhost:8080/",
          "height": 488
        },
        "id": "N90BBhf4O4Uj",
        "outputId": "2181e8e5-ba71-4417-ba7e-40261d7cf56c"
      },
      "source": [
        "# 위의 결과에서 가장 높은 상관관계를 보이는 sqft_living과 price의 그래프\r\n",
        "\r\n",
        "plt.plot(df.sqft_living,df.price,linestyle='none',marker='o',markersize=3,color='skyblue')\r\n",
        "plt.xlabel('Sqft_living')\r\n",
        "plt.ylabel('Price')\r\n",
        "plt.title(\"sqft_living & price\")\r\n",
        "\r\n",
        "m,b = np.polyfit(df.sqft_living,df.price,1)\r\n",
        "plt.plot(df.sqft_living,m*df.sqft_living+b)\r\n",
        "plt.show()"
      ],
      "execution_count": 18,
      "outputs": [
        {
          "output_type": "stream",
          "text": [
            "findfont: Font family ['malgun gothic'] not found. Falling back to DejaVu Sans.\n"
          ],
          "name": "stderr"
        },
        {
          "output_type": "display_data",
          "data": {
            "image/png": "[encoded data removed]",
            "text/plain": [
              "<Figure size 1008x504 with 1 Axes>"
            ]
          },
          "metadata": {
            "tags": [],
            "needs_background": "light"
          }
        }
      ]
    },
    {
      "cell_type": "markdown",
      "metadata": {
        "id": "gWM4x0RyllWb"
      },
      "source": [
        "###예상대로 유의미한 결과를 보이는 것을 확인할 수 있다"
      ]
    },
    {
      "cell_type": "markdown",
      "metadata": {
        "id": "XAgWzvPSlov5"
      },
      "source": [
        "##-> 집 가격을 예측하기 위한 새로운 변수 생성"
      ]
    },
    {
      "cell_type": "code",
      "metadata": {
        "colab": {
          "base_uri": "https://localhost:8080/",
          "height": 470
        },
        "id": "4SMxZkXTZwda",
        "outputId": "f90636f8-bad2-4def-9ee8-cbf55b62cd63"
      },
      "source": [
        "#sqft_living과 sqft_lot의 비율과 price의 상관관계\r\n",
        "x=(df.sqft_living/df.sqft_lot)*100\r\n",
        "plt.plot(x,df.price,linestyle='none',marker='o',markersize=3,color='skyblue')\r\n",
        "plt.xlabel('Sqft_living/Sqft_lot')\r\n",
        "plt.ylabel('Price')\r\n",
        "plt.title(\"Sqft_living/Sqft_lot & Price\")\r\n",
        "\r\n",
        "m,b = np.polyfit(x,df.price,1)\r\n",
        "plt.plot(x,m*x+b)\r\n",
        "plt.show()"
      ],
      "execution_count": 19,
      "outputs": [
        {
          "output_type": "display_data",
          "data": {
            "image/png": "[encoded data removed]",
            "text/plain": [
              "<Figure size 1008x504 with 1 Axes>"
            ]
          },
          "metadata": {
            "tags": [],
            "needs_background": "light"
          }
        }
      ]
    },
    {
      "cell_type": "markdown",
      "metadata": {
        "id": "b4G0KObziy5b"
      },
      "source": [
        "###별로 유의미 하지 않은 결과"
      ]
    },
    {
      "cell_type": "code",
      "metadata": {
        "colab": {
          "base_uri": "https://localhost:8080/",
          "height": 470
        },
        "id": "16UwRnFBeS4W",
        "outputId": "8daa3753-943a-4225-97de-459cc2ffdbe0"
      },
      "source": [
        "#sqft_above와 sqft_Basement의 합에 루트씌운 값과 price의 상관관계\r\n",
        "x2=(df.sqft_above+df.sqft_basement)**0.5\r\n",
        "plt.plot(x2,df.price,linestyle='none',marker='o',markersize=3,color='skyblue')\r\n",
        "plt.xlabel('root(sqft_above+sqft_basement)')\r\n",
        "plt.ylabel('Price')\r\n",
        "plt.title(\"root(sqft_above+sqft_basement) & Price\")\r\n",
        "\r\n",
        "m,b = np.polyfit(x2,df.price,1)\r\n",
        "plt.plot(x2,m*x2+b)\r\n",
        "plt.show()"
      ],
      "execution_count": 22,
      "outputs": [
        {
          "output_type": "display_data",
          "data": {
            "image/png": "[encoded data removed]",
            "text/plain": [
              "<Figure size 1008x504 with 1 Axes>"
            ]
          },
          "metadata": {
            "tags": [],
            "needs_background": "light"
          }
        }
      ]
    },
    {
      "cell_type": "markdown",
      "metadata": {
        "id": "lCw0-WuOc52-"
      },
      "source": [
        "###sqft_above와 sqft_Basement의 합에 루트를 씌운 값과 price의 상관관계가 크게 유의미한 선형관계를 띈다는 것을 확인할 수 있다"
      ]
    },
    {
      "cell_type": "code",
      "metadata": {
        "colab": {
          "base_uri": "https://localhost:8080/",
          "height": 468
        },
        "id": "SESOrGJqU0KC",
        "outputId": "1185c743-b5fa-467b-e7cb-3ab1289e410d"
      },
      "source": [
        "x3=(df.bedrooms**2 + df.bathrooms**2)**0.5\r\n",
        "plt.plot(x3,df.price,linestyle='none',marker='o',markersize=3,color='skyblue')\r\n",
        "plt.xlabel('root(bedrooms^2+bathrooms^2)')\r\n",
        "plt.ylabel('Price')\r\n",
        "plt.title(\"root(bedrooms^2+bathrooms^2) & Price\")\r\n",
        "\r\n",
        "m,b = np.polyfit(x3,df.price,1)\r\n",
        "plt.plot(x3,m*x3+b)\r\n",
        "plt.show()"
      ],
      "execution_count": 23,
      "outputs": [
        {
          "output_type": "display_data",
          "data": {
            "image/png": "[encoded data removed]",
            "text/plain": [
              "<Figure size 1008x504 with 1 Axes>"
            ]
          },
          "metadata": {
            "tags": [],
            "needs_background": "light"
          }
        }
      ]
    },
    {
      "cell_type": "markdown",
      "metadata": {
        "id": "5-8dR-MElQoM"
      },
      "source": [
        "### 꽤 유의미한 선형결과를 얻은것으로 보인다"
      ]
    }
  ]
}