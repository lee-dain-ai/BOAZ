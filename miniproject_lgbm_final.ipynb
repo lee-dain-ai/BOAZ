{
  "nbformat": 4,
  "nbformat_minor": 0,
  "metadata": {
    "colab": {
      "name": "miniproject lgbm.ipynb",
      "provenance": [],
      "collapsed_sections": [],
      "machine_shape": "hm",
      "authorship_tag": "ABX9TyPigrjatY/B+0idJAS3RvdL",
      "include_colab_link": true
    },
    "kernelspec": {
      "name": "python3",
      "display_name": "Python 3"
    }
  },
  "cells": [
    {
      "cell_type": "markdown",
      "metadata": {
        "id": "view-in-github",
        "colab_type": "text"
      },
      "source": [
        "<a href=\"https://colab.research.google.com/github/manypeople-AI/-/blob/main/miniproject_lgbm_final.ipynb\" target=\"_parent\"><img src=\"https://colab.research.google.com/assets/colab-badge.svg\" alt=\"Open In Colab\"/></a>"
      ]
    },
    {
      "cell_type": "code",
      "metadata": {
        "colab": {
          "base_uri": "https://localhost:8080/"
        },
        "id": "MCQtQ4bG48rk",
        "outputId": "6e02bbba-7ac3-445a-a958-7aca1a7bbdb8"
      },
      "source": [
        "!pip install category_encoders"
      ],
      "execution_count": 1,
      "outputs": [
        {
          "output_type": "stream",
          "text": [
            "Collecting category_encoders\n",
            "\u001b[?25l  Downloading https://files.pythonhosted.org/packages/44/57/fcef41c248701ee62e8325026b90c432adea35555cbc870aff9cfba23727/category_encoders-2.2.2-py2.py3-none-any.whl (80kB)\n",
            "\r\u001b[K     |████                            | 10kB 11.5MB/s eta 0:00:01\r\u001b[K     |████████▏                       | 20kB 16.7MB/s eta 0:00:01\r\u001b[K     |████████████▏                   | 30kB 8.7MB/s eta 0:00:01\r\u001b[K     |████████████████▎               | 40kB 7.5MB/s eta 0:00:01\r\u001b[K     |████████████████████▎           | 51kB 4.4MB/s eta 0:00:01\r\u001b[K     |████████████████████████▍       | 61kB 4.8MB/s eta 0:00:01\r\u001b[K     |████████████████████████████▍   | 71kB 4.7MB/s eta 0:00:01\r\u001b[K     |████████████████████████████████| 81kB 3.4MB/s \n",
            "\u001b[?25hRequirement already satisfied: pandas>=0.21.1 in /usr/local/lib/python3.7/dist-packages (from category_encoders) (1.1.5)\n",
            "Requirement already satisfied: scipy>=1.0.0 in /usr/local/lib/python3.7/dist-packages (from category_encoders) (1.4.1)\n",
            "Requirement already satisfied: numpy>=1.14.0 in /usr/local/lib/python3.7/dist-packages (from category_encoders) (1.19.5)\n",
            "Requirement already satisfied: statsmodels>=0.9.0 in /usr/local/lib/python3.7/dist-packages (from category_encoders) (0.10.2)\n",
            "Requirement already satisfied: scikit-learn>=0.20.0 in /usr/local/lib/python3.7/dist-packages (from category_encoders) (0.22.2.post1)\n",
            "Requirement already satisfied: patsy>=0.5.1 in /usr/local/lib/python3.7/dist-packages (from category_encoders) (0.5.1)\n",
            "Requirement already satisfied: python-dateutil>=2.7.3 in /usr/local/lib/python3.7/dist-packages (from pandas>=0.21.1->category_encoders) (2.8.1)\n",
            "Requirement already satisfied: pytz>=2017.2 in /usr/local/lib/python3.7/dist-packages (from pandas>=0.21.1->category_encoders) (2018.9)\n",
            "Requirement already satisfied: joblib>=0.11 in /usr/local/lib/python3.7/dist-packages (from scikit-learn>=0.20.0->category_encoders) (1.0.1)\n",
            "Requirement already satisfied: six in /usr/local/lib/python3.7/dist-packages (from patsy>=0.5.1->category_encoders) (1.15.0)\n",
            "Installing collected packages: category-encoders\n",
            "Successfully installed category-encoders-2.2.2\n"
          ],
          "name": "stdout"
        }
      ]
    },
    {
      "cell_type": "code",
      "metadata": {
        "colab": {
          "base_uri": "https://localhost:8080/"
        },
        "id": "UeZF7E4R5mpB",
        "outputId": "d58b1b31-d420-47c0-fe3c-075286f22064"
      },
      "source": [
        "import pandas as pd\r\n",
        "import numpy as np\r\n",
        "from itertools import product\r\n",
        "from collections import Counter\r\n",
        "from sklearn.cluster import KMeans\r\n",
        "from sklearn.preprocessing import LabelEncoder\r\n",
        "le=LabelEncoder()\r\n",
        "import category_encoders as ce\r\n",
        "import warnings"
      ],
      "execution_count": 2,
      "outputs": [
        {
          "output_type": "stream",
          "text": [
            "/usr/local/lib/python3.7/dist-packages/statsmodels/tools/_testing.py:19: FutureWarning: pandas.util.testing is deprecated. Use the functions in the public API at pandas.testing instead.\n",
            "  import pandas.util.testing as tm\n"
          ],
          "name": "stderr"
        }
      ]
    },
    {
      "cell_type": "markdown",
      "metadata": {
        "id": "jxZVgBbe5pvx"
      },
      "source": [
        "# Preparing & Preprocessing Dataset"
      ]
    },
    {
      "cell_type": "code",
      "metadata": {
        "colab": {
          "base_uri": "https://localhost:8080/"
        },
        "id": "O9cZsN1Z48yZ",
        "outputId": "9e46c216-915f-40d7-cdc3-fd32b0cbfa86"
      },
      "source": [
        "from google.colab import drive\r\n",
        "\r\n",
        "drive.mount('/content/gdrive')"
      ],
      "execution_count": 3,
      "outputs": [
        {
          "output_type": "stream",
          "text": [
            "Mounted at /content/gdrive\n"
          ],
          "name": "stdout"
        }
      ]
    },
    {
      "cell_type": "code",
      "metadata": {
        "colab": {
          "base_uri": "https://localhost:8080/"
        },
        "id": "7Caoh-6o480p",
        "outputId": "6194ed91-f56f-4025-d308-9c65c0ae34bf"
      },
      "source": [
        "cd /content/gdrive/My Drive/mini_project"
      ],
      "execution_count": 4,
      "outputs": [
        {
          "output_type": "stream",
          "text": [
            "/content/gdrive/My Drive/mini_project\n"
          ],
          "name": "stdout"
        }
      ]
    },
    {
      "cell_type": "code",
      "metadata": {
        "id": "RL0rb_yk4822"
      },
      "source": [
        "items = pd.read_csv(\"items.csv\")\r\n",
        "shops = pd.read_csv(\"shops.csv\")\r\n",
        "categ = pd.read_csv(\"item_categories.csv\")\r\n",
        "train = pd.read_csv(\"sales_train.csv\")\r\n",
        "test= pd.read_csv(\"test.csv\").set_index('ID')"
      ],
      "execution_count": 5,
      "outputs": []
    },
    {
      "cell_type": "markdown",
      "metadata": {
        "id": "YQHiL3irI8g7"
      },
      "source": [
        "train data 결측치/이상치/중복행 제거"
      ]
    },
    {
      "cell_type": "code",
      "metadata": {
        "colab": {
          "base_uri": "https://localhost:8080/"
        },
        "id": "gdP-9A8gJHNb",
        "outputId": "785ddf01-af32-4ce3-8465-11d8bbb38865"
      },
      "source": [
        "#train data 결측치 확인\r\n",
        "\r\n",
        "train.isnull().sum()"
      ],
      "execution_count": 6,
      "outputs": [
        {
          "output_type": "execute_result",
          "data": {
            "text/plain": [
              "date              0\n",
              "date_block_num    0\n",
              "shop_id           0\n",
              "item_id           0\n",
              "item_price        0\n",
              "item_cnt_day      0\n",
              "dtype: int64"
            ]
          },
          "metadata": {
            "tags": []
          },
          "execution_count": 6
        }
      ]
    },
    {
      "cell_type": "markdown",
      "metadata": {
        "id": "D7uWKRkcJTrk"
      },
      "source": [
        "-> 결측치는 없음"
      ]
    },
    {
      "cell_type": "code",
      "metadata": {
        "colab": {
          "base_uri": "https://localhost:8080/"
        },
        "id": "gG_5nh_7JHTT",
        "outputId": "a9404dec-24cd-4695-d3c8-c9405887e3c9"
      },
      "source": [
        "#train/test data 중복 여부 확인\r\n",
        "sum(train.duplicated()), sum(test.duplicated())"
      ],
      "execution_count": 7,
      "outputs": [
        {
          "output_type": "execute_result",
          "data": {
            "text/plain": [
              "(6, 0)"
            ]
          },
          "metadata": {
            "tags": []
          },
          "execution_count": 7
        }
      ]
    },
    {
      "cell_type": "markdown",
      "metadata": {
        "id": "jJoFaGpDKMzy"
      },
      "source": [
        "-> train data에 중복행이 6개 존재"
      ]
    },
    {
      "cell_type": "code",
      "metadata": {
        "colab": {
          "base_uri": "https://localhost:8080/"
        },
        "id": "HYEGgy37JHWw",
        "outputId": "3babfcf8-64b3-4afb-d5c1-73a1da779de5"
      },
      "source": [
        "#item, category, shops 중복 여부 확인\r\n",
        "sum(items.duplicated()),sum(categ.duplicated()),sum(shops.duplicated())"
      ],
      "execution_count": 8,
      "outputs": [
        {
          "output_type": "execute_result",
          "data": {
            "text/plain": [
              "(0, 0, 0)"
            ]
          },
          "metadata": {
            "tags": []
          },
          "execution_count": 8
        }
      ]
    },
    {
      "cell_type": "code",
      "metadata": {
        "id": "OZZKUctdKLvO"
      },
      "source": [
        "#train data 중복행 제거해주기\r\n",
        "train.drop_duplicates(inplace=True)"
      ],
      "execution_count": 9,
      "outputs": []
    },
    {
      "cell_type": "code",
      "metadata": {
        "colab": {
          "base_uri": "https://localhost:8080/"
        },
        "id": "A_CDu3zjKLyo",
        "outputId": "1701a8de-3761-4d18-db61-4987f4e54f11"
      },
      "source": [
        "train.info()"
      ],
      "execution_count": 10,
      "outputs": [
        {
          "output_type": "stream",
          "text": [
            "<class 'pandas.core.frame.DataFrame'>\n",
            "Int64Index: 2935843 entries, 0 to 2935848\n",
            "Data columns (total 6 columns):\n",
            " #   Column          Dtype  \n",
            "---  ------          -----  \n",
            " 0   date            object \n",
            " 1   date_block_num  int64  \n",
            " 2   shop_id         int64  \n",
            " 3   item_id         int64  \n",
            " 4   item_price      float64\n",
            " 5   item_cnt_day    float64\n",
            "dtypes: float64(2), int64(3), object(1)\n",
            "memory usage: 156.8+ MB\n"
          ],
          "name": "stdout"
        }
      ]
    },
    {
      "cell_type": "code",
      "metadata": {
        "colab": {
          "base_uri": "https://localhost:8080/",
          "height": 592
        },
        "id": "qe25wMC1KL0r",
        "outputId": "d7c8f7fa-33f7-40ed-e497-2ef08dcfbbf0"
      },
      "source": [
        "#이상치 처리\r\n",
        "import seaborn as sns\r\n",
        "import matplotlib.pyplot as plt\r\n",
        "\r\n",
        "#상자그림으로 확인해보기 - item price\r\n",
        "plt.figure(figsize=(2,10))\r\n",
        "train.boxplot(column =['item_price'])\r\n",
        "plt.show()"
      ],
      "execution_count": 11,
      "outputs": [
        {
          "output_type": "display_data",
          "data": {
            "image/png": "[encoded data removed]",
            "text/plain": [
              "<Figure size 144x720 with 1 Axes>"
            ]
          },
          "metadata": {
            "tags": [],
            "needs_background": "light"
          }
        }
      ]
    },
    {
      "cell_type": "code",
      "metadata": {
        "colab": {
          "base_uri": "https://localhost:8080/",
          "height": 592
        },
        "id": "ftWvO0TbK5qh",
        "outputId": "b91481ed-0686-4d72-b9ea-4b9f36de73f6"
      },
      "source": [
        "#상자그림 -  item_cnt_day(하루에 해당 item이 팔린 갯수)\r\n",
        "plt.figure(figsize=(2,10))\r\n",
        "train.boxplot(column=['item_cnt_day'])\r\n",
        "plt.show()"
      ],
      "execution_count": 12,
      "outputs": [
        {
          "output_type": "display_data",
          "data": {
            "image/png": "[encoded data removed]",
            "text/plain": [
              "<Figure size 144x720 with 1 Axes>"
            ]
          },
          "metadata": {
            "tags": [],
            "needs_background": "light"
          }
        }
      ]
    },
    {
      "cell_type": "code",
      "metadata": {
        "id": "A1c__mKJK5u1"
      },
      "source": [
        "#이상치 제거\r\n",
        "train = train[train.item_price<=100000]\r\n",
        "train = train[train.item_cnt_day<=1002]\r\n",
        "train = train[train.item_price>=0]\r\n",
        "train = train[train.item_cnt_day>=0]"
      ],
      "execution_count": 13,
      "outputs": []
    },
    {
      "cell_type": "code",
      "metadata": {
        "colab": {
          "base_uri": "https://localhost:8080/"
        },
        "id": "URVlECxOK5yJ",
        "outputId": "27a88517-47d8-48c7-a149-3bb42333fb2a"
      },
      "source": [
        "train.info()"
      ],
      "execution_count": 14,
      "outputs": [
        {
          "output_type": "stream",
          "text": [
            "<class 'pandas.core.frame.DataFrame'>\n",
            "Int64Index: 2928484 entries, 0 to 2935848\n",
            "Data columns (total 6 columns):\n",
            " #   Column          Dtype  \n",
            "---  ------          -----  \n",
            " 0   date            object \n",
            " 1   date_block_num  int64  \n",
            " 2   shop_id         int64  \n",
            " 3   item_id         int64  \n",
            " 4   item_price      float64\n",
            " 5   item_cnt_day    float64\n",
            "dtypes: float64(2), int64(3), object(1)\n",
            "memory usage: 156.4+ MB\n"
          ],
          "name": "stdout"
        }
      ]
    },
    {
      "cell_type": "markdown",
      "metadata": {
        "id": "V3JST_oG9OB9"
      },
      "source": [
        "category data"
      ]
    },
    {
      "cell_type": "code",
      "metadata": {
        "colab": {
          "base_uri": "https://localhost:8080/",
          "height": 196
        },
        "id": "f_L6yp2eBxwo",
        "outputId": "20b16f75-6c99-40b3-8f20-e789f58c6de9"
      },
      "source": [
        "categ.head()"
      ],
      "execution_count": 15,
      "outputs": [
        {
          "output_type": "execute_result",
          "data": {
            "text/html": [
              "<div>\n",
              "<style scoped>\n",
              "    .dataframe tbody tr th:only-of-type {\n",
              "        vertical-align: middle;\n",
              "    }\n",
              "\n",
              "    .dataframe tbody tr th {\n",
              "        vertical-align: top;\n",
              "    }\n",
              "\n",
              "    .dataframe thead th {\n",
              "        text-align: right;\n",
              "    }\n",
              "</style>\n",
              "<table border=\"1\" class=\"dataframe\">\n",
              "  <thead>\n",
              "    <tr style=\"text-align: right;\">\n",
              "      <th></th>\n",
              "      <th>item_category_name</th>\n",
              "      <th>item_category_id</th>\n",
              "    </tr>\n",
              "  </thead>\n",
              "  <tbody>\n",
              "    <tr>\n",
              "      <th>0</th>\n",
              "      <td>PC - Гарнитуры/Наушники</td>\n",
              "      <td>0</td>\n",
              "    </tr>\n",
              "    <tr>\n",
              "      <th>1</th>\n",
              "      <td>Аксессуары - PS2</td>\n",
              "      <td>1</td>\n",
              "    </tr>\n",
              "    <tr>\n",
              "      <th>2</th>\n",
              "      <td>Аксессуары - PS3</td>\n",
              "      <td>2</td>\n",
              "    </tr>\n",
              "    <tr>\n",
              "      <th>3</th>\n",
              "      <td>Аксессуары - PS4</td>\n",
              "      <td>3</td>\n",
              "    </tr>\n",
              "    <tr>\n",
              "      <th>4</th>\n",
              "      <td>Аксессуары - PSP</td>\n",
              "      <td>4</td>\n",
              "    </tr>\n",
              "  </tbody>\n",
              "</table>\n",
              "</div>"
            ],
            "text/plain": [
              "        item_category_name  item_category_id\n",
              "0  PC - Гарнитуры/Наушники                 0\n",
              "1         Аксессуары - PS2                 1\n",
              "2         Аксессуары - PS3                 2\n",
              "3         Аксессуары - PS4                 3\n",
              "4         Аксессуары - PSP                 4"
            ]
          },
          "metadata": {
            "tags": []
          },
          "execution_count": 15
        }
      ]
    },
    {
      "cell_type": "code",
      "metadata": {
        "colab": {
          "base_uri": "https://localhost:8080/",
          "height": 673
        },
        "id": "EEdTW4Vr4849",
        "outputId": "4150b210-3360-4e1e-b219-f771dbde7263"
      },
      "source": [
        "pd.DataFrame(categ.item_category_name.values.reshape(-1,4))"
      ],
      "execution_count": 16,
      "outputs": [
        {
          "output_type": "execute_result",
          "data": {
            "text/html": [
              "<div>\n",
              "<style scoped>\n",
              "    .dataframe tbody tr th:only-of-type {\n",
              "        vertical-align: middle;\n",
              "    }\n",
              "\n",
              "    .dataframe tbody tr th {\n",
              "        vertical-align: top;\n",
              "    }\n",
              "\n",
              "    .dataframe thead th {\n",
              "        text-align: right;\n",
              "    }\n",
              "</style>\n",
              "<table border=\"1\" class=\"dataframe\">\n",
              "  <thead>\n",
              "    <tr style=\"text-align: right;\">\n",
              "      <th></th>\n",
              "      <th>0</th>\n",
              "      <th>1</th>\n",
              "      <th>2</th>\n",
              "      <th>3</th>\n",
              "    </tr>\n",
              "  </thead>\n",
              "  <tbody>\n",
              "    <tr>\n",
              "      <th>0</th>\n",
              "      <td>PC - Гарнитуры/Наушники</td>\n",
              "      <td>Аксессуары - PS2</td>\n",
              "      <td>Аксессуары - PS3</td>\n",
              "      <td>Аксессуары - PS4</td>\n",
              "    </tr>\n",
              "    <tr>\n",
              "      <th>1</th>\n",
              "      <td>Аксессуары - PSP</td>\n",
              "      <td>Аксессуары - PSVita</td>\n",
              "      <td>Аксессуары - XBOX 360</td>\n",
              "      <td>Аксессуары - XBOX ONE</td>\n",
              "    </tr>\n",
              "    <tr>\n",
              "      <th>2</th>\n",
              "      <td>Билеты (Цифра)</td>\n",
              "      <td>Доставка товара</td>\n",
              "      <td>Игровые консоли - PS2</td>\n",
              "      <td>Игровые консоли - PS3</td>\n",
              "    </tr>\n",
              "    <tr>\n",
              "      <th>3</th>\n",
              "      <td>Игровые консоли - PS4</td>\n",
              "      <td>Игровые консоли - PSP</td>\n",
              "      <td>Игровые консоли - PSVita</td>\n",
              "      <td>Игровые консоли - XBOX 360</td>\n",
              "    </tr>\n",
              "    <tr>\n",
              "      <th>4</th>\n",
              "      <td>Игровые консоли - XBOX ONE</td>\n",
              "      <td>Игровые консоли - Прочие</td>\n",
              "      <td>Игры - PS2</td>\n",
              "      <td>Игры - PS3</td>\n",
              "    </tr>\n",
              "    <tr>\n",
              "      <th>5</th>\n",
              "      <td>Игры - PS4</td>\n",
              "      <td>Игры - PSP</td>\n",
              "      <td>Игры - PSVita</td>\n",
              "      <td>Игры - XBOX 360</td>\n",
              "    </tr>\n",
              "    <tr>\n",
              "      <th>6</th>\n",
              "      <td>Игры - XBOX ONE</td>\n",
              "      <td>Игры - Аксессуары для игр</td>\n",
              "      <td>Игры Android - Цифра</td>\n",
              "      <td>Игры MAC - Цифра</td>\n",
              "    </tr>\n",
              "    <tr>\n",
              "      <th>7</th>\n",
              "      <td>Игры PC - Дополнительные издания</td>\n",
              "      <td>Игры PC - Коллекционные издания</td>\n",
              "      <td>Игры PC - Стандартные издания</td>\n",
              "      <td>Игры PC - Цифра</td>\n",
              "    </tr>\n",
              "    <tr>\n",
              "      <th>8</th>\n",
              "      <td>Карты оплаты (Кино, Музыка, Игры)</td>\n",
              "      <td>Карты оплаты - Live!</td>\n",
              "      <td>Карты оплаты - Live! (Цифра)</td>\n",
              "      <td>Карты оплаты - PSN</td>\n",
              "    </tr>\n",
              "    <tr>\n",
              "      <th>9</th>\n",
              "      <td>Карты оплаты - Windows (Цифра)</td>\n",
              "      <td>Кино - Blu-Ray</td>\n",
              "      <td>Кино - Blu-Ray 3D</td>\n",
              "      <td>Кино - Blu-Ray 4K</td>\n",
              "    </tr>\n",
              "    <tr>\n",
              "      <th>10</th>\n",
              "      <td>Кино - DVD</td>\n",
              "      <td>Кино - Коллекционное</td>\n",
              "      <td>Книги - Артбуки, энциклопедии</td>\n",
              "      <td>Книги - Аудиокниги</td>\n",
              "    </tr>\n",
              "    <tr>\n",
              "      <th>11</th>\n",
              "      <td>Книги - Аудиокниги (Цифра)</td>\n",
              "      <td>Книги - Аудиокниги 1С</td>\n",
              "      <td>Книги - Бизнес литература</td>\n",
              "      <td>Книги - Комиксы, манга</td>\n",
              "    </tr>\n",
              "    <tr>\n",
              "      <th>12</th>\n",
              "      <td>Книги - Компьютерная литература</td>\n",
              "      <td>Книги - Методические материалы 1С</td>\n",
              "      <td>Книги - Открытки</td>\n",
              "      <td>Книги - Познавательная литература</td>\n",
              "    </tr>\n",
              "    <tr>\n",
              "      <th>13</th>\n",
              "      <td>Книги - Путеводители</td>\n",
              "      <td>Книги - Художественная литература</td>\n",
              "      <td>Книги - Цифра</td>\n",
              "      <td>Музыка - CD локального производства</td>\n",
              "    </tr>\n",
              "    <tr>\n",
              "      <th>14</th>\n",
              "      <td>Музыка - CD фирменного производства</td>\n",
              "      <td>Музыка - MP3</td>\n",
              "      <td>Музыка - Винил</td>\n",
              "      <td>Музыка - Музыкальное видео</td>\n",
              "    </tr>\n",
              "    <tr>\n",
              "      <th>15</th>\n",
              "      <td>Музыка - Подарочные издания</td>\n",
              "      <td>Подарки - Атрибутика</td>\n",
              "      <td>Подарки - Гаджеты, роботы, спорт</td>\n",
              "      <td>Подарки - Мягкие игрушки</td>\n",
              "    </tr>\n",
              "    <tr>\n",
              "      <th>16</th>\n",
              "      <td>Подарки - Настольные игры</td>\n",
              "      <td>Подарки - Настольные игры (компактные)</td>\n",
              "      <td>Подарки - Открытки, наклейки</td>\n",
              "      <td>Подарки - Развитие</td>\n",
              "    </tr>\n",
              "    <tr>\n",
              "      <th>17</th>\n",
              "      <td>Подарки - Сертификаты, услуги</td>\n",
              "      <td>Подарки - Сувениры</td>\n",
              "      <td>Подарки - Сувениры (в навеску)</td>\n",
              "      <td>Подарки - Сумки, Альбомы, Коврики д/мыши</td>\n",
              "    </tr>\n",
              "    <tr>\n",
              "      <th>18</th>\n",
              "      <td>Подарки - Фигурки</td>\n",
              "      <td>Программы - 1С:Предприятие 8</td>\n",
              "      <td>Программы - MAC (Цифра)</td>\n",
              "      <td>Программы - Для дома и офиса</td>\n",
              "    </tr>\n",
              "    <tr>\n",
              "      <th>19</th>\n",
              "      <td>Программы - Для дома и офиса (Цифра)</td>\n",
              "      <td>Программы - Обучающие</td>\n",
              "      <td>Программы - Обучающие (Цифра)</td>\n",
              "      <td>Служебные</td>\n",
              "    </tr>\n",
              "    <tr>\n",
              "      <th>20</th>\n",
              "      <td>Служебные - Билеты</td>\n",
              "      <td>Чистые носители (шпиль)</td>\n",
              "      <td>Чистые носители (штучные)</td>\n",
              "      <td>Элементы питания</td>\n",
              "    </tr>\n",
              "  </tbody>\n",
              "</table>\n",
              "</div>"
            ],
            "text/plain": [
              "                                       0  ...                                         3\n",
              "0                PC - Гарнитуры/Наушники  ...                          Аксессуары - PS4\n",
              "1                       Аксессуары - PSP  ...                     Аксессуары - XBOX ONE\n",
              "2                         Билеты (Цифра)  ...                     Игровые консоли - PS3\n",
              "3                  Игровые консоли - PS4  ...                Игровые консоли - XBOX 360\n",
              "4             Игровые консоли - XBOX ONE  ...                                Игры - PS3\n",
              "5                             Игры - PS4  ...                           Игры - XBOX 360\n",
              "6                        Игры - XBOX ONE  ...                          Игры MAC - Цифра\n",
              "7       Игры PC - Дополнительные издания  ...                           Игры PC - Цифра\n",
              "8      Карты оплаты (Кино, Музыка, Игры)  ...                        Карты оплаты - PSN\n",
              "9         Карты оплаты - Windows (Цифра)  ...                         Кино - Blu-Ray 4K\n",
              "10                            Кино - DVD  ...                        Книги - Аудиокниги\n",
              "11            Книги - Аудиокниги (Цифра)  ...                    Книги - Комиксы, манга\n",
              "12       Книги - Компьютерная литература  ...         Книги - Познавательная литература\n",
              "13                  Книги - Путеводители  ...       Музыка - CD локального производства\n",
              "14   Музыка - CD фирменного производства  ...                Музыка - Музыкальное видео\n",
              "15           Музыка - Подарочные издания  ...                  Подарки - Мягкие игрушки\n",
              "16             Подарки - Настольные игры  ...                        Подарки - Развитие\n",
              "17         Подарки - Сертификаты, услуги  ...  Подарки - Сумки, Альбомы, Коврики д/мыши\n",
              "18                     Подарки - Фигурки  ...              Программы - Для дома и офиса\n",
              "19  Программы - Для дома и офиса (Цифра)  ...                                 Служебные\n",
              "20                    Служебные - Билеты  ...                          Элементы питания\n",
              "\n",
              "[21 rows x 4 columns]"
            ]
          },
          "metadata": {
            "tags": []
          },
          "execution_count": 16
        }
      ]
    },
    {
      "cell_type": "code",
      "metadata": {
        "colab": {
          "base_uri": "https://localhost:8080/",
          "height": 196
        },
        "id": "5pWrXhNh486b",
        "outputId": "dc38e59b-644c-41a8-967d-ad9c3876cbe0"
      },
      "source": [
        "# 모든 카테고리 이름들에 기본과 하위 사이에 '-'가 있는 것은 X\r\n",
        "# 문자가 아닌 것들의 바로 앞 이름을 추출해 그룹을 생성하고 그룹이름을 인코딩하는 레이블로 group_id 열을 생성\r\n",
        "\r\n",
        "\r\n",
        "#pandas에서 문자열 관련 함수를 사용, 전처리하기 위해서는 명령어 앞에 str을 붙인다\r\n",
        "#extract() : 원하는 문자열 추출, 정규표현식 이용\r\n",
        "categ['group_name'] = categ['item_category_name'].str.extract(r'(^[\\w\\s]*)')\r\n",
        "\r\n",
        "#strip() : 공백제거\r\n",
        "categ['group_name'] = categ['group_name'].str.strip()\r\n",
        "\r\n",
        "#label encoding 하기\r\n",
        "categ['type_id']=le.fit_transform(categ.group_name.values)\r\n",
        "\r\n",
        "categ.head(5)"
      ],
      "execution_count": 17,
      "outputs": [
        {
          "output_type": "execute_result",
          "data": {
            "text/html": [
              "<div>\n",
              "<style scoped>\n",
              "    .dataframe tbody tr th:only-of-type {\n",
              "        vertical-align: middle;\n",
              "    }\n",
              "\n",
              "    .dataframe tbody tr th {\n",
              "        vertical-align: top;\n",
              "    }\n",
              "\n",
              "    .dataframe thead th {\n",
              "        text-align: right;\n",
              "    }\n",
              "</style>\n",
              "<table border=\"1\" class=\"dataframe\">\n",
              "  <thead>\n",
              "    <tr style=\"text-align: right;\">\n",
              "      <th></th>\n",
              "      <th>item_category_name</th>\n",
              "      <th>item_category_id</th>\n",
              "      <th>group_name</th>\n",
              "      <th>type_id</th>\n",
              "    </tr>\n",
              "  </thead>\n",
              "  <tbody>\n",
              "    <tr>\n",
              "      <th>0</th>\n",
              "      <td>PC - Гарнитуры/Наушники</td>\n",
              "      <td>0</td>\n",
              "      <td>PC</td>\n",
              "      <td>0</td>\n",
              "    </tr>\n",
              "    <tr>\n",
              "      <th>1</th>\n",
              "      <td>Аксессуары - PS2</td>\n",
              "      <td>1</td>\n",
              "      <td>Аксессуары</td>\n",
              "      <td>1</td>\n",
              "    </tr>\n",
              "    <tr>\n",
              "      <th>2</th>\n",
              "      <td>Аксессуары - PS3</td>\n",
              "      <td>2</td>\n",
              "      <td>Аксессуары</td>\n",
              "      <td>1</td>\n",
              "    </tr>\n",
              "    <tr>\n",
              "      <th>3</th>\n",
              "      <td>Аксессуары - PS4</td>\n",
              "      <td>3</td>\n",
              "      <td>Аксессуары</td>\n",
              "      <td>1</td>\n",
              "    </tr>\n",
              "    <tr>\n",
              "      <th>4</th>\n",
              "      <td>Аксессуары - PSP</td>\n",
              "      <td>4</td>\n",
              "      <td>Аксессуары</td>\n",
              "      <td>1</td>\n",
              "    </tr>\n",
              "  </tbody>\n",
              "</table>\n",
              "</div>"
            ],
            "text/plain": [
              "        item_category_name  item_category_id  group_name  type_id\n",
              "0  PC - Гарнитуры/Наушники                 0          PC        0\n",
              "1         Аксессуары - PS2                 1  Аксессуары        1\n",
              "2         Аксессуары - PS3                 2  Аксессуары        1\n",
              "3         Аксессуары - PS4                 3  Аксессуары        1\n",
              "4         Аксессуары - PSP                 4  Аксессуары        1"
            ]
          },
          "metadata": {
            "tags": []
          },
          "execution_count": 17
        }
      ]
    },
    {
      "cell_type": "code",
      "metadata": {
        "colab": {
          "base_uri": "https://localhost:8080/",
          "height": 137
        },
        "id": "CnhTpDetInv0",
        "outputId": "58fb6f2a-14f9-4390-ad19-7fe56eddcc4c"
      },
      "source": [
        "categ=categ[['item_category_id','type_id']]\r\n",
        "categ.head(3)"
      ],
      "execution_count": 19,
      "outputs": [
        {
          "output_type": "execute_result",
          "data": {
            "text/html": [
              "<div>\n",
              "<style scoped>\n",
              "    .dataframe tbody tr th:only-of-type {\n",
              "        vertical-align: middle;\n",
              "    }\n",
              "\n",
              "    .dataframe tbody tr th {\n",
              "        vertical-align: top;\n",
              "    }\n",
              "\n",
              "    .dataframe thead th {\n",
              "        text-align: right;\n",
              "    }\n",
              "</style>\n",
              "<table border=\"1\" class=\"dataframe\">\n",
              "  <thead>\n",
              "    <tr style=\"text-align: right;\">\n",
              "      <th></th>\n",
              "      <th>item_category_id</th>\n",
              "      <th>type_id</th>\n",
              "      <th>subtype_id</th>\n",
              "    </tr>\n",
              "  </thead>\n",
              "  <tbody>\n",
              "    <tr>\n",
              "      <th>0</th>\n",
              "      <td>0</td>\n",
              "      <td>0</td>\n",
              "      <td>29</td>\n",
              "    </tr>\n",
              "    <tr>\n",
              "      <th>1</th>\n",
              "      <td>1</td>\n",
              "      <td>1</td>\n",
              "      <td>9</td>\n",
              "    </tr>\n",
              "    <tr>\n",
              "      <th>2</th>\n",
              "      <td>2</td>\n",
              "      <td>1</td>\n",
              "      <td>10</td>\n",
              "    </tr>\n",
              "  </tbody>\n",
              "</table>\n",
              "</div>"
            ],
            "text/plain": [
              "   item_category_id  type_id  subtype_id\n",
              "0                 0        0          29\n",
              "1                 1        1           9\n",
              "2                 2        1          10"
            ]
          },
          "metadata": {
            "tags": []
          },
          "execution_count": 19
        }
      ]
    },
    {
      "cell_type": "markdown",
      "metadata": {
        "id": "uFYvCrPrNA2b"
      },
      "source": [
        "item data"
      ]
    },
    {
      "cell_type": "code",
      "metadata": {
        "colab": {
          "base_uri": "https://localhost:8080/",
          "height": 137
        },
        "id": "WiMFs-6RInx-",
        "outputId": "696055ae-0ad8-40fe-8836-6de3450c1daf"
      },
      "source": [
        "items.head(3)"
      ],
      "execution_count": 20,
      "outputs": [
        {
          "output_type": "execute_result",
          "data": {
            "text/html": [
              "<div>\n",
              "<style scoped>\n",
              "    .dataframe tbody tr th:only-of-type {\n",
              "        vertical-align: middle;\n",
              "    }\n",
              "\n",
              "    .dataframe tbody tr th {\n",
              "        vertical-align: top;\n",
              "    }\n",
              "\n",
              "    .dataframe thead th {\n",
              "        text-align: right;\n",
              "    }\n",
              "</style>\n",
              "<table border=\"1\" class=\"dataframe\">\n",
              "  <thead>\n",
              "    <tr style=\"text-align: right;\">\n",
              "      <th></th>\n",
              "      <th>item_name</th>\n",
              "      <th>item_id</th>\n",
              "      <th>item_category_id</th>\n",
              "    </tr>\n",
              "  </thead>\n",
              "  <tbody>\n",
              "    <tr>\n",
              "      <th>0</th>\n",
              "      <td>! ВО ВЛАСТИ НАВАЖДЕНИЯ (ПЛАСТ.)         D</td>\n",
              "      <td>0</td>\n",
              "      <td>40</td>\n",
              "    </tr>\n",
              "    <tr>\n",
              "      <th>1</th>\n",
              "      <td>!ABBYY FineReader 12 Professional Edition Full...</td>\n",
              "      <td>1</td>\n",
              "      <td>76</td>\n",
              "    </tr>\n",
              "    <tr>\n",
              "      <th>2</th>\n",
              "      <td>***В ЛУЧАХ СЛАВЫ   (UNV)                    D</td>\n",
              "      <td>2</td>\n",
              "      <td>40</td>\n",
              "    </tr>\n",
              "  </tbody>\n",
              "</table>\n",
              "</div>"
            ],
            "text/plain": [
              "                                           item_name  item_id  item_category_id\n",
              "0          ! ВО ВЛАСТИ НАВАЖДЕНИЯ (ПЛАСТ.)         D        0                40\n",
              "1  !ABBYY FineReader 12 Professional Edition Full...        1                76\n",
              "2      ***В ЛУЧАХ СЛАВЫ   (UNV)                    D        2                40"
            ]
          },
          "metadata": {
            "tags": []
          },
          "execution_count": 20
        }
      ]
    },
    {
      "cell_type": "code",
      "metadata": {
        "id": "alcg5R09Inz7"
      },
      "source": [
        "#item_name clean\r\n",
        "\r\n",
        "#소문자로 바꾸기\r\n",
        "items['item_name'] = items['item_name'].str.lower()\r\n",
        "items['item_name'] = items['item_name'].str.replace('.','')\r\n",
        "\r\n",
        "#정규표현식, 제거?\r\n",
        "for i in [r'[^\\w\\d\\s\\.]', r'\\bthe\\b', r'\\bin\\b', r'\\bis\\b',r'\\bfor\\b', r'\\bof\\b', r'\\bon\\b', r'\\band\\b',r'\\bto\\b', r'\\bwith\\b' , r'\\byo\\b']:\r\n",
        "    items['item_name'] = items['item_name'].str.replace(i, ' ')\r\n",
        "\r\n",
        "\r\n",
        "items['item_name'] = items['item_name'].str.replace(r'\\b.\\b', ' ')"
      ],
      "execution_count": 21,
      "outputs": []
    },
    {
      "cell_type": "code",
      "metadata": {
        "id": "5mfpEjkCPL11"
      },
      "source": [
        "#extract first n characters of name\r\n",
        "items['item_name_no_space'] = items['item_name'].str.replace(' ', '')\r\n",
        "items['item_name_first4'] = [x[:4] for x in items['item_name_no_space']]\r\n",
        "items['item_name_first6'] = [x[:6] for x in items['item_name_no_space']]\r\n",
        "items['item_name_first11'] = [x[:11] for x in items['item_name_no_space']]\r\n",
        "del items['item_name_no_space']\r\n"
      ],
      "execution_count": 22,
      "outputs": []
    },
    {
      "cell_type": "code",
      "metadata": {
        "id": "WXl91WpiPm7k"
      },
      "source": [
        "#label encode \r\n",
        "items.item_name_first4 = le.fit_transform(items.item_name_first4.values)\r\n",
        "items.item_name_first6 = le.fit_transform(items.item_name_first6.values)\r\n",
        "items.item_name_first11 = le.fit_transform(items.item_name_first11.values)"
      ],
      "execution_count": 23,
      "outputs": []
    },
    {
      "cell_type": "code",
      "metadata": {
        "colab": {
          "base_uri": "https://localhost:8080/",
          "height": 345
        },
        "id": "mcXfZrr9Pq5W",
        "outputId": "f342c8a7-498f-42d8-c483-61d8053f1362"
      },
      "source": [
        "#join category_name, group_name and group_id to items\r\n",
        "items = items.join(categ.set_index('item_category_id'), on='item_category_id')\r\n",
        "items.sample(10)"
      ],
      "execution_count": 24,
      "outputs": [
        {
          "output_type": "execute_result",
          "data": {
            "text/html": [
              "<div>\n",
              "<style scoped>\n",
              "    .dataframe tbody tr th:only-of-type {\n",
              "        vertical-align: middle;\n",
              "    }\n",
              "\n",
              "    .dataframe tbody tr th {\n",
              "        vertical-align: top;\n",
              "    }\n",
              "\n",
              "    .dataframe thead th {\n",
              "        text-align: right;\n",
              "    }\n",
              "</style>\n",
              "<table border=\"1\" class=\"dataframe\">\n",
              "  <thead>\n",
              "    <tr style=\"text-align: right;\">\n",
              "      <th></th>\n",
              "      <th>item_name</th>\n",
              "      <th>item_id</th>\n",
              "      <th>item_category_id</th>\n",
              "      <th>item_name_first4</th>\n",
              "      <th>item_name_first6</th>\n",
              "      <th>item_name_first11</th>\n",
              "      <th>type_id</th>\n",
              "      <th>subtype_id</th>\n",
              "    </tr>\n",
              "  </thead>\n",
              "  <tbody>\n",
              "    <tr>\n",
              "      <th>6115</th>\n",
              "      <td>renegade ops  софтклаб   pc  цифровая версия</td>\n",
              "      <td>6115</td>\n",
              "      <td>31</td>\n",
              "      <td>944</td>\n",
              "      <td>1365</td>\n",
              "      <td>2512</td>\n",
              "      <td>8</td>\n",
              "      <td>61</td>\n",
              "    </tr>\n",
              "    <tr>\n",
              "      <th>11417</th>\n",
              "      <td>еще одна из рода болейн  bd</td>\n",
              "      <td>11417</td>\n",
              "      <td>37</td>\n",
              "      <td>1970</td>\n",
              "      <td>2993</td>\n",
              "      <td>5146</td>\n",
              "      <td>10</td>\n",
              "      <td>1</td>\n",
              "    </tr>\n",
              "    <tr>\n",
              "      <th>8415</th>\n",
              "      <td>афера по американски</td>\n",
              "      <td>8415</td>\n",
              "      <td>40</td>\n",
              "      <td>1338</td>\n",
              "      <td>1988</td>\n",
              "      <td>3539</td>\n",
              "      <td>10</td>\n",
              "      <td>4</td>\n",
              "    </tr>\n",
              "    <tr>\n",
              "      <th>17606</th>\n",
              "      <td>периметр золотое издание  steam версия   pc  ц...</td>\n",
              "      <td>17606</td>\n",
              "      <td>31</td>\n",
              "      <td>2857</td>\n",
              "      <td>4438</td>\n",
              "      <td>7777</td>\n",
              "      <td>8</td>\n",
              "      <td>61</td>\n",
              "    </tr>\n",
              "    <tr>\n",
              "      <th>3864</th>\n",
              "      <td>hello  1с  мастер класс  пример быстрой разраб...</td>\n",
              "      <td>3864</td>\n",
              "      <td>54</td>\n",
              "      <td>539</td>\n",
              "      <td>775</td>\n",
              "      <td>1387</td>\n",
              "      <td>11</td>\n",
              "      <td>61</td>\n",
              "    </tr>\n",
              "    <tr>\n",
              "      <th>16474</th>\n",
              "      <td>огарева      регион</td>\n",
              "      <td>16474</td>\n",
              "      <td>40</td>\n",
              "      <td>2743</td>\n",
              "      <td>4256</td>\n",
              "      <td>7468</td>\n",
              "      <td>10</td>\n",
              "      <td>4</td>\n",
              "    </tr>\n",
              "    <tr>\n",
              "      <th>532</th>\n",
              "      <td>1с мир компьютера teachpro компьютерная график...</td>\n",
              "      <td>532</td>\n",
              "      <td>77</td>\n",
              "      <td>43</td>\n",
              "      <td>52</td>\n",
              "      <td>69</td>\n",
              "      <td>14</td>\n",
              "      <td>44</td>\n",
              "    </tr>\n",
              "    <tr>\n",
              "      <th>8255</th>\n",
              "      <td>амадей  wb  регион</td>\n",
              "      <td>8255</td>\n",
              "      <td>40</td>\n",
              "      <td>1285</td>\n",
              "      <td>1905</td>\n",
              "      <td>3400</td>\n",
              "      <td>10</td>\n",
              "      <td>4</td>\n",
              "    </tr>\n",
              "    <tr>\n",
              "      <th>4919</th>\n",
              "      <td>movavi game capture персональная  pc  цифровая...</td>\n",
              "      <td>4919</td>\n",
              "      <td>76</td>\n",
              "      <td>744</td>\n",
              "      <td>1074</td>\n",
              "      <td>1911</td>\n",
              "      <td>14</td>\n",
              "      <td>31</td>\n",
              "    </tr>\n",
              "    <tr>\n",
              "      <th>21012</th>\n",
              "      <td>футболка assassin   creed syndicate rook</td>\n",
              "      <td>21012</td>\n",
              "      <td>61</td>\n",
              "      <td>3652</td>\n",
              "      <td>5656</td>\n",
              "      <td>9879</td>\n",
              "      <td>13</td>\n",
              "      <td>20</td>\n",
              "    </tr>\n",
              "  </tbody>\n",
              "</table>\n",
              "</div>"
            ],
            "text/plain": [
              "                                               item_name  ...  subtype_id\n",
              "6115       renegade ops  софтклаб   pc  цифровая версия   ...          61\n",
              "11417                       еще одна из рода болейн  bd   ...           1\n",
              "8415                                афера по американски  ...           4\n",
              "17606  периметр золотое издание  steam версия   pc  ц...  ...          61\n",
              "3864   hello  1с  мастер класс  пример быстрой разраб...  ...          61\n",
              "16474                               огарева      регион   ...           4\n",
              "532    1с мир компьютера teachpro компьютерная график...  ...          44\n",
              "8255                                 амадей  wb  регион   ...           4\n",
              "4919   movavi game capture персональная  pc  цифровая...  ...          31\n",
              "21012         футболка assassin   creed syndicate rook    ...          20\n",
              "\n",
              "[10 rows x 8 columns]"
            ]
          },
          "metadata": {
            "tags": []
          },
          "execution_count": 24
        }
      ]
    },
    {
      "cell_type": "markdown",
      "metadata": {
        "id": "RciyWtAqQHE2"
      },
      "source": [
        "item data에서 중복행 제거"
      ]
    },
    {
      "cell_type": "code",
      "metadata": {
        "colab": {
          "base_uri": "https://localhost:8080/",
          "height": 404
        },
        "id": "oPwMPzgHQDVi",
        "outputId": "d151d873-7608-4c1b-d901-45405efc23ff"
      },
      "source": [
        "dupes = items[(items.duplicated(subset=['item_name','item_category_id'],keep=False))]\r\n",
        "dupes"
      ],
      "execution_count": 25,
      "outputs": [
        {
          "output_type": "execute_result",
          "data": {
            "text/html": [
              "<div>\n",
              "<style scoped>\n",
              "    .dataframe tbody tr th:only-of-type {\n",
              "        vertical-align: middle;\n",
              "    }\n",
              "\n",
              "    .dataframe tbody tr th {\n",
              "        vertical-align: top;\n",
              "    }\n",
              "\n",
              "    .dataframe thead th {\n",
              "        text-align: right;\n",
              "    }\n",
              "</style>\n",
              "<table border=\"1\" class=\"dataframe\">\n",
              "  <thead>\n",
              "    <tr style=\"text-align: right;\">\n",
              "      <th></th>\n",
              "      <th>item_name</th>\n",
              "      <th>item_id</th>\n",
              "      <th>item_category_id</th>\n",
              "      <th>item_name_first4</th>\n",
              "      <th>item_name_first6</th>\n",
              "      <th>item_name_first11</th>\n",
              "      <th>type_id</th>\n",
              "      <th>subtype_id</th>\n",
              "    </tr>\n",
              "  </thead>\n",
              "  <tbody>\n",
              "    <tr>\n",
              "      <th>32</th>\n",
              "      <td></td>\n",
              "      <td>32</td>\n",
              "      <td>40</td>\n",
              "      <td>0</td>\n",
              "      <td>0</td>\n",
              "      <td>0</td>\n",
              "      <td>10</td>\n",
              "      <td>4</td>\n",
              "    </tr>\n",
              "    <tr>\n",
              "      <th>126</th>\n",
              "      <td>1с аудиокниги  сказки выпуск     цифровая версия</td>\n",
              "      <td>126</td>\n",
              "      <td>44</td>\n",
              "      <td>33</td>\n",
              "      <td>38</td>\n",
              "      <td>52</td>\n",
              "      <td>11</td>\n",
              "      <td>22</td>\n",
              "    </tr>\n",
              "    <tr>\n",
              "      <th>127</th>\n",
              "      <td>1с аудиокниги  сказки выпуск     цифровая версия</td>\n",
              "      <td>127</td>\n",
              "      <td>44</td>\n",
              "      <td>33</td>\n",
              "      <td>38</td>\n",
              "      <td>52</td>\n",
              "      <td>11</td>\n",
              "      <td>22</td>\n",
              "    </tr>\n",
              "    <tr>\n",
              "      <th>128</th>\n",
              "      <td>1с аудиокниги  сказки выпуск     цифровая версия</td>\n",
              "      <td>128</td>\n",
              "      <td>44</td>\n",
              "      <td>33</td>\n",
              "      <td>38</td>\n",
              "      <td>52</td>\n",
              "      <td>11</td>\n",
              "      <td>22</td>\n",
              "    </tr>\n",
              "    <tr>\n",
              "      <th>129</th>\n",
              "      <td>1с аудиокниги  сказки выпуск     цифровая версия</td>\n",
              "      <td>129</td>\n",
              "      <td>44</td>\n",
              "      <td>33</td>\n",
              "      <td>38</td>\n",
              "      <td>52</td>\n",
              "      <td>11</td>\n",
              "      <td>22</td>\n",
              "    </tr>\n",
              "    <tr>\n",
              "      <th>...</th>\n",
              "      <td>...</td>\n",
              "      <td>...</td>\n",
              "      <td>...</td>\n",
              "      <td>...</td>\n",
              "      <td>...</td>\n",
              "      <td>...</td>\n",
              "      <td>...</td>\n",
              "      <td>...</td>\n",
              "    </tr>\n",
              "    <tr>\n",
              "      <th>22036</th>\n",
              "      <td>элвин   бурундуки    bd</td>\n",
              "      <td>22036</td>\n",
              "      <td>37</td>\n",
              "      <td>3832</td>\n",
              "      <td>5920</td>\n",
              "      <td>10302</td>\n",
              "      <td>10</td>\n",
              "      <td>1</td>\n",
              "    </tr>\n",
              "    <tr>\n",
              "      <th>22038</th>\n",
              "      <td>элвин   бурундуки</td>\n",
              "      <td>22038</td>\n",
              "      <td>40</td>\n",
              "      <td>3832</td>\n",
              "      <td>5920</td>\n",
              "      <td>10302</td>\n",
              "      <td>10</td>\n",
              "      <td>4</td>\n",
              "    </tr>\n",
              "    <tr>\n",
              "      <th>22039</th>\n",
              "      <td>элвин   бурундуки    bd</td>\n",
              "      <td>22039</td>\n",
              "      <td>37</td>\n",
              "      <td>3832</td>\n",
              "      <td>5920</td>\n",
              "      <td>10302</td>\n",
              "      <td>10</td>\n",
              "      <td>1</td>\n",
              "    </tr>\n",
              "    <tr>\n",
              "      <th>22111</th>\n",
              "      <td>юмор   сатира     рассказы русских писателей  ...</td>\n",
              "      <td>22111</td>\n",
              "      <td>43</td>\n",
              "      <td>3855</td>\n",
              "      <td>5947</td>\n",
              "      <td>10336</td>\n",
              "      <td>11</td>\n",
              "      <td>21</td>\n",
              "    </tr>\n",
              "    <tr>\n",
              "      <th>22112</th>\n",
              "      <td>юмор   сатира     рассказы русских писателей  ...</td>\n",
              "      <td>22112</td>\n",
              "      <td>43</td>\n",
              "      <td>3855</td>\n",
              "      <td>5947</td>\n",
              "      <td>10336</td>\n",
              "      <td>11</td>\n",
              "      <td>21</td>\n",
              "    </tr>\n",
              "  </tbody>\n",
              "</table>\n",
              "<p>1484 rows × 8 columns</p>\n",
              "</div>"
            ],
            "text/plain": [
              "                                               item_name  ...  subtype_id\n",
              "32                                                        ...           4\n",
              "126    1с аудиокниги  сказки выпуск     цифровая версия   ...          22\n",
              "127    1с аудиокниги  сказки выпуск     цифровая версия   ...          22\n",
              "128    1с аудиокниги  сказки выпуск     цифровая версия   ...          22\n",
              "129    1с аудиокниги  сказки выпуск     цифровая версия   ...          22\n",
              "...                                                  ...  ...         ...\n",
              "22036                           элвин   бурундуки    bd   ...           1\n",
              "22038                                элвин   бурундуки    ...           4\n",
              "22039                           элвин   бурундуки    bd   ...           1\n",
              "22111  юмор   сатира     рассказы русских писателей  ...  ...          21\n",
              "22112  юмор   сатира     рассказы русских писателей  ...  ...          21\n",
              "\n",
              "[1484 rows x 8 columns]"
            ]
          },
          "metadata": {
            "tags": []
          },
          "execution_count": 25
        }
      ]
    },
    {
      "cell_type": "code",
      "metadata": {
        "colab": {
          "base_uri": "https://localhost:8080/"
        },
        "id": "eLlAnhC0Ril4",
        "outputId": "65906385-5aa4-4cec-bfc5-00d83075f0bd"
      },
      "source": [
        "#isin() : series나 dataframe 안에 요소가 isin()메서드에 입력된 데이터에 있는지 판별해줌\r\n",
        "dupes['in_test'] = dupes.item_id.isin(test.item_id.unique())\r\n",
        "dupes = dupes.groupby('item_name').agg({'item_id':['first','last'],'in_test':['first','last']})"
      ],
      "execution_count": 26,
      "outputs": [
        {
          "output_type": "stream",
          "text": [
            "/usr/local/lib/python3.7/dist-packages/ipykernel_launcher.py:2: SettingWithCopyWarning: \n",
            "A value is trying to be set on a copy of a slice from a DataFrame.\n",
            "Try using .loc[row_indexer,col_indexer] = value instead\n",
            "\n",
            "See the caveats in the documentation: https://pandas.pydata.org/pandas-docs/stable/user_guide/indexing.html#returning-a-view-versus-a-copy\n",
            "  \n"
          ],
          "name": "stderr"
        }
      ]
    },
    {
      "cell_type": "code",
      "metadata": {
        "id": "oBx3ZglLRirY"
      },
      "source": [
        "#if both item id's are in the test set do nothing\r\n",
        "dupes = dupes[(dupes[('in_test', 'first')]==False) | (dupes[('in_test', 'last')]==False)]\r\n",
        "#if only the first id is in the test set assign this id to both\r\n",
        "temp = dupes[dupes[('in_test', 'first')]==True]\r\n",
        "keep_first = dict(zip(temp[('item_id', 'last')], temp[('item_id',  'first')]))\r\n",
        "#if neither id or only the second id is in the test set, assign the second id to both\r\n",
        "temp = dupes[dupes[('in_test', 'first')]==False]\r\n",
        "keep_second = dict(zip(temp[('item_id', 'first')], temp[('item_id',  'last')]))\r\n",
        "item_map = {**keep_first, **keep_second}"
      ],
      "execution_count": 27,
      "outputs": []
    },
    {
      "cell_type": "markdown",
      "metadata": {
        "id": "QnQfgKo7SEtl"
      },
      "source": [
        "sales data"
      ]
    },
    {
      "cell_type": "code",
      "metadata": {
        "id": "1TkCJvkTRiue"
      },
      "source": [
        "sales = (train\r\n",
        "    .query('0 < item_price < 50000 and 0 < item_cnt_day < 1001') #removing outliers\r\n",
        "    .replace({\r\n",
        "        'shop_id':{0:57, 1:58, 11:10}, #replacing obsolete shop id's\r\n",
        "        'item_id':item_map #fixing duplicate item id's  \r\n",
        "    })    \r\n",
        ")\r\n",
        "\r\n",
        "#removing shops which don't appear in the test set\r\n",
        "sales = sales[sales['shop_id'].isin(test.shop_id.unique())]\r\n",
        "\r\n",
        "sales['date'] = pd.to_datetime(sales.date,format='%d.%m.%Y')\r\n",
        "sales['weekday'] = sales.date.dt.dayofweek\r\n",
        "\r\n",
        "#first day the item was sold, day 0 is the first day of the training set period\r\n",
        "sales['first_sale_day'] = sales.date.dt.dayofyear \r\n",
        "sales['first_sale_day'] += 365 * (sales.date.dt.year-2013)\r\n",
        "sales['first_sale_day'] = sales.groupby('item_id')['first_sale_day'].transform('min').astype('int16')\r\n",
        "\r\n",
        "#revenue is needed to accurately calculate prices after grouping\r\n",
        "sales['revenue'] = sales['item_cnt_day']*sales['item_price']"
      ],
      "execution_count": 28,
      "outputs": []
    },
    {
      "cell_type": "code",
      "metadata": {
        "colab": {
          "base_uri": "https://localhost:8080/",
          "height": 494
        },
        "id": "M1ODu42iSi2a",
        "outputId": "4f1cd425-f2fe-43aa-925f-333c53ad2b89"
      },
      "source": [
        "temp = sales.groupby(['shop_id','weekday']).agg({'item_cnt_day':'sum'}).reset_index()\r\n",
        "temp = pd.merge(temp, sales.groupby(['shop_id']).agg({'item_cnt_day':'sum'}).reset_index(), on='shop_id', how='left')\r\n",
        "temp.columns = ['shop_id','weekday', 'shop_day_sales', 'shop_total_sales']\r\n",
        "temp['day_quality'] = temp['shop_day_sales']/temp['shop_total_sales']\r\n",
        "temp = temp[['shop_id','weekday','day_quality']]\r\n",
        "\r\n",
        "dates = pd.DataFrame(data={'date':pd.date_range(start='2013-01-01',end='2015-11-30')})\r\n",
        "dates['weekday'] = dates.date.dt.dayofweek\r\n",
        "dates['month'] = dates.date.dt.month\r\n",
        "dates['year'] = dates.date.dt.year - 2013\r\n",
        "dates['date_block_num'] = dates['year']*12 + dates['month'] - 1\r\n",
        "dates['first_day_of_month'] = dates.date.dt.dayofyear\r\n",
        "dates['first_day_of_month'] += 365 * dates['year']\r\n",
        "dates = dates.join(temp.set_index('weekday'), on='weekday')\r\n",
        "dates = dates.groupby(['date_block_num','shop_id','month','year']).agg({'day_quality':'sum','first_day_of_month':'min'}).reset_index()\r\n",
        "\r\n",
        "dates.query('shop_id == 28').head(15)"
      ],
      "execution_count": 29,
      "outputs": [
        {
          "output_type": "execute_result",
          "data": {
            "text/html": [
              "<div>\n",
              "<style scoped>\n",
              "    .dataframe tbody tr th:only-of-type {\n",
              "        vertical-align: middle;\n",
              "    }\n",
              "\n",
              "    .dataframe tbody tr th {\n",
              "        vertical-align: top;\n",
              "    }\n",
              "\n",
              "    .dataframe thead th {\n",
              "        text-align: right;\n",
              "    }\n",
              "</style>\n",
              "<table border=\"1\" class=\"dataframe\">\n",
              "  <thead>\n",
              "    <tr style=\"text-align: right;\">\n",
              "      <th></th>\n",
              "      <th>date_block_num</th>\n",
              "      <th>shop_id</th>\n",
              "      <th>month</th>\n",
              "      <th>year</th>\n",
              "      <th>day_quality</th>\n",
              "      <th>first_day_of_month</th>\n",
              "    </tr>\n",
              "  </thead>\n",
              "  <tbody>\n",
              "    <tr>\n",
              "      <th>18</th>\n",
              "      <td>0</td>\n",
              "      <td>28</td>\n",
              "      <td>1</td>\n",
              "      <td>0</td>\n",
              "      <td>4.300037</td>\n",
              "      <td>1</td>\n",
              "    </tr>\n",
              "    <tr>\n",
              "      <th>60</th>\n",
              "      <td>1</td>\n",
              "      <td>28</td>\n",
              "      <td>2</td>\n",
              "      <td>0</td>\n",
              "      <td>4.000000</td>\n",
              "      <td>32</td>\n",
              "    </tr>\n",
              "    <tr>\n",
              "      <th>102</th>\n",
              "      <td>2</td>\n",
              "      <td>28</td>\n",
              "      <td>3</td>\n",
              "      <td>0</td>\n",
              "      <td>4.605952</td>\n",
              "      <td>60</td>\n",
              "    </tr>\n",
              "    <tr>\n",
              "      <th>144</th>\n",
              "      <td>3</td>\n",
              "      <td>28</td>\n",
              "      <td>4</td>\n",
              "      <td>0</td>\n",
              "      <td>4.193211</td>\n",
              "      <td>91</td>\n",
              "    </tr>\n",
              "    <tr>\n",
              "      <th>186</th>\n",
              "      <td>4</td>\n",
              "      <td>28</td>\n",
              "      <td>5</td>\n",
              "      <td>0</td>\n",
              "      <td>4.333970</td>\n",
              "      <td>121</td>\n",
              "    </tr>\n",
              "    <tr>\n",
              "      <th>228</th>\n",
              "      <td>5</td>\n",
              "      <td>28</td>\n",
              "      <td>6</td>\n",
              "      <td>0</td>\n",
              "      <td>4.472819</td>\n",
              "      <td>152</td>\n",
              "    </tr>\n",
              "    <tr>\n",
              "      <th>270</th>\n",
              "      <td>6</td>\n",
              "      <td>28</td>\n",
              "      <td>7</td>\n",
              "      <td>0</td>\n",
              "      <td>4.287644</td>\n",
              "      <td>182</td>\n",
              "    </tr>\n",
              "    <tr>\n",
              "      <th>312</th>\n",
              "      <td>7</td>\n",
              "      <td>28</td>\n",
              "      <td>8</td>\n",
              "      <td>0</td>\n",
              "      <td>4.492718</td>\n",
              "      <td>213</td>\n",
              "    </tr>\n",
              "    <tr>\n",
              "      <th>354</th>\n",
              "      <td>8</td>\n",
              "      <td>28</td>\n",
              "      <td>9</td>\n",
              "      <td>0</td>\n",
              "      <td>4.313648</td>\n",
              "      <td>244</td>\n",
              "    </tr>\n",
              "    <tr>\n",
              "      <th>396</th>\n",
              "      <td>9</td>\n",
              "      <td>28</td>\n",
              "      <td>10</td>\n",
              "      <td>0</td>\n",
              "      <td>4.300037</td>\n",
              "      <td>274</td>\n",
              "    </tr>\n",
              "    <tr>\n",
              "      <th>438</th>\n",
              "      <td>10</td>\n",
              "      <td>28</td>\n",
              "      <td>11</td>\n",
              "      <td>0</td>\n",
              "      <td>4.386314</td>\n",
              "      <td>305</td>\n",
              "    </tr>\n",
              "    <tr>\n",
              "      <th>480</th>\n",
              "      <td>11</td>\n",
              "      <td>28</td>\n",
              "      <td>12</td>\n",
              "      <td>0</td>\n",
              "      <td>4.412849</td>\n",
              "      <td>335</td>\n",
              "    </tr>\n",
              "    <tr>\n",
              "      <th>522</th>\n",
              "      <td>12</td>\n",
              "      <td>28</td>\n",
              "      <td>1</td>\n",
              "      <td>1</td>\n",
              "      <td>4.333970</td>\n",
              "      <td>366</td>\n",
              "    </tr>\n",
              "    <tr>\n",
              "      <th>564</th>\n",
              "      <td>13</td>\n",
              "      <td>28</td>\n",
              "      <td>2</td>\n",
              "      <td>1</td>\n",
              "      <td>4.000000</td>\n",
              "      <td>397</td>\n",
              "    </tr>\n",
              "    <tr>\n",
              "      <th>606</th>\n",
              "      <td>14</td>\n",
              "      <td>28</td>\n",
              "      <td>3</td>\n",
              "      <td>1</td>\n",
              "      <td>4.566829</td>\n",
              "      <td>425</td>\n",
              "    </tr>\n",
              "  </tbody>\n",
              "</table>\n",
              "</div>"
            ],
            "text/plain": [
              "     date_block_num  shop_id  month  year  day_quality  first_day_of_month\n",
              "18                0       28      1     0     4.300037                   1\n",
              "60                1       28      2     0     4.000000                  32\n",
              "102               2       28      3     0     4.605952                  60\n",
              "144               3       28      4     0     4.193211                  91\n",
              "186               4       28      5     0     4.333970                 121\n",
              "228               5       28      6     0     4.472819                 152\n",
              "270               6       28      7     0     4.287644                 182\n",
              "312               7       28      8     0     4.492718                 213\n",
              "354               8       28      9     0     4.313648                 244\n",
              "396               9       28     10     0     4.300037                 274\n",
              "438              10       28     11     0     4.386314                 305\n",
              "480              11       28     12     0     4.412849                 335\n",
              "522              12       28      1     1     4.333970                 366\n",
              "564              13       28      2     1     4.000000                 397\n",
              "606              14       28      3     1     4.566829                 425"
            ]
          },
          "metadata": {
            "tags": []
          },
          "execution_count": 29
        }
      ]
    },
    {
      "cell_type": "code",
      "metadata": {
        "colab": {
          "base_uri": "https://localhost:8080/",
          "height": 196
        },
        "id": "d9tV6FIwSi7b",
        "outputId": "027f48e7-4e48-439f-a58e-30093f5a805c"
      },
      "source": [
        "sales = (sales\r\n",
        "     .groupby(['date_block_num', 'shop_id', 'item_id'])\r\n",
        "     .agg({\r\n",
        "         'item_cnt_day':'sum', \r\n",
        "         'revenue':'sum',\r\n",
        "         'first_sale_day':'first'\r\n",
        "     })\r\n",
        "     .reset_index()\r\n",
        "     .rename(columns={'item_cnt_day':'item_cnt'})\r\n",
        ")\r\n",
        "sales.sample(5)"
      ],
      "execution_count": 30,
      "outputs": [
        {
          "output_type": "execute_result",
          "data": {
            "text/html": [
              "<div>\n",
              "<style scoped>\n",
              "    .dataframe tbody tr th:only-of-type {\n",
              "        vertical-align: middle;\n",
              "    }\n",
              "\n",
              "    .dataframe tbody tr th {\n",
              "        vertical-align: top;\n",
              "    }\n",
              "\n",
              "    .dataframe thead th {\n",
              "        text-align: right;\n",
              "    }\n",
              "</style>\n",
              "<table border=\"1\" class=\"dataframe\">\n",
              "  <thead>\n",
              "    <tr style=\"text-align: right;\">\n",
              "      <th></th>\n",
              "      <th>date_block_num</th>\n",
              "      <th>shop_id</th>\n",
              "      <th>item_id</th>\n",
              "      <th>item_cnt</th>\n",
              "      <th>revenue</th>\n",
              "      <th>first_sale_day</th>\n",
              "    </tr>\n",
              "  </thead>\n",
              "  <tbody>\n",
              "    <tr>\n",
              "      <th>820630</th>\n",
              "      <td>19</td>\n",
              "      <td>16</td>\n",
              "      <td>16425</td>\n",
              "      <td>1.0</td>\n",
              "      <td>399.0</td>\n",
              "      <td>44</td>\n",
              "    </tr>\n",
              "    <tr>\n",
              "      <th>443941</th>\n",
              "      <td>9</td>\n",
              "      <td>55</td>\n",
              "      <td>21995</td>\n",
              "      <td>1.0</td>\n",
              "      <td>299.0</td>\n",
              "      <td>170</td>\n",
              "    </tr>\n",
              "    <tr>\n",
              "      <th>448374</th>\n",
              "      <td>9</td>\n",
              "      <td>58</td>\n",
              "      <td>16738</td>\n",
              "      <td>1.0</td>\n",
              "      <td>149.0</td>\n",
              "      <td>205</td>\n",
              "    </tr>\n",
              "    <tr>\n",
              "      <th>1140798</th>\n",
              "      <td>27</td>\n",
              "      <td>57</td>\n",
              "      <td>21669</td>\n",
              "      <td>3.0</td>\n",
              "      <td>447.0</td>\n",
              "      <td>705</td>\n",
              "    </tr>\n",
              "    <tr>\n",
              "      <th>485512</th>\n",
              "      <td>10</td>\n",
              "      <td>56</td>\n",
              "      <td>7064</td>\n",
              "      <td>1.0</td>\n",
              "      <td>199.0</td>\n",
              "      <td>2</td>\n",
              "    </tr>\n",
              "  </tbody>\n",
              "</table>\n",
              "</div>"
            ],
            "text/plain": [
              "         date_block_num  shop_id  item_id  item_cnt  revenue  first_sale_day\n",
              "820630               19       16    16425       1.0    399.0              44\n",
              "443941                9       55    21995       1.0    299.0             170\n",
              "448374                9       58    16738       1.0    149.0             205\n",
              "1140798              27       57    21669       3.0    447.0             705\n",
              "485512               10       56     7064       1.0    199.0               2"
            ]
          },
          "metadata": {
            "tags": []
          },
          "execution_count": 30
        }
      ]
    },
    {
      "cell_type": "markdown",
      "metadata": {
        "id": "Q17K6CSwSrOx"
      },
      "source": [
        "constructing training dataframe"
      ]
    },
    {
      "cell_type": "code",
      "metadata": {
        "colab": {
          "base_uri": "https://localhost:8080/",
          "height": 196
        },
        "id": "XnQTnm01SjBI",
        "outputId": "52aea5a4-8511-495b-d084-33b856837c5f"
      },
      "source": [
        "df = [] \r\n",
        "for block_num in sales['date_block_num'].unique():\r\n",
        "    cur_shops = sales.loc[sales['date_block_num'] == block_num, 'shop_id'].unique()\r\n",
        "    cur_items = sales.loc[sales['date_block_num'] == block_num, 'item_id'].unique()\r\n",
        "    df.append(np.array(list(product(*[cur_shops, cur_items, [block_num]]))))\r\n",
        "\r\n",
        "df = pd.DataFrame(np.vstack(df), columns=['shop_id', 'item_id', 'date_block_num'])\r\n",
        "df.head()"
      ],
      "execution_count": 31,
      "outputs": [
        {
          "output_type": "execute_result",
          "data": {
            "text/html": [
              "<div>\n",
              "<style scoped>\n",
              "    .dataframe tbody tr th:only-of-type {\n",
              "        vertical-align: middle;\n",
              "    }\n",
              "\n",
              "    .dataframe tbody tr th {\n",
              "        vertical-align: top;\n",
              "    }\n",
              "\n",
              "    .dataframe thead th {\n",
              "        text-align: right;\n",
              "    }\n",
              "</style>\n",
              "<table border=\"1\" class=\"dataframe\">\n",
              "  <thead>\n",
              "    <tr style=\"text-align: right;\">\n",
              "      <th></th>\n",
              "      <th>shop_id</th>\n",
              "      <th>item_id</th>\n",
              "      <th>date_block_num</th>\n",
              "    </tr>\n",
              "  </thead>\n",
              "  <tbody>\n",
              "    <tr>\n",
              "      <th>0</th>\n",
              "      <td>2</td>\n",
              "      <td>27</td>\n",
              "      <td>0</td>\n",
              "    </tr>\n",
              "    <tr>\n",
              "      <th>1</th>\n",
              "      <td>2</td>\n",
              "      <td>33</td>\n",
              "      <td>0</td>\n",
              "    </tr>\n",
              "    <tr>\n",
              "      <th>2</th>\n",
              "      <td>2</td>\n",
              "      <td>317</td>\n",
              "      <td>0</td>\n",
              "    </tr>\n",
              "    <tr>\n",
              "      <th>3</th>\n",
              "      <td>2</td>\n",
              "      <td>438</td>\n",
              "      <td>0</td>\n",
              "    </tr>\n",
              "    <tr>\n",
              "      <th>4</th>\n",
              "      <td>2</td>\n",
              "      <td>473</td>\n",
              "      <td>0</td>\n",
              "    </tr>\n",
              "  </tbody>\n",
              "</table>\n",
              "</div>"
            ],
            "text/plain": [
              "   shop_id  item_id  date_block_num\n",
              "0        2       27               0\n",
              "1        2       33               0\n",
              "2        2      317               0\n",
              "3        2      438               0\n",
              "4        2      473               0"
            ]
          },
          "metadata": {
            "tags": []
          },
          "execution_count": 31
        }
      ]
    },
    {
      "cell_type": "code",
      "metadata": {
        "colab": {
          "base_uri": "https://localhost:8080/"
        },
        "id": "Ilx0_uidT57s",
        "outputId": "28c67860-d7db-4e9d-a47b-56f73f1d2319"
      },
      "source": [
        "test.columns"
      ],
      "execution_count": 32,
      "outputs": [
        {
          "output_type": "execute_result",
          "data": {
            "text/plain": [
              "Index(['shop_id', 'item_id'], dtype='object')"
            ]
          },
          "metadata": {
            "tags": []
          },
          "execution_count": 32
        }
      ]
    },
    {
      "cell_type": "code",
      "metadata": {
        "id": "wnG74I0eSv6a"
      },
      "source": [
        "#add the appropriate date_block_num value to the test set\r\n",
        "test['date_block_num'] = 34\r\n",
        "\r\n",
        "#append test set to training dataframe\r\n",
        "df = pd.concat([df,test]).fillna(0)\r\n",
        "df = df.reset_index()\r\n",
        "del df['index']"
      ],
      "execution_count": 33,
      "outputs": []
    },
    {
      "cell_type": "code",
      "metadata": {
        "colab": {
          "base_uri": "https://localhost:8080/",
          "height": 137
        },
        "id": "pMHKxtdQUV_K",
        "outputId": "fdac110e-13b0-46af-b5e2-8ae7fc666861"
      },
      "source": [
        "items.head(3)"
      ],
      "execution_count": 34,
      "outputs": [
        {
          "output_type": "execute_result",
          "data": {
            "text/html": [
              "<div>\n",
              "<style scoped>\n",
              "    .dataframe tbody tr th:only-of-type {\n",
              "        vertical-align: middle;\n",
              "    }\n",
              "\n",
              "    .dataframe tbody tr th {\n",
              "        vertical-align: top;\n",
              "    }\n",
              "\n",
              "    .dataframe thead th {\n",
              "        text-align: right;\n",
              "    }\n",
              "</style>\n",
              "<table border=\"1\" class=\"dataframe\">\n",
              "  <thead>\n",
              "    <tr style=\"text-align: right;\">\n",
              "      <th></th>\n",
              "      <th>item_name</th>\n",
              "      <th>item_id</th>\n",
              "      <th>item_category_id</th>\n",
              "      <th>item_name_first4</th>\n",
              "      <th>item_name_first6</th>\n",
              "      <th>item_name_first11</th>\n",
              "      <th>type_id</th>\n",
              "      <th>subtype_id</th>\n",
              "    </tr>\n",
              "  </thead>\n",
              "  <tbody>\n",
              "    <tr>\n",
              "      <th>0</th>\n",
              "      <td>во власти наваждения  пласт</td>\n",
              "      <td>0</td>\n",
              "      <td>40</td>\n",
              "      <td>1623</td>\n",
              "      <td>2463</td>\n",
              "      <td>4332</td>\n",
              "      <td>10</td>\n",
              "      <td>4</td>\n",
              "    </tr>\n",
              "    <tr>\n",
              "      <th>1</th>\n",
              "      <td>abbyy finereader 12 professional edition full...</td>\n",
              "      <td>1</td>\n",
              "      <td>76</td>\n",
              "      <td>105</td>\n",
              "      <td>130</td>\n",
              "      <td>211</td>\n",
              "      <td>14</td>\n",
              "      <td>31</td>\n",
              "    </tr>\n",
              "    <tr>\n",
              "      <th>2</th>\n",
              "      <td>лучах славы    unv</td>\n",
              "      <td>2</td>\n",
              "      <td>40</td>\n",
              "      <td>2409</td>\n",
              "      <td>3707</td>\n",
              "      <td>6553</td>\n",
              "      <td>10</td>\n",
              "      <td>4</td>\n",
              "    </tr>\n",
              "  </tbody>\n",
              "</table>\n",
              "</div>"
            ],
            "text/plain": [
              "                                           item_name  ...  subtype_id\n",
              "0             во власти наваждения  пласт             ...           4\n",
              "1   abbyy finereader 12 professional edition full...  ...          31\n",
              "2           лучах славы    unv                        ...           4\n",
              "\n",
              "[3 rows x 8 columns]"
            ]
          },
          "metadata": {
            "tags": []
          },
          "execution_count": 34
        }
      ]
    },
    {
      "cell_type": "code",
      "metadata": {
        "id": "dQ2SDH2ySv_h"
      },
      "source": [
        "#join sales and item inforamtion to the training dataframe\r\n",
        "df = pd.merge(df, sales, on=['shop_id', 'item_id', 'date_block_num'], how='left').fillna(0)\r\n",
        "df = pd.merge(df, dates, on=['date_block_num','shop_id'], how='left')\r\n",
        "df = pd.merge(df, items.drop(columns=['item_name']), on='item_id', how='left')"
      ],
      "execution_count": 35,
      "outputs": []
    },
    {
      "cell_type": "markdown",
      "metadata": {
        "id": "yuUPaRpFS1BF"
      },
      "source": [
        "adding shop information"
      ]
    },
    {
      "cell_type": "code",
      "metadata": {
        "colab": {
          "base_uri": "https://localhost:8080/",
          "height": 424
        },
        "id": "-jJg-8qfV0pl",
        "outputId": "3ed03211-cbe9-449c-f763-53ec1d8ce0bc"
      },
      "source": [
        "df"
      ],
      "execution_count": 36,
      "outputs": [
        {
          "output_type": "execute_result",
          "data": {
            "text/html": [
              "<div>\n",
              "<style scoped>\n",
              "    .dataframe tbody tr th:only-of-type {\n",
              "        vertical-align: middle;\n",
              "    }\n",
              "\n",
              "    .dataframe tbody tr th {\n",
              "        vertical-align: top;\n",
              "    }\n",
              "\n",
              "    .dataframe thead th {\n",
              "        text-align: right;\n",
              "    }\n",
              "</style>\n",
              "<table border=\"1\" class=\"dataframe\">\n",
              "  <thead>\n",
              "    <tr style=\"text-align: right;\">\n",
              "      <th></th>\n",
              "      <th>shop_id</th>\n",
              "      <th>item_id</th>\n",
              "      <th>date_block_num</th>\n",
              "      <th>item_cnt</th>\n",
              "      <th>revenue</th>\n",
              "      <th>first_sale_day</th>\n",
              "      <th>month</th>\n",
              "      <th>year</th>\n",
              "      <th>day_quality</th>\n",
              "      <th>first_day_of_month</th>\n",
              "      <th>item_category_id</th>\n",
              "      <th>item_name_first4</th>\n",
              "      <th>item_name_first6</th>\n",
              "      <th>item_name_first11</th>\n",
              "      <th>type_id</th>\n",
              "      <th>subtype_id</th>\n",
              "    </tr>\n",
              "  </thead>\n",
              "  <tbody>\n",
              "    <tr>\n",
              "      <th>0</th>\n",
              "      <td>2</td>\n",
              "      <td>27</td>\n",
              "      <td>0</td>\n",
              "      <td>1.0</td>\n",
              "      <td>2499.0</td>\n",
              "      <td>2.0</td>\n",
              "      <td>1</td>\n",
              "      <td>0</td>\n",
              "      <td>4.381749</td>\n",
              "      <td>1</td>\n",
              "      <td>19</td>\n",
              "      <td>1</td>\n",
              "      <td>1</td>\n",
              "      <td>1</td>\n",
              "      <td>5</td>\n",
              "      <td>10</td>\n",
              "    </tr>\n",
              "    <tr>\n",
              "      <th>1</th>\n",
              "      <td>2</td>\n",
              "      <td>33</td>\n",
              "      <td>0</td>\n",
              "      <td>1.0</td>\n",
              "      <td>499.0</td>\n",
              "      <td>2.0</td>\n",
              "      <td>1</td>\n",
              "      <td>0</td>\n",
              "      <td>4.381749</td>\n",
              "      <td>1</td>\n",
              "      <td>37</td>\n",
              "      <td>187</td>\n",
              "      <td>249</td>\n",
              "      <td>414</td>\n",
              "      <td>10</td>\n",
              "      <td>1</td>\n",
              "    </tr>\n",
              "    <tr>\n",
              "      <th>2</th>\n",
              "      <td>2</td>\n",
              "      <td>317</td>\n",
              "      <td>0</td>\n",
              "      <td>1.0</td>\n",
              "      <td>299.0</td>\n",
              "      <td>4.0</td>\n",
              "      <td>1</td>\n",
              "      <td>0</td>\n",
              "      <td>4.381749</td>\n",
              "      <td>1</td>\n",
              "      <td>45</td>\n",
              "      <td>33</td>\n",
              "      <td>38</td>\n",
              "      <td>52</td>\n",
              "      <td>11</td>\n",
              "      <td>23</td>\n",
              "    </tr>\n",
              "    <tr>\n",
              "      <th>3</th>\n",
              "      <td>2</td>\n",
              "      <td>438</td>\n",
              "      <td>0</td>\n",
              "      <td>1.0</td>\n",
              "      <td>299.0</td>\n",
              "      <td>19.0</td>\n",
              "      <td>1</td>\n",
              "      <td>0</td>\n",
              "      <td>4.381749</td>\n",
              "      <td>1</td>\n",
              "      <td>45</td>\n",
              "      <td>33</td>\n",
              "      <td>38</td>\n",
              "      <td>54</td>\n",
              "      <td>11</td>\n",
              "      <td>23</td>\n",
              "    </tr>\n",
              "    <tr>\n",
              "      <th>4</th>\n",
              "      <td>2</td>\n",
              "      <td>473</td>\n",
              "      <td>0</td>\n",
              "      <td>2.0</td>\n",
              "      <td>798.0</td>\n",
              "      <td>3.0</td>\n",
              "      <td>1</td>\n",
              "      <td>0</td>\n",
              "      <td>4.381749</td>\n",
              "      <td>1</td>\n",
              "      <td>49</td>\n",
              "      <td>35</td>\n",
              "      <td>43</td>\n",
              "      <td>59</td>\n",
              "      <td>11</td>\n",
              "      <td>39</td>\n",
              "    </tr>\n",
              "    <tr>\n",
              "      <th>...</th>\n",
              "      <td>...</td>\n",
              "      <td>...</td>\n",
              "      <td>...</td>\n",
              "      <td>...</td>\n",
              "      <td>...</td>\n",
              "      <td>...</td>\n",
              "      <td>...</td>\n",
              "      <td>...</td>\n",
              "      <td>...</td>\n",
              "      <td>...</td>\n",
              "      <td>...</td>\n",
              "      <td>...</td>\n",
              "      <td>...</td>\n",
              "      <td>...</td>\n",
              "      <td>...</td>\n",
              "      <td>...</td>\n",
              "    </tr>\n",
              "    <tr>\n",
              "      <th>8756434</th>\n",
              "      <td>45</td>\n",
              "      <td>18454</td>\n",
              "      <td>34</td>\n",
              "      <td>0.0</td>\n",
              "      <td>0.0</td>\n",
              "      <td>0.0</td>\n",
              "      <td>11</td>\n",
              "      <td>2</td>\n",
              "      <td>4.288065</td>\n",
              "      <td>1035</td>\n",
              "      <td>55</td>\n",
              "      <td>3230</td>\n",
              "      <td>5005</td>\n",
              "      <td>8681</td>\n",
              "      <td>12</td>\n",
              "      <td>2</td>\n",
              "    </tr>\n",
              "    <tr>\n",
              "      <th>8756435</th>\n",
              "      <td>45</td>\n",
              "      <td>16188</td>\n",
              "      <td>34</td>\n",
              "      <td>0.0</td>\n",
              "      <td>0.0</td>\n",
              "      <td>0.0</td>\n",
              "      <td>11</td>\n",
              "      <td>2</td>\n",
              "      <td>4.288065</td>\n",
              "      <td>1035</td>\n",
              "      <td>64</td>\n",
              "      <td>2622</td>\n",
              "      <td>4079</td>\n",
              "      <td>7191</td>\n",
              "      <td>13</td>\n",
              "      <td>42</td>\n",
              "    </tr>\n",
              "    <tr>\n",
              "      <th>8756436</th>\n",
              "      <td>45</td>\n",
              "      <td>15757</td>\n",
              "      <td>34</td>\n",
              "      <td>0.0</td>\n",
              "      <td>0.0</td>\n",
              "      <td>0.0</td>\n",
              "      <td>11</td>\n",
              "      <td>2</td>\n",
              "      <td>4.288065</td>\n",
              "      <td>1035</td>\n",
              "      <td>55</td>\n",
              "      <td>2693</td>\n",
              "      <td>4180</td>\n",
              "      <td>7335</td>\n",
              "      <td>12</td>\n",
              "      <td>2</td>\n",
              "    </tr>\n",
              "    <tr>\n",
              "      <th>8756437</th>\n",
              "      <td>45</td>\n",
              "      <td>19648</td>\n",
              "      <td>34</td>\n",
              "      <td>0.0</td>\n",
              "      <td>0.0</td>\n",
              "      <td>0.0</td>\n",
              "      <td>11</td>\n",
              "      <td>2</td>\n",
              "      <td>4.288065</td>\n",
              "      <td>1035</td>\n",
              "      <td>40</td>\n",
              "      <td>3465</td>\n",
              "      <td>5407</td>\n",
              "      <td>9365</td>\n",
              "      <td>10</td>\n",
              "      <td>4</td>\n",
              "    </tr>\n",
              "    <tr>\n",
              "      <th>8756438</th>\n",
              "      <td>45</td>\n",
              "      <td>969</td>\n",
              "      <td>34</td>\n",
              "      <td>0.0</td>\n",
              "      <td>0.0</td>\n",
              "      <td>0.0</td>\n",
              "      <td>11</td>\n",
              "      <td>2</td>\n",
              "      <td>4.288065</td>\n",
              "      <td>1035</td>\n",
              "      <td>37</td>\n",
              "      <td>1891</td>\n",
              "      <td>2886</td>\n",
              "      <td>4991</td>\n",
              "      <td>10</td>\n",
              "      <td>1</td>\n",
              "    </tr>\n",
              "  </tbody>\n",
              "</table>\n",
              "<p>8756439 rows × 16 columns</p>\n",
              "</div>"
            ],
            "text/plain": [
              "         shop_id  item_id  ...  type_id  subtype_id\n",
              "0              2       27  ...        5          10\n",
              "1              2       33  ...       10           1\n",
              "2              2      317  ...       11          23\n",
              "3              2      438  ...       11          23\n",
              "4              2      473  ...       11          39\n",
              "...          ...      ...  ...      ...         ...\n",
              "8756434       45    18454  ...       12           2\n",
              "8756435       45    16188  ...       13          42\n",
              "8756436       45    15757  ...       12           2\n",
              "8756437       45    19648  ...       10           4\n",
              "8756438       45      969  ...       10           1\n",
              "\n",
              "[8756439 rows x 16 columns]"
            ]
          },
          "metadata": {
            "tags": []
          },
          "execution_count": 36
        }
      ]
    },
    {
      "cell_type": "code",
      "metadata": {
        "id": "G1Jl49jRSwDP"
      },
      "source": [
        "#clustering shops\r\n",
        "shops_cats = pd.DataFrame(\r\n",
        "    np.array(list(product(*[df['shop_id'].unique(), df['item_category_id'].unique()]))),\r\n",
        "    columns =['shop_id', 'item_category_id']\r\n",
        ")\r\n",
        "temp = df.groupby(['item_category_id', 'shop_id']).agg({'item_cnt':'sum'}).reset_index()\r\n",
        "temp2 = temp.groupby('shop_id').agg({'item_cnt':'sum'}).rename(columns={'item_cnt':'shop_total'})\r\n",
        "temp = temp.join(temp2, on='shop_id')\r\n",
        "temp['category_proportion'] = temp['item_cnt']/temp['shop_total']\r\n",
        "temp = temp[['shop_id', 'item_category_id', 'category_proportion']]\r\n",
        "shops_cats = pd.merge(shops_cats, temp, on=['shop_id','item_category_id'], how='left')\r\n",
        "shops_cats = shops_cats.fillna(0)\r\n",
        "\r\n",
        "shops_cats = shops_cats.pivot(index='shop_id', columns=['item_category_id'])\r\n",
        "kmeans = KMeans(n_clusters=7, random_state=0).fit(shops_cats)\r\n",
        "shops_cats['shop_cluster'] = kmeans.labels_.astype('int8')\r\n",
        "\r\n",
        "#adding these clusters to the shops dataframe\r\n",
        "shops = shops.join(shops_cats['shop_cluster'], on='shop_id')"
      ],
      "execution_count": 37,
      "outputs": []
    },
    {
      "cell_type": "code",
      "metadata": {
        "colab": {
          "base_uri": "https://localhost:8080/",
          "height": 196
        },
        "id": "actNX26JS51V",
        "outputId": "418e4d27-b451-4ff5-e738-0f305b8ee61e"
      },
      "source": [
        "#removing unused shop ids\r\n",
        "shops.dropna(inplace=True)\r\n",
        "\r\n",
        "#cleaning the name column\r\n",
        "shops['shop_name'] = shops['shop_name'].str.lower()\r\n",
        "shops['shop_name'] = shops['shop_name'].str.replace(r'[^\\w\\d\\s]', ' ')\r\n",
        "\r\n",
        "#creating a column for the type of shop\r\n",
        "shops['shop_type'] = 'regular'\r\n",
        "\r\n",
        "#there is some overlap in tc and mall, mall is given precedence\r\n",
        "shops.loc[shops['shop_name'].str.contains(r'tc'), 'shop_type'] = 'tc'\r\n",
        "shops.loc[shops['shop_name'].str.contains(r'mall|center|mega'), 'shop_type'] = 'mall'\r\n",
        "shops.loc[shops['shop_id'].isin([9,20]), 'shop_type'] = 'special'\r\n",
        "shops.loc[shops['shop_id'].isin([12,55]), 'shop_type'] = 'online'\r\n",
        "\r\n",
        "#the first word of shop name is largely sufficient as a city feature\r\n",
        "shops['shop_city'] = shops['shop_name'].str.split().str[0]\r\n",
        "shops.loc[shops['shop_id'].isin([12,55]), 'shop_city'] = 'online'\r\n",
        "shops.shop_city = le.fit_transform(shops.shop_city.values)\r\n",
        "shops.shop_type = le.fit_transform(shops.shop_type.values)\r\n",
        "shops.head()"
      ],
      "execution_count": 38,
      "outputs": [
        {
          "output_type": "execute_result",
          "data": {
            "text/html": [
              "<div>\n",
              "<style scoped>\n",
              "    .dataframe tbody tr th:only-of-type {\n",
              "        vertical-align: middle;\n",
              "    }\n",
              "\n",
              "    .dataframe tbody tr th {\n",
              "        vertical-align: top;\n",
              "    }\n",
              "\n",
              "    .dataframe thead th {\n",
              "        text-align: right;\n",
              "    }\n",
              "</style>\n",
              "<table border=\"1\" class=\"dataframe\">\n",
              "  <thead>\n",
              "    <tr style=\"text-align: right;\">\n",
              "      <th></th>\n",
              "      <th>shop_name</th>\n",
              "      <th>shop_id</th>\n",
              "      <th>shop_cluster</th>\n",
              "      <th>shop_type</th>\n",
              "      <th>shop_city</th>\n",
              "    </tr>\n",
              "  </thead>\n",
              "  <tbody>\n",
              "    <tr>\n",
              "      <th>2</th>\n",
              "      <td>адыгея тц  мега</td>\n",
              "      <td>2</td>\n",
              "      <td>4.0</td>\n",
              "      <td>1</td>\n",
              "      <td>1</td>\n",
              "    </tr>\n",
              "    <tr>\n",
              "      <th>3</th>\n",
              "      <td>балашиха трк  октябрь киномир</td>\n",
              "      <td>3</td>\n",
              "      <td>0.0</td>\n",
              "      <td>1</td>\n",
              "      <td>2</td>\n",
              "    </tr>\n",
              "    <tr>\n",
              "      <th>4</th>\n",
              "      <td>волжский тц  волга молл</td>\n",
              "      <td>4</td>\n",
              "      <td>0.0</td>\n",
              "      <td>1</td>\n",
              "      <td>3</td>\n",
              "    </tr>\n",
              "    <tr>\n",
              "      <th>5</th>\n",
              "      <td>вологда трц  мармелад</td>\n",
              "      <td>5</td>\n",
              "      <td>0.0</td>\n",
              "      <td>1</td>\n",
              "      <td>4</td>\n",
              "    </tr>\n",
              "    <tr>\n",
              "      <th>6</th>\n",
              "      <td>воронеж  плехановская  13</td>\n",
              "      <td>6</td>\n",
              "      <td>0.0</td>\n",
              "      <td>1</td>\n",
              "      <td>5</td>\n",
              "    </tr>\n",
              "  </tbody>\n",
              "</table>\n",
              "</div>"
            ],
            "text/plain": [
              "                        shop_name  shop_id  shop_cluster  shop_type  shop_city\n",
              "2                адыгея тц  мега         2           4.0          1          1\n",
              "3  балашиха трк  октябрь киномир         3           0.0          1          2\n",
              "4        волжский тц  волга молл         4           0.0          1          3\n",
              "5          вологда трц  мармелад         5           0.0          1          4\n",
              "6      воронеж  плехановская  13         6           0.0          1          5"
            ]
          },
          "metadata": {
            "tags": []
          },
          "execution_count": 38
        }
      ]
    },
    {
      "cell_type": "code",
      "metadata": {
        "colab": {
          "base_uri": "https://localhost:8080/",
          "height": 216
        },
        "id": "HwbLzPM5S58I",
        "outputId": "aed05df1-4939-4079-d9bb-006997d70283"
      },
      "source": [
        "df = pd.merge(df, shops.drop(columns='shop_name'), on='shop_id', how='left')\r\n",
        "df.head()"
      ],
      "execution_count": 39,
      "outputs": [
        {
          "output_type": "execute_result",
          "data": {
            "text/html": [
              "<div>\n",
              "<style scoped>\n",
              "    .dataframe tbody tr th:only-of-type {\n",
              "        vertical-align: middle;\n",
              "    }\n",
              "\n",
              "    .dataframe tbody tr th {\n",
              "        vertical-align: top;\n",
              "    }\n",
              "\n",
              "    .dataframe thead th {\n",
              "        text-align: right;\n",
              "    }\n",
              "</style>\n",
              "<table border=\"1\" class=\"dataframe\">\n",
              "  <thead>\n",
              "    <tr style=\"text-align: right;\">\n",
              "      <th></th>\n",
              "      <th>shop_id</th>\n",
              "      <th>item_id</th>\n",
              "      <th>date_block_num</th>\n",
              "      <th>item_cnt</th>\n",
              "      <th>revenue</th>\n",
              "      <th>first_sale_day</th>\n",
              "      <th>month</th>\n",
              "      <th>year</th>\n",
              "      <th>day_quality</th>\n",
              "      <th>first_day_of_month</th>\n",
              "      <th>item_category_id</th>\n",
              "      <th>item_name_first4</th>\n",
              "      <th>item_name_first6</th>\n",
              "      <th>item_name_first11</th>\n",
              "      <th>type_id</th>\n",
              "      <th>subtype_id</th>\n",
              "      <th>shop_cluster</th>\n",
              "      <th>shop_type</th>\n",
              "      <th>shop_city</th>\n",
              "    </tr>\n",
              "  </thead>\n",
              "  <tbody>\n",
              "    <tr>\n",
              "      <th>0</th>\n",
              "      <td>2</td>\n",
              "      <td>27</td>\n",
              "      <td>0</td>\n",
              "      <td>1.0</td>\n",
              "      <td>2499.0</td>\n",
              "      <td>2.0</td>\n",
              "      <td>1</td>\n",
              "      <td>0</td>\n",
              "      <td>4.381749</td>\n",
              "      <td>1</td>\n",
              "      <td>19</td>\n",
              "      <td>1</td>\n",
              "      <td>1</td>\n",
              "      <td>1</td>\n",
              "      <td>5</td>\n",
              "      <td>10</td>\n",
              "      <td>4.0</td>\n",
              "      <td>1</td>\n",
              "      <td>1</td>\n",
              "    </tr>\n",
              "    <tr>\n",
              "      <th>1</th>\n",
              "      <td>2</td>\n",
              "      <td>33</td>\n",
              "      <td>0</td>\n",
              "      <td>1.0</td>\n",
              "      <td>499.0</td>\n",
              "      <td>2.0</td>\n",
              "      <td>1</td>\n",
              "      <td>0</td>\n",
              "      <td>4.381749</td>\n",
              "      <td>1</td>\n",
              "      <td>37</td>\n",
              "      <td>187</td>\n",
              "      <td>249</td>\n",
              "      <td>414</td>\n",
              "      <td>10</td>\n",
              "      <td>1</td>\n",
              "      <td>4.0</td>\n",
              "      <td>1</td>\n",
              "      <td>1</td>\n",
              "    </tr>\n",
              "    <tr>\n",
              "      <th>2</th>\n",
              "      <td>2</td>\n",
              "      <td>317</td>\n",
              "      <td>0</td>\n",
              "      <td>1.0</td>\n",
              "      <td>299.0</td>\n",
              "      <td>4.0</td>\n",
              "      <td>1</td>\n",
              "      <td>0</td>\n",
              "      <td>4.381749</td>\n",
              "      <td>1</td>\n",
              "      <td>45</td>\n",
              "      <td>33</td>\n",
              "      <td>38</td>\n",
              "      <td>52</td>\n",
              "      <td>11</td>\n",
              "      <td>23</td>\n",
              "      <td>4.0</td>\n",
              "      <td>1</td>\n",
              "      <td>1</td>\n",
              "    </tr>\n",
              "    <tr>\n",
              "      <th>3</th>\n",
              "      <td>2</td>\n",
              "      <td>438</td>\n",
              "      <td>0</td>\n",
              "      <td>1.0</td>\n",
              "      <td>299.0</td>\n",
              "      <td>19.0</td>\n",
              "      <td>1</td>\n",
              "      <td>0</td>\n",
              "      <td>4.381749</td>\n",
              "      <td>1</td>\n",
              "      <td>45</td>\n",
              "      <td>33</td>\n",
              "      <td>38</td>\n",
              "      <td>54</td>\n",
              "      <td>11</td>\n",
              "      <td>23</td>\n",
              "      <td>4.0</td>\n",
              "      <td>1</td>\n",
              "      <td>1</td>\n",
              "    </tr>\n",
              "    <tr>\n",
              "      <th>4</th>\n",
              "      <td>2</td>\n",
              "      <td>473</td>\n",
              "      <td>0</td>\n",
              "      <td>2.0</td>\n",
              "      <td>798.0</td>\n",
              "      <td>3.0</td>\n",
              "      <td>1</td>\n",
              "      <td>0</td>\n",
              "      <td>4.381749</td>\n",
              "      <td>1</td>\n",
              "      <td>49</td>\n",
              "      <td>35</td>\n",
              "      <td>43</td>\n",
              "      <td>59</td>\n",
              "      <td>11</td>\n",
              "      <td>39</td>\n",
              "      <td>4.0</td>\n",
              "      <td>1</td>\n",
              "      <td>1</td>\n",
              "    </tr>\n",
              "  </tbody>\n",
              "</table>\n",
              "</div>"
            ],
            "text/plain": [
              "   shop_id  item_id  date_block_num  ...  shop_cluster  shop_type  shop_city\n",
              "0        2       27               0  ...           4.0          1          1\n",
              "1        2       33               0  ...           4.0          1          1\n",
              "2        2      317               0  ...           4.0          1          1\n",
              "3        2      438               0  ...           4.0          1          1\n",
              "4        2      473               0  ...           4.0          1          1\n",
              "\n",
              "[5 rows x 19 columns]"
            ]
          },
          "metadata": {
            "tags": []
          },
          "execution_count": 39
        }
      ]
    },
    {
      "cell_type": "markdown",
      "metadata": {
        "id": "3iHb7l44hSnZ"
      },
      "source": [
        "Ages & Aggregating sales/price information"
      ]
    },
    {
      "cell_type": "code",
      "metadata": {
        "id": "y2mCvYT9hRAD"
      },
      "source": [
        "df['first_sale_day'] = df.groupby('item_id')['first_sale_day'].transform('max').astype('int16')\r\n",
        "df.loc[df['first_sale_day']==0, 'first_sale_day'] = 1035\r\n",
        "df['prev_days_on_sale'] = [max(idx) for idx in zip(df['first_day_of_month']-df['first_sale_day'],[0]*len(df))]\r\n",
        "del df['first_day_of_month']"
      ],
      "execution_count": 40,
      "outputs": []
    },
    {
      "cell_type": "code",
      "metadata": {
        "id": "Qtpj0ElFhRHG"
      },
      "source": [
        "df['item_cnt_unclipped'] = df['item_cnt']\r\n",
        "df['item_cnt'] = df['item_cnt'].clip(0, 20)"
      ],
      "execution_count": 41,
      "outputs": []
    },
    {
      "cell_type": "code",
      "metadata": {
        "id": "zqZWhEC4hRJs"
      },
      "source": [
        "def downcast(df):\r\n",
        "    #reduce size of the dataframe\r\n",
        "    float_cols = [c for c in df if df[c].dtype in [\"float64\"]]\r\n",
        "    int_cols = [c for c in df if df[c].dtype in ['int64']]\r\n",
        "    df[float_cols] = df[float_cols].astype('float32')\r\n",
        "    df[int_cols] = df[int_cols].astype('int16')\r\n",
        "    return df\r\n",
        "df = downcast(df)"
      ],
      "execution_count": 42,
      "outputs": []
    },
    {
      "cell_type": "code",
      "metadata": {
        "id": "Ot4sYA6whdWv"
      },
      "source": [
        "df['item_age'] = (df['date_block_num'] - df.groupby('item_id')['date_block_num'].transform('min')).astype('int8')\r\n",
        "df['item_name_first4_age'] = (df['date_block_num'] - df.groupby('item_name_first4')['date_block_num'].transform('min')).astype('int8')\r\n",
        "df['item_name_first6_age'] = (df['date_block_num'] - df.groupby('item_name_first6')['date_block_num'].transform('min')).astype('int8')\r\n",
        "df['item_name_first11_age'] = (df['date_block_num'] - df.groupby('item_name_first11')['date_block_num'].transform('min')).astype('int8')\r\n",
        "df['category_age'] = (df['date_block_num'] - df.groupby('item_category_id')['date_block_num'].transform('min')).astype('int8')\r\n",
        "df['group_age'] = (df['date_block_num'] - df.groupby('type_id')['date_block_num'].transform('min')).astype('int8')\r\n",
        "df['shop_age'] = (df['date_block_num'] - df.groupby('shop_id')['date_block_num'].transform('min')).astype('int8')"
      ],
      "execution_count": 43,
      "outputs": []
    },
    {
      "cell_type": "code",
      "metadata": {
        "id": "FsIFB8R8hdZY"
      },
      "source": [
        "#indicates whether shops have previously sold the item\r\n",
        "temp = df.query('item_cnt > 0').groupby(['item_id','shop_id']).agg({'date_block_num':'min'}).reset_index()\r\n",
        "temp.columns = ['item_id', 'shop_id', 'item_shop_first_sale']\r\n",
        "df = pd.merge(df, temp, on=['item_id','shop_id'], how='left')\r\n",
        "df['item_shop_first_sale'] = df['item_shop_first_sale'].fillna(50)\r\n",
        "#item age that stays at 0 if a shop hasn't sold the item\r\n",
        "df['item_age_if_shop_sale'] = (df['date_block_num'] > df['item_shop_first_sale']) * df['item_age']\r\n",
        "#the length of time an item has been for sale without being sold at individual shops\r\n",
        "df['item_age_without_shop_sale'] = (df['date_block_num'] <= df['item_shop_first_sale']) * df['item_age']\r\n",
        "del df['item_shop_first_sale']"
      ],
      "execution_count": 44,
      "outputs": []
    },
    {
      "cell_type": "code",
      "metadata": {
        "id": "cEBBl7lEhhq8"
      },
      "source": [
        "def agg_cnt_col(df, merging_cols, new_col,aggregation):\r\n",
        "    temp = df.groupby(merging_cols).agg(aggregation).reset_index()\r\n",
        "    temp.columns = merging_cols + [new_col]\r\n",
        "    df = pd.merge(df, temp, on=merging_cols, how='left')\r\n",
        "    return df\r\n",
        "\r\n",
        "#individual items across all shops\r\n",
        "df = agg_cnt_col(df, ['date_block_num','item_id'],'item_cnt_all_shops',{'item_cnt':'mean'})\r\n",
        "df = agg_cnt_col(df, ['date_block_num','item_category_id','shop_id'],'item_cnt_all_shops_median',{'item_cnt':'median'}) \r\n",
        "#all items in category at individual shops\r\n",
        "df = agg_cnt_col(df, ['date_block_num','item_category_id','shop_id'],'category_cnt',{'item_cnt':'mean'})\r\n",
        "df = agg_cnt_col(df, ['date_block_num','item_category_id','shop_id'],'category_cnt_median',{'item_cnt':'median'}) \r\n",
        "#all items in category across all shops\r\n",
        "df = agg_cnt_col(df, ['date_block_num','item_category_id'],'category_cnt_all_shops',{'item_cnt':'mean'})\r\n",
        "df = agg_cnt_col(df, ['date_block_num','item_category_id'],'category_cnt_all_shops_median',{'item_cnt':'median'})\r\n",
        "#all items in group\r\n",
        "df = agg_cnt_col(df, ['date_block_num','type_id','shop_id'],'group_cnt',{'item_cnt':'mean'})\r\n",
        "#all items in group across all shops\r\n",
        "df = agg_cnt_col(df, ['date_block_num','type_id'],'group_cnt_all_shops',{'item_cnt':'mean'})\r\n",
        "#all items at individual shops\r\n",
        "df = agg_cnt_col(df, ['date_block_num','shop_id'],'shop_cnt',{'item_cnt':'mean'})\r\n",
        "#all items at all shops within the city\r\n",
        "df = agg_cnt_col(df, ['date_block_num','shop_city'],'city_cnt',{'item_cnt':'mean'})"
      ],
      "execution_count": 45,
      "outputs": []
    },
    {
      "cell_type": "code",
      "metadata": {
        "id": "rBtZ9SychhxY"
      },
      "source": [
        "def new_item_sales(df, merging_cols, new_col):\r\n",
        "    temp = (\r\n",
        "        df\r\n",
        "        .query('item_age==0')\r\n",
        "        .groupby(merging_cols)['item_cnt']\r\n",
        "        .mean()\r\n",
        "        .reset_index()\r\n",
        "        .rename(columns={'item_cnt': new_col})\r\n",
        "    )\r\n",
        "    df = pd.merge(df, temp, on=merging_cols, how='left')\r\n",
        "    return df\r\n",
        "\r\n",
        "#mean units sold of new item in category at individual shop\r\n",
        "df = new_item_sales(df, ['date_block_num','item_category_id','shop_id'], 'new_items_in_cat')\r\n",
        "#mean units sold of new item in category across all shops\r\n",
        "df = new_item_sales(df, ['date_block_num','item_category_id'], 'new_items_in_cat_all_shops')"
      ],
      "execution_count": 46,
      "outputs": []
    },
    {
      "cell_type": "code",
      "metadata": {
        "id": "DLHi5oDzhh00"
      },
      "source": [
        "def agg_price_col(df, merging_cols, new_col):\r\n",
        "    temp = df.groupby(merging_cols).agg({'revenue':'sum','item_cnt_unclipped':'sum'}).reset_index()\r\n",
        "    temp[new_col] = temp['revenue']/temp['item_cnt_unclipped']\r\n",
        "    temp = temp[merging_cols + [new_col]]\r\n",
        "    df = pd.merge(df, temp, on=merging_cols, how='left')\r\n",
        "    return df\r\n",
        "\r\n",
        "#average item price\r\n",
        "df = agg_price_col(df,['date_block_num','item_id'],'item_price')\r\n",
        "#average price of items in category\r\n",
        "df = agg_price_col(df,['date_block_num','item_category_id'],'category_price')\r\n",
        "#average price of all items\r\n",
        "df = agg_price_col(df,['date_block_num'],'block_price')"
      ],
      "execution_count": 47,
      "outputs": []
    },
    {
      "cell_type": "code",
      "metadata": {
        "id": "n_tkGGMzhnx3"
      },
      "source": [
        "df = downcast(df)"
      ],
      "execution_count": 48,
      "outputs": []
    },
    {
      "cell_type": "markdown",
      "metadata": {
        "id": "XuivuFHshpvu"
      },
      "source": [
        "Lagging values & features that use prior information"
      ]
    },
    {
      "cell_type": "code",
      "metadata": {
        "id": "cC-AJSOdhn2x"
      },
      "source": [
        "def lag_feature(df, lag, col, merge_cols):        \r\n",
        "    temp = df[merge_cols + [col]]\r\n",
        "    temp = temp.groupby(merge_cols).agg({f'{col}':'first'}).reset_index()\r\n",
        "    temp.columns = merge_cols + [f'{col}_lag{lag}']\r\n",
        "    temp['date_block_num'] += lag\r\n",
        "    df = pd.merge(df, temp, on=merge_cols, how='left')\r\n",
        "    df[f'{col}_lag{lag}'] = df[f'{col}_lag{lag}'].fillna(0).astype('float32')\r\n",
        "    return df"
      ],
      "execution_count": 49,
      "outputs": []
    },
    {
      "cell_type": "code",
      "metadata": {
        "id": "uantunUyhn7f"
      },
      "source": [
        "lag12_cols = {\r\n",
        "    'item_cnt':['date_block_num', 'shop_id', 'item_id'],\r\n",
        "    'item_cnt_all_shops':['date_block_num', 'item_id'],\r\n",
        "    'category_cnt':['date_block_num', 'shop_id', 'item_category_id'],\r\n",
        "    'category_cnt_all_shops':['date_block_num', 'item_category_id'],\r\n",
        "    'group_cnt':['date_block_num', 'shop_id', 'type_id'],\r\n",
        "    'group_cnt_all_shops':['date_block_num', 'type_id'],\r\n",
        "    'shop_cnt':['date_block_num', 'shop_id'],\r\n",
        "    'city_cnt':['date_block_num', 'shop_city'],\r\n",
        "    'new_items_in_cat':['date_block_num', 'shop_id', 'item_category_id'],\r\n",
        "    'new_items_in_cat_all_shops':['date_block_num', 'item_category_id']\r\n",
        "}\r\n",
        "for col,merge_cols in lag12_cols.items():\r\n",
        "    df[f'{col}_lag1to12'] = 0\r\n",
        "    for i in range(1,13):\r\n",
        "        df = lag_feature(df, i, col, merge_cols)\r\n",
        "        df[f'{col}_lag1to12'] += df[f'{col}_lag{i}']\r\n",
        "        if i > 2:\r\n",
        "            del df[f'{col}_lag{i}']\r\n",
        "    if col == 'item_cnt':\r\n",
        "        del df[f'{col}_lag1']\r\n",
        "        del df[f'{col}_lag2']        \r\n",
        "    else:\r\n",
        "        del df[col]"
      ],
      "execution_count": 50,
      "outputs": []
    },
    {
      "cell_type": "code",
      "metadata": {
        "id": "bl8rWF4nhzi8"
      },
      "source": [
        "lag2_cols = {\r\n",
        "    'item_cnt_unclipped':['date_block_num', 'shop_id', 'item_id'],\r\n",
        "    'item_cnt_all_shops_median':['date_block_num', 'item_id'],\r\n",
        "    'category_cnt_median':['date_block_num', 'shop_id', 'category_id'],\r\n",
        "    'category_cnt_all_shops_median':['date_block_num', 'category_id']\r\n",
        "}\r\n",
        "for col in lag2_cols:\r\n",
        "    df = lag_feature(df, 1, col, merge_cols)\r\n",
        "    df = lag_feature(df, 2, col, merge_cols)\r\n",
        "    if col!='item_cnt_unclipped':\r\n",
        "        del df[col]"
      ],
      "execution_count": 51,
      "outputs": []
    },
    {
      "cell_type": "code",
      "metadata": {
        "id": "A_PSEqHthzmj"
      },
      "source": [
        "df['item_cnt_diff'] = df['item_cnt_unclipped_lag1']/df['item_cnt_lag1to12']\r\n",
        "df['item_cnt_all_shops_diff'] = df['item_cnt_all_shops_lag1']/df['item_cnt_all_shops_lag1to12']\r\n",
        "df['category_cnt_diff'] = df['category_cnt_lag1']/df['category_cnt_lag1to12']\r\n",
        "df['category_cnt_all_shops_diff'] = df['category_cnt_all_shops_lag1']/df['category_cnt_all_shops_lag1to12']"
      ],
      "execution_count": 52,
      "outputs": []
    },
    {
      "cell_type": "code",
      "metadata": {
        "id": "ZJkFpeDNhzrA"
      },
      "source": [
        "df = lag_feature(df, 1, 'category_price',['date_block_num', 'item_category_id'])\r\n",
        "df = lag_feature(df, 1, 'block_price',['date_block_num'])\r\n",
        "del df['category_price'], df['block_price']"
      ],
      "execution_count": 53,
      "outputs": []
    },
    {
      "cell_type": "code",
      "metadata": {
        "id": "zkIkFl2vh4Qr"
      },
      "source": [
        "df.loc[(df['item_age']>0) & (df['item_cnt_lag1to12'].isna()), 'item_cnt_lag1to12'] = 0\r\n",
        "df.loc[(df['category_age']>0) & (df['category_cnt_lag1to12'].isna()), 'category_cnt_lag1to12'] = 0\r\n",
        "df.loc[(df['group_age']>0) & (df['group_cnt_lag1to12'].isna()), 'group_cnt_lag1to12'] = 0"
      ],
      "execution_count": 54,
      "outputs": []
    },
    {
      "cell_type": "code",
      "metadata": {
        "id": "q1O02tCgh4UD"
      },
      "source": [
        "df['item_cnt_lag1to12'] /= [min(idx) for idx in zip(df['item_age'],df['shop_age'],[12]*len(df))]\r\n",
        "df['item_cnt_all_shops_lag1to12'] /= [min(idx) for idx in zip(df['item_age'],[12]*len(df))]\r\n",
        "df['category_cnt_lag1to12'] /= [min(idx) for idx in zip(df['category_age'],df['shop_age'],[12]*len(df))]\r\n",
        "df['category_cnt_all_shops_lag1to12'] /= [min(idx) for idx in zip(df['category_age'],[12]*len(df))]\r\n",
        "df['group_cnt_lag1to12'] /= [min(idx) for idx in zip(df['group_age'],df['shop_age'],[12]*len(df))]\r\n",
        "df['group_cnt_all_shops_lag1to12'] /= [min(idx) for idx in zip(df['group_age'],[12]*len(df))]\r\n",
        "df['city_cnt_lag1to12'] /= [min(idx) for idx in zip(df['date_block_num'],[12]*len(df))]\r\n",
        "df['shop_cnt_lag1to12'] /= [min(idx) for idx in zip(df['shop_age'],[12]*len(df))]\r\n",
        "df['new_items_in_cat_lag1to12'] /= [min(idx) for idx in zip(df['category_age'],df['shop_age'],[12]*len(df))]\r\n",
        "df['new_items_in_cat_all_shops_lag1to12'] /= [min(idx) for idx in zip(df['category_age'],[12]*len(df))]"
      ],
      "execution_count": 55,
      "outputs": []
    },
    {
      "cell_type": "code",
      "metadata": {
        "id": "p6bN9hHth4Y3"
      },
      "source": [
        "df = downcast(df)"
      ],
      "execution_count": 56,
      "outputs": []
    },
    {
      "cell_type": "code",
      "metadata": {
        "id": "XpVAla1Ph4d4"
      },
      "source": [
        "def past_information(df, merging_cols, new_col, aggregation):\r\n",
        "    temp = []\r\n",
        "    for i in range(1,35):\r\n",
        "        block = df.query(f'date_block_num < {i}').groupby(merging_cols).agg(aggregation).reset_index()\r\n",
        "        block.columns = merging_cols + [new_col]\r\n",
        "        block['date_block_num'] = i\r\n",
        "        block = block[block[new_col]>0]\r\n",
        "        temp.append(block)\r\n",
        "    temp = pd.concat(temp)\r\n",
        "    df = pd.merge(df, temp, on=['date_block_num']+merging_cols, how='left')\r\n",
        "    return df\r\n",
        "\r\n",
        "#average item price in latest block item was sold\r\n",
        "df = past_information(df, ['item_id'],'last_item_price',{'item_price':'last'})\r\n",
        "#total units of item sold at individual shop\r\n",
        "df = past_information(df, ['shop_id','item_id'],'item_cnt_sum_alltime',{'item_cnt':'sum'})\r\n",
        "#total units of item sold at all shops\r\n",
        "df = past_information(df, ['item_id'],'item_cnt_sum_alltime_allshops',{'item_cnt':'sum'})\r\n",
        "\r\n",
        "#these columns are no longer needed, and would cause data leakage if retained\r\n",
        "del df['revenue'], df['item_cnt_unclipped'], df['item_price']"
      ],
      "execution_count": 57,
      "outputs": []
    },
    {
      "cell_type": "code",
      "metadata": {
        "id": "hvrRGIyeiBNd"
      },
      "source": [
        "df['relative_price_item_block_lag1'] = df['last_item_price']/df['block_price_lag1']"
      ],
      "execution_count": 58,
      "outputs": []
    },
    {
      "cell_type": "code",
      "metadata": {
        "id": "hYwSWIvziBRJ"
      },
      "source": [
        "df['item_cnt_per_day_alltime'] = (df['item_cnt_sum_alltime']/df['prev_days_on_sale']).fillna(0)\r\n",
        "df['item_cnt_per_day_alltime_allshops'] = (df['item_cnt_sum_alltime_allshops']/df['prev_days_on_sale']).fillna(0)"
      ],
      "execution_count": 59,
      "outputs": []
    },
    {
      "cell_type": "code",
      "metadata": {
        "id": "YaMwOy_7iEOF"
      },
      "source": [
        "import gc\r\n",
        "gc.collect()\r\n",
        "df = downcast(df)"
      ],
      "execution_count": 60,
      "outputs": []
    },
    {
      "cell_type": "code",
      "metadata": {
        "id": "kMVC_syPiERC"
      },
      "source": [
        "def matching_name_cat_age(df,n,all_shops):\r\n",
        "    temp_cols = [f'same_name{n}catage_cnt','date_block_num', f'item_name_first{n}','item_age','item_category_id']\r\n",
        "    if all_shops:\r\n",
        "        temp_cols[0] += '_all_shops'\r\n",
        "    else:\r\n",
        "        temp_cols += ['shop_id']\r\n",
        "    temp = []\r\n",
        "    for i in range(1,35):\r\n",
        "        block = (\r\n",
        "            df\r\n",
        "            .query(f'date_block_num < {i}')\r\n",
        "            .groupby(temp_cols[2:])\r\n",
        "            .agg({'item_cnt':'mean'})\r\n",
        "            .reset_index()\r\n",
        "            .rename(columns={'item_cnt':temp_cols[0]})\r\n",
        "        )\r\n",
        "        block = block[block[temp_cols[0]]>0]\r\n",
        "        block['date_block_num'] = i\r\n",
        "        temp.append(block)\r\n",
        "    temp = pd.concat(temp)\r\n",
        "    df = pd.merge(df, temp, on=temp_cols[1:], how='left')\r\n",
        "    return df\r\n",
        "\r\n",
        "for n in [4,6,11]:\r\n",
        "    for all_shops in [True,False]:\r\n",
        "        df = matching_name_cat_age(df,n,all_shops)"
      ],
      "execution_count": 61,
      "outputs": []
    },
    {
      "cell_type": "code",
      "metadata": {
        "id": "kChEV7kziEUz"
      },
      "source": [
        "#assign appropriate datatypes\r\n",
        "df = downcast(df)\r\n",
        "int8_cols = [\r\n",
        "    'item_cnt','month','type_id','shop_type',\r\n",
        "    'shop_city','shop_id','date_block_num','item_category_id',\r\n",
        "    'item_age',\r\n",
        "]\r\n",
        "int16_cols = [\r\n",
        "    'item_id','item_name_first4',\r\n",
        "    'item_name_first6','item_name_first11'\r\n",
        "]\r\n",
        "for col in int8_cols:\r\n",
        "    df[col] = df[col].astype('int8')\r\n",
        "for col in int16_cols:\r\n",
        "    df[col] = df[col].astype('int16')"
      ],
      "execution_count": 62,
      "outputs": []
    },
    {
      "cell_type": "code",
      "metadata": {
        "colab": {
          "base_uri": "https://localhost:8080/"
        },
        "id": "nBIvBTejiKj-",
        "outputId": "a24f2f8e-78f1-4c41-f632-3ea7102455f4"
      },
      "source": [
        "def nearby_item_data(df,col):\r\n",
        "    if col in ['item_cnt_unclipped_lag1','item_cnt_lag1to12']:\r\n",
        "        cols = ['date_block_num', 'shop_id', 'item_id']\r\n",
        "        temp = df[cols + [col]] \r\n",
        "    else:\r\n",
        "        cols = ['date_block_num', 'item_id']\r\n",
        "        temp = df.groupby(cols).agg({col:'first'}).reset_index()[cols + [col]]   \r\n",
        "    \r\n",
        "    temp.columns = cols + [f'below_{col}']\r\n",
        "    temp['item_id'] += 1\r\n",
        "    df = pd.merge(df, temp, on=cols, how='left')\r\n",
        "    \r\n",
        "    temp.columns = cols + [f'above_{col}']\r\n",
        "    temp['item_id'] -= 2\r\n",
        "    df = pd.merge(df, temp, on=cols, how='left')\r\n",
        "    \r\n",
        "    return df\r\n",
        "\r\n",
        "item_cols = ['item_cnt_unclipped_lag1','item_cnt_lag1to12',\r\n",
        "             'item_cnt_all_shops_lag1','item_cnt_all_shops_lag1to12']\r\n",
        "for col in item_cols:\r\n",
        "    df = nearby_item_data(df,col)\r\n",
        "    \r\n",
        "del temp"
      ],
      "execution_count": 63,
      "outputs": [
        {
          "output_type": "stream",
          "text": [
            "/usr/local/lib/python3.7/dist-packages/ipykernel_launcher.py:10: SettingWithCopyWarning: \n",
            "A value is trying to be set on a copy of a slice from a DataFrame.\n",
            "Try using .loc[row_indexer,col_indexer] = value instead\n",
            "\n",
            "See the caveats in the documentation: https://pandas.pydata.org/pandas-docs/stable/user_guide/indexing.html#returning-a-view-versus-a-copy\n",
            "  # Remove the CWD from sys.path while we load stuff.\n",
            "/usr/local/lib/python3.7/dist-packages/ipykernel_launcher.py:14: SettingWithCopyWarning: \n",
            "A value is trying to be set on a copy of a slice from a DataFrame.\n",
            "Try using .loc[row_indexer,col_indexer] = value instead\n",
            "\n",
            "See the caveats in the documentation: https://pandas.pydata.org/pandas-docs/stable/user_guide/indexing.html#returning-a-view-versus-a-copy\n",
            "  \n"
          ],
          "name": "stderr"
        }
      ]
    },
    {
      "cell_type": "markdown",
      "metadata": {
        "id": "vYVUiEtYiN34"
      },
      "source": [
        "encoding name information"
      ]
    },
    {
      "cell_type": "code",
      "metadata": {
        "colab": {
          "base_uri": "https://localhost:8080/",
          "height": 576
        },
        "id": "NajZHVMuiKpt",
        "outputId": "a56f5ee5-793c-4843-af6b-4f1db1214687"
      },
      "source": [
        "results = Counter()\r\n",
        "items['item_name'].str.split().apply(results.update)\r\n",
        "\r\n",
        "words = []\r\n",
        "cnts = []\r\n",
        "for key, value in results.items():\r\n",
        "    words.append(key)\r\n",
        "    cnts.append(value)\r\n",
        "    \r\n",
        "counts = pd.DataFrame({'word':words,'count':cnts})\r\n",
        "common_words = counts.query('count>200').word.to_list()\r\n",
        "for word in common_words:\r\n",
        "    items[f'{word}_in_name'] = items['item_name'].str.contains(word).astype('int8')\r\n",
        "drop_cols = [\r\n",
        "    'item_id','item_category_id','item_name','item_name_first4',\r\n",
        "    'item_name_first6','item_name_first11',\r\n",
        "    'type_id'\r\n",
        "]\r\n",
        "items = items.drop(columns=drop_cols)"
      ],
      "execution_count": 68,
      "outputs": [
        {
          "output_type": "error",
          "ename": "KeyError",
          "evalue": "ignored",
          "traceback": [
            "\u001b[0;31m---------------------------------------------------------------------------\u001b[0m",
            "\u001b[0;31mKeyError\u001b[0m                                  Traceback (most recent call last)",
            "\u001b[0;32m/usr/local/lib/python3.7/dist-packages/pandas/core/indexes/base.py\u001b[0m in \u001b[0;36mget_loc\u001b[0;34m(self, key, method, tolerance)\u001b[0m\n\u001b[1;32m   2897\u001b[0m             \u001b[0;32mtry\u001b[0m\u001b[0;34m:\u001b[0m\u001b[0;34m\u001b[0m\u001b[0;34m\u001b[0m\u001b[0m\n\u001b[0;32m-> 2898\u001b[0;31m                 \u001b[0;32mreturn\u001b[0m \u001b[0mself\u001b[0m\u001b[0;34m.\u001b[0m\u001b[0m_engine\u001b[0m\u001b[0;34m.\u001b[0m\u001b[0mget_loc\u001b[0m\u001b[0;34m(\u001b[0m\u001b[0mcasted_key\u001b[0m\u001b[0;34m)\u001b[0m\u001b[0;34m\u001b[0m\u001b[0;34m\u001b[0m\u001b[0m\n\u001b[0m\u001b[1;32m   2899\u001b[0m             \u001b[0;32mexcept\u001b[0m \u001b[0mKeyError\u001b[0m \u001b[0;32mas\u001b[0m \u001b[0merr\u001b[0m\u001b[0;34m:\u001b[0m\u001b[0;34m\u001b[0m\u001b[0;34m\u001b[0m\u001b[0m\n",
            "\u001b[0;32mpandas/_libs/index.pyx\u001b[0m in \u001b[0;36mpandas._libs.index.IndexEngine.get_loc\u001b[0;34m()\u001b[0m\n",
            "\u001b[0;32mpandas/_libs/index.pyx\u001b[0m in \u001b[0;36mpandas._libs.index.IndexEngine.get_loc\u001b[0;34m()\u001b[0m\n",
            "\u001b[0;32mpandas/_libs/hashtable_class_helper.pxi\u001b[0m in \u001b[0;36mpandas._libs.hashtable.PyObjectHashTable.get_item\u001b[0;34m()\u001b[0m\n",
            "\u001b[0;32mpandas/_libs/hashtable_class_helper.pxi\u001b[0m in \u001b[0;36mpandas._libs.hashtable.PyObjectHashTable.get_item\u001b[0;34m()\u001b[0m\n",
            "\u001b[0;31mKeyError\u001b[0m: 'item_name'",
            "\nThe above exception was the direct cause of the following exception:\n",
            "\u001b[0;31mKeyError\u001b[0m                                  Traceback (most recent call last)",
            "\u001b[0;32m<ipython-input-68-54598b2a9581>\u001b[0m in \u001b[0;36m<module>\u001b[0;34m()\u001b[0m\n\u001b[1;32m      1\u001b[0m \u001b[0mresults\u001b[0m \u001b[0;34m=\u001b[0m \u001b[0mCounter\u001b[0m\u001b[0;34m(\u001b[0m\u001b[0;34m)\u001b[0m\u001b[0;34m\u001b[0m\u001b[0;34m\u001b[0m\u001b[0m\n\u001b[0;32m----> 2\u001b[0;31m \u001b[0mitems\u001b[0m\u001b[0;34m[\u001b[0m\u001b[0;34m'item_name'\u001b[0m\u001b[0;34m]\u001b[0m\u001b[0;34m.\u001b[0m\u001b[0mstr\u001b[0m\u001b[0;34m.\u001b[0m\u001b[0msplit\u001b[0m\u001b[0;34m(\u001b[0m\u001b[0;34m)\u001b[0m\u001b[0;34m.\u001b[0m\u001b[0mapply\u001b[0m\u001b[0;34m(\u001b[0m\u001b[0mresults\u001b[0m\u001b[0;34m.\u001b[0m\u001b[0mupdate\u001b[0m\u001b[0;34m)\u001b[0m\u001b[0;34m\u001b[0m\u001b[0;34m\u001b[0m\u001b[0m\n\u001b[0m\u001b[1;32m      3\u001b[0m \u001b[0;34m\u001b[0m\u001b[0m\n\u001b[1;32m      4\u001b[0m \u001b[0mwords\u001b[0m \u001b[0;34m=\u001b[0m \u001b[0;34m[\u001b[0m\u001b[0;34m]\u001b[0m\u001b[0;34m\u001b[0m\u001b[0;34m\u001b[0m\u001b[0m\n\u001b[1;32m      5\u001b[0m \u001b[0mcnts\u001b[0m \u001b[0;34m=\u001b[0m \u001b[0;34m[\u001b[0m\u001b[0;34m]\u001b[0m\u001b[0;34m\u001b[0m\u001b[0;34m\u001b[0m\u001b[0m\n",
            "\u001b[0;32m/usr/local/lib/python3.7/dist-packages/pandas/core/frame.py\u001b[0m in \u001b[0;36m__getitem__\u001b[0;34m(self, key)\u001b[0m\n\u001b[1;32m   2904\u001b[0m             \u001b[0;32mif\u001b[0m \u001b[0mself\u001b[0m\u001b[0;34m.\u001b[0m\u001b[0mcolumns\u001b[0m\u001b[0;34m.\u001b[0m\u001b[0mnlevels\u001b[0m \u001b[0;34m>\u001b[0m \u001b[0;36m1\u001b[0m\u001b[0;34m:\u001b[0m\u001b[0;34m\u001b[0m\u001b[0;34m\u001b[0m\u001b[0m\n\u001b[1;32m   2905\u001b[0m                 \u001b[0;32mreturn\u001b[0m \u001b[0mself\u001b[0m\u001b[0;34m.\u001b[0m\u001b[0m_getitem_multilevel\u001b[0m\u001b[0;34m(\u001b[0m\u001b[0mkey\u001b[0m\u001b[0;34m)\u001b[0m\u001b[0;34m\u001b[0m\u001b[0;34m\u001b[0m\u001b[0m\n\u001b[0;32m-> 2906\u001b[0;31m             \u001b[0mindexer\u001b[0m \u001b[0;34m=\u001b[0m \u001b[0mself\u001b[0m\u001b[0;34m.\u001b[0m\u001b[0mcolumns\u001b[0m\u001b[0;34m.\u001b[0m\u001b[0mget_loc\u001b[0m\u001b[0;34m(\u001b[0m\u001b[0mkey\u001b[0m\u001b[0;34m)\u001b[0m\u001b[0;34m\u001b[0m\u001b[0;34m\u001b[0m\u001b[0m\n\u001b[0m\u001b[1;32m   2907\u001b[0m             \u001b[0;32mif\u001b[0m \u001b[0mis_integer\u001b[0m\u001b[0;34m(\u001b[0m\u001b[0mindexer\u001b[0m\u001b[0;34m)\u001b[0m\u001b[0;34m:\u001b[0m\u001b[0;34m\u001b[0m\u001b[0;34m\u001b[0m\u001b[0m\n\u001b[1;32m   2908\u001b[0m                 \u001b[0mindexer\u001b[0m \u001b[0;34m=\u001b[0m \u001b[0;34m[\u001b[0m\u001b[0mindexer\u001b[0m\u001b[0;34m]\u001b[0m\u001b[0;34m\u001b[0m\u001b[0;34m\u001b[0m\u001b[0m\n",
            "\u001b[0;32m/usr/local/lib/python3.7/dist-packages/pandas/core/indexes/base.py\u001b[0m in \u001b[0;36mget_loc\u001b[0;34m(self, key, method, tolerance)\u001b[0m\n\u001b[1;32m   2898\u001b[0m                 \u001b[0;32mreturn\u001b[0m \u001b[0mself\u001b[0m\u001b[0;34m.\u001b[0m\u001b[0m_engine\u001b[0m\u001b[0;34m.\u001b[0m\u001b[0mget_loc\u001b[0m\u001b[0;34m(\u001b[0m\u001b[0mcasted_key\u001b[0m\u001b[0;34m)\u001b[0m\u001b[0;34m\u001b[0m\u001b[0;34m\u001b[0m\u001b[0m\n\u001b[1;32m   2899\u001b[0m             \u001b[0;32mexcept\u001b[0m \u001b[0mKeyError\u001b[0m \u001b[0;32mas\u001b[0m \u001b[0merr\u001b[0m\u001b[0;34m:\u001b[0m\u001b[0;34m\u001b[0m\u001b[0;34m\u001b[0m\u001b[0m\n\u001b[0;32m-> 2900\u001b[0;31m                 \u001b[0;32mraise\u001b[0m \u001b[0mKeyError\u001b[0m\u001b[0;34m(\u001b[0m\u001b[0mkey\u001b[0m\u001b[0;34m)\u001b[0m \u001b[0;32mfrom\u001b[0m \u001b[0merr\u001b[0m\u001b[0;34m\u001b[0m\u001b[0;34m\u001b[0m\u001b[0m\n\u001b[0m\u001b[1;32m   2901\u001b[0m \u001b[0;34m\u001b[0m\u001b[0m\n\u001b[1;32m   2902\u001b[0m         \u001b[0;32mif\u001b[0m \u001b[0mtolerance\u001b[0m \u001b[0;32mis\u001b[0m \u001b[0;32mnot\u001b[0m \u001b[0;32mNone\u001b[0m\u001b[0;34m:\u001b[0m\u001b[0;34m\u001b[0m\u001b[0;34m\u001b[0m\u001b[0m\n",
            "\u001b[0;31mKeyError\u001b[0m: 'item_name'"
          ]
        }
      ]
    },
    {
      "cell_type": "code",
      "metadata": {
        "colab": {
          "base_uri": "https://localhost:8080/",
          "height": 314
        },
        "id": "RTnJ53pXiKt6",
        "outputId": "c779d6d0-ad63-48ce-d7d9-74d1ddc88a31"
      },
      "source": [
        "df = df.join(items, on='item_id')"
      ],
      "execution_count": 67,
      "outputs": [
        {
          "output_type": "error",
          "ename": "ValueError",
          "evalue": "ignored",
          "traceback": [
            "\u001b[0;31m---------------------------------------------------------------------------\u001b[0m",
            "\u001b[0;31mValueError\u001b[0m                                Traceback (most recent call last)",
            "\u001b[0;32m<ipython-input-67-e0fe19074fff>\u001b[0m in \u001b[0;36m<module>\u001b[0;34m()\u001b[0m\n\u001b[0;32m----> 1\u001b[0;31m \u001b[0mdf\u001b[0m \u001b[0;34m=\u001b[0m \u001b[0mdf\u001b[0m\u001b[0;34m.\u001b[0m\u001b[0mjoin\u001b[0m\u001b[0;34m(\u001b[0m\u001b[0mitems\u001b[0m\u001b[0;34m,\u001b[0m \u001b[0mon\u001b[0m\u001b[0;34m=\u001b[0m\u001b[0;34m'item_id'\u001b[0m\u001b[0;34m)\u001b[0m\u001b[0;34m\u001b[0m\u001b[0;34m\u001b[0m\u001b[0m\n\u001b[0m",
            "\u001b[0;32m/usr/local/lib/python3.7/dist-packages/pandas/core/frame.py\u001b[0m in \u001b[0;36mjoin\u001b[0;34m(self, other, on, how, lsuffix, rsuffix, sort)\u001b[0m\n\u001b[1;32m   7873\u001b[0m         \"\"\"\n\u001b[1;32m   7874\u001b[0m         return self._join_compat(\n\u001b[0;32m-> 7875\u001b[0;31m             \u001b[0mother\u001b[0m\u001b[0;34m,\u001b[0m \u001b[0mon\u001b[0m\u001b[0;34m=\u001b[0m\u001b[0mon\u001b[0m\u001b[0;34m,\u001b[0m \u001b[0mhow\u001b[0m\u001b[0;34m=\u001b[0m\u001b[0mhow\u001b[0m\u001b[0;34m,\u001b[0m \u001b[0mlsuffix\u001b[0m\u001b[0;34m=\u001b[0m\u001b[0mlsuffix\u001b[0m\u001b[0;34m,\u001b[0m \u001b[0mrsuffix\u001b[0m\u001b[0;34m=\u001b[0m\u001b[0mrsuffix\u001b[0m\u001b[0;34m,\u001b[0m \u001b[0msort\u001b[0m\u001b[0;34m=\u001b[0m\u001b[0msort\u001b[0m\u001b[0;34m\u001b[0m\u001b[0;34m\u001b[0m\u001b[0m\n\u001b[0m\u001b[1;32m   7876\u001b[0m         )\n\u001b[1;32m   7877\u001b[0m \u001b[0;34m\u001b[0m\u001b[0m\n",
            "\u001b[0;32m/usr/local/lib/python3.7/dist-packages/pandas/core/frame.py\u001b[0m in \u001b[0;36m_join_compat\u001b[0;34m(self, other, on, how, lsuffix, rsuffix, sort)\u001b[0m\n\u001b[1;32m   7896\u001b[0m                 \u001b[0mright_index\u001b[0m\u001b[0;34m=\u001b[0m\u001b[0;32mTrue\u001b[0m\u001b[0;34m,\u001b[0m\u001b[0;34m\u001b[0m\u001b[0;34m\u001b[0m\u001b[0m\n\u001b[1;32m   7897\u001b[0m                 \u001b[0msuffixes\u001b[0m\u001b[0;34m=\u001b[0m\u001b[0;34m(\u001b[0m\u001b[0mlsuffix\u001b[0m\u001b[0;34m,\u001b[0m \u001b[0mrsuffix\u001b[0m\u001b[0;34m)\u001b[0m\u001b[0;34m,\u001b[0m\u001b[0;34m\u001b[0m\u001b[0;34m\u001b[0m\u001b[0m\n\u001b[0;32m-> 7898\u001b[0;31m                 \u001b[0msort\u001b[0m\u001b[0;34m=\u001b[0m\u001b[0msort\u001b[0m\u001b[0;34m,\u001b[0m\u001b[0;34m\u001b[0m\u001b[0;34m\u001b[0m\u001b[0m\n\u001b[0m\u001b[1;32m   7899\u001b[0m             )\n\u001b[1;32m   7900\u001b[0m         \u001b[0;32melse\u001b[0m\u001b[0;34m:\u001b[0m\u001b[0;34m\u001b[0m\u001b[0;34m\u001b[0m\u001b[0m\n",
            "\u001b[0;32m/usr/local/lib/python3.7/dist-packages/pandas/core/reshape/merge.py\u001b[0m in \u001b[0;36mmerge\u001b[0;34m(left, right, how, on, left_on, right_on, left_index, right_index, sort, suffixes, copy, indicator, validate)\u001b[0m\n\u001b[1;32m     87\u001b[0m         \u001b[0mvalidate\u001b[0m\u001b[0;34m=\u001b[0m\u001b[0mvalidate\u001b[0m\u001b[0;34m,\u001b[0m\u001b[0;34m\u001b[0m\u001b[0;34m\u001b[0m\u001b[0m\n\u001b[1;32m     88\u001b[0m     )\n\u001b[0;32m---> 89\u001b[0;31m     \u001b[0;32mreturn\u001b[0m \u001b[0mop\u001b[0m\u001b[0;34m.\u001b[0m\u001b[0mget_result\u001b[0m\u001b[0;34m(\u001b[0m\u001b[0;34m)\u001b[0m\u001b[0;34m\u001b[0m\u001b[0;34m\u001b[0m\u001b[0m\n\u001b[0m\u001b[1;32m     90\u001b[0m \u001b[0;34m\u001b[0m\u001b[0m\n\u001b[1;32m     91\u001b[0m \u001b[0;34m\u001b[0m\u001b[0m\n",
            "\u001b[0;32m/usr/local/lib/python3.7/dist-packages/pandas/core/reshape/merge.py\u001b[0m in \u001b[0;36mget_result\u001b[0;34m(self)\u001b[0m\n\u001b[1;32m    669\u001b[0m \u001b[0;34m\u001b[0m\u001b[0m\n\u001b[1;32m    670\u001b[0m         llabels, rlabels = _items_overlap_with_suffix(\n\u001b[0;32m--> 671\u001b[0;31m             \u001b[0mself\u001b[0m\u001b[0;34m.\u001b[0m\u001b[0mleft\u001b[0m\u001b[0;34m.\u001b[0m\u001b[0m_info_axis\u001b[0m\u001b[0;34m,\u001b[0m \u001b[0mself\u001b[0m\u001b[0;34m.\u001b[0m\u001b[0mright\u001b[0m\u001b[0;34m.\u001b[0m\u001b[0m_info_axis\u001b[0m\u001b[0;34m,\u001b[0m \u001b[0mself\u001b[0m\u001b[0;34m.\u001b[0m\u001b[0msuffixes\u001b[0m\u001b[0;34m\u001b[0m\u001b[0;34m\u001b[0m\u001b[0m\n\u001b[0m\u001b[1;32m    672\u001b[0m         )\n\u001b[1;32m    673\u001b[0m \u001b[0;34m\u001b[0m\u001b[0m\n",
            "\u001b[0;32m/usr/local/lib/python3.7/dist-packages/pandas/core/reshape/merge.py\u001b[0m in \u001b[0;36m_items_overlap_with_suffix\u001b[0;34m(left, right, suffixes)\u001b[0m\n\u001b[1;32m   2094\u001b[0m \u001b[0;34m\u001b[0m\u001b[0m\n\u001b[1;32m   2095\u001b[0m     \u001b[0;32mif\u001b[0m \u001b[0;32mnot\u001b[0m \u001b[0mlsuffix\u001b[0m \u001b[0;32mand\u001b[0m \u001b[0;32mnot\u001b[0m \u001b[0mrsuffix\u001b[0m\u001b[0;34m:\u001b[0m\u001b[0;34m\u001b[0m\u001b[0;34m\u001b[0m\u001b[0m\n\u001b[0;32m-> 2096\u001b[0;31m         \u001b[0;32mraise\u001b[0m \u001b[0mValueError\u001b[0m\u001b[0;34m(\u001b[0m\u001b[0;34mf\"columns overlap but no suffix specified: {to_rename}\"\u001b[0m\u001b[0;34m)\u001b[0m\u001b[0;34m\u001b[0m\u001b[0;34m\u001b[0m\u001b[0m\n\u001b[0m\u001b[1;32m   2097\u001b[0m \u001b[0;34m\u001b[0m\u001b[0m\n\u001b[1;32m   2098\u001b[0m     \u001b[0;32mdef\u001b[0m \u001b[0mrenamer\u001b[0m\u001b[0;34m(\u001b[0m\u001b[0mx\u001b[0m\u001b[0;34m,\u001b[0m \u001b[0msuffix\u001b[0m\u001b[0;34m)\u001b[0m\u001b[0;34m:\u001b[0m\u001b[0;34m\u001b[0m\u001b[0;34m\u001b[0m\u001b[0m\n",
            "\u001b[0;31mValueError\u001b[0m: columns overlap but no suffix specified: Index(['subtype_id'], dtype='object')"
          ]
        }
      ]
    },
    {
      "cell_type": "code",
      "metadata": {
        "colab": {
          "base_uri": "https://localhost:8080/"
        },
        "id": "V4cu0R-miR_i",
        "outputId": "a8aa4f58-5052-4306-8c2b-ba4de937b1ad"
      },
      "source": [
        "def binary_encode(df, letters, cols):\r\n",
        "    encoder = ce.BinaryEncoder(cols=[f'item_name_first{letters}'], return_df=True)\r\n",
        "    temp = encoder.fit_transform(df[f'item_name_first{letters}'])\r\n",
        "    df = pd.concat([df,temp], axis=1)\r\n",
        "    del df[f'item_name_first{letters}_0']\r\n",
        "    name_cols = [f'item_name_first{letters}_{x}' for x in range(1,cols)]\r\n",
        "    df[name_cols] = df[name_cols].astype('int8')\r\n",
        "    return df\r\n",
        "\r\n",
        "df = binary_encode(df, 11, 15)\r\n",
        "    \r\n",
        "del df['item_name_first4'], df['item_name_first6']"
      ],
      "execution_count": 69,
      "outputs": [
        {
          "output_type": "stream",
          "text": [
            "/usr/local/lib/python3.7/dist-packages/category_encoders/utils.py:21: FutureWarning: is_categorical is deprecated and will be removed in a future version.  Use is_categorical_dtype instead\n",
            "  elif pd.api.types.is_categorical(cols):\n"
          ],
          "name": "stderr"
        }
      ]
    },
    {
      "cell_type": "code",
      "metadata": {
        "id": "8041uECIiSCS"
      },
      "source": [
        "#save dataframe for later use\r\n",
        "df.to_pickle('df_complete.pkl')\r\n",
        "#Reset the kernel to clear memory.\r\n",
        "%reset -f"
      ],
      "execution_count": 70,
      "outputs": []
    },
    {
      "cell_type": "markdown",
      "metadata": {
        "id": "efSm071iiY7t"
      },
      "source": [
        "# Modeling"
      ]
    },
    {
      "cell_type": "code",
      "metadata": {
        "id": "ZXPxSSs0iSHb"
      },
      "source": [
        "import pandas as pd\r\n",
        "import numpy as np\r\n",
        "import lightgbm as lgb\r\n",
        "from plotly.subplots import make_subplots\r\n",
        "import plotly.graph_objects as go\r\n",
        "\r\n",
        "pd.set_option('display.max_rows', 160)\r\n",
        "pd.set_option('display.max_columns', 160)\r\n",
        "pd.set_option('display.max_colwidth', 30)\r\n",
        "\r\n",
        "import warnings\r\n",
        "warnings.filterwarnings(\"ignore\")"
      ],
      "execution_count": 72,
      "outputs": []
    },
    {
      "cell_type": "code",
      "metadata": {
        "id": "2b4ghAZjiv82"
      },
      "source": [
        "#load the saved training dataframe\r\n",
        "df = pd.read_pickle('df_complete.pkl')\r\n",
        "\r\n",
        "X_train = df[~df.date_block_num.isin([0,1,33,34])]\r\n",
        "y_train = X_train['item_cnt']\r\n",
        "del X_train['item_cnt']\r\n",
        "\r\n",
        "X_val = df[df['date_block_num']==33]\r\n",
        "y_val = X_val['item_cnt']\r\n",
        "del X_val['item_cnt']\r\n",
        "\r\n",
        "X_test = df[df['date_block_num']==34].drop(columns='item_cnt')\r\n",
        "X_test = X_test.reset_index()\r\n",
        "del X_test['index']\r\n",
        "\r\n",
        "#free memory\r\n",
        "del df"
      ],
      "execution_count": 74,
      "outputs": []
    },
    {
      "cell_type": "code",
      "metadata": {
        "colab": {
          "base_uri": "https://localhost:8080/"
        },
        "id": "5PsHAcaGiwHb",
        "outputId": "7f6c546f-f4a3-43bd-b6ee-4f504b00fa64"
      },
      "source": [
        "!pip install optuna"
      ],
      "execution_count": 75,
      "outputs": [
        {
          "output_type": "stream",
          "text": [
            "Collecting optuna\n",
            "\u001b[?25l  Downloading https://files.pythonhosted.org/packages/50/67/ed0af7c66bcfb9a9a56fbafcca7d848452d78433208b59b003741879cc69/optuna-2.6.0-py3-none-any.whl (293kB)\n",
            "\u001b[K     |████████████████████████████████| 296kB 4.3MB/s \n",
            "\u001b[?25hRequirement already satisfied: tqdm in /usr/local/lib/python3.7/dist-packages (from optuna) (4.41.1)\n",
            "Requirement already satisfied: scipy!=1.4.0 in /usr/local/lib/python3.7/dist-packages (from optuna) (1.4.1)\n",
            "Collecting alembic\n",
            "\u001b[?25l  Downloading https://files.pythonhosted.org/packages/40/42/f73279458f33ccd1ece2285c577f6882e2c7ba80054a7518854576c452cd/alembic-1.5.6-py2.py3-none-any.whl (159kB)\n",
            "\u001b[K     |████████████████████████████████| 163kB 6.9MB/s \n",
            "\u001b[?25hCollecting colorlog\n",
            "  Downloading https://files.pythonhosted.org/packages/5e/39/0230290df0519d528d8d0ffdfd900150ed24e0076d13b1f19e279444aab1/colorlog-4.7.2-py2.py3-none-any.whl\n",
            "Collecting cliff\n",
            "\u001b[?25l  Downloading https://files.pythonhosted.org/packages/a2/d6/7d9acb68a77acd140be7fececb7f2701b2a29d2da9c54184cb8f93509590/cliff-3.7.0-py3-none-any.whl (80kB)\n",
            "\u001b[K     |████████████████████████████████| 81kB 4.5MB/s \n",
            "\u001b[?25hRequirement already satisfied: numpy<1.20.0 in /usr/local/lib/python3.7/dist-packages (from optuna) (1.19.5)\n",
            "Requirement already satisfied: sqlalchemy>=1.1.0 in /usr/local/lib/python3.7/dist-packages (from optuna) (1.3.23)\n",
            "Collecting cmaes>=0.8.2\n",
            "  Downloading https://files.pythonhosted.org/packages/01/1f/43b01223a0366171f474320c6e966c39a11587287f098a5f09809b45e05f/cmaes-0.8.2-py3-none-any.whl\n",
            "Requirement already satisfied: packaging>=20.0 in /usr/local/lib/python3.7/dist-packages (from optuna) (20.9)\n",
            "Collecting python-editor>=0.3\n",
            "  Downloading https://files.pythonhosted.org/packages/c6/d3/201fc3abe391bbae6606e6f1d598c15d367033332bd54352b12f35513717/python_editor-1.0.4-py3-none-any.whl\n",
            "Collecting Mako\n",
            "\u001b[?25l  Downloading https://files.pythonhosted.org/packages/f3/54/dbc07fbb20865d3b78fdb7cf7fa713e2cba4f87f71100074ef2dc9f9d1f7/Mako-1.1.4-py2.py3-none-any.whl (75kB)\n",
            "\u001b[K     |████████████████████████████████| 81kB 5.3MB/s \n",
            "\u001b[?25hRequirement already satisfied: python-dateutil in /usr/local/lib/python3.7/dist-packages (from alembic->optuna) (2.8.1)\n",
            "Requirement already satisfied: pyparsing>=2.1.0 in /usr/local/lib/python3.7/dist-packages (from cliff->optuna) (2.4.7)\n",
            "Requirement already satisfied: PrettyTable>=0.7.2 in /usr/local/lib/python3.7/dist-packages (from cliff->optuna) (2.1.0)\n",
            "Requirement already satisfied: PyYAML>=3.12 in /usr/local/lib/python3.7/dist-packages (from cliff->optuna) (3.13)\n",
            "Collecting pbr!=2.1.0,>=2.0.0\n",
            "\u001b[?25l  Downloading https://files.pythonhosted.org/packages/fb/48/69046506f6ac61c1eaa9a0d42d22d54673b69e176d30ca98e3f61513e980/pbr-5.5.1-py2.py3-none-any.whl (106kB)\n",
            "\u001b[K     |████████████████████████████████| 112kB 8.9MB/s \n",
            "\u001b[?25hCollecting cmd2>=1.0.0\n",
            "\u001b[?25l  Downloading https://files.pythonhosted.org/packages/15/8b/15061b32332bb35ea2a2f6263d0f616779d576e82739ec8e7fcf3c94abf5/cmd2-1.5.0-py3-none-any.whl (133kB)\n",
            "\u001b[K     |████████████████████████████████| 143kB 8.8MB/s \n",
            "\u001b[?25hCollecting stevedore>=2.0.1\n",
            "\u001b[?25l  Downloading https://files.pythonhosted.org/packages/d4/49/b602307aeac3df3384ff1fcd05da9c0376c622a6c48bb5325f28ab165b57/stevedore-3.3.0-py3-none-any.whl (49kB)\n",
            "\u001b[K     |████████████████████████████████| 51kB 4.4MB/s \n",
            "\u001b[?25hRequirement already satisfied: MarkupSafe>=0.9.2 in /usr/local/lib/python3.7/dist-packages (from Mako->alembic->optuna) (1.1.1)\n",
            "Requirement already satisfied: six>=1.5 in /usr/local/lib/python3.7/dist-packages (from python-dateutil->alembic->optuna) (1.15.0)\n",
            "Requirement already satisfied: wcwidth in /usr/local/lib/python3.7/dist-packages (from PrettyTable>=0.7.2->cliff->optuna) (0.2.5)\n",
            "Requirement already satisfied: importlib-metadata; python_version < \"3.8\" in /usr/local/lib/python3.7/dist-packages (from PrettyTable>=0.7.2->cliff->optuna) (3.7.0)\n",
            "Requirement already satisfied: attrs>=16.3.0 in /usr/local/lib/python3.7/dist-packages (from cmd2>=1.0.0->cliff->optuna) (20.3.0)\n",
            "Collecting pyperclip>=1.6\n",
            "  Downloading https://files.pythonhosted.org/packages/a7/2c/4c64579f847bd5d539803c8b909e54ba087a79d01bb3aba433a95879a6c5/pyperclip-1.8.2.tar.gz\n",
            "Collecting colorama>=0.3.7\n",
            "  Downloading https://files.pythonhosted.org/packages/44/98/5b86278fbbf250d239ae0ecb724f8572af1c91f4a11edf4d36a206189440/colorama-0.4.4-py2.py3-none-any.whl\n",
            "Requirement already satisfied: typing-extensions>=3.6.4; python_version < \"3.8\" in /usr/local/lib/python3.7/dist-packages (from importlib-metadata; python_version < \"3.8\"->PrettyTable>=0.7.2->cliff->optuna) (3.7.4.3)\n",
            "Requirement already satisfied: zipp>=0.5 in /usr/local/lib/python3.7/dist-packages (from importlib-metadata; python_version < \"3.8\"->PrettyTable>=0.7.2->cliff->optuna) (3.4.1)\n",
            "Building wheels for collected packages: pyperclip\n",
            "  Building wheel for pyperclip (setup.py) ... \u001b[?25l\u001b[?25hdone\n",
            "  Created wheel for pyperclip: filename=pyperclip-1.8.2-cp37-none-any.whl size=11107 sha256=98938e12ed0abfbb6ab369aa71a3a228695c6c9b2626f5f81603f59eb9dcbb22\n",
            "  Stored in directory: /root/.cache/pip/wheels/25/af/b8/3407109267803f4015e1ee2ff23be0c8c19ce4008665931ee1\n",
            "Successfully built pyperclip\n",
            "Installing collected packages: python-editor, Mako, alembic, colorlog, pbr, pyperclip, colorama, cmd2, stevedore, cliff, cmaes, optuna\n",
            "Successfully installed Mako-1.1.4 alembic-1.5.6 cliff-3.7.0 cmaes-0.8.2 cmd2-1.5.0 colorama-0.4.4 colorlog-4.7.2 optuna-2.6.0 pbr-5.5.1 pyperclip-1.8.2 python-editor-1.0.4 stevedore-3.3.0\n"
          ],
          "name": "stdout"
        }
      ]
    },
    {
      "cell_type": "code",
      "metadata": {
        "id": "rN8EtvZOi7rB"
      },
      "source": [
        "import optuna\r\n",
        "from optuna import Trial, visualization\r\n",
        "from optuna.samplers import TPESampler"
      ],
      "execution_count": 76,
      "outputs": []
    },
    {
      "cell_type": "code",
      "metadata": {
        "id": "ONJxdQPNi7vI"
      },
      "source": [
        "lgb_train = lgb.Dataset(X_train, y_train)\r\n",
        "lgb_eval  = lgb.Dataset(X_val, y_val, reference=lgb_train)"
      ],
      "execution_count": 79,
      "outputs": []
    },
    {
      "cell_type": "code",
      "metadata": {
        "id": "Qzs-9kQ3i-u_"
      },
      "source": [
        "def objective(trial):\r\n",
        "\r\n",
        "    # choose parameters that you want\r\n",
        "    \r\n",
        "    param = {\r\n",
        "        \"objective\": \"regression\",\r\n",
        "        \"metric\": \"rmse\",\r\n",
        "        \"verbosity\": -1,\r\n",
        "        \"boosting_type\": \"gbdt\",\r\n",
        "        \"lambda_l1\": trial.suggest_float(\"lambda_l1\", 1e-8, 10.0, log=True),\r\n",
        "        \"lambda_l2\": trial.suggest_float(\"lambda_l2\", 1e-8, 10.0, log=True),\r\n",
        "        \"num_leaves\": trial.suggest_int(\"num_leaves\", 2, 256),\r\n",
        "        \"feature_fraction\": trial.suggest_float(\"feature_fraction\", 0.4, 1.0),\r\n",
        "        \"bagging_fraction\": trial.suggest_float(\"bagging_fraction\", 0.4, 1.0),\r\n",
        "        \"bagging_freq\": trial.suggest_int(\"bagging_freq\", 1, 7),\r\n",
        "        \"min_child_samples\": trial.suggest_int(\"min_child_samples\", 5, 100),\r\n",
        "    }\r\n",
        "\r\n",
        "    model = lgb.train(param, \r\n",
        "                      lgb_train,\r\n",
        "                      valid_sets=[lgb_train,lgb_eval],\r\n",
        "                      early_stopping_rounds=15, #10,\r\n",
        "                      verbose_eval=1)\r\n",
        "    \r\n",
        "    y_pred = model.predict(X_val)\r\n",
        "    accuracy = mean_squared_error(y_val, y_pred,squared=False)\r\n",
        "\r\n",
        "    return accuracy"
      ],
      "execution_count": 82,
      "outputs": []
    },
    {
      "cell_type": "code",
      "metadata": {
        "colab": {
          "base_uri": "https://localhost:8080/"
        },
        "id": "qkQTi0DCi-2b",
        "outputId": "ec04b68a-617e-4e08-f7e7-2cebb5cff5c8"
      },
      "source": [
        "from sklearn.metrics import mean_squared_error\r\n",
        "\r\n",
        "study = optuna.create_study(direction='minimize')\r\n",
        "study.optimize(objective, n_trials=15)\r\n",
        " \r\n",
        "print('Number of finished trials:', len(study.trials))\r\n",
        "print('Best trial:', study.best_trial.params)"
      ],
      "execution_count": 83,
      "outputs": [
        {
          "output_type": "stream",
          "text": [
            "\u001b[32m[I 2021-03-09 16:41:23,989]\u001b[0m A new study created in memory with name: no-name-564e77ec-ea37-468c-8487-105dd7383b42\u001b[0m\n"
          ],
          "name": "stderr"
        },
        {
          "output_type": "stream",
          "text": [
            "[1]\ttraining's rmse: 1.19286\tvalid_1's rmse: 1.03593\n",
            "Training until validation scores don't improve for 15 rounds.\n",
            "[2]\ttraining's rmse: 1.14637\tvalid_1's rmse: 0.993853\n",
            "[3]\ttraining's rmse: 1.10538\tvalid_1's rmse: 0.958665\n",
            "[4]\ttraining's rmse: 1.0692\tvalid_1's rmse: 0.929476\n",
            "[5]\ttraining's rmse: 1.03823\tvalid_1's rmse: 0.908206\n",
            "[6]\ttraining's rmse: 1.01099\tvalid_1's rmse: 0.887478\n",
            "[7]\ttraining's rmse: 0.988149\tvalid_1's rmse: 0.870312\n",
            "[8]\ttraining's rmse: 0.967909\tvalid_1's rmse: 0.856556\n",
            "[9]\ttraining's rmse: 0.951323\tvalid_1's rmse: 0.844838\n",
            "[10]\ttraining's rmse: 0.935431\tvalid_1's rmse: 0.834243\n",
            "[11]\ttraining's rmse: 0.922528\tvalid_1's rmse: 0.826139\n",
            "[12]\ttraining's rmse: 0.911679\tvalid_1's rmse: 0.818446\n",
            "[13]\ttraining's rmse: 0.901224\tvalid_1's rmse: 0.813728\n",
            "[14]\ttraining's rmse: 0.892873\tvalid_1's rmse: 0.807825\n",
            "[15]\ttraining's rmse: 0.884518\tvalid_1's rmse: 0.802778\n",
            "[16]\ttraining's rmse: 0.877161\tvalid_1's rmse: 0.797519\n",
            "[17]\ttraining's rmse: 0.870697\tvalid_1's rmse: 0.794721\n",
            "[18]\ttraining's rmse: 0.864636\tvalid_1's rmse: 0.793301\n",
            "[19]\ttraining's rmse: 0.860286\tvalid_1's rmse: 0.790082\n",
            "[20]\ttraining's rmse: 0.855244\tvalid_1's rmse: 0.786185\n",
            "[21]\ttraining's rmse: 0.850745\tvalid_1's rmse: 0.784347\n",
            "[22]\ttraining's rmse: 0.846436\tvalid_1's rmse: 0.782322\n",
            "[23]\ttraining's rmse: 0.842464\tvalid_1's rmse: 0.777663\n",
            "[24]\ttraining's rmse: 0.839074\tvalid_1's rmse: 0.776176\n",
            "[25]\ttraining's rmse: 0.83563\tvalid_1's rmse: 0.775468\n",
            "[26]\ttraining's rmse: 0.832777\tvalid_1's rmse: 0.774839\n",
            "[27]\ttraining's rmse: 0.830518\tvalid_1's rmse: 0.773793\n",
            "[28]\ttraining's rmse: 0.827911\tvalid_1's rmse: 0.773386\n",
            "[29]\ttraining's rmse: 0.825055\tvalid_1's rmse: 0.773115\n",
            "[30]\ttraining's rmse: 0.823041\tvalid_1's rmse: 0.77258\n",
            "[31]\ttraining's rmse: 0.820808\tvalid_1's rmse: 0.771767\n",
            "[32]\ttraining's rmse: 0.818532\tvalid_1's rmse: 0.771253\n",
            "[33]\ttraining's rmse: 0.816638\tvalid_1's rmse: 0.770275\n",
            "[34]\ttraining's rmse: 0.814594\tvalid_1's rmse: 0.769178\n",
            "[35]\ttraining's rmse: 0.812637\tvalid_1's rmse: 0.768847\n",
            "[36]\ttraining's rmse: 0.810856\tvalid_1's rmse: 0.767998\n",
            "[37]\ttraining's rmse: 0.809456\tvalid_1's rmse: 0.767697\n",
            "[38]\ttraining's rmse: 0.808003\tvalid_1's rmse: 0.767369\n",
            "[39]\ttraining's rmse: 0.806482\tvalid_1's rmse: 0.76747\n",
            "[40]\ttraining's rmse: 0.804445\tvalid_1's rmse: 0.767487\n",
            "[41]\ttraining's rmse: 0.802006\tvalid_1's rmse: 0.768309\n",
            "[42]\ttraining's rmse: 0.800336\tvalid_1's rmse: 0.769338\n",
            "[43]\ttraining's rmse: 0.799159\tvalid_1's rmse: 0.769354\n",
            "[44]\ttraining's rmse: 0.798046\tvalid_1's rmse: 0.769459\n",
            "[45]\ttraining's rmse: 0.796788\tvalid_1's rmse: 0.769204\n",
            "[46]\ttraining's rmse: 0.795845\tvalid_1's rmse: 0.768805\n",
            "[47]\ttraining's rmse: 0.79454\tvalid_1's rmse: 0.76881\n",
            "[48]\ttraining's rmse: 0.793537\tvalid_1's rmse: 0.768917\n",
            "[49]\ttraining's rmse: 0.791248\tvalid_1's rmse: 0.768932\n",
            "[50]\ttraining's rmse: 0.790139\tvalid_1's rmse: 0.768826\n",
            "[51]\ttraining's rmse: 0.788558\tvalid_1's rmse: 0.768644\n",
            "[52]\ttraining's rmse: 0.786788\tvalid_1's rmse: 0.76885\n",
            "[53]\ttraining's rmse: 0.78582\tvalid_1's rmse: 0.768599\n",
            "Early stopping, best iteration is:\n",
            "[38]\ttraining's rmse: 0.808003\tvalid_1's rmse: 0.767369\n"
          ],
          "name": "stdout"
        },
        {
          "output_type": "stream",
          "text": [
            "\u001b[32m[I 2021-03-09 16:42:01,652]\u001b[0m Trial 0 finished with value: 0.7673692625949375 and parameters: {'lambda_l1': 1.4934242562472903e-06, 'lambda_l2': 6.965338907769272, 'num_leaves': 100, 'feature_fraction': 0.6834922879209142, 'bagging_fraction': 0.4174423970202388, 'bagging_freq': 4, 'min_child_samples': 31}. Best is trial 0 with value: 0.7673692625949375.\u001b[0m\n"
          ],
          "name": "stderr"
        },
        {
          "output_type": "stream",
          "text": [
            "[1]\ttraining's rmse: 1.1912\tvalid_1's rmse: 1.03431\n",
            "Training until validation scores don't improve for 15 rounds.\n",
            "[2]\ttraining's rmse: 1.14334\tvalid_1's rmse: 0.992752\n",
            "[3]\ttraining's rmse: 1.10163\tvalid_1's rmse: 0.957204\n",
            "[4]\ttraining's rmse: 1.06651\tvalid_1's rmse: 0.928851\n",
            "[5]\ttraining's rmse: 1.03496\tvalid_1's rmse: 0.906022\n",
            "[6]\ttraining's rmse: 1.00769\tvalid_1's rmse: 0.884406\n",
            "[7]\ttraining's rmse: 0.984264\tvalid_1's rmse: 0.868168\n",
            "[8]\ttraining's rmse: 0.963864\tvalid_1's rmse: 0.853376\n",
            "[9]\ttraining's rmse: 0.946299\tvalid_1's rmse: 0.841612\n",
            "[10]\ttraining's rmse: 0.931296\tvalid_1's rmse: 0.832751\n",
            "[11]\ttraining's rmse: 0.9176\tvalid_1's rmse: 0.822673\n",
            "[12]\ttraining's rmse: 0.906662\tvalid_1's rmse: 0.816445\n",
            "[13]\ttraining's rmse: 0.895888\tvalid_1's rmse: 0.807533\n",
            "[14]\ttraining's rmse: 0.887236\tvalid_1's rmse: 0.801812\n",
            "[15]\ttraining's rmse: 0.878921\tvalid_1's rmse: 0.798009\n",
            "[16]\ttraining's rmse: 0.871618\tvalid_1's rmse: 0.793081\n",
            "[17]\ttraining's rmse: 0.865046\tvalid_1's rmse: 0.789617\n",
            "[18]\ttraining's rmse: 0.859029\tvalid_1's rmse: 0.787626\n",
            "[19]\ttraining's rmse: 0.85387\tvalid_1's rmse: 0.785486\n",
            "[20]\ttraining's rmse: 0.84913\tvalid_1's rmse: 0.782912\n",
            "[21]\ttraining's rmse: 0.844793\tvalid_1's rmse: 0.781353\n",
            "[22]\ttraining's rmse: 0.84062\tvalid_1's rmse: 0.780108\n",
            "[23]\ttraining's rmse: 0.837196\tvalid_1's rmse: 0.778984\n",
            "[24]\ttraining's rmse: 0.834165\tvalid_1's rmse: 0.777418\n",
            "[25]\ttraining's rmse: 0.831275\tvalid_1's rmse: 0.77676\n",
            "[26]\ttraining's rmse: 0.827878\tvalid_1's rmse: 0.776401\n",
            "[27]\ttraining's rmse: 0.825579\tvalid_1's rmse: 0.776151\n",
            "[28]\ttraining's rmse: 0.822756\tvalid_1's rmse: 0.774833\n",
            "[29]\ttraining's rmse: 0.820664\tvalid_1's rmse: 0.774403\n",
            "[30]\ttraining's rmse: 0.818471\tvalid_1's rmse: 0.77342\n",
            "[31]\ttraining's rmse: 0.816357\tvalid_1's rmse: 0.773498\n",
            "[32]\ttraining's rmse: 0.813953\tvalid_1's rmse: 0.773349\n",
            "[33]\ttraining's rmse: 0.81199\tvalid_1's rmse: 0.773149\n",
            "[34]\ttraining's rmse: 0.809762\tvalid_1's rmse: 0.772828\n",
            "[35]\ttraining's rmse: 0.808184\tvalid_1's rmse: 0.773247\n",
            "[36]\ttraining's rmse: 0.806599\tvalid_1's rmse: 0.772965\n",
            "[37]\ttraining's rmse: 0.805058\tvalid_1's rmse: 0.772744\n",
            "[38]\ttraining's rmse: 0.803759\tvalid_1's rmse: 0.772306\n",
            "[39]\ttraining's rmse: 0.802187\tvalid_1's rmse: 0.772199\n",
            "[40]\ttraining's rmse: 0.800596\tvalid_1's rmse: 0.77261\n",
            "[41]\ttraining's rmse: 0.798745\tvalid_1's rmse: 0.771587\n",
            "[42]\ttraining's rmse: 0.796692\tvalid_1's rmse: 0.771785\n",
            "[43]\ttraining's rmse: 0.795624\tvalid_1's rmse: 0.771193\n",
            "[44]\ttraining's rmse: 0.794358\tvalid_1's rmse: 0.771149\n",
            "[45]\ttraining's rmse: 0.792463\tvalid_1's rmse: 0.771292\n",
            "[46]\ttraining's rmse: 0.79132\tvalid_1's rmse: 0.770928\n",
            "[47]\ttraining's rmse: 0.790323\tvalid_1's rmse: 0.770226\n",
            "[48]\ttraining's rmse: 0.789149\tvalid_1's rmse: 0.770049\n",
            "[49]\ttraining's rmse: 0.787519\tvalid_1's rmse: 0.769655\n",
            "[50]\ttraining's rmse: 0.786183\tvalid_1's rmse: 0.770307\n",
            "[51]\ttraining's rmse: 0.785249\tvalid_1's rmse: 0.770254\n",
            "[52]\ttraining's rmse: 0.784108\tvalid_1's rmse: 0.769941\n",
            "[53]\ttraining's rmse: 0.783157\tvalid_1's rmse: 0.76966\n",
            "[54]\ttraining's rmse: 0.781533\tvalid_1's rmse: 0.76935\n",
            "[55]\ttraining's rmse: 0.78071\tvalid_1's rmse: 0.77045\n",
            "[56]\ttraining's rmse: 0.779476\tvalid_1's rmse: 0.770389\n",
            "[57]\ttraining's rmse: 0.778328\tvalid_1's rmse: 0.770404\n",
            "[58]\ttraining's rmse: 0.777376\tvalid_1's rmse: 0.770974\n",
            "[59]\ttraining's rmse: 0.775987\tvalid_1's rmse: 0.771214\n",
            "[60]\ttraining's rmse: 0.775111\tvalid_1's rmse: 0.771225\n",
            "[61]\ttraining's rmse: 0.77426\tvalid_1's rmse: 0.771179\n",
            "[62]\ttraining's rmse: 0.773508\tvalid_1's rmse: 0.771273\n",
            "[63]\ttraining's rmse: 0.772695\tvalid_1's rmse: 0.771229\n",
            "[64]\ttraining's rmse: 0.772009\tvalid_1's rmse: 0.771504\n",
            "[65]\ttraining's rmse: 0.771469\tvalid_1's rmse: 0.771692\n",
            "[66]\ttraining's rmse: 0.770508\tvalid_1's rmse: 0.771578\n",
            "[67]\ttraining's rmse: 0.769914\tvalid_1's rmse: 0.771445\n",
            "[68]\ttraining's rmse: 0.76874\tvalid_1's rmse: 0.771401\n",
            "[69]\ttraining's rmse: 0.768137\tvalid_1's rmse: 0.771252\n",
            "Early stopping, best iteration is:\n",
            "[54]\ttraining's rmse: 0.781533\tvalid_1's rmse: 0.76935\n"
          ],
          "name": "stdout"
        },
        {
          "output_type": "stream",
          "text": [
            "\u001b[32m[I 2021-03-09 16:42:57,228]\u001b[0m Trial 1 finished with value: 0.7693497243581668 and parameters: {'lambda_l1': 0.00010883453132494786, 'lambda_l2': 2.373541968084358e-05, 'num_leaves': 107, 'feature_fraction': 0.7764767022832233, 'bagging_fraction': 0.42338971237059597, 'bagging_freq': 3, 'min_child_samples': 69}. Best is trial 0 with value: 0.7673692625949375.\u001b[0m\n"
          ],
          "name": "stderr"
        },
        {
          "output_type": "stream",
          "text": [
            "[1]\ttraining's rmse: 1.18559\tvalid_1's rmse: 1.03519\n",
            "Training until validation scores don't improve for 15 rounds.\n",
            "[2]\ttraining's rmse: 1.13333\tvalid_1's rmse: 0.993009\n",
            "[3]\ttraining's rmse: 1.08735\tvalid_1's rmse: 0.953432\n",
            "[4]\ttraining's rmse: 1.04726\tvalid_1's rmse: 0.923099\n",
            "[5]\ttraining's rmse: 1.01264\tvalid_1's rmse: 0.898891\n",
            "[6]\ttraining's rmse: 0.98287\tvalid_1's rmse: 0.876882\n",
            "[7]\ttraining's rmse: 0.956671\tvalid_1's rmse: 0.860638\n",
            "[8]\ttraining's rmse: 0.933817\tvalid_1's rmse: 0.844903\n",
            "[9]\ttraining's rmse: 0.91448\tvalid_1's rmse: 0.832451\n",
            "[10]\ttraining's rmse: 0.896955\tvalid_1's rmse: 0.821203\n",
            "[11]\ttraining's rmse: 0.882009\tvalid_1's rmse: 0.812615\n",
            "[12]\ttraining's rmse: 0.86895\tvalid_1's rmse: 0.805215\n",
            "[13]\ttraining's rmse: 0.857437\tvalid_1's rmse: 0.799365\n",
            "[14]\ttraining's rmse: 0.847154\tvalid_1's rmse: 0.794129\n",
            "[15]\ttraining's rmse: 0.837686\tvalid_1's rmse: 0.787588\n",
            "[16]\ttraining's rmse: 0.829409\tvalid_1's rmse: 0.783405\n",
            "[17]\ttraining's rmse: 0.821935\tvalid_1's rmse: 0.780133\n",
            "[18]\ttraining's rmse: 0.815294\tvalid_1's rmse: 0.776719\n",
            "[19]\ttraining's rmse: 0.809046\tvalid_1's rmse: 0.7733\n",
            "[20]\ttraining's rmse: 0.803747\tvalid_1's rmse: 0.770869\n",
            "[21]\ttraining's rmse: 0.798955\tvalid_1's rmse: 0.770743\n",
            "[22]\ttraining's rmse: 0.794413\tvalid_1's rmse: 0.76954\n",
            "[23]\ttraining's rmse: 0.79013\tvalid_1's rmse: 0.767907\n",
            "[24]\ttraining's rmse: 0.786469\tvalid_1's rmse: 0.766883\n",
            "[25]\ttraining's rmse: 0.783097\tvalid_1's rmse: 0.766857\n",
            "[26]\ttraining's rmse: 0.779716\tvalid_1's rmse: 0.766239\n",
            "[27]\ttraining's rmse: 0.77667\tvalid_1's rmse: 0.765652\n",
            "[28]\ttraining's rmse: 0.773863\tvalid_1's rmse: 0.765124\n",
            "[29]\ttraining's rmse: 0.770759\tvalid_1's rmse: 0.76448\n",
            "[30]\ttraining's rmse: 0.768149\tvalid_1's rmse: 0.764474\n",
            "[31]\ttraining's rmse: 0.765554\tvalid_1's rmse: 0.764274\n",
            "[32]\ttraining's rmse: 0.763363\tvalid_1's rmse: 0.763861\n",
            "[33]\ttraining's rmse: 0.760909\tvalid_1's rmse: 0.763065\n",
            "[34]\ttraining's rmse: 0.758152\tvalid_1's rmse: 0.762951\n",
            "[35]\ttraining's rmse: 0.756182\tvalid_1's rmse: 0.763048\n",
            "[36]\ttraining's rmse: 0.753893\tvalid_1's rmse: 0.762837\n",
            "[37]\ttraining's rmse: 0.752175\tvalid_1's rmse: 0.762458\n",
            "[38]\ttraining's rmse: 0.750307\tvalid_1's rmse: 0.762122\n",
            "[39]\ttraining's rmse: 0.74729\tvalid_1's rmse: 0.761968\n",
            "[40]\ttraining's rmse: 0.745294\tvalid_1's rmse: 0.761811\n",
            "[41]\ttraining's rmse: 0.743589\tvalid_1's rmse: 0.760859\n",
            "[42]\ttraining's rmse: 0.741946\tvalid_1's rmse: 0.760764\n",
            "[43]\ttraining's rmse: 0.740097\tvalid_1's rmse: 0.760891\n",
            "[44]\ttraining's rmse: 0.738091\tvalid_1's rmse: 0.760798\n",
            "[45]\ttraining's rmse: 0.736585\tvalid_1's rmse: 0.760676\n",
            "[46]\ttraining's rmse: 0.734946\tvalid_1's rmse: 0.760419\n",
            "[47]\ttraining's rmse: 0.733639\tvalid_1's rmse: 0.760606\n",
            "[48]\ttraining's rmse: 0.732044\tvalid_1's rmse: 0.760359\n",
            "[49]\ttraining's rmse: 0.730031\tvalid_1's rmse: 0.760255\n",
            "[50]\ttraining's rmse: 0.7286\tvalid_1's rmse: 0.760325\n",
            "[51]\ttraining's rmse: 0.727372\tvalid_1's rmse: 0.760696\n",
            "[52]\ttraining's rmse: 0.725681\tvalid_1's rmse: 0.760263\n",
            "[53]\ttraining's rmse: 0.724334\tvalid_1's rmse: 0.760193\n",
            "[54]\ttraining's rmse: 0.722991\tvalid_1's rmse: 0.760151\n",
            "[55]\ttraining's rmse: 0.721534\tvalid_1's rmse: 0.761105\n",
            "[56]\ttraining's rmse: 0.719666\tvalid_1's rmse: 0.761015\n",
            "[57]\ttraining's rmse: 0.718572\tvalid_1's rmse: 0.760945\n",
            "[58]\ttraining's rmse: 0.717619\tvalid_1's rmse: 0.761139\n",
            "[59]\ttraining's rmse: 0.716676\tvalid_1's rmse: 0.761592\n",
            "[60]\ttraining's rmse: 0.71537\tvalid_1's rmse: 0.761677\n",
            "[61]\ttraining's rmse: 0.714126\tvalid_1's rmse: 0.761857\n",
            "[62]\ttraining's rmse: 0.713028\tvalid_1's rmse: 0.761786\n",
            "[63]\ttraining's rmse: 0.712041\tvalid_1's rmse: 0.761646\n",
            "[64]\ttraining's rmse: 0.710876\tvalid_1's rmse: 0.761772\n",
            "[65]\ttraining's rmse: 0.710018\tvalid_1's rmse: 0.761656\n",
            "[66]\ttraining's rmse: 0.708817\tvalid_1's rmse: 0.761656\n",
            "[67]\ttraining's rmse: 0.7068\tvalid_1's rmse: 0.762234\n",
            "[68]\ttraining's rmse: 0.705911\tvalid_1's rmse: 0.761868\n",
            "[69]\ttraining's rmse: 0.705121\tvalid_1's rmse: 0.761848\n",
            "Early stopping, best iteration is:\n",
            "[54]\ttraining's rmse: 0.722991\tvalid_1's rmse: 0.760151\n"
          ],
          "name": "stdout"
        },
        {
          "output_type": "stream",
          "text": [
            "\u001b[32m[I 2021-03-09 16:45:01,018]\u001b[0m Trial 2 finished with value: 0.7601270340623884 and parameters: {'lambda_l1': 1.0172371307184663e-07, 'lambda_l2': 1.4910699816411428e-06, 'num_leaves': 253, 'feature_fraction': 0.9783922996897737, 'bagging_fraction': 0.8184042886893004, 'bagging_freq': 7, 'min_child_samples': 20}. Best is trial 2 with value: 0.7601270340623884.\u001b[0m\n"
          ],
          "name": "stderr"
        },
        {
          "output_type": "stream",
          "text": [
            "[1]\ttraining's rmse: 1.19046\tvalid_1's rmse: 1.03589\n",
            "Training until validation scores don't improve for 15 rounds.\n",
            "[2]\ttraining's rmse: 1.15252\tvalid_1's rmse: 1.0047\n",
            "[3]\ttraining's rmse: 1.11138\tvalid_1's rmse: 0.972748\n",
            "[4]\ttraining's rmse: 1.07559\tvalid_1's rmse: 0.945267\n",
            "[5]\ttraining's rmse: 1.04193\tvalid_1's rmse: 0.919004\n",
            "[6]\ttraining's rmse: 1.0155\tvalid_1's rmse: 0.89866\n",
            "[7]\ttraining's rmse: 0.989045\tvalid_1's rmse: 0.879088\n",
            "[8]\ttraining's rmse: 0.966928\tvalid_1's rmse: 0.862992\n",
            "[9]\ttraining's rmse: 0.947384\tvalid_1's rmse: 0.848802\n",
            "[10]\ttraining's rmse: 0.932505\tvalid_1's rmse: 0.838477\n",
            "[11]\ttraining's rmse: 0.918485\tvalid_1's rmse: 0.828935\n",
            "[12]\ttraining's rmse: 0.907452\tvalid_1's rmse: 0.821688\n",
            "[13]\ttraining's rmse: 0.895725\tvalid_1's rmse: 0.818441\n",
            "[14]\ttraining's rmse: 0.886904\tvalid_1's rmse: 0.813768\n",
            "[15]\ttraining's rmse: 0.87666\tvalid_1's rmse: 0.806225\n",
            "[16]\ttraining's rmse: 0.869061\tvalid_1's rmse: 0.802186\n",
            "[17]\ttraining's rmse: 0.860662\tvalid_1's rmse: 0.798734\n",
            "[18]\ttraining's rmse: 0.854685\tvalid_1's rmse: 0.79461\n",
            "[19]\ttraining's rmse: 0.848963\tvalid_1's rmse: 0.791278\n",
            "[20]\ttraining's rmse: 0.842741\tvalid_1's rmse: 0.787004\n",
            "[21]\ttraining's rmse: 0.838786\tvalid_1's rmse: 0.784759\n",
            "[22]\ttraining's rmse: 0.833023\tvalid_1's rmse: 0.781806\n",
            "[23]\ttraining's rmse: 0.828431\tvalid_1's rmse: 0.780153\n",
            "[24]\ttraining's rmse: 0.82433\tvalid_1's rmse: 0.778136\n",
            "[25]\ttraining's rmse: 0.821627\tvalid_1's rmse: 0.777325\n",
            "[26]\ttraining's rmse: 0.817392\tvalid_1's rmse: 0.777764\n",
            "[27]\ttraining's rmse: 0.813715\tvalid_1's rmse: 0.776758\n",
            "[28]\ttraining's rmse: 0.810253\tvalid_1's rmse: 0.776005\n",
            "[29]\ttraining's rmse: 0.807762\tvalid_1's rmse: 0.77484\n",
            "[30]\ttraining's rmse: 0.805132\tvalid_1's rmse: 0.774221\n",
            "[31]\ttraining's rmse: 0.802722\tvalid_1's rmse: 0.774372\n",
            "[32]\ttraining's rmse: 0.800292\tvalid_1's rmse: 0.773181\n",
            "[33]\ttraining's rmse: 0.797925\tvalid_1's rmse: 0.772951\n",
            "[34]\ttraining's rmse: 0.795851\tvalid_1's rmse: 0.772489\n",
            "[35]\ttraining's rmse: 0.794002\tvalid_1's rmse: 0.77228\n",
            "[36]\ttraining's rmse: 0.791614\tvalid_1's rmse: 0.772046\n",
            "[37]\ttraining's rmse: 0.789657\tvalid_1's rmse: 0.771845\n",
            "[38]\ttraining's rmse: 0.787833\tvalid_1's rmse: 0.771145\n",
            "[39]\ttraining's rmse: 0.786449\tvalid_1's rmse: 0.770443\n",
            "[40]\ttraining's rmse: 0.785214\tvalid_1's rmse: 0.770884\n",
            "[41]\ttraining's rmse: 0.7828\tvalid_1's rmse: 0.770612\n",
            "[42]\ttraining's rmse: 0.781409\tvalid_1's rmse: 0.770361\n",
            "[43]\ttraining's rmse: 0.779193\tvalid_1's rmse: 0.770131\n",
            "[44]\ttraining's rmse: 0.777787\tvalid_1's rmse: 0.769769\n",
            "[45]\ttraining's rmse: 0.77653\tvalid_1's rmse: 0.76992\n",
            "[46]\ttraining's rmse: 0.775159\tvalid_1's rmse: 0.770282\n",
            "[47]\ttraining's rmse: 0.773744\tvalid_1's rmse: 0.769901\n",
            "[48]\ttraining's rmse: 0.772328\tvalid_1's rmse: 0.770552\n",
            "[49]\ttraining's rmse: 0.770778\tvalid_1's rmse: 0.769441\n",
            "[50]\ttraining's rmse: 0.769213\tvalid_1's rmse: 0.769333\n",
            "[51]\ttraining's rmse: 0.767187\tvalid_1's rmse: 0.768872\n",
            "[52]\ttraining's rmse: 0.766188\tvalid_1's rmse: 0.769022\n",
            "[53]\ttraining's rmse: 0.765334\tvalid_1's rmse: 0.768811\n",
            "[54]\ttraining's rmse: 0.763621\tvalid_1's rmse: 0.767307\n",
            "[55]\ttraining's rmse: 0.762258\tvalid_1's rmse: 0.767552\n",
            "[56]\ttraining's rmse: 0.761403\tvalid_1's rmse: 0.768049\n",
            "[57]\ttraining's rmse: 0.760165\tvalid_1's rmse: 0.768056\n",
            "[58]\ttraining's rmse: 0.758871\tvalid_1's rmse: 0.768004\n",
            "[59]\ttraining's rmse: 0.75788\tvalid_1's rmse: 0.767722\n",
            "[60]\ttraining's rmse: 0.757133\tvalid_1's rmse: 0.767272\n",
            "[61]\ttraining's rmse: 0.755789\tvalid_1's rmse: 0.767206\n",
            "[62]\ttraining's rmse: 0.754872\tvalid_1's rmse: 0.767137\n",
            "[63]\ttraining's rmse: 0.753823\tvalid_1's rmse: 0.766869\n",
            "[64]\ttraining's rmse: 0.752841\tvalid_1's rmse: 0.768083\n",
            "[65]\ttraining's rmse: 0.752205\tvalid_1's rmse: 0.767892\n",
            "[66]\ttraining's rmse: 0.751453\tvalid_1's rmse: 0.767823\n",
            "[67]\ttraining's rmse: 0.75063\tvalid_1's rmse: 0.767779\n",
            "[68]\ttraining's rmse: 0.749805\tvalid_1's rmse: 0.768206\n",
            "[69]\ttraining's rmse: 0.749018\tvalid_1's rmse: 0.768924\n",
            "[70]\ttraining's rmse: 0.74833\tvalid_1's rmse: 0.768875\n",
            "[71]\ttraining's rmse: 0.747255\tvalid_1's rmse: 0.769184\n",
            "[72]\ttraining's rmse: 0.746552\tvalid_1's rmse: 0.769027\n",
            "[73]\ttraining's rmse: 0.745039\tvalid_1's rmse: 0.769287\n",
            "[74]\ttraining's rmse: 0.744254\tvalid_1's rmse: 0.769132\n",
            "[75]\ttraining's rmse: 0.743454\tvalid_1's rmse: 0.76985\n",
            "[76]\ttraining's rmse: 0.742769\tvalid_1's rmse: 0.770034\n",
            "[77]\ttraining's rmse: 0.742032\tvalid_1's rmse: 0.769622\n",
            "[78]\ttraining's rmse: 0.741384\tvalid_1's rmse: 0.770116\n",
            "Early stopping, best iteration is:\n",
            "[63]\ttraining's rmse: 0.753823\tvalid_1's rmse: 0.766869\n"
          ],
          "name": "stdout"
        },
        {
          "output_type": "stream",
          "text": [
            "\u001b[32m[I 2021-03-09 16:46:21,818]\u001b[0m Trial 3 finished with value: 0.7668688798463942 and parameters: {'lambda_l1': 0.00140897034211525, 'lambda_l2': 2.8494512175942797, 'num_leaves': 157, 'feature_fraction': 0.4478317971782345, 'bagging_fraction': 0.9077260451589504, 'bagging_freq': 5, 'min_child_samples': 84}. Best is trial 2 with value: 0.7601270340623884.\u001b[0m\n"
          ],
          "name": "stderr"
        },
        {
          "output_type": "stream",
          "text": [
            "[1]\ttraining's rmse: 1.18664\tvalid_1's rmse: 1.0345\n",
            "Training until validation scores don't improve for 15 rounds.\n",
            "[2]\ttraining's rmse: 1.13513\tvalid_1's rmse: 0.991053\n",
            "[3]\ttraining's rmse: 1.08989\tvalid_1's rmse: 0.954045\n",
            "[4]\ttraining's rmse: 1.05014\tvalid_1's rmse: 0.922985\n",
            "[5]\ttraining's rmse: 1.01601\tvalid_1's rmse: 0.896928\n",
            "[6]\ttraining's rmse: 0.986768\tvalid_1's rmse: 0.87605\n",
            "[7]\ttraining's rmse: 0.960913\tvalid_1's rmse: 0.860673\n",
            "[8]\ttraining's rmse: 0.93824\tvalid_1's rmse: 0.845561\n",
            "[9]\ttraining's rmse: 0.919262\tvalid_1's rmse: 0.833317\n",
            "[10]\ttraining's rmse: 0.902375\tvalid_1's rmse: 0.820981\n",
            "[11]\ttraining's rmse: 0.887518\tvalid_1's rmse: 0.811273\n",
            "[12]\ttraining's rmse: 0.875108\tvalid_1's rmse: 0.80285\n",
            "[13]\ttraining's rmse: 0.863438\tvalid_1's rmse: 0.796652\n",
            "[14]\ttraining's rmse: 0.853471\tvalid_1's rmse: 0.792163\n",
            "[15]\ttraining's rmse: 0.844515\tvalid_1's rmse: 0.788106\n",
            "[16]\ttraining's rmse: 0.836642\tvalid_1's rmse: 0.78443\n",
            "[17]\ttraining's rmse: 0.82925\tvalid_1's rmse: 0.780484\n",
            "[18]\ttraining's rmse: 0.82293\tvalid_1's rmse: 0.777399\n",
            "[19]\ttraining's rmse: 0.817157\tvalid_1's rmse: 0.775097\n",
            "[20]\ttraining's rmse: 0.811979\tvalid_1's rmse: 0.772367\n",
            "[21]\ttraining's rmse: 0.806794\tvalid_1's rmse: 0.770969\n",
            "[22]\ttraining's rmse: 0.802565\tvalid_1's rmse: 0.769915\n",
            "[23]\ttraining's rmse: 0.798676\tvalid_1's rmse: 0.768198\n",
            "[24]\ttraining's rmse: 0.794411\tvalid_1's rmse: 0.767364\n",
            "[25]\ttraining's rmse: 0.790361\tvalid_1's rmse: 0.766437\n",
            "[26]\ttraining's rmse: 0.787208\tvalid_1's rmse: 0.766103\n",
            "[27]\ttraining's rmse: 0.784399\tvalid_1's rmse: 0.766014\n",
            "[28]\ttraining's rmse: 0.781433\tvalid_1's rmse: 0.767066\n",
            "[29]\ttraining's rmse: 0.778769\tvalid_1's rmse: 0.766585\n",
            "[30]\ttraining's rmse: 0.776592\tvalid_1's rmse: 0.765995\n",
            "[31]\ttraining's rmse: 0.774307\tvalid_1's rmse: 0.766044\n",
            "[32]\ttraining's rmse: 0.772265\tvalid_1's rmse: 0.766292\n",
            "[33]\ttraining's rmse: 0.76988\tvalid_1's rmse: 0.765418\n",
            "[34]\ttraining's rmse: 0.767819\tvalid_1's rmse: 0.765396\n",
            "[35]\ttraining's rmse: 0.76529\tvalid_1's rmse: 0.765847\n",
            "[36]\ttraining's rmse: 0.763611\tvalid_1's rmse: 0.765495\n",
            "[37]\ttraining's rmse: 0.761673\tvalid_1's rmse: 0.765657\n",
            "[38]\ttraining's rmse: 0.759897\tvalid_1's rmse: 0.765921\n",
            "[39]\ttraining's rmse: 0.758324\tvalid_1's rmse: 0.765998\n",
            "[40]\ttraining's rmse: 0.756533\tvalid_1's rmse: 0.765593\n",
            "[41]\ttraining's rmse: 0.754623\tvalid_1's rmse: 0.765701\n",
            "[42]\ttraining's rmse: 0.753046\tvalid_1's rmse: 0.765566\n",
            "[43]\ttraining's rmse: 0.751066\tvalid_1's rmse: 0.765435\n",
            "[44]\ttraining's rmse: 0.749407\tvalid_1's rmse: 0.765337\n",
            "[45]\ttraining's rmse: 0.748078\tvalid_1's rmse: 0.76497\n",
            "[46]\ttraining's rmse: 0.746621\tvalid_1's rmse: 0.764882\n",
            "[47]\ttraining's rmse: 0.744552\tvalid_1's rmse: 0.764587\n",
            "[48]\ttraining's rmse: 0.743218\tvalid_1's rmse: 0.763906\n",
            "[49]\ttraining's rmse: 0.741607\tvalid_1's rmse: 0.76413\n",
            "[50]\ttraining's rmse: 0.740104\tvalid_1's rmse: 0.764327\n",
            "[51]\ttraining's rmse: 0.739011\tvalid_1's rmse: 0.763783\n",
            "[52]\ttraining's rmse: 0.737694\tvalid_1's rmse: 0.764542\n",
            "[53]\ttraining's rmse: 0.73667\tvalid_1's rmse: 0.76486\n",
            "[54]\ttraining's rmse: 0.735494\tvalid_1's rmse: 0.765142\n",
            "[55]\ttraining's rmse: 0.733372\tvalid_1's rmse: 0.764648\n",
            "[56]\ttraining's rmse: 0.732255\tvalid_1's rmse: 0.764637\n",
            "[57]\ttraining's rmse: 0.731021\tvalid_1's rmse: 0.76481\n",
            "[58]\ttraining's rmse: 0.729713\tvalid_1's rmse: 0.764385\n",
            "[59]\ttraining's rmse: 0.728825\tvalid_1's rmse: 0.762935\n",
            "[60]\ttraining's rmse: 0.727803\tvalid_1's rmse: 0.762708\n",
            "[61]\ttraining's rmse: 0.726748\tvalid_1's rmse: 0.76307\n",
            "[62]\ttraining's rmse: 0.725219\tvalid_1's rmse: 0.762774\n",
            "[63]\ttraining's rmse: 0.724426\tvalid_1's rmse: 0.762937\n",
            "[64]\ttraining's rmse: 0.723496\tvalid_1's rmse: 0.762741\n",
            "[65]\ttraining's rmse: 0.722775\tvalid_1's rmse: 0.762617\n",
            "[66]\ttraining's rmse: 0.721209\tvalid_1's rmse: 0.76302\n",
            "[67]\ttraining's rmse: 0.720311\tvalid_1's rmse: 0.762668\n",
            "[68]\ttraining's rmse: 0.719249\tvalid_1's rmse: 0.762263\n",
            "[69]\ttraining's rmse: 0.718454\tvalid_1's rmse: 0.762326\n",
            "[70]\ttraining's rmse: 0.717786\tvalid_1's rmse: 0.762341\n",
            "[71]\ttraining's rmse: 0.717109\tvalid_1's rmse: 0.761872\n",
            "[72]\ttraining's rmse: 0.716468\tvalid_1's rmse: 0.762188\n",
            "[73]\ttraining's rmse: 0.715728\tvalid_1's rmse: 0.762498\n",
            "[74]\ttraining's rmse: 0.715143\tvalid_1's rmse: 0.762759\n",
            "[75]\ttraining's rmse: 0.713846\tvalid_1's rmse: 0.762764\n",
            "[76]\ttraining's rmse: 0.713297\tvalid_1's rmse: 0.762752\n",
            "[77]\ttraining's rmse: 0.712755\tvalid_1's rmse: 0.762652\n",
            "[78]\ttraining's rmse: 0.71214\tvalid_1's rmse: 0.762451\n",
            "[79]\ttraining's rmse: 0.711474\tvalid_1's rmse: 0.763285\n",
            "[80]\ttraining's rmse: 0.71097\tvalid_1's rmse: 0.7632\n",
            "[81]\ttraining's rmse: 0.710256\tvalid_1's rmse: 0.763399\n",
            "[82]\ttraining's rmse: 0.709065\tvalid_1's rmse: 0.763157\n",
            "[83]\ttraining's rmse: 0.708265\tvalid_1's rmse: 0.763154\n",
            "[84]\ttraining's rmse: 0.707761\tvalid_1's rmse: 0.763111\n",
            "[85]\ttraining's rmse: 0.706848\tvalid_1's rmse: 0.763414\n",
            "[86]\ttraining's rmse: 0.706376\tvalid_1's rmse: 0.763499\n",
            "Early stopping, best iteration is:\n",
            "[71]\ttraining's rmse: 0.717109\tvalid_1's rmse: 0.761872\n"
          ],
          "name": "stdout"
        },
        {
          "output_type": "stream",
          "text": [
            "\u001b[32m[I 2021-03-09 16:48:40,565]\u001b[0m Trial 4 finished with value: 0.7618720813048295 and parameters: {'lambda_l1': 3.976201229071882e-07, 'lambda_l2': 1.4412580629649279e-06, 'num_leaves': 244, 'feature_fraction': 0.9528881214659496, 'bagging_fraction': 0.8105203187057941, 'bagging_freq': 7, 'min_child_samples': 88}. Best is trial 2 with value: 0.7601270340623884.\u001b[0m\n"
          ],
          "name": "stderr"
        },
        {
          "output_type": "stream",
          "text": [
            "[1]\ttraining's rmse: 1.19054\tvalid_1's rmse: 1.03549\n",
            "Training until validation scores don't improve for 15 rounds.\n",
            "[2]\ttraining's rmse: 1.14199\tvalid_1's rmse: 0.994379\n",
            "[3]\ttraining's rmse: 1.09932\tvalid_1's rmse: 0.958218\n",
            "[4]\ttraining's rmse: 1.06213\tvalid_1's rmse: 0.928885\n",
            "[5]\ttraining's rmse: 1.02941\tvalid_1's rmse: 0.902016\n",
            "[6]\ttraining's rmse: 1.00056\tvalid_1's rmse: 0.881776\n",
            "[7]\ttraining's rmse: 0.976546\tvalid_1's rmse: 0.863568\n",
            "[8]\ttraining's rmse: 0.955379\tvalid_1's rmse: 0.849457\n",
            "[9]\ttraining's rmse: 0.936975\tvalid_1's rmse: 0.837265\n",
            "[10]\ttraining's rmse: 0.920635\tvalid_1's rmse: 0.825693\n",
            "[11]\ttraining's rmse: 0.906793\tvalid_1's rmse: 0.815829\n",
            "[12]\ttraining's rmse: 0.894962\tvalid_1's rmse: 0.808808\n",
            "[13]\ttraining's rmse: 0.883829\tvalid_1's rmse: 0.803514\n",
            "[14]\ttraining's rmse: 0.874981\tvalid_1's rmse: 0.79745\n",
            "[15]\ttraining's rmse: 0.86637\tvalid_1's rmse: 0.791721\n",
            "[16]\ttraining's rmse: 0.858308\tvalid_1's rmse: 0.788308\n",
            "[17]\ttraining's rmse: 0.851465\tvalid_1's rmse: 0.785085\n",
            "[18]\ttraining's rmse: 0.844491\tvalid_1's rmse: 0.782398\n",
            "[19]\ttraining's rmse: 0.839759\tvalid_1's rmse: 0.780247\n",
            "[20]\ttraining's rmse: 0.83413\tvalid_1's rmse: 0.779021\n",
            "[21]\ttraining's rmse: 0.829322\tvalid_1's rmse: 0.774983\n",
            "[22]\ttraining's rmse: 0.824549\tvalid_1's rmse: 0.773885\n",
            "[23]\ttraining's rmse: 0.820388\tvalid_1's rmse: 0.77309\n",
            "[24]\ttraining's rmse: 0.816731\tvalid_1's rmse: 0.772289\n",
            "[25]\ttraining's rmse: 0.813366\tvalid_1's rmse: 0.771037\n",
            "[26]\ttraining's rmse: 0.809951\tvalid_1's rmse: 0.770639\n",
            "[27]\ttraining's rmse: 0.807226\tvalid_1's rmse: 0.769296\n",
            "[28]\ttraining's rmse: 0.80455\tvalid_1's rmse: 0.76922\n",
            "[29]\ttraining's rmse: 0.801877\tvalid_1's rmse: 0.767879\n",
            "[30]\ttraining's rmse: 0.799359\tvalid_1's rmse: 0.767763\n",
            "[31]\ttraining's rmse: 0.796983\tvalid_1's rmse: 0.767659\n",
            "[32]\ttraining's rmse: 0.79481\tvalid_1's rmse: 0.767449\n",
            "[33]\ttraining's rmse: 0.792458\tvalid_1's rmse: 0.76691\n",
            "[34]\ttraining's rmse: 0.790508\tvalid_1's rmse: 0.76681\n",
            "[35]\ttraining's rmse: 0.788632\tvalid_1's rmse: 0.766819\n",
            "[36]\ttraining's rmse: 0.786803\tvalid_1's rmse: 0.766228\n",
            "[37]\ttraining's rmse: 0.784253\tvalid_1's rmse: 0.765818\n",
            "[38]\ttraining's rmse: 0.782303\tvalid_1's rmse: 0.765845\n",
            "[39]\ttraining's rmse: 0.780855\tvalid_1's rmse: 0.76694\n",
            "[40]\ttraining's rmse: 0.779266\tvalid_1's rmse: 0.766903\n",
            "[41]\ttraining's rmse: 0.777464\tvalid_1's rmse: 0.76588\n",
            "[42]\ttraining's rmse: 0.776018\tvalid_1's rmse: 0.765931\n",
            "[43]\ttraining's rmse: 0.774423\tvalid_1's rmse: 0.766555\n",
            "[44]\ttraining's rmse: 0.772918\tvalid_1's rmse: 0.76638\n",
            "[45]\ttraining's rmse: 0.771645\tvalid_1's rmse: 0.766881\n",
            "[46]\ttraining's rmse: 0.77017\tvalid_1's rmse: 0.766824\n",
            "[47]\ttraining's rmse: 0.768702\tvalid_1's rmse: 0.766606\n",
            "[48]\ttraining's rmse: 0.767385\tvalid_1's rmse: 0.766469\n",
            "[49]\ttraining's rmse: 0.766287\tvalid_1's rmse: 0.766193\n",
            "[50]\ttraining's rmse: 0.765298\tvalid_1's rmse: 0.766491\n",
            "[51]\ttraining's rmse: 0.764139\tvalid_1's rmse: 0.766329\n",
            "[52]\ttraining's rmse: 0.763001\tvalid_1's rmse: 0.766281\n",
            "Early stopping, best iteration is:\n",
            "[37]\ttraining's rmse: 0.784253\tvalid_1's rmse: 0.765818\n"
          ],
          "name": "stdout"
        },
        {
          "output_type": "stream",
          "text": [
            "\u001b[32m[I 2021-03-09 16:49:27,306]\u001b[0m Trial 5 finished with value: 0.7658181322138837 and parameters: {'lambda_l1': 3.3168393947810233, 'lambda_l2': 5.882813456898847, 'num_leaves': 166, 'feature_fraction': 0.6581297774761674, 'bagging_fraction': 0.4966305058024126, 'bagging_freq': 5, 'min_child_samples': 44}. Best is trial 2 with value: 0.7601270340623884.\u001b[0m\n"
          ],
          "name": "stderr"
        },
        {
          "output_type": "stream",
          "text": [
            "[1]\ttraining's rmse: 1.18798\tvalid_1's rmse: 1.034\n",
            "Training until validation scores don't improve for 15 rounds.\n",
            "[2]\ttraining's rmse: 1.14701\tvalid_1's rmse: 1.00535\n",
            "[3]\ttraining's rmse: 1.10491\tvalid_1's rmse: 0.972429\n",
            "[4]\ttraining's rmse: 1.06777\tvalid_1's rmse: 0.942064\n",
            "[5]\ttraining's rmse: 1.03223\tvalid_1's rmse: 0.918096\n",
            "[6]\ttraining's rmse: 1.00171\tvalid_1's rmse: 0.895542\n",
            "[7]\ttraining's rmse: 0.974588\tvalid_1's rmse: 0.876734\n",
            "[8]\ttraining's rmse: 0.951378\tvalid_1's rmse: 0.860792\n",
            "[9]\ttraining's rmse: 0.931091\tvalid_1's rmse: 0.847762\n",
            "[10]\ttraining's rmse: 0.915122\tvalid_1's rmse: 0.838687\n",
            "[11]\ttraining's rmse: 0.899378\tvalid_1's rmse: 0.829693\n",
            "[12]\ttraining's rmse: 0.887508\tvalid_1's rmse: 0.823035\n",
            "[13]\ttraining's rmse: 0.875549\tvalid_1's rmse: 0.817555\n",
            "[14]\ttraining's rmse: 0.866044\tvalid_1's rmse: 0.811672\n",
            "[15]\ttraining's rmse: 0.855246\tvalid_1's rmse: 0.805985\n",
            "[16]\ttraining's rmse: 0.847017\tvalid_1's rmse: 0.800905\n",
            "[17]\ttraining's rmse: 0.838229\tvalid_1's rmse: 0.796303\n",
            "[18]\ttraining's rmse: 0.831936\tvalid_1's rmse: 0.793167\n",
            "[19]\ttraining's rmse: 0.82588\tvalid_1's rmse: 0.791475\n",
            "[20]\ttraining's rmse: 0.819145\tvalid_1's rmse: 0.787276\n",
            "[21]\ttraining's rmse: 0.814625\tvalid_1's rmse: 0.78705\n",
            "[22]\ttraining's rmse: 0.809316\tvalid_1's rmse: 0.78485\n",
            "[23]\ttraining's rmse: 0.804255\tvalid_1's rmse: 0.782896\n",
            "[24]\ttraining's rmse: 0.799574\tvalid_1's rmse: 0.780897\n",
            "[25]\ttraining's rmse: 0.795623\tvalid_1's rmse: 0.778977\n",
            "[26]\ttraining's rmse: 0.790717\tvalid_1's rmse: 0.778401\n",
            "[27]\ttraining's rmse: 0.787219\tvalid_1's rmse: 0.777988\n",
            "[28]\ttraining's rmse: 0.783338\tvalid_1's rmse: 0.777086\n",
            "[29]\ttraining's rmse: 0.779811\tvalid_1's rmse: 0.776386\n",
            "[30]\ttraining's rmse: 0.776915\tvalid_1's rmse: 0.775194\n",
            "[31]\ttraining's rmse: 0.774161\tvalid_1's rmse: 0.774692\n",
            "[32]\ttraining's rmse: 0.771797\tvalid_1's rmse: 0.772791\n",
            "[33]\ttraining's rmse: 0.769362\tvalid_1's rmse: 0.771812\n",
            "[34]\ttraining's rmse: 0.766651\tvalid_1's rmse: 0.771679\n",
            "[35]\ttraining's rmse: 0.764502\tvalid_1's rmse: 0.771931\n",
            "[36]\ttraining's rmse: 0.762627\tvalid_1's rmse: 0.771587\n",
            "[37]\ttraining's rmse: 0.76033\tvalid_1's rmse: 0.771847\n",
            "[38]\ttraining's rmse: 0.758113\tvalid_1's rmse: 0.771717\n",
            "[39]\ttraining's rmse: 0.756407\tvalid_1's rmse: 0.771677\n",
            "[40]\ttraining's rmse: 0.754662\tvalid_1's rmse: 0.770326\n",
            "[41]\ttraining's rmse: 0.752697\tvalid_1's rmse: 0.770109\n",
            "[42]\ttraining's rmse: 0.750902\tvalid_1's rmse: 0.770835\n",
            "[43]\ttraining's rmse: 0.749286\tvalid_1's rmse: 0.771366\n",
            "[44]\ttraining's rmse: 0.747812\tvalid_1's rmse: 0.771689\n",
            "[45]\ttraining's rmse: 0.746157\tvalid_1's rmse: 0.771498\n",
            "[46]\ttraining's rmse: 0.744519\tvalid_1's rmse: 0.771308\n",
            "[47]\ttraining's rmse: 0.743128\tvalid_1's rmse: 0.771646\n",
            "[48]\ttraining's rmse: 0.741783\tvalid_1's rmse: 0.771855\n",
            "[49]\ttraining's rmse: 0.740319\tvalid_1's rmse: 0.772121\n",
            "[50]\ttraining's rmse: 0.739091\tvalid_1's rmse: 0.771971\n",
            "[51]\ttraining's rmse: 0.737314\tvalid_1's rmse: 0.772618\n",
            "[52]\ttraining's rmse: 0.736109\tvalid_1's rmse: 0.771954\n",
            "[53]\ttraining's rmse: 0.735057\tvalid_1's rmse: 0.771309\n",
            "[54]\ttraining's rmse: 0.732872\tvalid_1's rmse: 0.770547\n",
            "[55]\ttraining's rmse: 0.731605\tvalid_1's rmse: 0.770619\n",
            "[56]\ttraining's rmse: 0.730274\tvalid_1's rmse: 0.770459\n",
            "Early stopping, best iteration is:\n",
            "[41]\ttraining's rmse: 0.752697\tvalid_1's rmse: 0.770109\n"
          ],
          "name": "stdout"
        },
        {
          "output_type": "stream",
          "text": [
            "\u001b[32m[I 2021-03-09 16:50:37,012]\u001b[0m Trial 6 finished with value: 0.7701092075657466 and parameters: {'lambda_l1': 0.00011091904542351567, 'lambda_l2': 1.2191886761707696e-05, 'num_leaves': 234, 'feature_fraction': 0.48017979691016865, 'bagging_fraction': 0.8150580892654572, 'bagging_freq': 2, 'min_child_samples': 8}. Best is trial 2 with value: 0.7601270340623884.\u001b[0m\n"
          ],
          "name": "stderr"
        },
        {
          "output_type": "stream",
          "text": [
            "[1]\ttraining's rmse: 1.18916\tvalid_1's rmse: 1.03518\n",
            "Training until validation scores don't improve for 15 rounds.\n",
            "[2]\ttraining's rmse: 1.14025\tvalid_1's rmse: 0.996381\n",
            "[3]\ttraining's rmse: 1.09734\tvalid_1's rmse: 0.959639\n",
            "[4]\ttraining's rmse: 1.05896\tvalid_1's rmse: 0.930571\n",
            "[5]\ttraining's rmse: 1.02516\tvalid_1's rmse: 0.901764\n",
            "[6]\ttraining's rmse: 0.995667\tvalid_1's rmse: 0.879712\n",
            "[7]\ttraining's rmse: 0.970423\tvalid_1's rmse: 0.858695\n",
            "[8]\ttraining's rmse: 0.949743\tvalid_1's rmse: 0.844785\n",
            "[9]\ttraining's rmse: 0.930929\tvalid_1's rmse: 0.831763\n",
            "[10]\ttraining's rmse: 0.913772\tvalid_1's rmse: 0.819378\n",
            "[11]\ttraining's rmse: 0.899081\tvalid_1's rmse: 0.809975\n",
            "[12]\ttraining's rmse: 0.887218\tvalid_1's rmse: 0.803913\n",
            "[13]\ttraining's rmse: 0.875395\tvalid_1's rmse: 0.79745\n",
            "[14]\ttraining's rmse: 0.866312\tvalid_1's rmse: 0.792943\n",
            "[15]\ttraining's rmse: 0.857305\tvalid_1's rmse: 0.788553\n",
            "[16]\ttraining's rmse: 0.849186\tvalid_1's rmse: 0.784207\n",
            "[17]\ttraining's rmse: 0.8418\tvalid_1's rmse: 0.780333\n",
            "[18]\ttraining's rmse: 0.835006\tvalid_1's rmse: 0.777319\n",
            "[19]\ttraining's rmse: 0.829999\tvalid_1's rmse: 0.774969\n",
            "[20]\ttraining's rmse: 0.824876\tvalid_1's rmse: 0.772611\n",
            "[21]\ttraining's rmse: 0.819841\tvalid_1's rmse: 0.770979\n",
            "[22]\ttraining's rmse: 0.815149\tvalid_1's rmse: 0.769944\n",
            "[23]\ttraining's rmse: 0.810606\tvalid_1's rmse: 0.768522\n",
            "[24]\ttraining's rmse: 0.806719\tvalid_1's rmse: 0.767214\n",
            "[25]\ttraining's rmse: 0.802978\tvalid_1's rmse: 0.766385\n",
            "[26]\ttraining's rmse: 0.799239\tvalid_1's rmse: 0.765739\n",
            "[27]\ttraining's rmse: 0.796261\tvalid_1's rmse: 0.764358\n",
            "[28]\ttraining's rmse: 0.793481\tvalid_1's rmse: 0.763908\n",
            "[29]\ttraining's rmse: 0.790815\tvalid_1's rmse: 0.763263\n",
            "[30]\ttraining's rmse: 0.78872\tvalid_1's rmse: 0.763425\n",
            "[31]\ttraining's rmse: 0.785924\tvalid_1's rmse: 0.763214\n",
            "[32]\ttraining's rmse: 0.782467\tvalid_1's rmse: 0.763217\n",
            "[33]\ttraining's rmse: 0.779438\tvalid_1's rmse: 0.762876\n",
            "[34]\ttraining's rmse: 0.777114\tvalid_1's rmse: 0.762118\n",
            "[35]\ttraining's rmse: 0.774574\tvalid_1's rmse: 0.761831\n",
            "[36]\ttraining's rmse: 0.772259\tvalid_1's rmse: 0.761584\n",
            "[37]\ttraining's rmse: 0.770545\tvalid_1's rmse: 0.760927\n",
            "[38]\ttraining's rmse: 0.769231\tvalid_1's rmse: 0.760373\n",
            "[39]\ttraining's rmse: 0.76749\tvalid_1's rmse: 0.761072\n",
            "[40]\ttraining's rmse: 0.765869\tvalid_1's rmse: 0.761214\n",
            "[41]\ttraining's rmse: 0.76406\tvalid_1's rmse: 0.760642\n",
            "[42]\ttraining's rmse: 0.762503\tvalid_1's rmse: 0.760742\n",
            "[43]\ttraining's rmse: 0.760436\tvalid_1's rmse: 0.761469\n",
            "[44]\ttraining's rmse: 0.758934\tvalid_1's rmse: 0.761396\n",
            "[45]\ttraining's rmse: 0.756964\tvalid_1's rmse: 0.762064\n",
            "[46]\ttraining's rmse: 0.755335\tvalid_1's rmse: 0.761725\n",
            "[47]\ttraining's rmse: 0.753537\tvalid_1's rmse: 0.761634\n",
            "[48]\ttraining's rmse: 0.752386\tvalid_1's rmse: 0.761525\n",
            "[49]\ttraining's rmse: 0.750924\tvalid_1's rmse: 0.761512\n",
            "[50]\ttraining's rmse: 0.749875\tvalid_1's rmse: 0.76142\n",
            "[51]\ttraining's rmse: 0.748752\tvalid_1's rmse: 0.761006\n",
            "[52]\ttraining's rmse: 0.747736\tvalid_1's rmse: 0.761199\n",
            "[53]\ttraining's rmse: 0.746916\tvalid_1's rmse: 0.760991\n",
            "Early stopping, best iteration is:\n",
            "[38]\ttraining's rmse: 0.769231\tvalid_1's rmse: 0.760373\n"
          ],
          "name": "stdout"
        },
        {
          "output_type": "stream",
          "text": [
            "\u001b[32m[I 2021-03-09 16:51:19,409]\u001b[0m Trial 7 finished with value: 0.7603728184896887 and parameters: {'lambda_l1': 1.038884232521601e-05, 'lambda_l2': 7.013001325568332e-05, 'num_leaves': 177, 'feature_fraction': 0.6383411615169531, 'bagging_fraction': 0.44797807485213675, 'bagging_freq': 6, 'min_child_samples': 10}. Best is trial 2 with value: 0.7601270340623884.\u001b[0m\n"
          ],
          "name": "stderr"
        },
        {
          "output_type": "stream",
          "text": [
            "[1]\ttraining's rmse: 1.18977\tvalid_1's rmse: 1.03497\n",
            "Training until validation scores don't improve for 15 rounds.\n",
            "[2]\ttraining's rmse: 1.14085\tvalid_1's rmse: 0.992897\n",
            "[3]\ttraining's rmse: 1.09708\tvalid_1's rmse: 0.956301\n",
            "[4]\ttraining's rmse: 1.05975\tvalid_1's rmse: 0.928693\n",
            "[5]\ttraining's rmse: 1.0275\tvalid_1's rmse: 0.905586\n",
            "[6]\ttraining's rmse: 0.99882\tvalid_1's rmse: 0.886359\n",
            "[7]\ttraining's rmse: 0.974397\tvalid_1's rmse: 0.867801\n",
            "[8]\ttraining's rmse: 0.953156\tvalid_1's rmse: 0.85239\n",
            "[9]\ttraining's rmse: 0.934978\tvalid_1's rmse: 0.840594\n",
            "[10]\ttraining's rmse: 0.918249\tvalid_1's rmse: 0.82959\n",
            "[11]\ttraining's rmse: 0.903996\tvalid_1's rmse: 0.821989\n",
            "[12]\ttraining's rmse: 0.892181\tvalid_1's rmse: 0.815233\n",
            "[13]\ttraining's rmse: 0.881733\tvalid_1's rmse: 0.809675\n",
            "[14]\ttraining's rmse: 0.873387\tvalid_1's rmse: 0.804682\n",
            "[15]\ttraining's rmse: 0.86458\tvalid_1's rmse: 0.801495\n",
            "[16]\ttraining's rmse: 0.856419\tvalid_1's rmse: 0.795877\n",
            "[17]\ttraining's rmse: 0.849007\tvalid_1's rmse: 0.792775\n",
            "[18]\ttraining's rmse: 0.842374\tvalid_1's rmse: 0.790011\n",
            "[19]\ttraining's rmse: 0.837704\tvalid_1's rmse: 0.78872\n",
            "[20]\ttraining's rmse: 0.832606\tvalid_1's rmse: 0.786701\n",
            "[21]\ttraining's rmse: 0.827569\tvalid_1's rmse: 0.783868\n",
            "[22]\ttraining's rmse: 0.822819\tvalid_1's rmse: 0.78259\n",
            "[23]\ttraining's rmse: 0.818838\tvalid_1's rmse: 0.780678\n",
            "[24]\ttraining's rmse: 0.815269\tvalid_1's rmse: 0.779671\n",
            "[25]\ttraining's rmse: 0.811187\tvalid_1's rmse: 0.779532\n",
            "[26]\ttraining's rmse: 0.807894\tvalid_1's rmse: 0.779358\n",
            "[27]\ttraining's rmse: 0.804836\tvalid_1's rmse: 0.778254\n",
            "[28]\ttraining's rmse: 0.802322\tvalid_1's rmse: 0.777681\n",
            "[29]\ttraining's rmse: 0.799677\tvalid_1's rmse: 0.776811\n",
            "[30]\ttraining's rmse: 0.797471\tvalid_1's rmse: 0.776645\n",
            "[31]\ttraining's rmse: 0.795167\tvalid_1's rmse: 0.775382\n",
            "[32]\ttraining's rmse: 0.793018\tvalid_1's rmse: 0.774838\n",
            "[33]\ttraining's rmse: 0.790789\tvalid_1's rmse: 0.774883\n",
            "[34]\ttraining's rmse: 0.788895\tvalid_1's rmse: 0.774249\n",
            "[35]\ttraining's rmse: 0.787159\tvalid_1's rmse: 0.773952\n",
            "[36]\ttraining's rmse: 0.785229\tvalid_1's rmse: 0.773924\n",
            "[37]\ttraining's rmse: 0.78313\tvalid_1's rmse: 0.773911\n",
            "[38]\ttraining's rmse: 0.781509\tvalid_1's rmse: 0.77349\n",
            "[39]\ttraining's rmse: 0.779916\tvalid_1's rmse: 0.772437\n",
            "[40]\ttraining's rmse: 0.777813\tvalid_1's rmse: 0.770435\n",
            "[41]\ttraining's rmse: 0.775598\tvalid_1's rmse: 0.769797\n",
            "[42]\ttraining's rmse: 0.774234\tvalid_1's rmse: 0.769929\n",
            "[43]\ttraining's rmse: 0.772741\tvalid_1's rmse: 0.769727\n",
            "[44]\ttraining's rmse: 0.771508\tvalid_1's rmse: 0.769734\n",
            "[45]\ttraining's rmse: 0.770394\tvalid_1's rmse: 0.769109\n",
            "[46]\ttraining's rmse: 0.769038\tvalid_1's rmse: 0.768856\n",
            "[47]\ttraining's rmse: 0.767613\tvalid_1's rmse: 0.767548\n",
            "[48]\ttraining's rmse: 0.76616\tvalid_1's rmse: 0.767377\n",
            "[49]\ttraining's rmse: 0.764533\tvalid_1's rmse: 0.767522\n",
            "[50]\ttraining's rmse: 0.762563\tvalid_1's rmse: 0.767734\n",
            "[51]\ttraining's rmse: 0.761057\tvalid_1's rmse: 0.767703\n",
            "[52]\ttraining's rmse: 0.759731\tvalid_1's rmse: 0.767774\n",
            "[53]\ttraining's rmse: 0.758792\tvalid_1's rmse: 0.768015\n",
            "[54]\ttraining's rmse: 0.757332\tvalid_1's rmse: 0.767967\n",
            "[55]\ttraining's rmse: 0.755761\tvalid_1's rmse: 0.767003\n",
            "[56]\ttraining's rmse: 0.754503\tvalid_1's rmse: 0.766883\n",
            "[57]\ttraining's rmse: 0.753425\tvalid_1's rmse: 0.767872\n",
            "[58]\ttraining's rmse: 0.752392\tvalid_1's rmse: 0.76756\n",
            "[59]\ttraining's rmse: 0.751054\tvalid_1's rmse: 0.7671\n",
            "[60]\ttraining's rmse: 0.749719\tvalid_1's rmse: 0.766179\n",
            "[61]\ttraining's rmse: 0.748565\tvalid_1's rmse: 0.766066\n",
            "[62]\ttraining's rmse: 0.747655\tvalid_1's rmse: 0.7663\n",
            "[63]\ttraining's rmse: 0.746047\tvalid_1's rmse: 0.766299\n",
            "[64]\ttraining's rmse: 0.745152\tvalid_1's rmse: 0.768047\n",
            "[65]\ttraining's rmse: 0.744334\tvalid_1's rmse: 0.768057\n",
            "[66]\ttraining's rmse: 0.743438\tvalid_1's rmse: 0.768205\n",
            "[67]\ttraining's rmse: 0.742646\tvalid_1's rmse: 0.768036\n",
            "[68]\ttraining's rmse: 0.741966\tvalid_1's rmse: 0.767591\n",
            "[69]\ttraining's rmse: 0.741342\tvalid_1's rmse: 0.767897\n",
            "[70]\ttraining's rmse: 0.740639\tvalid_1's rmse: 0.767771\n",
            "[71]\ttraining's rmse: 0.739721\tvalid_1's rmse: 0.767452\n",
            "[72]\ttraining's rmse: 0.738864\tvalid_1's rmse: 0.76737\n",
            "[73]\ttraining's rmse: 0.738131\tvalid_1's rmse: 0.767898\n",
            "[74]\ttraining's rmse: 0.737589\tvalid_1's rmse: 0.767707\n",
            "[75]\ttraining's rmse: 0.736766\tvalid_1's rmse: 0.767534\n",
            "[76]\ttraining's rmse: 0.736128\tvalid_1's rmse: 0.767552\n",
            "Early stopping, best iteration is:\n",
            "[61]\ttraining's rmse: 0.748565\tvalid_1's rmse: 0.766066\n"
          ],
          "name": "stdout"
        },
        {
          "output_type": "stream",
          "text": [
            "\u001b[32m[I 2021-03-09 16:53:05,940]\u001b[0m Trial 8 finished with value: 0.7660882190448881 and parameters: {'lambda_l1': 0.018399074468877136, 'lambda_l2': 0.024892193114694365, 'num_leaves': 160, 'feature_fraction': 0.6956432083978805, 'bagging_fraction': 0.9339439891573593, 'bagging_freq': 5, 'min_child_samples': 100}. Best is trial 2 with value: 0.7601270340623884.\u001b[0m\n"
          ],
          "name": "stderr"
        },
        {
          "output_type": "stream",
          "text": [
            "[1]\ttraining's rmse: 1.18658\tvalid_1's rmse: 1.0327\n",
            "Training until validation scores don't improve for 15 rounds.\n",
            "[2]\ttraining's rmse: 1.13412\tvalid_1's rmse: 0.991375\n",
            "[3]\ttraining's rmse: 1.08882\tvalid_1's rmse: 0.955469\n",
            "[4]\ttraining's rmse: 1.05041\tvalid_1's rmse: 0.924417\n",
            "[5]\ttraining's rmse: 1.01628\tvalid_1's rmse: 0.899292\n",
            "[6]\ttraining's rmse: 0.986343\tvalid_1's rmse: 0.878279\n",
            "[7]\ttraining's rmse: 0.960574\tvalid_1's rmse: 0.85929\n",
            "[8]\ttraining's rmse: 0.938115\tvalid_1's rmse: 0.84367\n",
            "[9]\ttraining's rmse: 0.918581\tvalid_1's rmse: 0.832035\n",
            "[10]\ttraining's rmse: 0.901194\tvalid_1's rmse: 0.819849\n",
            "[11]\ttraining's rmse: 0.886697\tvalid_1's rmse: 0.810953\n",
            "[12]\ttraining's rmse: 0.874074\tvalid_1's rmse: 0.802965\n",
            "[13]\ttraining's rmse: 0.862512\tvalid_1's rmse: 0.797199\n",
            "[14]\ttraining's rmse: 0.852855\tvalid_1's rmse: 0.792113\n",
            "[15]\ttraining's rmse: 0.844183\tvalid_1's rmse: 0.789059\n",
            "[16]\ttraining's rmse: 0.836184\tvalid_1's rmse: 0.785609\n",
            "[17]\ttraining's rmse: 0.828745\tvalid_1's rmse: 0.781282\n",
            "[18]\ttraining's rmse: 0.822254\tvalid_1's rmse: 0.777495\n",
            "[19]\ttraining's rmse: 0.816723\tvalid_1's rmse: 0.775884\n",
            "[20]\ttraining's rmse: 0.811553\tvalid_1's rmse: 0.77354\n",
            "[21]\ttraining's rmse: 0.80611\tvalid_1's rmse: 0.771695\n",
            "[22]\ttraining's rmse: 0.801189\tvalid_1's rmse: 0.770369\n",
            "[23]\ttraining's rmse: 0.797181\tvalid_1's rmse: 0.768319\n",
            "[24]\ttraining's rmse: 0.792968\tvalid_1's rmse: 0.767476\n",
            "[25]\ttraining's rmse: 0.789144\tvalid_1's rmse: 0.766994\n",
            "[26]\ttraining's rmse: 0.786024\tvalid_1's rmse: 0.766214\n",
            "[27]\ttraining's rmse: 0.783071\tvalid_1's rmse: 0.765606\n",
            "[28]\ttraining's rmse: 0.780186\tvalid_1's rmse: 0.765284\n",
            "[29]\ttraining's rmse: 0.777688\tvalid_1's rmse: 0.765023\n",
            "[30]\ttraining's rmse: 0.775297\tvalid_1's rmse: 0.764531\n",
            "[31]\ttraining's rmse: 0.773123\tvalid_1's rmse: 0.763948\n",
            "[32]\ttraining's rmse: 0.770933\tvalid_1's rmse: 0.764022\n",
            "[33]\ttraining's rmse: 0.768359\tvalid_1's rmse: 0.763856\n",
            "[34]\ttraining's rmse: 0.765915\tvalid_1's rmse: 0.763331\n",
            "[35]\ttraining's rmse: 0.763562\tvalid_1's rmse: 0.763182\n",
            "[36]\ttraining's rmse: 0.761719\tvalid_1's rmse: 0.762952\n",
            "[37]\ttraining's rmse: 0.758796\tvalid_1's rmse: 0.763109\n",
            "[38]\ttraining's rmse: 0.756243\tvalid_1's rmse: 0.763954\n",
            "[39]\ttraining's rmse: 0.754415\tvalid_1's rmse: 0.763937\n",
            "[40]\ttraining's rmse: 0.752883\tvalid_1's rmse: 0.764279\n",
            "[41]\ttraining's rmse: 0.750006\tvalid_1's rmse: 0.764175\n",
            "[42]\ttraining's rmse: 0.748522\tvalid_1's rmse: 0.762363\n",
            "[43]\ttraining's rmse: 0.74693\tvalid_1's rmse: 0.762432\n",
            "[44]\ttraining's rmse: 0.745617\tvalid_1's rmse: 0.762618\n",
            "[45]\ttraining's rmse: 0.744113\tvalid_1's rmse: 0.762496\n",
            "[46]\ttraining's rmse: 0.742604\tvalid_1's rmse: 0.762273\n",
            "[47]\ttraining's rmse: 0.741031\tvalid_1's rmse: 0.762023\n",
            "[48]\ttraining's rmse: 0.739917\tvalid_1's rmse: 0.761902\n",
            "[49]\ttraining's rmse: 0.73853\tvalid_1's rmse: 0.762332\n",
            "[50]\ttraining's rmse: 0.737095\tvalid_1's rmse: 0.762457\n",
            "[51]\ttraining's rmse: 0.735941\tvalid_1's rmse: 0.762789\n",
            "[52]\ttraining's rmse: 0.734738\tvalid_1's rmse: 0.762762\n",
            "[53]\ttraining's rmse: 0.733844\tvalid_1's rmse: 0.762875\n",
            "[54]\ttraining's rmse: 0.732602\tvalid_1's rmse: 0.762762\n",
            "[55]\ttraining's rmse: 0.731472\tvalid_1's rmse: 0.763171\n",
            "[56]\ttraining's rmse: 0.730287\tvalid_1's rmse: 0.763402\n",
            "[57]\ttraining's rmse: 0.729362\tvalid_1's rmse: 0.763212\n",
            "[58]\ttraining's rmse: 0.728149\tvalid_1's rmse: 0.762961\n",
            "[59]\ttraining's rmse: 0.727121\tvalid_1's rmse: 0.763042\n",
            "[60]\ttraining's rmse: 0.725841\tvalid_1's rmse: 0.763334\n",
            "[61]\ttraining's rmse: 0.725108\tvalid_1's rmse: 0.763452\n",
            "[62]\ttraining's rmse: 0.724142\tvalid_1's rmse: 0.763496\n",
            "[63]\ttraining's rmse: 0.723034\tvalid_1's rmse: 0.763648\n",
            "Early stopping, best iteration is:\n",
            "[48]\ttraining's rmse: 0.739917\tvalid_1's rmse: 0.761902\n"
          ],
          "name": "stdout"
        },
        {
          "output_type": "stream",
          "text": [
            "\u001b[32m[I 2021-03-09 16:54:48,508]\u001b[0m Trial 9 finished with value: 0.7619021931963327 and parameters: {'lambda_l1': 1.3597963829255162, 'lambda_l2': 4.1763261584303534e-05, 'num_leaves': 250, 'feature_fraction': 0.7851207528329275, 'bagging_fraction': 0.8474578772643777, 'bagging_freq': 5, 'min_child_samples': 72}. Best is trial 2 with value: 0.7601270340623884.\u001b[0m\n"
          ],
          "name": "stderr"
        },
        {
          "output_type": "stream",
          "text": [
            "[1]\ttraining's rmse: 1.21231\tvalid_1's rmse: 1.05497\n",
            "Training until validation scores don't improve for 15 rounds.\n",
            "[2]\ttraining's rmse: 1.1829\tvalid_1's rmse: 1.03126\n",
            "[3]\ttraining's rmse: 1.15729\tvalid_1's rmse: 1.0108\n",
            "[4]\ttraining's rmse: 1.13608\tvalid_1's rmse: 0.994514\n",
            "[5]\ttraining's rmse: 1.11715\tvalid_1's rmse: 0.978898\n",
            "[6]\ttraining's rmse: 1.10135\tvalid_1's rmse: 0.967661\n",
            "[7]\ttraining's rmse: 1.08741\tvalid_1's rmse: 0.95742\n",
            "[8]\ttraining's rmse: 1.07515\tvalid_1's rmse: 0.948732\n",
            "[9]\ttraining's rmse: 1.06488\tvalid_1's rmse: 0.941411\n",
            "[10]\ttraining's rmse: 1.05571\tvalid_1's rmse: 0.934566\n",
            "[11]\ttraining's rmse: 1.04744\tvalid_1's rmse: 0.928094\n",
            "[12]\ttraining's rmse: 1.03902\tvalid_1's rmse: 0.921545\n",
            "[13]\ttraining's rmse: 1.03232\tvalid_1's rmse: 0.917415\n",
            "[14]\ttraining's rmse: 1.02645\tvalid_1's rmse: 0.911133\n",
            "[15]\ttraining's rmse: 1.01999\tvalid_1's rmse: 0.906235\n",
            "[16]\ttraining's rmse: 1.01467\tvalid_1's rmse: 0.901197\n",
            "[17]\ttraining's rmse: 1.00936\tvalid_1's rmse: 0.897264\n",
            "[18]\ttraining's rmse: 1.005\tvalid_1's rmse: 0.894427\n",
            "[19]\ttraining's rmse: 1.00046\tvalid_1's rmse: 0.890512\n",
            "[20]\ttraining's rmse: 0.996754\tvalid_1's rmse: 0.887237\n",
            "[21]\ttraining's rmse: 0.992171\tvalid_1's rmse: 0.882287\n",
            "[22]\ttraining's rmse: 0.989322\tvalid_1's rmse: 0.879468\n",
            "[23]\ttraining's rmse: 0.985839\tvalid_1's rmse: 0.876408\n",
            "[24]\ttraining's rmse: 0.983394\tvalid_1's rmse: 0.875016\n",
            "[25]\ttraining's rmse: 0.981006\tvalid_1's rmse: 0.872628\n",
            "[26]\ttraining's rmse: 0.978674\tvalid_1's rmse: 0.870142\n",
            "[27]\ttraining's rmse: 0.976517\tvalid_1's rmse: 0.869652\n",
            "[28]\ttraining's rmse: 0.97411\tvalid_1's rmse: 0.867322\n",
            "[29]\ttraining's rmse: 0.972453\tvalid_1's rmse: 0.865066\n",
            "[30]\ttraining's rmse: 0.970305\tvalid_1's rmse: 0.863458\n",
            "[31]\ttraining's rmse: 0.968489\tvalid_1's rmse: 0.862153\n",
            "[32]\ttraining's rmse: 0.967185\tvalid_1's rmse: 0.860972\n",
            "[33]\ttraining's rmse: 0.96546\tvalid_1's rmse: 0.85974\n",
            "[34]\ttraining's rmse: 0.963905\tvalid_1's rmse: 0.858377\n",
            "[35]\ttraining's rmse: 0.96272\tvalid_1's rmse: 0.857296\n",
            "[36]\ttraining's rmse: 0.961723\tvalid_1's rmse: 0.856759\n",
            "[37]\ttraining's rmse: 0.960456\tvalid_1's rmse: 0.855186\n",
            "[38]\ttraining's rmse: 0.95933\tvalid_1's rmse: 0.855031\n",
            "[39]\ttraining's rmse: 0.958247\tvalid_1's rmse: 0.854096\n",
            "[40]\ttraining's rmse: 0.955362\tvalid_1's rmse: 0.850014\n",
            "[41]\ttraining's rmse: 0.954641\tvalid_1's rmse: 0.849357\n",
            "[42]\ttraining's rmse: 0.953954\tvalid_1's rmse: 0.849035\n",
            "[43]\ttraining's rmse: 0.952919\tvalid_1's rmse: 0.848484\n",
            "[44]\ttraining's rmse: 0.951874\tvalid_1's rmse: 0.848278\n",
            "[45]\ttraining's rmse: 0.949384\tvalid_1's rmse: 0.844449\n",
            "[46]\ttraining's rmse: 0.948472\tvalid_1's rmse: 0.843934\n",
            "[47]\ttraining's rmse: 0.947714\tvalid_1's rmse: 0.840975\n",
            "[48]\ttraining's rmse: 0.945709\tvalid_1's rmse: 0.838374\n",
            "[49]\ttraining's rmse: 0.944833\tvalid_1's rmse: 0.83792\n",
            "[50]\ttraining's rmse: 0.944412\tvalid_1's rmse: 0.837102\n",
            "[51]\ttraining's rmse: 0.943574\tvalid_1's rmse: 0.836418\n",
            "[52]\ttraining's rmse: 0.94274\tvalid_1's rmse: 0.836088\n",
            "[53]\ttraining's rmse: 0.941306\tvalid_1's rmse: 0.834484\n",
            "[54]\ttraining's rmse: 0.940815\tvalid_1's rmse: 0.833897\n",
            "[55]\ttraining's rmse: 0.940081\tvalid_1's rmse: 0.833871\n",
            "[56]\ttraining's rmse: 0.939114\tvalid_1's rmse: 0.833713\n",
            "[57]\ttraining's rmse: 0.938764\tvalid_1's rmse: 0.833586\n",
            "[58]\ttraining's rmse: 0.938333\tvalid_1's rmse: 0.832854\n",
            "[59]\ttraining's rmse: 0.93774\tvalid_1's rmse: 0.832327\n",
            "[60]\ttraining's rmse: 0.936973\tvalid_1's rmse: 0.831688\n",
            "[61]\ttraining's rmse: 0.936689\tvalid_1's rmse: 0.831155\n",
            "[62]\ttraining's rmse: 0.935285\tvalid_1's rmse: 0.829443\n",
            "[63]\ttraining's rmse: 0.934939\tvalid_1's rmse: 0.829191\n",
            "[64]\ttraining's rmse: 0.934587\tvalid_1's rmse: 0.828907\n",
            "[65]\ttraining's rmse: 0.933923\tvalid_1's rmse: 0.828225\n",
            "[66]\ttraining's rmse: 0.933545\tvalid_1's rmse: 0.827807\n",
            "[67]\ttraining's rmse: 0.932457\tvalid_1's rmse: 0.826374\n",
            "[68]\ttraining's rmse: 0.93197\tvalid_1's rmse: 0.825882\n",
            "[69]\ttraining's rmse: 0.931419\tvalid_1's rmse: 0.825862\n",
            "[70]\ttraining's rmse: 0.930403\tvalid_1's rmse: 0.823083\n",
            "[71]\ttraining's rmse: 0.92976\tvalid_1's rmse: 0.82318\n",
            "[72]\ttraining's rmse: 0.929254\tvalid_1's rmse: 0.823186\n",
            "[73]\ttraining's rmse: 0.928861\tvalid_1's rmse: 0.822808\n",
            "[74]\ttraining's rmse: 0.928206\tvalid_1's rmse: 0.822809\n",
            "[75]\ttraining's rmse: 0.927664\tvalid_1's rmse: 0.822793\n",
            "[76]\ttraining's rmse: 0.926893\tvalid_1's rmse: 0.821315\n",
            "[77]\ttraining's rmse: 0.92644\tvalid_1's rmse: 0.820944\n",
            "[78]\ttraining's rmse: 0.926045\tvalid_1's rmse: 0.820699\n",
            "[79]\ttraining's rmse: 0.924984\tvalid_1's rmse: 0.81971\n",
            "[80]\ttraining's rmse: 0.924769\tvalid_1's rmse: 0.819538\n",
            "[81]\ttraining's rmse: 0.924247\tvalid_1's rmse: 0.819435\n",
            "[82]\ttraining's rmse: 0.923174\tvalid_1's rmse: 0.818322\n",
            "[83]\ttraining's rmse: 0.922678\tvalid_1's rmse: 0.818051\n",
            "[84]\ttraining's rmse: 0.92224\tvalid_1's rmse: 0.818038\n",
            "[85]\ttraining's rmse: 0.921917\tvalid_1's rmse: 0.818406\n",
            "[86]\ttraining's rmse: 0.921376\tvalid_1's rmse: 0.817797\n",
            "[87]\ttraining's rmse: 0.920938\tvalid_1's rmse: 0.817115\n",
            "[88]\ttraining's rmse: 0.92061\tvalid_1's rmse: 0.816554\n",
            "[89]\ttraining's rmse: 0.920157\tvalid_1's rmse: 0.816238\n",
            "[90]\ttraining's rmse: 0.919443\tvalid_1's rmse: 0.815328\n",
            "[91]\ttraining's rmse: 0.918994\tvalid_1's rmse: 0.815266\n",
            "[92]\ttraining's rmse: 0.91866\tvalid_1's rmse: 0.814971\n",
            "[93]\ttraining's rmse: 0.918234\tvalid_1's rmse: 0.814618\n",
            "[94]\ttraining's rmse: 0.917955\tvalid_1's rmse: 0.814033\n",
            "[95]\ttraining's rmse: 0.917484\tvalid_1's rmse: 0.814007\n",
            "[96]\ttraining's rmse: 0.917033\tvalid_1's rmse: 0.813363\n",
            "[97]\ttraining's rmse: 0.916817\tvalid_1's rmse: 0.813134\n",
            "[98]\ttraining's rmse: 0.916611\tvalid_1's rmse: 0.813197\n",
            "[99]\ttraining's rmse: 0.916274\tvalid_1's rmse: 0.813497\n",
            "[100]\ttraining's rmse: 0.915892\tvalid_1's rmse: 0.812996\n",
            "Did not meet early stopping. Best iteration is:\n",
            "[100]\ttraining's rmse: 0.915892\tvalid_1's rmse: 0.812996\n"
          ],
          "name": "stdout"
        },
        {
          "output_type": "stream",
          "text": [
            "\u001b[32m[I 2021-03-09 16:55:45,520]\u001b[0m Trial 10 finished with value: 0.8129956566995753 and parameters: {'lambda_l1': 1.0975437448945578e-08, 'lambda_l2': 8.69477860427203e-08, 'num_leaves': 4, 'feature_fraction': 0.9988370095551754, 'bagging_fraction': 0.6495708009019985, 'bagging_freq': 7, 'min_child_samples': 27}. Best is trial 2 with value: 0.7601270340623884.\u001b[0m\n"
          ],
          "name": "stderr"
        },
        {
          "output_type": "stream",
          "text": [
            "[1]\ttraining's rmse: 1.1887\tvalid_1's rmse: 1.03386\n",
            "Training until validation scores don't improve for 15 rounds.\n",
            "[2]\ttraining's rmse: 1.14903\tvalid_1's rmse: 1.00485\n",
            "[3]\ttraining's rmse: 1.10507\tvalid_1's rmse: 0.96901\n",
            "[4]\ttraining's rmse: 1.06622\tvalid_1's rmse: 0.93931\n",
            "[5]\ttraining's rmse: 1.03164\tvalid_1's rmse: 0.916302\n",
            "[6]\ttraining's rmse: 1.00071\tvalid_1's rmse: 0.894203\n",
            "[7]\ttraining's rmse: 0.97469\tvalid_1's rmse: 0.874591\n",
            "[8]\ttraining's rmse: 0.952362\tvalid_1's rmse: 0.859201\n",
            "[9]\ttraining's rmse: 0.93318\tvalid_1's rmse: 0.847984\n",
            "[10]\ttraining's rmse: 0.916922\tvalid_1's rmse: 0.836911\n",
            "[11]\ttraining's rmse: 0.902684\tvalid_1's rmse: 0.828584\n",
            "[12]\ttraining's rmse: 0.890814\tvalid_1's rmse: 0.820421\n",
            "[13]\ttraining's rmse: 0.877646\tvalid_1's rmse: 0.81374\n",
            "[14]\ttraining's rmse: 0.868424\tvalid_1's rmse: 0.809202\n",
            "[15]\ttraining's rmse: 0.8584\tvalid_1's rmse: 0.803951\n",
            "[16]\ttraining's rmse: 0.850202\tvalid_1's rmse: 0.80101\n",
            "[17]\ttraining's rmse: 0.842009\tvalid_1's rmse: 0.796774\n",
            "[18]\ttraining's rmse: 0.834926\tvalid_1's rmse: 0.793373\n",
            "[19]\ttraining's rmse: 0.829017\tvalid_1's rmse: 0.791587\n",
            "[20]\ttraining's rmse: 0.82304\tvalid_1's rmse: 0.789672\n",
            "[21]\ttraining's rmse: 0.818053\tvalid_1's rmse: 0.788573\n",
            "[22]\ttraining's rmse: 0.812798\tvalid_1's rmse: 0.784996\n",
            "[23]\ttraining's rmse: 0.808797\tvalid_1's rmse: 0.782591\n",
            "[24]\ttraining's rmse: 0.804582\tvalid_1's rmse: 0.781916\n",
            "[25]\ttraining's rmse: 0.800823\tvalid_1's rmse: 0.780162\n",
            "[26]\ttraining's rmse: 0.797523\tvalid_1's rmse: 0.77951\n",
            "[27]\ttraining's rmse: 0.794137\tvalid_1's rmse: 0.778135\n",
            "[28]\ttraining's rmse: 0.791421\tvalid_1's rmse: 0.777681\n",
            "[29]\ttraining's rmse: 0.787874\tvalid_1's rmse: 0.777513\n",
            "[30]\ttraining's rmse: 0.784863\tvalid_1's rmse: 0.777847\n",
            "[31]\ttraining's rmse: 0.782466\tvalid_1's rmse: 0.777929\n",
            "[32]\ttraining's rmse: 0.779399\tvalid_1's rmse: 0.777742\n",
            "[33]\ttraining's rmse: 0.777099\tvalid_1's rmse: 0.776887\n",
            "[34]\ttraining's rmse: 0.774641\tvalid_1's rmse: 0.776082\n",
            "[35]\ttraining's rmse: 0.772731\tvalid_1's rmse: 0.776021\n",
            "[36]\ttraining's rmse: 0.771037\tvalid_1's rmse: 0.775585\n",
            "[37]\ttraining's rmse: 0.768411\tvalid_1's rmse: 0.775334\n",
            "[38]\ttraining's rmse: 0.766836\tvalid_1's rmse: 0.775191\n",
            "[39]\ttraining's rmse: 0.765312\tvalid_1's rmse: 0.775052\n",
            "[40]\ttraining's rmse: 0.764023\tvalid_1's rmse: 0.775505\n",
            "[41]\ttraining's rmse: 0.76261\tvalid_1's rmse: 0.774984\n",
            "[42]\ttraining's rmse: 0.761058\tvalid_1's rmse: 0.77492\n",
            "[43]\ttraining's rmse: 0.759006\tvalid_1's rmse: 0.7754\n",
            "[44]\ttraining's rmse: 0.757529\tvalid_1's rmse: 0.774636\n",
            "[45]\ttraining's rmse: 0.756011\tvalid_1's rmse: 0.774642\n",
            "[46]\ttraining's rmse: 0.754606\tvalid_1's rmse: 0.774474\n",
            "[47]\ttraining's rmse: 0.753297\tvalid_1's rmse: 0.774441\n",
            "[48]\ttraining's rmse: 0.751981\tvalid_1's rmse: 0.774551\n",
            "[49]\ttraining's rmse: 0.750059\tvalid_1's rmse: 0.774299\n",
            "[50]\ttraining's rmse: 0.748749\tvalid_1's rmse: 0.774363\n",
            "[51]\ttraining's rmse: 0.747451\tvalid_1's rmse: 0.77418\n",
            "[52]\ttraining's rmse: 0.74635\tvalid_1's rmse: 0.774895\n",
            "[53]\ttraining's rmse: 0.745225\tvalid_1's rmse: 0.774934\n",
            "[54]\ttraining's rmse: 0.744008\tvalid_1's rmse: 0.775103\n",
            "[55]\ttraining's rmse: 0.742611\tvalid_1's rmse: 0.77509\n",
            "[56]\ttraining's rmse: 0.74145\tvalid_1's rmse: 0.774768\n",
            "[57]\ttraining's rmse: 0.740322\tvalid_1's rmse: 0.774749\n",
            "[58]\ttraining's rmse: 0.738408\tvalid_1's rmse: 0.774741\n",
            "[59]\ttraining's rmse: 0.737291\tvalid_1's rmse: 0.774369\n",
            "[60]\ttraining's rmse: 0.736506\tvalid_1's rmse: 0.774126\n",
            "[61]\ttraining's rmse: 0.734984\tvalid_1's rmse: 0.774382\n",
            "[62]\ttraining's rmse: 0.733867\tvalid_1's rmse: 0.774154\n",
            "[63]\ttraining's rmse: 0.732887\tvalid_1's rmse: 0.773938\n",
            "[64]\ttraining's rmse: 0.731637\tvalid_1's rmse: 0.775034\n",
            "[65]\ttraining's rmse: 0.73035\tvalid_1's rmse: 0.774854\n",
            "[66]\ttraining's rmse: 0.729275\tvalid_1's rmse: 0.775308\n",
            "[67]\ttraining's rmse: 0.72814\tvalid_1's rmse: 0.776717\n",
            "[68]\ttraining's rmse: 0.727148\tvalid_1's rmse: 0.776575\n",
            "[69]\ttraining's rmse: 0.726442\tvalid_1's rmse: 0.776627\n",
            "[70]\ttraining's rmse: 0.725663\tvalid_1's rmse: 0.776933\n",
            "[71]\ttraining's rmse: 0.724441\tvalid_1's rmse: 0.777349\n",
            "[72]\ttraining's rmse: 0.723778\tvalid_1's rmse: 0.777444\n",
            "[73]\ttraining's rmse: 0.723055\tvalid_1's rmse: 0.777286\n",
            "[74]\ttraining's rmse: 0.722196\tvalid_1's rmse: 0.77731\n",
            "[75]\ttraining's rmse: 0.721571\tvalid_1's rmse: 0.777177\n",
            "[76]\ttraining's rmse: 0.720927\tvalid_1's rmse: 0.777177\n",
            "[77]\ttraining's rmse: 0.720285\tvalid_1's rmse: 0.777282\n",
            "[78]\ttraining's rmse: 0.719756\tvalid_1's rmse: 0.777611\n",
            "Early stopping, best iteration is:\n",
            "[63]\ttraining's rmse: 0.732887\tvalid_1's rmse: 0.773938\n"
          ],
          "name": "stdout"
        },
        {
          "output_type": "stream",
          "text": [
            "\u001b[32m[I 2021-03-09 16:56:55,363]\u001b[0m Trial 11 finished with value: 0.7728876503973064 and parameters: {'lambda_l1': 5.7351353143726e-07, 'lambda_l2': 0.00200456414749916, 'num_leaves': 196, 'feature_fraction': 0.5489864406178542, 'bagging_fraction': 0.6349453558050466, 'bagging_freq': 7, 'min_child_samples': 7}. Best is trial 2 with value: 0.7601270340623884.\u001b[0m\n"
          ],
          "name": "stderr"
        },
        {
          "output_type": "stream",
          "text": [
            "[1]\ttraining's rmse: 1.19426\tvalid_1's rmse: 1.03415\n",
            "Training until validation scores don't improve for 15 rounds.\n",
            "[2]\ttraining's rmse: 1.14824\tvalid_1's rmse: 0.995795\n",
            "[3]\ttraining's rmse: 1.10971\tvalid_1's rmse: 0.959962\n",
            "[4]\ttraining's rmse: 1.07572\tvalid_1's rmse: 0.932811\n",
            "[5]\ttraining's rmse: 1.0468\tvalid_1's rmse: 0.909452\n",
            "[6]\ttraining's rmse: 1.02143\tvalid_1's rmse: 0.888031\n",
            "[7]\ttraining's rmse: 1.00034\tvalid_1's rmse: 0.871715\n",
            "[8]\ttraining's rmse: 0.980805\tvalid_1's rmse: 0.856827\n",
            "[9]\ttraining's rmse: 0.964664\tvalid_1's rmse: 0.846092\n",
            "[10]\ttraining's rmse: 0.950984\tvalid_1's rmse: 0.835998\n",
            "[11]\ttraining's rmse: 0.938923\tvalid_1's rmse: 0.826535\n",
            "[12]\ttraining's rmse: 0.928847\tvalid_1's rmse: 0.819142\n",
            "[13]\ttraining's rmse: 0.918887\tvalid_1's rmse: 0.812896\n",
            "[14]\ttraining's rmse: 0.910381\tvalid_1's rmse: 0.807826\n",
            "[15]\ttraining's rmse: 0.90244\tvalid_1's rmse: 0.803074\n",
            "[16]\ttraining's rmse: 0.895434\tvalid_1's rmse: 0.801816\n",
            "[17]\ttraining's rmse: 0.888973\tvalid_1's rmse: 0.798911\n",
            "[18]\ttraining's rmse: 0.88309\tvalid_1's rmse: 0.795076\n",
            "[19]\ttraining's rmse: 0.878039\tvalid_1's rmse: 0.792489\n",
            "[20]\ttraining's rmse: 0.873758\tvalid_1's rmse: 0.790417\n",
            "[21]\ttraining's rmse: 0.868858\tvalid_1's rmse: 0.789692\n",
            "[22]\ttraining's rmse: 0.86507\tvalid_1's rmse: 0.788548\n",
            "[23]\ttraining's rmse: 0.861603\tvalid_1's rmse: 0.787641\n",
            "[24]\ttraining's rmse: 0.858101\tvalid_1's rmse: 0.786185\n",
            "[25]\ttraining's rmse: 0.855095\tvalid_1's rmse: 0.785245\n",
            "[26]\ttraining's rmse: 0.851954\tvalid_1's rmse: 0.784792\n",
            "[27]\ttraining's rmse: 0.849287\tvalid_1's rmse: 0.783726\n",
            "[28]\ttraining's rmse: 0.847246\tvalid_1's rmse: 0.783221\n",
            "[29]\ttraining's rmse: 0.845398\tvalid_1's rmse: 0.78288\n",
            "[30]\ttraining's rmse: 0.843424\tvalid_1's rmse: 0.782604\n",
            "[31]\ttraining's rmse: 0.841082\tvalid_1's rmse: 0.782589\n",
            "[32]\ttraining's rmse: 0.839122\tvalid_1's rmse: 0.780417\n",
            "[33]\ttraining's rmse: 0.837564\tvalid_1's rmse: 0.779904\n",
            "[34]\ttraining's rmse: 0.835894\tvalid_1's rmse: 0.779789\n",
            "[35]\ttraining's rmse: 0.834072\tvalid_1's rmse: 0.779967\n",
            "[36]\ttraining's rmse: 0.832088\tvalid_1's rmse: 0.779605\n",
            "[37]\ttraining's rmse: 0.830659\tvalid_1's rmse: 0.778827\n",
            "[38]\ttraining's rmse: 0.829102\tvalid_1's rmse: 0.77862\n",
            "[39]\ttraining's rmse: 0.827862\tvalid_1's rmse: 0.778499\n",
            "[40]\ttraining's rmse: 0.826249\tvalid_1's rmse: 0.778105\n",
            "[41]\ttraining's rmse: 0.824791\tvalid_1's rmse: 0.77705\n",
            "[42]\ttraining's rmse: 0.823434\tvalid_1's rmse: 0.777243\n",
            "[43]\ttraining's rmse: 0.822071\tvalid_1's rmse: 0.777936\n",
            "[44]\ttraining's rmse: 0.82076\tvalid_1's rmse: 0.777727\n",
            "[45]\ttraining's rmse: 0.819571\tvalid_1's rmse: 0.77737\n",
            "[46]\ttraining's rmse: 0.818525\tvalid_1's rmse: 0.777559\n",
            "[47]\ttraining's rmse: 0.816822\tvalid_1's rmse: 0.776562\n",
            "[48]\ttraining's rmse: 0.814793\tvalid_1's rmse: 0.775936\n",
            "[49]\ttraining's rmse: 0.813419\tvalid_1's rmse: 0.774288\n",
            "[50]\ttraining's rmse: 0.812411\tvalid_1's rmse: 0.773855\n",
            "[51]\ttraining's rmse: 0.811391\tvalid_1's rmse: 0.773219\n",
            "[52]\ttraining's rmse: 0.809307\tvalid_1's rmse: 0.772992\n",
            "[53]\ttraining's rmse: 0.808365\tvalid_1's rmse: 0.773044\n",
            "[54]\ttraining's rmse: 0.807347\tvalid_1's rmse: 0.772936\n",
            "[55]\ttraining's rmse: 0.806003\tvalid_1's rmse: 0.773145\n",
            "[56]\ttraining's rmse: 0.805238\tvalid_1's rmse: 0.772009\n",
            "[57]\ttraining's rmse: 0.804496\tvalid_1's rmse: 0.771705\n",
            "[58]\ttraining's rmse: 0.803706\tvalid_1's rmse: 0.771994\n",
            "[59]\ttraining's rmse: 0.802931\tvalid_1's rmse: 0.77096\n",
            "[60]\ttraining's rmse: 0.800991\tvalid_1's rmse: 0.770782\n",
            "[61]\ttraining's rmse: 0.800181\tvalid_1's rmse: 0.770701\n",
            "[62]\ttraining's rmse: 0.799232\tvalid_1's rmse: 0.770688\n",
            "[63]\ttraining's rmse: 0.797766\tvalid_1's rmse: 0.770563\n",
            "[64]\ttraining's rmse: 0.796689\tvalid_1's rmse: 0.771807\n",
            "[65]\ttraining's rmse: 0.795853\tvalid_1's rmse: 0.771518\n",
            "[66]\ttraining's rmse: 0.794961\tvalid_1's rmse: 0.773249\n",
            "[67]\ttraining's rmse: 0.793635\tvalid_1's rmse: 0.773317\n",
            "[68]\ttraining's rmse: 0.793025\tvalid_1's rmse: 0.773265\n",
            "[69]\ttraining's rmse: 0.792403\tvalid_1's rmse: 0.772958\n",
            "[70]\ttraining's rmse: 0.791381\tvalid_1's rmse: 0.771743\n",
            "[71]\ttraining's rmse: 0.789498\tvalid_1's rmse: 0.771531\n",
            "[72]\ttraining's rmse: 0.788983\tvalid_1's rmse: 0.771287\n",
            "[73]\ttraining's rmse: 0.788589\tvalid_1's rmse: 0.771074\n",
            "[74]\ttraining's rmse: 0.788044\tvalid_1's rmse: 0.771009\n",
            "[75]\ttraining's rmse: 0.787495\tvalid_1's rmse: 0.770662\n",
            "[76]\ttraining's rmse: 0.786792\tvalid_1's rmse: 0.770672\n",
            "[77]\ttraining's rmse: 0.786318\tvalid_1's rmse: 0.770578\n",
            "[78]\ttraining's rmse: 0.785843\tvalid_1's rmse: 0.770592\n",
            "Early stopping, best iteration is:\n",
            "[63]\ttraining's rmse: 0.797766\tvalid_1's rmse: 0.770563\n"
          ],
          "name": "stdout"
        },
        {
          "output_type": "stream",
          "text": [
            "\u001b[32m[I 2021-03-09 16:58:14,296]\u001b[0m Trial 12 finished with value: 0.7705629370581881 and parameters: {'lambda_l1': 1.5030506335780406e-08, 'lambda_l2': 1.6545424597715244e-08, 'num_leaves': 58, 'feature_fraction': 0.8749765864156187, 'bagging_fraction': 0.7327947402192597, 'bagging_freq': 6, 'min_child_samples': 21}. Best is trial 2 with value: 0.7601270340623884.\u001b[0m\n"
          ],
          "name": "stderr"
        },
        {
          "output_type": "stream",
          "text": [
            "[1]\ttraining's rmse: 1.18837\tvalid_1's rmse: 1.03583\n",
            "Training until validation scores don't improve for 15 rounds.\n",
            "[2]\ttraining's rmse: 1.14379\tvalid_1's rmse: 1.00478\n",
            "[3]\ttraining's rmse: 1.09955\tvalid_1's rmse: 0.967977\n",
            "[4]\ttraining's rmse: 1.06085\tvalid_1's rmse: 0.93723\n",
            "[5]\ttraining's rmse: 1.02601\tvalid_1's rmse: 0.911982\n",
            "[6]\ttraining's rmse: 0.995234\tvalid_1's rmse: 0.889312\n",
            "[7]\ttraining's rmse: 0.969511\tvalid_1's rmse: 0.870188\n",
            "[8]\ttraining's rmse: 0.947753\tvalid_1's rmse: 0.855087\n",
            "[9]\ttraining's rmse: 0.928244\tvalid_1's rmse: 0.839623\n",
            "[10]\ttraining's rmse: 0.912346\tvalid_1's rmse: 0.828321\n",
            "[11]\ttraining's rmse: 0.897906\tvalid_1's rmse: 0.819488\n",
            "[12]\ttraining's rmse: 0.88629\tvalid_1's rmse: 0.812119\n",
            "[13]\ttraining's rmse: 0.872697\tvalid_1's rmse: 0.806818\n",
            "[14]\ttraining's rmse: 0.863071\tvalid_1's rmse: 0.800577\n",
            "[15]\ttraining's rmse: 0.853302\tvalid_1's rmse: 0.795806\n",
            "[16]\ttraining's rmse: 0.845447\tvalid_1's rmse: 0.792666\n",
            "[17]\ttraining's rmse: 0.837181\tvalid_1's rmse: 0.788118\n",
            "[18]\ttraining's rmse: 0.83033\tvalid_1's rmse: 0.785074\n",
            "[19]\ttraining's rmse: 0.825051\tvalid_1's rmse: 0.783169\n",
            "[20]\ttraining's rmse: 0.819372\tvalid_1's rmse: 0.78118\n",
            "[21]\ttraining's rmse: 0.814528\tvalid_1's rmse: 0.77708\n",
            "[22]\ttraining's rmse: 0.809115\tvalid_1's rmse: 0.77604\n",
            "[23]\ttraining's rmse: 0.804439\tvalid_1's rmse: 0.774951\n",
            "[24]\ttraining's rmse: 0.800508\tvalid_1's rmse: 0.773841\n",
            "[25]\ttraining's rmse: 0.796702\tvalid_1's rmse: 0.77209\n",
            "[26]\ttraining's rmse: 0.793242\tvalid_1's rmse: 0.771746\n",
            "[27]\ttraining's rmse: 0.790457\tvalid_1's rmse: 0.770142\n",
            "[28]\ttraining's rmse: 0.787509\tvalid_1's rmse: 0.76988\n",
            "[29]\ttraining's rmse: 0.784513\tvalid_1's rmse: 0.768983\n",
            "[30]\ttraining's rmse: 0.781322\tvalid_1's rmse: 0.768622\n",
            "[31]\ttraining's rmse: 0.778656\tvalid_1's rmse: 0.768779\n",
            "[32]\ttraining's rmse: 0.776048\tvalid_1's rmse: 0.768588\n",
            "[33]\ttraining's rmse: 0.773882\tvalid_1's rmse: 0.766501\n",
            "[34]\ttraining's rmse: 0.771563\tvalid_1's rmse: 0.766103\n",
            "[35]\ttraining's rmse: 0.769412\tvalid_1's rmse: 0.765541\n",
            "[36]\ttraining's rmse: 0.767199\tvalid_1's rmse: 0.764819\n",
            "[37]\ttraining's rmse: 0.765309\tvalid_1's rmse: 0.764397\n",
            "[38]\ttraining's rmse: 0.763548\tvalid_1's rmse: 0.764324\n",
            "[39]\ttraining's rmse: 0.761835\tvalid_1's rmse: 0.763537\n",
            "[40]\ttraining's rmse: 0.760163\tvalid_1's rmse: 0.763266\n",
            "[41]\ttraining's rmse: 0.758322\tvalid_1's rmse: 0.762876\n",
            "[42]\ttraining's rmse: 0.75697\tvalid_1's rmse: 0.763366\n",
            "[43]\ttraining's rmse: 0.755183\tvalid_1's rmse: 0.763548\n",
            "[44]\ttraining's rmse: 0.753721\tvalid_1's rmse: 0.76357\n",
            "[45]\ttraining's rmse: 0.752034\tvalid_1's rmse: 0.763366\n",
            "[46]\ttraining's rmse: 0.750644\tvalid_1's rmse: 0.763175\n",
            "[47]\ttraining's rmse: 0.749437\tvalid_1's rmse: 0.763073\n",
            "[48]\ttraining's rmse: 0.747476\tvalid_1's rmse: 0.762977\n",
            "[49]\ttraining's rmse: 0.745685\tvalid_1's rmse: 0.763283\n",
            "[50]\ttraining's rmse: 0.744617\tvalid_1's rmse: 0.763116\n",
            "[51]\ttraining's rmse: 0.743312\tvalid_1's rmse: 0.763385\n",
            "[52]\ttraining's rmse: 0.742396\tvalid_1's rmse: 0.763246\n",
            "[53]\ttraining's rmse: 0.741119\tvalid_1's rmse: 0.763971\n",
            "[54]\ttraining's rmse: 0.740032\tvalid_1's rmse: 0.764632\n",
            "[55]\ttraining's rmse: 0.738636\tvalid_1's rmse: 0.766074\n",
            "[56]\ttraining's rmse: 0.737022\tvalid_1's rmse: 0.76622\n",
            "Early stopping, best iteration is:\n",
            "[41]\ttraining's rmse: 0.758322\tvalid_1's rmse: 0.762876\n"
          ],
          "name": "stdout"
        },
        {
          "output_type": "stream",
          "text": [
            "\u001b[32m[I 2021-03-09 16:59:07,280]\u001b[0m Trial 13 finished with value: 0.7628757452286417 and parameters: {'lambda_l1': 6.525348236362002e-06, 'lambda_l2': 2.7065809701039235e-07, 'num_leaves': 207, 'feature_fraction': 0.5782466976529681, 'bagging_fraction': 0.5819012480689143, 'bagging_freq': 6, 'min_child_samples': 6}. Best is trial 2 with value: 0.7601270340623884.\u001b[0m\n"
          ],
          "name": "stderr"
        },
        {
          "output_type": "stream",
          "text": [
            "[1]\ttraining's rmse: 1.1883\tvalid_1's rmse: 1.03386\n",
            "Training until validation scores don't improve for 15 rounds.\n",
            "[2]\ttraining's rmse: 1.14406\tvalid_1's rmse: 0.996927\n",
            "[3]\ttraining's rmse: 1.0997\tvalid_1's rmse: 0.958965\n",
            "[4]\ttraining's rmse: 1.06091\tvalid_1's rmse: 0.930032\n",
            "[5]\ttraining's rmse: 1.02624\tvalid_1's rmse: 0.904173\n",
            "[6]\ttraining's rmse: 0.995267\tvalid_1's rmse: 0.882492\n",
            "[7]\ttraining's rmse: 0.969199\tvalid_1's rmse: 0.863989\n",
            "[8]\ttraining's rmse: 0.94796\tvalid_1's rmse: 0.847852\n",
            "[9]\ttraining's rmse: 0.928555\tvalid_1's rmse: 0.834151\n",
            "[10]\ttraining's rmse: 0.912238\tvalid_1's rmse: 0.821792\n",
            "[11]\ttraining's rmse: 0.897491\tvalid_1's rmse: 0.812934\n",
            "[12]\ttraining's rmse: 0.88583\tvalid_1's rmse: 0.806191\n",
            "[13]\ttraining's rmse: 0.872248\tvalid_1's rmse: 0.801758\n",
            "[14]\ttraining's rmse: 0.862896\tvalid_1's rmse: 0.796935\n",
            "[15]\ttraining's rmse: 0.853308\tvalid_1's rmse: 0.792715\n",
            "[16]\ttraining's rmse: 0.845534\tvalid_1's rmse: 0.789479\n",
            "[17]\ttraining's rmse: 0.837307\tvalid_1's rmse: 0.7864\n",
            "[18]\ttraining's rmse: 0.830749\tvalid_1's rmse: 0.783136\n",
            "[19]\ttraining's rmse: 0.825718\tvalid_1's rmse: 0.778954\n",
            "[20]\ttraining's rmse: 0.819789\tvalid_1's rmse: 0.777602\n",
            "[21]\ttraining's rmse: 0.815065\tvalid_1's rmse: 0.773443\n",
            "[22]\ttraining's rmse: 0.80964\tvalid_1's rmse: 0.772326\n",
            "[23]\ttraining's rmse: 0.805093\tvalid_1's rmse: 0.771666\n",
            "[24]\ttraining's rmse: 0.800525\tvalid_1's rmse: 0.770832\n",
            "[25]\ttraining's rmse: 0.796893\tvalid_1's rmse: 0.770394\n",
            "[26]\ttraining's rmse: 0.792787\tvalid_1's rmse: 0.767347\n",
            "[27]\ttraining's rmse: 0.789571\tvalid_1's rmse: 0.766295\n",
            "[28]\ttraining's rmse: 0.786333\tvalid_1's rmse: 0.766023\n",
            "[29]\ttraining's rmse: 0.783691\tvalid_1's rmse: 0.765369\n",
            "[30]\ttraining's rmse: 0.781412\tvalid_1's rmse: 0.764382\n",
            "[31]\ttraining's rmse: 0.778917\tvalid_1's rmse: 0.763733\n",
            "[32]\ttraining's rmse: 0.776746\tvalid_1's rmse: 0.763986\n",
            "[33]\ttraining's rmse: 0.774682\tvalid_1's rmse: 0.763113\n",
            "[34]\ttraining's rmse: 0.772364\tvalid_1's rmse: 0.762657\n",
            "[35]\ttraining's rmse: 0.770059\tvalid_1's rmse: 0.762671\n",
            "[36]\ttraining's rmse: 0.767822\tvalid_1's rmse: 0.76275\n",
            "[37]\ttraining's rmse: 0.765242\tvalid_1's rmse: 0.762504\n",
            "[38]\ttraining's rmse: 0.763622\tvalid_1's rmse: 0.762766\n",
            "[39]\ttraining's rmse: 0.761911\tvalid_1's rmse: 0.762846\n",
            "[40]\ttraining's rmse: 0.75994\tvalid_1's rmse: 0.763288\n",
            "[41]\ttraining's rmse: 0.758177\tvalid_1's rmse: 0.763333\n",
            "[42]\ttraining's rmse: 0.756352\tvalid_1's rmse: 0.763365\n",
            "[43]\ttraining's rmse: 0.754795\tvalid_1's rmse: 0.763283\n",
            "[44]\ttraining's rmse: 0.753289\tvalid_1's rmse: 0.763015\n",
            "[45]\ttraining's rmse: 0.751566\tvalid_1's rmse: 0.763055\n",
            "[46]\ttraining's rmse: 0.750192\tvalid_1's rmse: 0.762893\n",
            "[47]\ttraining's rmse: 0.748458\tvalid_1's rmse: 0.764511\n",
            "[48]\ttraining's rmse: 0.747263\tvalid_1's rmse: 0.764748\n",
            "[49]\ttraining's rmse: 0.745896\tvalid_1's rmse: 0.764867\n",
            "[50]\ttraining's rmse: 0.744359\tvalid_1's rmse: 0.764968\n",
            "[51]\ttraining's rmse: 0.74258\tvalid_1's rmse: 0.765147\n",
            "[52]\ttraining's rmse: 0.741627\tvalid_1's rmse: 0.765008\n",
            "Early stopping, best iteration is:\n",
            "[37]\ttraining's rmse: 0.765242\tvalid_1's rmse: 0.762504\n"
          ],
          "name": "stdout"
        },
        {
          "output_type": "stream",
          "text": [
            "\u001b[32m[I 2021-03-09 17:00:21,839]\u001b[0m Trial 14 finished with value: 0.7625036932679955 and parameters: {'lambda_l1': 3.8979136874522685e-08, 'lambda_l2': 0.0011562690131924503, 'num_leaves': 205, 'feature_fraction': 0.5891930139709409, 'bagging_fraction': 0.9941848182302486, 'bagging_freq': 6, 'min_child_samples': 45}. Best is trial 2 with value: 0.7601270340623884.\u001b[0m\n"
          ],
          "name": "stderr"
        },
        {
          "output_type": "stream",
          "text": [
            "Number of finished trials: 15\n",
            "Best trial: {'lambda_l1': 1.0172371307184663e-07, 'lambda_l2': 1.4910699816411428e-06, 'num_leaves': 253, 'feature_fraction': 0.9783922996897737, 'bagging_fraction': 0.8184042886893004, 'bagging_freq': 7, 'min_child_samples': 20}\n"
          ],
          "name": "stdout"
        }
      ]
    },
    {
      "cell_type": "code",
      "metadata": {
        "colab": {
          "base_uri": "https://localhost:8080/"
        },
        "id": "PldYraNEi-9E",
        "outputId": "f6be7db3-3fe1-4444-c746-5daba580549c"
      },
      "source": [
        "best_params = study.best_trial.params\r\n",
        "print(f'Best trial parameters\\n{best_params}')"
      ],
      "execution_count": 84,
      "outputs": [
        {
          "output_type": "stream",
          "text": [
            "Best trial parameters\n",
            "{'lambda_l1': 1.0172371307184663e-07, 'lambda_l2': 1.4910699816411428e-06, 'num_leaves': 253, 'feature_fraction': 0.9783922996897737, 'bagging_fraction': 0.8184042886893004, 'bagging_freq': 7, 'min_child_samples': 20}\n"
          ],
          "name": "stdout"
        }
      ]
    },
    {
      "cell_type": "code",
      "metadata": {
        "colab": {
          "base_uri": "https://localhost:8080/"
        },
        "id": "WbkeP5hjjHH-",
        "outputId": "325f571e-80a9-41dc-8bd7-54591ad8701a"
      },
      "source": [
        "# add some fix params\r\n",
        "\r\n",
        "x = {\"objective\": \"regression\",\r\n",
        "     \"metric\"   : \"rmse\",\r\n",
        "     \"verbosity\": -1,\r\n",
        "     \"boosting_type\": \"gbdt\"}\r\n",
        "\r\n",
        "best_params.update(x)\r\n",
        "best_params"
      ],
      "execution_count": 85,
      "outputs": [
        {
          "output_type": "execute_result",
          "data": {
            "text/plain": [
              "{'bagging_fraction': 0.8184042886893004,\n",
              " 'bagging_freq': 7,\n",
              " 'boosting_type': 'gbdt',\n",
              " 'feature_fraction': 0.9783922996897737,\n",
              " 'lambda_l1': 1.0172371307184663e-07,\n",
              " 'lambda_l2': 1.4910699816411428e-06,\n",
              " 'metric': 'rmse',\n",
              " 'min_child_samples': 20,\n",
              " 'num_leaves': 253,\n",
              " 'objective': 'regression',\n",
              " 'verbosity': -1}"
            ]
          },
          "metadata": {
            "tags": []
          },
          "execution_count": 85
        }
      ]
    },
    {
      "cell_type": "code",
      "metadata": {
        "colab": {
          "base_uri": "https://localhost:8080/"
        },
        "id": "RYkvJbgbjHOh",
        "outputId": "78aef32e-a5bd-4a0a-dd01-85788b308b3e"
      },
      "source": [
        "evals_result = {} \r\n",
        "\r\n",
        "model = lgb.train(best_params,\r\n",
        "                  lgb_train,\r\n",
        "                  valid_sets=[lgb_train,lgb_eval],\r\n",
        "\r\n",
        "                  evals_result=evals_result,\r\n",
        "                  early_stopping_rounds=10, # 20\r\n",
        "                  verbose_eval=1,\r\n",
        "                  )"
      ],
      "execution_count": 86,
      "outputs": [
        {
          "output_type": "stream",
          "text": [
            "[1]\ttraining's rmse: 1.18559\tvalid_1's rmse: 1.03519\n",
            "Training until validation scores don't improve for 10 rounds.\n",
            "[2]\ttraining's rmse: 1.13333\tvalid_1's rmse: 0.993009\n",
            "[3]\ttraining's rmse: 1.08735\tvalid_1's rmse: 0.953432\n",
            "[4]\ttraining's rmse: 1.04726\tvalid_1's rmse: 0.923099\n",
            "[5]\ttraining's rmse: 1.01264\tvalid_1's rmse: 0.898891\n",
            "[6]\ttraining's rmse: 0.98287\tvalid_1's rmse: 0.876882\n",
            "[7]\ttraining's rmse: 0.956671\tvalid_1's rmse: 0.860638\n",
            "[8]\ttraining's rmse: 0.933817\tvalid_1's rmse: 0.844903\n",
            "[9]\ttraining's rmse: 0.91448\tvalid_1's rmse: 0.832451\n",
            "[10]\ttraining's rmse: 0.896955\tvalid_1's rmse: 0.821203\n",
            "[11]\ttraining's rmse: 0.882009\tvalid_1's rmse: 0.812615\n",
            "[12]\ttraining's rmse: 0.86895\tvalid_1's rmse: 0.805215\n",
            "[13]\ttraining's rmse: 0.857437\tvalid_1's rmse: 0.799365\n",
            "[14]\ttraining's rmse: 0.847154\tvalid_1's rmse: 0.794129\n",
            "[15]\ttraining's rmse: 0.837686\tvalid_1's rmse: 0.787588\n",
            "[16]\ttraining's rmse: 0.829409\tvalid_1's rmse: 0.783405\n",
            "[17]\ttraining's rmse: 0.821935\tvalid_1's rmse: 0.780133\n",
            "[18]\ttraining's rmse: 0.815294\tvalid_1's rmse: 0.776719\n",
            "[19]\ttraining's rmse: 0.809046\tvalid_1's rmse: 0.7733\n",
            "[20]\ttraining's rmse: 0.803747\tvalid_1's rmse: 0.770869\n",
            "[21]\ttraining's rmse: 0.798955\tvalid_1's rmse: 0.770743\n",
            "[22]\ttraining's rmse: 0.794413\tvalid_1's rmse: 0.76954\n",
            "[23]\ttraining's rmse: 0.79013\tvalid_1's rmse: 0.767907\n",
            "[24]\ttraining's rmse: 0.786469\tvalid_1's rmse: 0.766883\n",
            "[25]\ttraining's rmse: 0.783097\tvalid_1's rmse: 0.766857\n",
            "[26]\ttraining's rmse: 0.779716\tvalid_1's rmse: 0.766239\n",
            "[27]\ttraining's rmse: 0.77667\tvalid_1's rmse: 0.765652\n",
            "[28]\ttraining's rmse: 0.773863\tvalid_1's rmse: 0.765124\n",
            "[29]\ttraining's rmse: 0.770759\tvalid_1's rmse: 0.76448\n",
            "[30]\ttraining's rmse: 0.768149\tvalid_1's rmse: 0.764474\n",
            "[31]\ttraining's rmse: 0.765554\tvalid_1's rmse: 0.764274\n",
            "[32]\ttraining's rmse: 0.763363\tvalid_1's rmse: 0.763861\n",
            "[33]\ttraining's rmse: 0.760909\tvalid_1's rmse: 0.763065\n",
            "[34]\ttraining's rmse: 0.758152\tvalid_1's rmse: 0.762951\n",
            "[35]\ttraining's rmse: 0.756182\tvalid_1's rmse: 0.763048\n",
            "[36]\ttraining's rmse: 0.753893\tvalid_1's rmse: 0.762837\n",
            "[37]\ttraining's rmse: 0.752175\tvalid_1's rmse: 0.762458\n",
            "[38]\ttraining's rmse: 0.750307\tvalid_1's rmse: 0.762122\n",
            "[39]\ttraining's rmse: 0.74729\tvalid_1's rmse: 0.761968\n",
            "[40]\ttraining's rmse: 0.745294\tvalid_1's rmse: 0.761811\n",
            "[41]\ttraining's rmse: 0.743589\tvalid_1's rmse: 0.760859\n",
            "[42]\ttraining's rmse: 0.741946\tvalid_1's rmse: 0.760764\n",
            "[43]\ttraining's rmse: 0.740097\tvalid_1's rmse: 0.760891\n",
            "[44]\ttraining's rmse: 0.738091\tvalid_1's rmse: 0.760798\n",
            "[45]\ttraining's rmse: 0.736585\tvalid_1's rmse: 0.760676\n",
            "[46]\ttraining's rmse: 0.734946\tvalid_1's rmse: 0.760419\n",
            "[47]\ttraining's rmse: 0.733639\tvalid_1's rmse: 0.760606\n",
            "[48]\ttraining's rmse: 0.732044\tvalid_1's rmse: 0.760359\n",
            "[49]\ttraining's rmse: 0.730031\tvalid_1's rmse: 0.760255\n",
            "[50]\ttraining's rmse: 0.7286\tvalid_1's rmse: 0.760325\n",
            "[51]\ttraining's rmse: 0.727372\tvalid_1's rmse: 0.760696\n",
            "[52]\ttraining's rmse: 0.725681\tvalid_1's rmse: 0.760263\n",
            "[53]\ttraining's rmse: 0.724334\tvalid_1's rmse: 0.760193\n",
            "[54]\ttraining's rmse: 0.722991\tvalid_1's rmse: 0.760151\n",
            "[55]\ttraining's rmse: 0.721534\tvalid_1's rmse: 0.761105\n",
            "[56]\ttraining's rmse: 0.719666\tvalid_1's rmse: 0.761015\n",
            "[57]\ttraining's rmse: 0.718572\tvalid_1's rmse: 0.760945\n",
            "[58]\ttraining's rmse: 0.717619\tvalid_1's rmse: 0.761139\n",
            "[59]\ttraining's rmse: 0.716676\tvalid_1's rmse: 0.761592\n",
            "[60]\ttraining's rmse: 0.71537\tvalid_1's rmse: 0.761677\n",
            "[61]\ttraining's rmse: 0.714126\tvalid_1's rmse: 0.761857\n",
            "[62]\ttraining's rmse: 0.713028\tvalid_1's rmse: 0.761786\n",
            "[63]\ttraining's rmse: 0.712041\tvalid_1's rmse: 0.761646\n",
            "[64]\ttraining's rmse: 0.710876\tvalid_1's rmse: 0.761772\n",
            "Early stopping, best iteration is:\n",
            "[54]\ttraining's rmse: 0.722991\tvalid_1's rmse: 0.760151\n"
          ],
          "name": "stdout"
        }
      ]
    },
    {
      "cell_type": "code",
      "metadata": {
        "colab": {
          "base_uri": "https://localhost:8080/"
        },
        "id": "pqYFsvZjjJ_l",
        "outputId": "5b8e3612-bfae-4990-ce2d-8b20c4d24883"
      },
      "source": [
        "y_pred = model.predict(X_val)\r\n",
        "mean_squared_error(y_val, y_pred,squared=False)"
      ],
      "execution_count": 87,
      "outputs": [
        {
          "output_type": "execute_result",
          "data": {
            "text/plain": [
              "0.7601270340623884"
            ]
          },
          "metadata": {
            "tags": []
          },
          "execution_count": 87
        }
      ]
    },
    {
      "cell_type": "code",
      "metadata": {
        "colab": {
          "base_uri": "https://localhost:8080/",
          "height": 367
        },
        "id": "1nUEBb5JjKE2",
        "outputId": "462727b2-7903-476c-bcd8-df48624e6bc2"
      },
      "source": [
        "print('Plot metrics recorded during training...')\r\n",
        "ax = lgb.plot_metric(evals_result, figsize=(10, 5))"
      ],
      "execution_count": 88,
      "outputs": [
        {
          "output_type": "stream",
          "text": [
            "Plot metrics recorded during training...\n"
          ],
          "name": "stdout"
        },
        {
          "output_type": "display_data",
          "data": {
            "image/png": "[encoded data removed]",
            "text/plain": [
              "<Figure size 720x360 with 1 Axes>"
            ]
          },
          "metadata": {
            "tags": [],
            "needs_background": "light"
          }
        }
      ]
    },
    {
      "cell_type": "code",
      "metadata": {
        "id": "-g3dtBPl8iNj"
      },
      "source": [
        "test= pd.read_csv(\"test.csv\").set_index('ID')"
      ],
      "execution_count": 91,
      "outputs": []
    },
    {
      "cell_type": "code",
      "metadata": {
        "colab": {
          "base_uri": "https://localhost:8080/",
          "height": 345
        },
        "id": "GT3QjlxijOPn",
        "outputId": "e92d0fca-7017-4f11-90d7-729f457b10d3"
      },
      "source": [
        "# predicting model\r\n",
        "\r\n",
        "Y_test = model.predict(X_test).clip(0, 20)\r\n",
        "\r\n",
        "submission = pd.DataFrame({\r\n",
        "    \"ID\": test.index, \r\n",
        "    \"item_cnt_month\": Y_test\r\n",
        "})\r\n",
        "submission.head(10)"
      ],
      "execution_count": 92,
      "outputs": [
        {
          "output_type": "execute_result",
          "data": {
            "text/html": [
              "<div>\n",
              "<style scoped>\n",
              "    .dataframe tbody tr th:only-of-type {\n",
              "        vertical-align: middle;\n",
              "    }\n",
              "\n",
              "    .dataframe tbody tr th {\n",
              "        vertical-align: top;\n",
              "    }\n",
              "\n",
              "    .dataframe thead th {\n",
              "        text-align: right;\n",
              "    }\n",
              "</style>\n",
              "<table border=\"1\" class=\"dataframe\">\n",
              "  <thead>\n",
              "    <tr style=\"text-align: right;\">\n",
              "      <th></th>\n",
              "      <th>ID</th>\n",
              "      <th>item_cnt_month</th>\n",
              "    </tr>\n",
              "  </thead>\n",
              "  <tbody>\n",
              "    <tr>\n",
              "      <th>0</th>\n",
              "      <td>0</td>\n",
              "      <td>0.531757</td>\n",
              "    </tr>\n",
              "    <tr>\n",
              "      <th>1</th>\n",
              "      <td>1</td>\n",
              "      <td>1.513707</td>\n",
              "    </tr>\n",
              "    <tr>\n",
              "      <th>2</th>\n",
              "      <td>2</td>\n",
              "      <td>0.914372</td>\n",
              "    </tr>\n",
              "    <tr>\n",
              "      <th>3</th>\n",
              "      <td>3</td>\n",
              "      <td>0.798708</td>\n",
              "    </tr>\n",
              "    <tr>\n",
              "      <th>4</th>\n",
              "      <td>4</td>\n",
              "      <td>2.476738</td>\n",
              "    </tr>\n",
              "    <tr>\n",
              "      <th>5</th>\n",
              "      <td>5</td>\n",
              "      <td>0.477419</td>\n",
              "    </tr>\n",
              "    <tr>\n",
              "      <th>6</th>\n",
              "      <td>6</td>\n",
              "      <td>0.529161</td>\n",
              "    </tr>\n",
              "    <tr>\n",
              "      <th>7</th>\n",
              "      <td>7</td>\n",
              "      <td>0.183665</td>\n",
              "    </tr>\n",
              "    <tr>\n",
              "      <th>8</th>\n",
              "      <td>8</td>\n",
              "      <td>1.409973</td>\n",
              "    </tr>\n",
              "    <tr>\n",
              "      <th>9</th>\n",
              "      <td>9</td>\n",
              "      <td>0.476697</td>\n",
              "    </tr>\n",
              "  </tbody>\n",
              "</table>\n",
              "</div>"
            ],
            "text/plain": [
              "   ID  item_cnt_month\n",
              "0   0        0.531757\n",
              "1   1        1.513707\n",
              "2   2        0.914372\n",
              "3   3        0.798708\n",
              "4   4        2.476738\n",
              "5   5        0.477419\n",
              "6   6        0.529161\n",
              "7   7        0.183665\n",
              "8   8        1.409973\n",
              "9   9        0.476697"
            ]
          },
          "metadata": {
            "tags": []
          },
          "execution_count": 92
        }
      ]
    },
    {
      "cell_type": "code",
      "metadata": {
        "id": "6t9KOqDjjQHw"
      },
      "source": [
        "submission.to_csv('final submission.csv', index=False)"
      ],
      "execution_count": 93,
      "outputs": []
    }
  ]
}