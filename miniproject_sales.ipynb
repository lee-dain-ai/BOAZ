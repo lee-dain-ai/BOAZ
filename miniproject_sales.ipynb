{
  "nbformat": 4,
  "nbformat_minor": 0,
  "metadata": {
    "accelerator": "GPU",
    "colab": {
      "name": "miniproject_sales.ipynb",
      "provenance": [],
      "collapsed_sections": [],
      "machine_shape": "hm",
      "authorship_tag": "ABX9TyOyNdsVmU7zqsrCJg2eqWq7",
      "include_colab_link": true
    },
    "kernelspec": {
      "display_name": "Python 3",
      "name": "python3"
    }
  },
  "cells": [
    {
      "cell_type": "markdown",
      "metadata": {
        "id": "view-in-github",
        "colab_type": "text"
      },
      "source": [
        "<a href=\"https://colab.research.google.com/github/manypeople-AI/-/blob/main/miniproject_sales.ipynb\" target=\"_parent\"><img src=\"https://colab.research.google.com/assets/colab-badge.svg\" alt=\"Open In Colab\"/></a>"
      ]
    },
    {
      "cell_type": "code",
      "metadata": {
        "id": "3zoe-ZB1KZOP"
      },
      "source": [
        "import numpy as np\r\n",
        "import pandas as pd"
      ],
      "execution_count": 1,
      "outputs": []
    },
    {
      "cell_type": "code",
      "metadata": {
        "id": "tQ90fZ29K2l1",
        "colab": {
          "base_uri": "https://localhost:8080/"
        },
        "outputId": "140827ac-9a70-4ad4-dcb9-fc5c67c29029"
      },
      "source": [
        "from google.colab import drive\r\n",
        "\r\n",
        "\r\n",
        "drive.mount('/content/gdrive')"
      ],
      "execution_count": 2,
      "outputs": [
        {
          "output_type": "stream",
          "text": [
            "Mounted at /content/gdrive\n"
          ],
          "name": "stdout"
        }
      ]
    },
    {
      "cell_type": "code",
      "metadata": {
        "id": "QMF1VKkaK2ph",
        "colab": {
          "base_uri": "https://localhost:8080/"
        },
        "outputId": "c80dfe53-d628-4c5e-a096-f346f8d58e03"
      },
      "source": [
        "cd /content/gdrive/My Drive/mini_project"
      ],
      "execution_count": 3,
      "outputs": [
        {
          "output_type": "stream",
          "text": [
            "/content/gdrive/My Drive/mini_project\n"
          ],
          "name": "stdout"
        }
      ]
    },
    {
      "cell_type": "code",
      "metadata": {
        "id": "tg_TKD9gLbPV"
      },
      "source": [
        "items = pd.read_csv(\"items.csv\")\r\n",
        "shops = pd.read_csv(\"shops.csv\")\r\n",
        "categ = pd.read_csv(\"item_categories.csv\")\r\n",
        "train = pd.read_csv(\"sales_train.csv\")\r\n",
        "\r\n",
        "test= pd.read_csv(\"test.csv\").set_index('ID')\r\n",
        "submission = pd.read_csv(\"sample_submission.csv\")"
      ],
      "execution_count": 4,
      "outputs": []
    },
    {
      "cell_type": "markdown",
      "metadata": {
        "id": "lNnX5L-e8UHY"
      },
      "source": [
        "## EDA & 전처리"
      ]
    },
    {
      "cell_type": "markdown",
      "metadata": {
        "id": "7OOMDRkW8V4b"
      },
      "source": [
        "Train data 결측치/ 이상치/ 중복행 제거"
      ]
    },
    {
      "cell_type": "code",
      "metadata": {
        "id": "JY9xf14fMKn-",
        "colab": {
          "base_uri": "https://localhost:8080/"
        },
        "outputId": "6150c436-e25e-4e0c-9370-12ee5ae5ae31"
      },
      "source": [
        "#train data 결측치 확인\r\n",
        "train.isnull().sum()"
      ],
      "execution_count": 5,
      "outputs": [
        {
          "output_type": "execute_result",
          "data": {
            "text/plain": [
              "date              0\n",
              "date_block_num    0\n",
              "shop_id           0\n",
              "item_id           0\n",
              "item_price        0\n",
              "item_cnt_day      0\n",
              "dtype: int64"
            ]
          },
          "metadata": {
            "tags": []
          },
          "execution_count": 5
        }
      ]
    },
    {
      "cell_type": "markdown",
      "metadata": {
        "id": "yulxD96NMTxR"
      },
      "source": [
        "결측치 없음"
      ]
    },
    {
      "cell_type": "code",
      "metadata": {
        "id": "xqGIii4HMUz2",
        "colab": {
          "base_uri": "https://localhost:8080/"
        },
        "outputId": "e6e2a255-4f7a-4176-dd1a-420266704305"
      },
      "source": [
        "#train/test data 중복 여부 확인\r\n",
        "sum(train.duplicated()), sum(test.duplicated())"
      ],
      "execution_count": 6,
      "outputs": [
        {
          "output_type": "execute_result",
          "data": {
            "text/plain": [
              "(6, 0)"
            ]
          },
          "metadata": {
            "tags": []
          },
          "execution_count": 6
        }
      ]
    },
    {
      "cell_type": "code",
      "metadata": {
        "id": "oFC4_Kj0MKvL",
        "colab": {
          "base_uri": "https://localhost:8080/"
        },
        "outputId": "f93ce373-8492-4ab2-8776-b3b7e79971fc"
      },
      "source": [
        "#item, category, shops 중복 여부 확인\r\n",
        "sum(items.duplicated()), sum(categ.duplicated()),sum(shops.duplicated())"
      ],
      "execution_count": 7,
      "outputs": [
        {
          "output_type": "execute_result",
          "data": {
            "text/plain": [
              "(0, 0, 0)"
            ]
          },
          "metadata": {
            "tags": []
          },
          "execution_count": 7
        }
      ]
    },
    {
      "cell_type": "markdown",
      "metadata": {
        "id": "Adz-_enXNadI"
      },
      "source": [
        "train data에 중복행이 6개 존재한다"
      ]
    },
    {
      "cell_type": "code",
      "metadata": {
        "id": "vHbZXku_MK0w"
      },
      "source": [
        "#중복행 제거해주기\r\n",
        "train.drop_duplicates(inplace=True)"
      ],
      "execution_count": 8,
      "outputs": []
    },
    {
      "cell_type": "code",
      "metadata": {
        "id": "lCMaFOUwirMM",
        "colab": {
          "base_uri": "https://localhost:8080/"
        },
        "outputId": "5ad1a6d8-12b8-4de9-dfc6-e732f9d91677"
      },
      "source": [
        "train.info()"
      ],
      "execution_count": 9,
      "outputs": [
        {
          "output_type": "stream",
          "text": [
            "<class 'pandas.core.frame.DataFrame'>\n",
            "Int64Index: 2935843 entries, 0 to 2935848\n",
            "Data columns (total 6 columns):\n",
            " #   Column          Dtype  \n",
            "---  ------          -----  \n",
            " 0   date            object \n",
            " 1   date_block_num  int64  \n",
            " 2   shop_id         int64  \n",
            " 3   item_id         int64  \n",
            " 4   item_price      float64\n",
            " 5   item_cnt_day    float64\n",
            "dtypes: float64(2), int64(3), object(1)\n",
            "memory usage: 156.8+ MB\n"
          ],
          "name": "stdout"
        }
      ]
    },
    {
      "cell_type": "code",
      "metadata": {
        "id": "01mC_1qqNq4C",
        "colab": {
          "base_uri": "https://localhost:8080/",
          "height": 592
        },
        "outputId": "46b6e4b5-c0a6-49a5-9806-86737e3fe971"
      },
      "source": [
        "#이상치 처리\r\n",
        "import seaborn as sns\r\n",
        "import matplotlib.pyplot as plt\r\n",
        "\r\n",
        "#상자 그림 - item price\r\n",
        "plt.figure(figsize=(2,10))\r\n",
        "train.boxplot(column=['item_price'])\r\n",
        "plt.show()"
      ],
      "execution_count": 10,
      "outputs": [
        {
          "output_type": "display_data",
          "data": {
            "image/png": "[encoded data removed]",
            "text/plain": [
              "<Figure size 144x720 with 1 Axes>"
            ]
          },
          "metadata": {
            "tags": [],
            "needs_background": "light"
          }
        }
      ]
    },
    {
      "cell_type": "code",
      "metadata": {
        "id": "HIedY4txNrHN",
        "colab": {
          "base_uri": "https://localhost:8080/",
          "height": 592
        },
        "outputId": "40237ed2-6a84-46b8-f1dd-103172531b6f"
      },
      "source": [
        "#상자그림 -item cnt day(하루에 해당 item이 팔린 갯수)\r\n",
        "plt.figure(figsize=(2,10))\r\n",
        "train.boxplot(column=['item_cnt_day'])\r\n",
        "plt.show()"
      ],
      "execution_count": 11,
      "outputs": [
        {
          "output_type": "display_data",
          "data": {
            "image/png": "[encoded data removed]",
            "text/plain": [
              "<Figure size 144x720 with 1 Axes>"
            ]
          },
          "metadata": {
            "tags": [],
            "needs_background": "light"
          }
        }
      ]
    },
    {
      "cell_type": "code",
      "metadata": {
        "id": "H_Zv2-W2tDXK"
      },
      "source": [
        "train = train[train.item_price<=100000]\r\n",
        "train = train[train.item_cnt_day<=1002]\r\n",
        "train = train[train.item_price>=0]\r\n",
        "train = train[train.item_cnt_day>=0]"
      ],
      "execution_count": 12,
      "outputs": []
    },
    {
      "cell_type": "code",
      "metadata": {
        "id": "6_FqKTpxte6i",
        "colab": {
          "base_uri": "https://localhost:8080/"
        },
        "outputId": "59542284-4a30-47f9-b4aa-3787d8b9c0a8"
      },
      "source": [
        "train.info()"
      ],
      "execution_count": 13,
      "outputs": [
        {
          "output_type": "stream",
          "text": [
            "<class 'pandas.core.frame.DataFrame'>\n",
            "Int64Index: 2928484 entries, 0 to 2935848\n",
            "Data columns (total 6 columns):\n",
            " #   Column          Dtype  \n",
            "---  ------          -----  \n",
            " 0   date            object \n",
            " 1   date_block_num  int64  \n",
            " 2   shop_id         int64  \n",
            " 3   item_id         int64  \n",
            " 4   item_price      float64\n",
            " 5   item_cnt_day    float64\n",
            "dtypes: float64(2), int64(3), object(1)\n",
            "memory usage: 156.4+ MB\n"
          ],
          "name": "stdout"
        }
      ]
    },
    {
      "cell_type": "markdown",
      "metadata": {
        "id": "n9DUsiqrt83c"
      },
      "source": [
        "Shops data / 범주형 데이터 처리"
      ]
    },
    {
      "cell_type": "code",
      "metadata": {
        "id": "XvPUkjqDtj2C",
        "colab": {
          "base_uri": "https://localhost:8080/",
          "height": 196
        },
        "outputId": "ea1f1abd-4a3a-4654-e073-e78e4c8d5f5b"
      },
      "source": [
        "shops.head()"
      ],
      "execution_count": 14,
      "outputs": [
        {
          "output_type": "execute_result",
          "data": {
            "text/html": [
              "<div>\n",
              "<style scoped>\n",
              "    .dataframe tbody tr th:only-of-type {\n",
              "        vertical-align: middle;\n",
              "    }\n",
              "\n",
              "    .dataframe tbody tr th {\n",
              "        vertical-align: top;\n",
              "    }\n",
              "\n",
              "    .dataframe thead th {\n",
              "        text-align: right;\n",
              "    }\n",
              "</style>\n",
              "<table border=\"1\" class=\"dataframe\">\n",
              "  <thead>\n",
              "    <tr style=\"text-align: right;\">\n",
              "      <th></th>\n",
              "      <th>shop_name</th>\n",
              "      <th>shop_id</th>\n",
              "    </tr>\n",
              "  </thead>\n",
              "  <tbody>\n",
              "    <tr>\n",
              "      <th>0</th>\n",
              "      <td>!Якутск Орджоникидзе, 56 фран</td>\n",
              "      <td>0</td>\n",
              "    </tr>\n",
              "    <tr>\n",
              "      <th>1</th>\n",
              "      <td>!Якутск ТЦ \"Центральный\" фран</td>\n",
              "      <td>1</td>\n",
              "    </tr>\n",
              "    <tr>\n",
              "      <th>2</th>\n",
              "      <td>Адыгея ТЦ \"Мега\"</td>\n",
              "      <td>2</td>\n",
              "    </tr>\n",
              "    <tr>\n",
              "      <th>3</th>\n",
              "      <td>Балашиха ТРК \"Октябрь-Киномир\"</td>\n",
              "      <td>3</td>\n",
              "    </tr>\n",
              "    <tr>\n",
              "      <th>4</th>\n",
              "      <td>Волжский ТЦ \"Волга Молл\"</td>\n",
              "      <td>4</td>\n",
              "    </tr>\n",
              "  </tbody>\n",
              "</table>\n",
              "</div>"
            ],
            "text/plain": [
              "                        shop_name  shop_id\n",
              "0   !Якутск Орджоникидзе, 56 фран        0\n",
              "1   !Якутск ТЦ \"Центральный\" фран        1\n",
              "2                Адыгея ТЦ \"Мега\"        2\n",
              "3  Балашиха ТРК \"Октябрь-Киномир\"        3\n",
              "4        Волжский ТЦ \"Волга Молл\"        4"
            ]
          },
          "metadata": {
            "tags": []
          },
          "execution_count": 14
        }
      ]
    },
    {
      "cell_type": "code",
      "metadata": {
        "id": "1T1XWefJubGp"
      },
      "source": [
        "#shop_name에서 제일 앞의 글자가 도시\r\n",
        "#'도시'열을 추가해주기\r\n",
        "\r\n",
        "shops['city'] = shops['shop_name'].str.split(' ').map(lambda x:x[0])"
      ],
      "execution_count": 15,
      "outputs": []
    },
    {
      "cell_type": "code",
      "metadata": {
        "id": "2fPQyvotu5WD",
        "colab": {
          "base_uri": "https://localhost:8080/",
          "height": 196
        },
        "outputId": "e99fb764-dca4-4e71-86d7-fabb84f92ab9"
      },
      "source": [
        "shops.head()"
      ],
      "execution_count": 16,
      "outputs": [
        {
          "output_type": "execute_result",
          "data": {
            "text/html": [
              "<div>\n",
              "<style scoped>\n",
              "    .dataframe tbody tr th:only-of-type {\n",
              "        vertical-align: middle;\n",
              "    }\n",
              "\n",
              "    .dataframe tbody tr th {\n",
              "        vertical-align: top;\n",
              "    }\n",
              "\n",
              "    .dataframe thead th {\n",
              "        text-align: right;\n",
              "    }\n",
              "</style>\n",
              "<table border=\"1\" class=\"dataframe\">\n",
              "  <thead>\n",
              "    <tr style=\"text-align: right;\">\n",
              "      <th></th>\n",
              "      <th>shop_name</th>\n",
              "      <th>shop_id</th>\n",
              "      <th>city</th>\n",
              "    </tr>\n",
              "  </thead>\n",
              "  <tbody>\n",
              "    <tr>\n",
              "      <th>0</th>\n",
              "      <td>!Якутск Орджоникидзе, 56 фран</td>\n",
              "      <td>0</td>\n",
              "      <td>!Якутск</td>\n",
              "    </tr>\n",
              "    <tr>\n",
              "      <th>1</th>\n",
              "      <td>!Якутск ТЦ \"Центральный\" фран</td>\n",
              "      <td>1</td>\n",
              "      <td>!Якутск</td>\n",
              "    </tr>\n",
              "    <tr>\n",
              "      <th>2</th>\n",
              "      <td>Адыгея ТЦ \"Мега\"</td>\n",
              "      <td>2</td>\n",
              "      <td>Адыгея</td>\n",
              "    </tr>\n",
              "    <tr>\n",
              "      <th>3</th>\n",
              "      <td>Балашиха ТРК \"Октябрь-Киномир\"</td>\n",
              "      <td>3</td>\n",
              "      <td>Балашиха</td>\n",
              "    </tr>\n",
              "    <tr>\n",
              "      <th>4</th>\n",
              "      <td>Волжский ТЦ \"Волга Молл\"</td>\n",
              "      <td>4</td>\n",
              "      <td>Волжский</td>\n",
              "    </tr>\n",
              "  </tbody>\n",
              "</table>\n",
              "</div>"
            ],
            "text/plain": [
              "                        shop_name  shop_id      city\n",
              "0   !Якутск Орджоникидзе, 56 фран        0   !Якутск\n",
              "1   !Якутск ТЦ \"Центральный\" фран        1   !Якутск\n",
              "2                Адыгея ТЦ \"Мега\"        2    Адыгея\n",
              "3  Балашиха ТРК \"Октябрь-Киномир\"        3  Балашиха\n",
              "4        Волжский ТЦ \"Волга Молл\"        4  Волжский"
            ]
          },
          "metadata": {
            "tags": []
          },
          "execution_count": 16
        }
      ]
    },
    {
      "cell_type": "code",
      "metadata": {
        "id": "6RHG24ETu7iT"
      },
      "source": [
        "#city 이름별로 인코딩하기\r\n",
        "\r\n",
        "from sklearn.preprocessing import LabelEncoder\r\n",
        "\r\n",
        "LE = LabelEncoder()\r\n",
        "LE.fit(list(shops['city'].values))\r\n",
        "shops['city'] = LE.transform(list(shops['city'].values))"
      ],
      "execution_count": 17,
      "outputs": []
    },
    {
      "cell_type": "code",
      "metadata": {
        "id": "JWfrdojavl1A"
      },
      "source": [
        "shops.drop(['shop_name'], axis=1,inplace=True)"
      ],
      "execution_count": 18,
      "outputs": []
    },
    {
      "cell_type": "code",
      "metadata": {
        "id": "2iAmU0yFvrDj",
        "colab": {
          "base_uri": "https://localhost:8080/",
          "height": 196
        },
        "outputId": "1ebf87ee-6558-4bf5-c029-0bfcf1bca23b"
      },
      "source": [
        "shops.head()"
      ],
      "execution_count": 19,
      "outputs": [
        {
          "output_type": "execute_result",
          "data": {
            "text/html": [
              "<div>\n",
              "<style scoped>\n",
              "    .dataframe tbody tr th:only-of-type {\n",
              "        vertical-align: middle;\n",
              "    }\n",
              "\n",
              "    .dataframe tbody tr th {\n",
              "        vertical-align: top;\n",
              "    }\n",
              "\n",
              "    .dataframe thead th {\n",
              "        text-align: right;\n",
              "    }\n",
              "</style>\n",
              "<table border=\"1\" class=\"dataframe\">\n",
              "  <thead>\n",
              "    <tr style=\"text-align: right;\">\n",
              "      <th></th>\n",
              "      <th>shop_id</th>\n",
              "      <th>city</th>\n",
              "    </tr>\n",
              "  </thead>\n",
              "  <tbody>\n",
              "    <tr>\n",
              "      <th>0</th>\n",
              "      <td>0</td>\n",
              "      <td>0</td>\n",
              "    </tr>\n",
              "    <tr>\n",
              "      <th>1</th>\n",
              "      <td>1</td>\n",
              "      <td>0</td>\n",
              "    </tr>\n",
              "    <tr>\n",
              "      <th>2</th>\n",
              "      <td>2</td>\n",
              "      <td>1</td>\n",
              "    </tr>\n",
              "    <tr>\n",
              "      <th>3</th>\n",
              "      <td>3</td>\n",
              "      <td>2</td>\n",
              "    </tr>\n",
              "    <tr>\n",
              "      <th>4</th>\n",
              "      <td>4</td>\n",
              "      <td>3</td>\n",
              "    </tr>\n",
              "  </tbody>\n",
              "</table>\n",
              "</div>"
            ],
            "text/plain": [
              "   shop_id  city\n",
              "0        0     0\n",
              "1        1     0\n",
              "2        2     1\n",
              "3        3     2\n",
              "4        4     3"
            ]
          },
          "metadata": {
            "tags": []
          },
          "execution_count": 19
        }
      ]
    },
    {
      "cell_type": "markdown",
      "metadata": {
        "id": "0ZdDHXDHv3UE"
      },
      "source": [
        "Category data / Type, subtype 나눠주고 범주형 인코딩해주기"
      ]
    },
    {
      "cell_type": "code",
      "metadata": {
        "id": "qWQkGyZYvrGQ",
        "colab": {
          "base_uri": "https://localhost:8080/",
          "height": 196
        },
        "outputId": "6549958b-d79f-43b5-c997-160f00f480cc"
      },
      "source": [
        "categ.head()"
      ],
      "execution_count": 20,
      "outputs": [
        {
          "output_type": "execute_result",
          "data": {
            "text/html": [
              "<div>\n",
              "<style scoped>\n",
              "    .dataframe tbody tr th:only-of-type {\n",
              "        vertical-align: middle;\n",
              "    }\n",
              "\n",
              "    .dataframe tbody tr th {\n",
              "        vertical-align: top;\n",
              "    }\n",
              "\n",
              "    .dataframe thead th {\n",
              "        text-align: right;\n",
              "    }\n",
              "</style>\n",
              "<table border=\"1\" class=\"dataframe\">\n",
              "  <thead>\n",
              "    <tr style=\"text-align: right;\">\n",
              "      <th></th>\n",
              "      <th>item_category_name</th>\n",
              "      <th>item_category_id</th>\n",
              "    </tr>\n",
              "  </thead>\n",
              "  <tbody>\n",
              "    <tr>\n",
              "      <th>0</th>\n",
              "      <td>PC - Гарнитуры/Наушники</td>\n",
              "      <td>0</td>\n",
              "    </tr>\n",
              "    <tr>\n",
              "      <th>1</th>\n",
              "      <td>Аксессуары - PS2</td>\n",
              "      <td>1</td>\n",
              "    </tr>\n",
              "    <tr>\n",
              "      <th>2</th>\n",
              "      <td>Аксессуары - PS3</td>\n",
              "      <td>2</td>\n",
              "    </tr>\n",
              "    <tr>\n",
              "      <th>3</th>\n",
              "      <td>Аксессуары - PS4</td>\n",
              "      <td>3</td>\n",
              "    </tr>\n",
              "    <tr>\n",
              "      <th>4</th>\n",
              "      <td>Аксессуары - PSP</td>\n",
              "      <td>4</td>\n",
              "    </tr>\n",
              "  </tbody>\n",
              "</table>\n",
              "</div>"
            ],
            "text/plain": [
              "        item_category_name  item_category_id\n",
              "0  PC - Гарнитуры/Наушники                 0\n",
              "1         Аксессуары - PS2                 1\n",
              "2         Аксессуары - PS3                 2\n",
              "3         Аксессуары - PS4                 3\n",
              "4         Аксессуары - PSP                 4"
            ]
          },
          "metadata": {
            "tags": []
          },
          "execution_count": 20
        }
      ]
    },
    {
      "cell_type": "code",
      "metadata": {
        "id": "bwA6Rew5v1-6",
        "colab": {
          "base_uri": "https://localhost:8080/",
          "height": 196
        },
        "outputId": "a13e0f0b-75a6-4986-c055-f9248b7ffa09"
      },
      "source": [
        "#카테고리 이름에서 앞의 단어가 type\r\n",
        "\r\n",
        "categ['split']=categ['item_category_name'].str.split('-')\r\n",
        "categ['type']=categ['split'].map(lambda x:x[0].strip())\r\n",
        "categ.head()"
      ],
      "execution_count": 21,
      "outputs": [
        {
          "output_type": "execute_result",
          "data": {
            "text/html": [
              "<div>\n",
              "<style scoped>\n",
              "    .dataframe tbody tr th:only-of-type {\n",
              "        vertical-align: middle;\n",
              "    }\n",
              "\n",
              "    .dataframe tbody tr th {\n",
              "        vertical-align: top;\n",
              "    }\n",
              "\n",
              "    .dataframe thead th {\n",
              "        text-align: right;\n",
              "    }\n",
              "</style>\n",
              "<table border=\"1\" class=\"dataframe\">\n",
              "  <thead>\n",
              "    <tr style=\"text-align: right;\">\n",
              "      <th></th>\n",
              "      <th>item_category_name</th>\n",
              "      <th>item_category_id</th>\n",
              "      <th>split</th>\n",
              "      <th>type</th>\n",
              "    </tr>\n",
              "  </thead>\n",
              "  <tbody>\n",
              "    <tr>\n",
              "      <th>0</th>\n",
              "      <td>PC - Гарнитуры/Наушники</td>\n",
              "      <td>0</td>\n",
              "      <td>[PC ,  Гарнитуры/Наушники]</td>\n",
              "      <td>PC</td>\n",
              "    </tr>\n",
              "    <tr>\n",
              "      <th>1</th>\n",
              "      <td>Аксессуары - PS2</td>\n",
              "      <td>1</td>\n",
              "      <td>[Аксессуары ,  PS2]</td>\n",
              "      <td>Аксессуары</td>\n",
              "    </tr>\n",
              "    <tr>\n",
              "      <th>2</th>\n",
              "      <td>Аксессуары - PS3</td>\n",
              "      <td>2</td>\n",
              "      <td>[Аксессуары ,  PS3]</td>\n",
              "      <td>Аксессуары</td>\n",
              "    </tr>\n",
              "    <tr>\n",
              "      <th>3</th>\n",
              "      <td>Аксессуары - PS4</td>\n",
              "      <td>3</td>\n",
              "      <td>[Аксессуары ,  PS4]</td>\n",
              "      <td>Аксессуары</td>\n",
              "    </tr>\n",
              "    <tr>\n",
              "      <th>4</th>\n",
              "      <td>Аксессуары - PSP</td>\n",
              "      <td>4</td>\n",
              "      <td>[Аксессуары ,  PSP]</td>\n",
              "      <td>Аксессуары</td>\n",
              "    </tr>\n",
              "  </tbody>\n",
              "</table>\n",
              "</div>"
            ],
            "text/plain": [
              "        item_category_name  ...        type\n",
              "0  PC - Гарнитуры/Наушники  ...          PC\n",
              "1         Аксессуары - PS2  ...  Аксессуары\n",
              "2         Аксессуары - PS3  ...  Аксессуары\n",
              "3         Аксессуары - PS4  ...  Аксессуары\n",
              "4         Аксессуары - PSP  ...  Аксессуары\n",
              "\n",
              "[5 rows x 4 columns]"
            ]
          },
          "metadata": {
            "tags": []
          },
          "execution_count": 21
        }
      ]
    },
    {
      "cell_type": "code",
      "metadata": {
        "id": "JqBclKzKvrJo"
      },
      "source": [
        "# type 인코딩 해주기\r\n",
        "LE = LabelEncoder()\r\n",
        "LE.fit(list(categ['type'].values))\r\n",
        "categ['type_num']= LE.transform(list(categ['type'].values))"
      ],
      "execution_count": 22,
      "outputs": []
    },
    {
      "cell_type": "code",
      "metadata": {
        "id": "UBfFyb8fy49O",
        "colab": {
          "base_uri": "https://localhost:8080/",
          "height": 137
        },
        "outputId": "6cf09895-9c07-4d16-ccda-bea84133e167"
      },
      "source": [
        "categ.head(3)"
      ],
      "execution_count": 23,
      "outputs": [
        {
          "output_type": "execute_result",
          "data": {
            "text/html": [
              "<div>\n",
              "<style scoped>\n",
              "    .dataframe tbody tr th:only-of-type {\n",
              "        vertical-align: middle;\n",
              "    }\n",
              "\n",
              "    .dataframe tbody tr th {\n",
              "        vertical-align: top;\n",
              "    }\n",
              "\n",
              "    .dataframe thead th {\n",
              "        text-align: right;\n",
              "    }\n",
              "</style>\n",
              "<table border=\"1\" class=\"dataframe\">\n",
              "  <thead>\n",
              "    <tr style=\"text-align: right;\">\n",
              "      <th></th>\n",
              "      <th>item_category_name</th>\n",
              "      <th>item_category_id</th>\n",
              "      <th>split</th>\n",
              "      <th>type</th>\n",
              "      <th>type_num</th>\n",
              "    </tr>\n",
              "  </thead>\n",
              "  <tbody>\n",
              "    <tr>\n",
              "      <th>0</th>\n",
              "      <td>PC - Гарнитуры/Наушники</td>\n",
              "      <td>0</td>\n",
              "      <td>[PC ,  Гарнитуры/Наушники]</td>\n",
              "      <td>PC</td>\n",
              "      <td>0</td>\n",
              "    </tr>\n",
              "    <tr>\n",
              "      <th>1</th>\n",
              "      <td>Аксессуары - PS2</td>\n",
              "      <td>1</td>\n",
              "      <td>[Аксессуары ,  PS2]</td>\n",
              "      <td>Аксессуары</td>\n",
              "      <td>1</td>\n",
              "    </tr>\n",
              "    <tr>\n",
              "      <th>2</th>\n",
              "      <td>Аксессуары - PS3</td>\n",
              "      <td>2</td>\n",
              "      <td>[Аксессуары ,  PS3]</td>\n",
              "      <td>Аксессуары</td>\n",
              "      <td>1</td>\n",
              "    </tr>\n",
              "  </tbody>\n",
              "</table>\n",
              "</div>"
            ],
            "text/plain": [
              "        item_category_name  item_category_id  ...        type type_num\n",
              "0  PC - Гарнитуры/Наушники                 0  ...          PC        0\n",
              "1         Аксессуары - PS2                 1  ...  Аксессуары        1\n",
              "2         Аксессуары - PS3                 2  ...  Аксессуары        1\n",
              "\n",
              "[3 rows x 5 columns]"
            ]
          },
          "metadata": {
            "tags": []
          },
          "execution_count": 23
        }
      ]
    },
    {
      "cell_type": "code",
      "metadata": {
        "id": "5zTpldT9zCk_"
      },
      "source": [
        "#split에서 두번째 subtype만 따로 꺼내주기\r\n",
        "categ['subtype'] = categ['split'].map(lambda x:x[1].strip() if len(x) > 1 else x[0].strip())"
      ],
      "execution_count": 24,
      "outputs": []
    },
    {
      "cell_type": "code",
      "metadata": {
        "id": "OUQDiIUQzCnH"
      },
      "source": [
        "#subtype 인코딩해주기\r\n",
        "LE = LabelEncoder()\r\n",
        "LE.fit(list(categ['subtype'].values))\r\n",
        "categ['subtype_num'] = LE.transform(list(categ['subtype'].values))"
      ],
      "execution_count": 25,
      "outputs": []
    },
    {
      "cell_type": "code",
      "metadata": {
        "id": "o2u_dfAK_BnP",
        "colab": {
          "base_uri": "https://localhost:8080/",
          "height": 317
        },
        "outputId": "7c8a7dfd-c64e-4f00-87f4-745a2f8ea85e"
      },
      "source": [
        "categ.head()"
      ],
      "execution_count": 26,
      "outputs": [
        {
          "output_type": "execute_result",
          "data": {
            "text/html": [
              "<div>\n",
              "<style scoped>\n",
              "    .dataframe tbody tr th:only-of-type {\n",
              "        vertical-align: middle;\n",
              "    }\n",
              "\n",
              "    .dataframe tbody tr th {\n",
              "        vertical-align: top;\n",
              "    }\n",
              "\n",
              "    .dataframe thead th {\n",
              "        text-align: right;\n",
              "    }\n",
              "</style>\n",
              "<table border=\"1\" class=\"dataframe\">\n",
              "  <thead>\n",
              "    <tr style=\"text-align: right;\">\n",
              "      <th></th>\n",
              "      <th>item_category_name</th>\n",
              "      <th>item_category_id</th>\n",
              "      <th>split</th>\n",
              "      <th>type</th>\n",
              "      <th>type_num</th>\n",
              "      <th>subtype</th>\n",
              "      <th>subtype_num</th>\n",
              "    </tr>\n",
              "  </thead>\n",
              "  <tbody>\n",
              "    <tr>\n",
              "      <th>0</th>\n",
              "      <td>PC - Гарнитуры/Наушники</td>\n",
              "      <td>0</td>\n",
              "      <td>[PC ,  Гарнитуры/Наушники]</td>\n",
              "      <td>PC</td>\n",
              "      <td>0</td>\n",
              "      <td>Гарнитуры/Наушники</td>\n",
              "      <td>29</td>\n",
              "    </tr>\n",
              "    <tr>\n",
              "      <th>1</th>\n",
              "      <td>Аксессуары - PS2</td>\n",
              "      <td>1</td>\n",
              "      <td>[Аксессуары ,  PS2]</td>\n",
              "      <td>Аксессуары</td>\n",
              "      <td>1</td>\n",
              "      <td>PS2</td>\n",
              "      <td>9</td>\n",
              "    </tr>\n",
              "    <tr>\n",
              "      <th>2</th>\n",
              "      <td>Аксессуары - PS3</td>\n",
              "      <td>2</td>\n",
              "      <td>[Аксессуары ,  PS3]</td>\n",
              "      <td>Аксессуары</td>\n",
              "      <td>1</td>\n",
              "      <td>PS3</td>\n",
              "      <td>10</td>\n",
              "    </tr>\n",
              "    <tr>\n",
              "      <th>3</th>\n",
              "      <td>Аксессуары - PS4</td>\n",
              "      <td>3</td>\n",
              "      <td>[Аксессуары ,  PS4]</td>\n",
              "      <td>Аксессуары</td>\n",
              "      <td>1</td>\n",
              "      <td>PS4</td>\n",
              "      <td>11</td>\n",
              "    </tr>\n",
              "    <tr>\n",
              "      <th>4</th>\n",
              "      <td>Аксессуары - PSP</td>\n",
              "      <td>4</td>\n",
              "      <td>[Аксессуары ,  PSP]</td>\n",
              "      <td>Аксессуары</td>\n",
              "      <td>1</td>\n",
              "      <td>PSP</td>\n",
              "      <td>13</td>\n",
              "    </tr>\n",
              "  </tbody>\n",
              "</table>\n",
              "</div>"
            ],
            "text/plain": [
              "        item_category_name  item_category_id  ...             subtype subtype_num\n",
              "0  PC - Гарнитуры/Наушники                 0  ...  Гарнитуры/Наушники          29\n",
              "1         Аксессуары - PS2                 1  ...                 PS2           9\n",
              "2         Аксессуары - PS3                 2  ...                 PS3          10\n",
              "3         Аксессуары - PS4                 3  ...                 PS4          11\n",
              "4         Аксессуары - PSP                 4  ...                 PSP          13\n",
              "\n",
              "[5 rows x 7 columns]"
            ]
          },
          "metadata": {
            "tags": []
          },
          "execution_count": 26
        }
      ]
    },
    {
      "cell_type": "code",
      "metadata": {
        "id": "hcSExzdT_ES9"
      },
      "source": [
        "categ= categ[['item_category_id','type_num','subtype_num']]"
      ],
      "execution_count": 27,
      "outputs": []
    },
    {
      "cell_type": "code",
      "metadata": {
        "id": "v9eOLyKS_P-G",
        "colab": {
          "base_uri": "https://localhost:8080/",
          "height": 137
        },
        "outputId": "72ceb553-ae4f-4768-9da6-b2c9b282beb7"
      },
      "source": [
        "categ.head(3)"
      ],
      "execution_count": 28,
      "outputs": [
        {
          "output_type": "execute_result",
          "data": {
            "text/html": [
              "<div>\n",
              "<style scoped>\n",
              "    .dataframe tbody tr th:only-of-type {\n",
              "        vertical-align: middle;\n",
              "    }\n",
              "\n",
              "    .dataframe tbody tr th {\n",
              "        vertical-align: top;\n",
              "    }\n",
              "\n",
              "    .dataframe thead th {\n",
              "        text-align: right;\n",
              "    }\n",
              "</style>\n",
              "<table border=\"1\" class=\"dataframe\">\n",
              "  <thead>\n",
              "    <tr style=\"text-align: right;\">\n",
              "      <th></th>\n",
              "      <th>item_category_id</th>\n",
              "      <th>type_num</th>\n",
              "      <th>subtype_num</th>\n",
              "    </tr>\n",
              "  </thead>\n",
              "  <tbody>\n",
              "    <tr>\n",
              "      <th>0</th>\n",
              "      <td>0</td>\n",
              "      <td>0</td>\n",
              "      <td>29</td>\n",
              "    </tr>\n",
              "    <tr>\n",
              "      <th>1</th>\n",
              "      <td>1</td>\n",
              "      <td>1</td>\n",
              "      <td>9</td>\n",
              "    </tr>\n",
              "    <tr>\n",
              "      <th>2</th>\n",
              "      <td>2</td>\n",
              "      <td>1</td>\n",
              "      <td>10</td>\n",
              "    </tr>\n",
              "  </tbody>\n",
              "</table>\n",
              "</div>"
            ],
            "text/plain": [
              "   item_category_id  type_num  subtype_num\n",
              "0                 0         0           29\n",
              "1                 1         1            9\n",
              "2                 2         1           10"
            ]
          },
          "metadata": {
            "tags": []
          },
          "execution_count": 28
        }
      ]
    },
    {
      "cell_type": "markdown",
      "metadata": {
        "id": "YGGLGRCN_aKM"
      },
      "source": [
        "Items data"
      ]
    },
    {
      "cell_type": "code",
      "metadata": {
        "id": "RSZXcCLp_ZZP",
        "colab": {
          "base_uri": "https://localhost:8080/",
          "height": 137
        },
        "outputId": "450da8b7-f989-42a4-b2c0-82366a343cb6"
      },
      "source": [
        "items.head(3)"
      ],
      "execution_count": 29,
      "outputs": [
        {
          "output_type": "execute_result",
          "data": {
            "text/html": [
              "<div>\n",
              "<style scoped>\n",
              "    .dataframe tbody tr th:only-of-type {\n",
              "        vertical-align: middle;\n",
              "    }\n",
              "\n",
              "    .dataframe tbody tr th {\n",
              "        vertical-align: top;\n",
              "    }\n",
              "\n",
              "    .dataframe thead th {\n",
              "        text-align: right;\n",
              "    }\n",
              "</style>\n",
              "<table border=\"1\" class=\"dataframe\">\n",
              "  <thead>\n",
              "    <tr style=\"text-align: right;\">\n",
              "      <th></th>\n",
              "      <th>item_name</th>\n",
              "      <th>item_id</th>\n",
              "      <th>item_category_id</th>\n",
              "    </tr>\n",
              "  </thead>\n",
              "  <tbody>\n",
              "    <tr>\n",
              "      <th>0</th>\n",
              "      <td>! ВО ВЛАСТИ НАВАЖДЕНИЯ (ПЛАСТ.)         D</td>\n",
              "      <td>0</td>\n",
              "      <td>40</td>\n",
              "    </tr>\n",
              "    <tr>\n",
              "      <th>1</th>\n",
              "      <td>!ABBYY FineReader 12 Professional Edition Full...</td>\n",
              "      <td>1</td>\n",
              "      <td>76</td>\n",
              "    </tr>\n",
              "    <tr>\n",
              "      <th>2</th>\n",
              "      <td>***В ЛУЧАХ СЛАВЫ   (UNV)                    D</td>\n",
              "      <td>2</td>\n",
              "      <td>40</td>\n",
              "    </tr>\n",
              "  </tbody>\n",
              "</table>\n",
              "</div>"
            ],
            "text/plain": [
              "                                           item_name  item_id  item_category_id\n",
              "0          ! ВО ВЛАСТИ НАВАЖДЕНИЯ (ПЛАСТ.)         D        0                40\n",
              "1  !ABBYY FineReader 12 Professional Edition Full...        1                76\n",
              "2      ***В ЛУЧАХ СЛАВЫ   (UNV)                    D        2                40"
            ]
          },
          "metadata": {
            "tags": []
          },
          "execution_count": 29
        }
      ]
    },
    {
      "cell_type": "code",
      "metadata": {
        "id": "5BPHCYYT_fEL"
      },
      "source": [
        "#name 제거해주기\r\n",
        "items.drop(['item_name'], axis=1, inplace=True)"
      ],
      "execution_count": 30,
      "outputs": []
    },
    {
      "cell_type": "code",
      "metadata": {
        "id": "owVfJUv6_-oc",
        "colab": {
          "base_uri": "https://localhost:8080/"
        },
        "outputId": "9e47a6d9-bc64-4ac2-f1aa-2c8e6b91a1a8"
      },
      "source": [
        "#test data에서 shop_id의 개수\r\n",
        "\r\n",
        "len(test.shop_id.unique())"
      ],
      "execution_count": 31,
      "outputs": [
        {
          "output_type": "execute_result",
          "data": {
            "text/plain": [
              "42"
            ]
          },
          "metadata": {
            "tags": []
          },
          "execution_count": 31
        }
      ]
    },
    {
      "cell_type": "code",
      "metadata": {
        "id": "Mav3dVe9_-vg",
        "colab": {
          "base_uri": "https://localhost:8080/"
        },
        "outputId": "c28e7191-72dc-4678-c47b-70b4dc083d30"
      },
      "source": [
        "len(test.item_id.unique())"
      ],
      "execution_count": 32,
      "outputs": [
        {
          "output_type": "execute_result",
          "data": {
            "text/plain": [
              "5100"
            ]
          },
          "metadata": {
            "tags": []
          },
          "execution_count": 32
        }
      ]
    },
    {
      "cell_type": "code",
      "metadata": {
        "id": "Jf9XVN4VBoKK",
        "colab": {
          "base_uri": "https://localhost:8080/"
        },
        "outputId": "f3fcb274-6775-4d1c-bea0-e680eee2f9a1"
      },
      "source": [
        "#shop이 42개, item이 5100개이므로, 총 test data개수는 42x5100=214200개\r\n",
        "len(test)"
      ],
      "execution_count": 33,
      "outputs": [
        {
          "output_type": "execute_result",
          "data": {
            "text/plain": [
              "214200"
            ]
          },
          "metadata": {
            "tags": []
          },
          "execution_count": 33
        }
      ]
    },
    {
      "cell_type": "code",
      "metadata": {
        "id": "wQXOZUOrB6iV",
        "colab": {
          "base_uri": "https://localhost:8080/"
        },
        "outputId": "457206fd-baf3-471e-c019-bdf6f4a1648c"
      },
      "source": [
        "#set() -> 자료형, 집합에 관련된 것을 쉽게 처리 ex) s2=set(\"hello\"), s2= {'e','h','l',o'}\r\n",
        "\r\n",
        "len(set(test.item_id)-set(train.item_id))"
      ],
      "execution_count": 34,
      "outputs": [
        {
          "output_type": "execute_result",
          "data": {
            "text/plain": [
              "363"
            ]
          },
          "metadata": {
            "tags": []
          },
          "execution_count": 34
        }
      ]
    },
    {
      "cell_type": "code",
      "metadata": {
        "id": "Zble8_a5UOlc",
        "colab": {
          "base_uri": "https://localhost:8080/"
        },
        "outputId": "ec278277-011e-4ab4-e0cb-d1cff853c315"
      },
      "source": [
        "#shop id 개수 비교\r\n",
        "len(set(test.shop_id)-set(train.shop_id))"
      ],
      "execution_count": 35,
      "outputs": [
        {
          "output_type": "execute_result",
          "data": {
            "text/plain": [
              "0"
            ]
          },
          "metadata": {
            "tags": []
          },
          "execution_count": 35
        }
      ]
    },
    {
      "cell_type": "markdown",
      "metadata": {
        "id": "CGTOzKFoCdQH"
      },
      "source": [
        " 즉 test에는 있는데, train에는 없는 item_id는 총 650개이다. -> 즉 item 단위로 모델을 구성하면 X(train data에는 없으니까)\r\n",
        "\r\n",
        " 이때 test와 train에 있는 shop의 개수는 동일하다.\r\n",
        "\r\n",
        " 이때 train의 feature중 date_block_num은 월을 0부터 연속된 수로 반환한 것이다.\r\n",
        " (13년 1월=0, 2월=1, ... , 14년 1월 =12)\r\n",
        "\r\n"
      ]
    },
    {
      "cell_type": "code",
      "metadata": {
        "id": "RnD72OhpDSo7",
        "colab": {
          "base_uri": "https://localhost:8080/"
        },
        "outputId": "f0a77703-7f1c-4e7b-8127-66abfa28576d"
      },
      "source": [
        "#value_counts() : 유일한 값별로 개수 세기 ex) aaabbc -> a:3개 ,b:2개, c:1개\r\n",
        "#train data에서 월별로 개수\r\n",
        "len(train.date_block_num.value_counts())"
      ],
      "execution_count": 36,
      "outputs": [
        {
          "output_type": "execute_result",
          "data": {
            "text/plain": [
              "34"
            ]
          },
          "metadata": {
            "tags": []
          },
          "execution_count": 36
        }
      ]
    },
    {
      "cell_type": "markdown",
      "metadata": {
        "id": "fAB9ai9CD3qz"
      },
      "source": [
        "즉 총 34개의 달이 존재\r\n",
        "이때 우리는 (월, 상점, 상품)을 기준으로 하는 데이터프레임을 만들 필요가 있다\r\n",
        "(우리가 예측할 것이 개별 (월, 상점, 상품)의 상품판매량이기때문)"
      ]
    },
    {
      "cell_type": "code",
      "metadata": {
        "id": "bMJKbHOBDtxQ"
      },
      "source": [
        "from itertools import product\r\n",
        "matrix=[]\r\n",
        "cols=['date_block_num','shop_id','item_id']\r\n",
        "\r\n",
        "#각 달에 각shop에서 팔린 item들을 matrix에 append\r\n",
        "for i in range(34):\r\n",
        "  sales = train[train.date_block_num==i]\r\n",
        "  matrix.append(np.array(list(product([i], sales.shop_id.unique(), sales.item_id.unique())), dtype='int16'))\r\n",
        "\r\n",
        "matrix = pd.DataFrame(np.vstack(matrix), columns=cols)\r\n",
        "matrix['date_block_num'] = matrix['date_block_num'].astype(np.int8)\r\n",
        "matrix['shop_id'] = matrix['shop_id'].astype(np.int8)\r\n",
        "matrix['item_id'] = matrix['item_id'].astype(np.int16)\r\n",
        "#matrix 정렬하기\r\n",
        "matrix.sort_values(cols, inplace=True)"
      ],
      "execution_count": 37,
      "outputs": []
    },
    {
      "cell_type": "markdown",
      "metadata": {
        "id": "BuxMBfXIxvBF"
      },
      "source": [
        "각 달에 각각의 shop과 그 shop에서 팔린 각각의 item들을 matrix로 정리함"
      ]
    },
    {
      "cell_type": "code",
      "metadata": {
        "id": "aRCSrEHwxqtj",
        "colab": {
          "base_uri": "https://localhost:8080/",
          "height": 196
        },
        "outputId": "0e4a4a73-2fe4-4ddc-88e0-12b29b501087"
      },
      "source": [
        "#matrix 생성\r\n",
        "matrix.head()"
      ],
      "execution_count": 38,
      "outputs": [
        {
          "output_type": "execute_result",
          "data": {
            "text/html": [
              "<div>\n",
              "<style scoped>\n",
              "    .dataframe tbody tr th:only-of-type {\n",
              "        vertical-align: middle;\n",
              "    }\n",
              "\n",
              "    .dataframe tbody tr th {\n",
              "        vertical-align: top;\n",
              "    }\n",
              "\n",
              "    .dataframe thead th {\n",
              "        text-align: right;\n",
              "    }\n",
              "</style>\n",
              "<table border=\"1\" class=\"dataframe\">\n",
              "  <thead>\n",
              "    <tr style=\"text-align: right;\">\n",
              "      <th></th>\n",
              "      <th>date_block_num</th>\n",
              "      <th>shop_id</th>\n",
              "      <th>item_id</th>\n",
              "    </tr>\n",
              "  </thead>\n",
              "  <tbody>\n",
              "    <tr>\n",
              "      <th>139168</th>\n",
              "      <td>0</td>\n",
              "      <td>0</td>\n",
              "      <td>19</td>\n",
              "    </tr>\n",
              "    <tr>\n",
              "      <th>141406</th>\n",
              "      <td>0</td>\n",
              "      <td>0</td>\n",
              "      <td>27</td>\n",
              "    </tr>\n",
              "    <tr>\n",
              "      <th>144881</th>\n",
              "      <td>0</td>\n",
              "      <td>0</td>\n",
              "      <td>28</td>\n",
              "    </tr>\n",
              "    <tr>\n",
              "      <th>142572</th>\n",
              "      <td>0</td>\n",
              "      <td>0</td>\n",
              "      <td>29</td>\n",
              "    </tr>\n",
              "    <tr>\n",
              "      <th>138861</th>\n",
              "      <td>0</td>\n",
              "      <td>0</td>\n",
              "      <td>32</td>\n",
              "    </tr>\n",
              "  </tbody>\n",
              "</table>\n",
              "</div>"
            ],
            "text/plain": [
              "        date_block_num  shop_id  item_id\n",
              "139168               0        0       19\n",
              "141406               0        0       27\n",
              "144881               0        0       28\n",
              "142572               0        0       29\n",
              "138861               0        0       32"
            ]
          },
          "metadata": {
            "tags": []
          },
          "execution_count": 38
        }
      ]
    },
    {
      "cell_type": "markdown",
      "metadata": {
        "id": "x4UYYtpa3xFU"
      },
      "source": [
        "3개의 단위로 월 세일즈량을 추가해줘야한다\r\n",
        "극단 값에 robust하기 위해 범위는0-20\r\n",
        "결측치는 일단 0으로 채워줌"
      ]
    },
    {
      "cell_type": "code",
      "metadata": {
        "id": "KswP51Er0iwn"
      },
      "source": [
        "#월별 합계계산\r\n",
        "group = train.groupby(['date_block_num','shop_id','item_id']).agg({'item_cnt_day' : ['sum']})\r\n",
        "group.columns=['item_cnt_month']\r\n",
        "group.reset_index(inplace=True)\r\n",
        "\r\n",
        "matrix = pd.merge(matrix, group, on=cols, how='left')\r\n",
        "matrix['item_cnt_month'] = (matrix['item_cnt_month'].fillna(0).clip(0,20).astype(np.float16))"
      ],
      "execution_count": 39,
      "outputs": []
    },
    {
      "cell_type": "markdown",
      "metadata": {
        "id": "E45UqL-N1G6x"
      },
      "source": [
        "matrix를 date_block_num, shop_id, item_id에 대해서 group by한 뒤 agg를 이용해 월별 합계를 계산"
      ]
    },
    {
      "cell_type": "code",
      "metadata": {
        "id": "9Z0kt292yvXW",
        "colab": {
          "base_uri": "https://localhost:8080/",
          "height": 226
        },
        "outputId": "05fe5495-308e-49ca-828e-8bac12c122cb"
      },
      "source": [
        "#test data도 같은 형태로 만들어주기\r\n",
        "\r\n",
        "#test data 는 2015년 11월을 예측. 즉 dateblocknum은 34\r\n",
        "test['date_block_num'] = 34\r\n",
        "test['date_block_num'] = test['date_block_num'].astype(np.int8)\r\n",
        "test['shop_id'] = test['shop_id'].astype(np.int8)\r\n",
        "test['item_id'] = test['item_id'].astype(np.int16)\r\n",
        "test.head()"
      ],
      "execution_count": 40,
      "outputs": [
        {
          "output_type": "execute_result",
          "data": {
            "text/html": [
              "<div>\n",
              "<style scoped>\n",
              "    .dataframe tbody tr th:only-of-type {\n",
              "        vertical-align: middle;\n",
              "    }\n",
              "\n",
              "    .dataframe tbody tr th {\n",
              "        vertical-align: top;\n",
              "    }\n",
              "\n",
              "    .dataframe thead th {\n",
              "        text-align: right;\n",
              "    }\n",
              "</style>\n",
              "<table border=\"1\" class=\"dataframe\">\n",
              "  <thead>\n",
              "    <tr style=\"text-align: right;\">\n",
              "      <th></th>\n",
              "      <th>shop_id</th>\n",
              "      <th>item_id</th>\n",
              "      <th>date_block_num</th>\n",
              "    </tr>\n",
              "    <tr>\n",
              "      <th>ID</th>\n",
              "      <th></th>\n",
              "      <th></th>\n",
              "      <th></th>\n",
              "    </tr>\n",
              "  </thead>\n",
              "  <tbody>\n",
              "    <tr>\n",
              "      <th>0</th>\n",
              "      <td>5</td>\n",
              "      <td>5037</td>\n",
              "      <td>34</td>\n",
              "    </tr>\n",
              "    <tr>\n",
              "      <th>1</th>\n",
              "      <td>5</td>\n",
              "      <td>5320</td>\n",
              "      <td>34</td>\n",
              "    </tr>\n",
              "    <tr>\n",
              "      <th>2</th>\n",
              "      <td>5</td>\n",
              "      <td>5233</td>\n",
              "      <td>34</td>\n",
              "    </tr>\n",
              "    <tr>\n",
              "      <th>3</th>\n",
              "      <td>5</td>\n",
              "      <td>5232</td>\n",
              "      <td>34</td>\n",
              "    </tr>\n",
              "    <tr>\n",
              "      <th>4</th>\n",
              "      <td>5</td>\n",
              "      <td>5268</td>\n",
              "      <td>34</td>\n",
              "    </tr>\n",
              "  </tbody>\n",
              "</table>\n",
              "</div>"
            ],
            "text/plain": [
              "    shop_id  item_id  date_block_num\n",
              "ID                                  \n",
              "0         5     5037              34\n",
              "1         5     5320              34\n",
              "2         5     5233              34\n",
              "3         5     5232              34\n",
              "4         5     5268              34"
            ]
          },
          "metadata": {
            "tags": []
          },
          "execution_count": 40
        }
      ]
    },
    {
      "cell_type": "code",
      "metadata": {
        "id": "00eHhpaO4O4_"
      },
      "source": [
        "#test dataset도 위에서 만들어준 matrix에 merge해주기->matrix는 train+test set\r\n",
        "\r\n",
        "matrix = pd.concat([matrix, test], ignore_index=True, sort = False, keys=cols)\r\n",
        "matrix.fillna(0, inplace=True)"
      ],
      "execution_count": 41,
      "outputs": []
    },
    {
      "cell_type": "code",
      "metadata": {
        "id": "D9K4W9398hbi",
        "colab": {
          "base_uri": "https://localhost:8080/",
          "height": 137
        },
        "outputId": "95b608f4-bd2b-4c05-b2d9-00f5b8c4c7a3"
      },
      "source": [
        "matrix.tail(3)"
      ],
      "execution_count": 42,
      "outputs": [
        {
          "output_type": "execute_result",
          "data": {
            "text/html": [
              "<div>\n",
              "<style scoped>\n",
              "    .dataframe tbody tr th:only-of-type {\n",
              "        vertical-align: middle;\n",
              "    }\n",
              "\n",
              "    .dataframe tbody tr th {\n",
              "        vertical-align: top;\n",
              "    }\n",
              "\n",
              "    .dataframe thead th {\n",
              "        text-align: right;\n",
              "    }\n",
              "</style>\n",
              "<table border=\"1\" class=\"dataframe\">\n",
              "  <thead>\n",
              "    <tr style=\"text-align: right;\">\n",
              "      <th></th>\n",
              "      <th>date_block_num</th>\n",
              "      <th>shop_id</th>\n",
              "      <th>item_id</th>\n",
              "      <th>item_cnt_month</th>\n",
              "    </tr>\n",
              "  </thead>\n",
              "  <tbody>\n",
              "    <tr>\n",
              "      <th>11098705</th>\n",
              "      <td>34</td>\n",
              "      <td>45</td>\n",
              "      <td>15757</td>\n",
              "      <td>0.0</td>\n",
              "    </tr>\n",
              "    <tr>\n",
              "      <th>11098706</th>\n",
              "      <td>34</td>\n",
              "      <td>45</td>\n",
              "      <td>19648</td>\n",
              "      <td>0.0</td>\n",
              "    </tr>\n",
              "    <tr>\n",
              "      <th>11098707</th>\n",
              "      <td>34</td>\n",
              "      <td>45</td>\n",
              "      <td>969</td>\n",
              "      <td>0.0</td>\n",
              "    </tr>\n",
              "  </tbody>\n",
              "</table>\n",
              "</div>"
            ],
            "text/plain": [
              "          date_block_num  shop_id  item_id  item_cnt_month\n",
              "11098705              34       45    15757             0.0\n",
              "11098706              34       45    19648             0.0\n",
              "11098707              34       45      969             0.0"
            ]
          },
          "metadata": {
            "tags": []
          },
          "execution_count": 42
        }
      ]
    },
    {
      "cell_type": "markdown",
      "metadata": {
        "id": "hBIi2Qr84nbV"
      },
      "source": [
        "## Feauture engineering"
      ]
    },
    {
      "cell_type": "code",
      "metadata": {
        "id": "M746MMXS4lwf"
      },
      "source": [
        "#위에서 만들어놨던 city_code, item_category_id, type_code, subtype_code를 matrix의 feature로 넣기\r\n",
        "\r\n",
        "matrix = pd.merge(matrix, shops, on=['shop_id'], how='left')\r\n",
        "matrix = pd.merge(matrix, items, on=['item_id'], how='left')\r\n",
        "matrix = pd.merge(matrix, categ, on=['item_category_id'], how='left')\r\n",
        "matrix['city'] = matrix['city'].astype(np.int8)\r\n",
        "matrix['item_category_id'] = matrix['item_category_id'].astype(np.int8)\r\n",
        "matrix['type_num'] = matrix['type_num'].astype(np.int8)\r\n",
        "matrix['subtype_num'] = matrix['subtype_num'].astype(np.int8)"
      ],
      "execution_count": 43,
      "outputs": []
    },
    {
      "cell_type": "code",
      "metadata": {
        "id": "FqdJ8ADF6E7x",
        "colab": {
          "base_uri": "https://localhost:8080/",
          "height": 216
        },
        "outputId": "fb00acd1-036c-4901-b09e-aa1b7d1e32bf"
      },
      "source": [
        "matrix.head()"
      ],
      "execution_count": 44,
      "outputs": [
        {
          "output_type": "execute_result",
          "data": {
            "text/html": [
              "<div>\n",
              "<style scoped>\n",
              "    .dataframe tbody tr th:only-of-type {\n",
              "        vertical-align: middle;\n",
              "    }\n",
              "\n",
              "    .dataframe tbody tr th {\n",
              "        vertical-align: top;\n",
              "    }\n",
              "\n",
              "    .dataframe thead th {\n",
              "        text-align: right;\n",
              "    }\n",
              "</style>\n",
              "<table border=\"1\" class=\"dataframe\">\n",
              "  <thead>\n",
              "    <tr style=\"text-align: right;\">\n",
              "      <th></th>\n",
              "      <th>date_block_num</th>\n",
              "      <th>shop_id</th>\n",
              "      <th>item_id</th>\n",
              "      <th>item_cnt_month</th>\n",
              "      <th>city</th>\n",
              "      <th>item_category_id</th>\n",
              "      <th>type_num</th>\n",
              "      <th>subtype_num</th>\n",
              "    </tr>\n",
              "  </thead>\n",
              "  <tbody>\n",
              "    <tr>\n",
              "      <th>0</th>\n",
              "      <td>0</td>\n",
              "      <td>0</td>\n",
              "      <td>19</td>\n",
              "      <td>0.0</td>\n",
              "      <td>0</td>\n",
              "      <td>40</td>\n",
              "      <td>11</td>\n",
              "      <td>4</td>\n",
              "    </tr>\n",
              "    <tr>\n",
              "      <th>1</th>\n",
              "      <td>0</td>\n",
              "      <td>0</td>\n",
              "      <td>27</td>\n",
              "      <td>0.0</td>\n",
              "      <td>0</td>\n",
              "      <td>19</td>\n",
              "      <td>5</td>\n",
              "      <td>10</td>\n",
              "    </tr>\n",
              "    <tr>\n",
              "      <th>2</th>\n",
              "      <td>0</td>\n",
              "      <td>0</td>\n",
              "      <td>28</td>\n",
              "      <td>0.0</td>\n",
              "      <td>0</td>\n",
              "      <td>30</td>\n",
              "      <td>8</td>\n",
              "      <td>55</td>\n",
              "    </tr>\n",
              "    <tr>\n",
              "      <th>3</th>\n",
              "      <td>0</td>\n",
              "      <td>0</td>\n",
              "      <td>29</td>\n",
              "      <td>0.0</td>\n",
              "      <td>0</td>\n",
              "      <td>23</td>\n",
              "      <td>5</td>\n",
              "      <td>16</td>\n",
              "    </tr>\n",
              "    <tr>\n",
              "      <th>4</th>\n",
              "      <td>0</td>\n",
              "      <td>0</td>\n",
              "      <td>32</td>\n",
              "      <td>6.0</td>\n",
              "      <td>0</td>\n",
              "      <td>40</td>\n",
              "      <td>11</td>\n",
              "      <td>4</td>\n",
              "    </tr>\n",
              "  </tbody>\n",
              "</table>\n",
              "</div>"
            ],
            "text/plain": [
              "   date_block_num  shop_id  item_id  ...  item_category_id  type_num  subtype_num\n",
              "0               0        0       19  ...                40        11            4\n",
              "1               0        0       27  ...                19         5           10\n",
              "2               0        0       28  ...                30         8           55\n",
              "3               0        0       29  ...                23         5           16\n",
              "4               0        0       32  ...                40        11            4\n",
              "\n",
              "[5 rows x 8 columns]"
            ]
          },
          "metadata": {
            "tags": []
          },
          "execution_count": 44
        }
      ]
    },
    {
      "cell_type": "markdown",
      "metadata": {
        "id": "y865yor69BFV"
      },
      "source": [
        "lag feature들 생성\r\n",
        "(해당 달의 이전 달들의 여러값(Lag)을 현재 달의 Feature로 둘 필요가 있음)"
      ]
    },
    {
      "cell_type": "code",
      "metadata": {
        "id": "V2b8lbiC8t9b"
      },
      "source": [
        "def lag_feature(df, lags, col):\r\n",
        "    \"\"\"\r\n",
        "    이전 달의 feature 들을, 현재 월의 feature 로 둡니다.\r\n",
        "    이 떄, 이전 달들의 정보는 lags 에,\r\n",
        "    사용할 feature 들은 col 에 담겨져 있습니다.\r\n",
        "    \"\"\"\r\n",
        "    tmp = df[['date_block_num','shop_id','item_id',col]]\r\n",
        "    for i in lags:\r\n",
        "        shifted = tmp.copy()\r\n",
        "        shifted.columns = ['date_block_num','shop_id','item_id', col+'_lag_'+str(i)]\r\n",
        "        shifted['date_block_num'] += i\r\n",
        "        df = pd.merge(df, shifted, on=['date_block_num','shop_id','item_id'], how='left')\r\n",
        "    return df"
      ],
      "execution_count": 45,
      "outputs": []
    },
    {
      "cell_type": "code",
      "metadata": {
        "id": "oMAZL2Fn-LoS"
      },
      "source": [
        "matrix = lag_feature(matrix, [1,2,3,6,12], 'item_cnt_month')"
      ],
      "execution_count": 46,
      "outputs": []
    },
    {
      "cell_type": "code",
      "metadata": {
        "id": "j_nKPYyY-Lru",
        "colab": {
          "base_uri": "https://localhost:8080/",
          "height": 216
        },
        "outputId": "a7f10e42-1068-47dd-9a90-cf54d2e5b98b"
      },
      "source": [
        "matrix.head()"
      ],
      "execution_count": 47,
      "outputs": [
        {
          "output_type": "execute_result",
          "data": {
            "text/html": [
              "<div>\n",
              "<style scoped>\n",
              "    .dataframe tbody tr th:only-of-type {\n",
              "        vertical-align: middle;\n",
              "    }\n",
              "\n",
              "    .dataframe tbody tr th {\n",
              "        vertical-align: top;\n",
              "    }\n",
              "\n",
              "    .dataframe thead th {\n",
              "        text-align: right;\n",
              "    }\n",
              "</style>\n",
              "<table border=\"1\" class=\"dataframe\">\n",
              "  <thead>\n",
              "    <tr style=\"text-align: right;\">\n",
              "      <th></th>\n",
              "      <th>date_block_num</th>\n",
              "      <th>shop_id</th>\n",
              "      <th>item_id</th>\n",
              "      <th>item_cnt_month</th>\n",
              "      <th>city</th>\n",
              "      <th>item_category_id</th>\n",
              "      <th>type_num</th>\n",
              "      <th>subtype_num</th>\n",
              "      <th>item_cnt_month_lag_1</th>\n",
              "      <th>item_cnt_month_lag_2</th>\n",
              "      <th>item_cnt_month_lag_3</th>\n",
              "      <th>item_cnt_month_lag_6</th>\n",
              "      <th>item_cnt_month_lag_12</th>\n",
              "    </tr>\n",
              "  </thead>\n",
              "  <tbody>\n",
              "    <tr>\n",
              "      <th>0</th>\n",
              "      <td>0</td>\n",
              "      <td>0</td>\n",
              "      <td>19</td>\n",
              "      <td>0.0</td>\n",
              "      <td>0</td>\n",
              "      <td>40</td>\n",
              "      <td>11</td>\n",
              "      <td>4</td>\n",
              "      <td>NaN</td>\n",
              "      <td>NaN</td>\n",
              "      <td>NaN</td>\n",
              "      <td>NaN</td>\n",
              "      <td>NaN</td>\n",
              "    </tr>\n",
              "    <tr>\n",
              "      <th>1</th>\n",
              "      <td>0</td>\n",
              "      <td>0</td>\n",
              "      <td>27</td>\n",
              "      <td>0.0</td>\n",
              "      <td>0</td>\n",
              "      <td>19</td>\n",
              "      <td>5</td>\n",
              "      <td>10</td>\n",
              "      <td>NaN</td>\n",
              "      <td>NaN</td>\n",
              "      <td>NaN</td>\n",
              "      <td>NaN</td>\n",
              "      <td>NaN</td>\n",
              "    </tr>\n",
              "    <tr>\n",
              "      <th>2</th>\n",
              "      <td>0</td>\n",
              "      <td>0</td>\n",
              "      <td>28</td>\n",
              "      <td>0.0</td>\n",
              "      <td>0</td>\n",
              "      <td>30</td>\n",
              "      <td>8</td>\n",
              "      <td>55</td>\n",
              "      <td>NaN</td>\n",
              "      <td>NaN</td>\n",
              "      <td>NaN</td>\n",
              "      <td>NaN</td>\n",
              "      <td>NaN</td>\n",
              "    </tr>\n",
              "    <tr>\n",
              "      <th>3</th>\n",
              "      <td>0</td>\n",
              "      <td>0</td>\n",
              "      <td>29</td>\n",
              "      <td>0.0</td>\n",
              "      <td>0</td>\n",
              "      <td>23</td>\n",
              "      <td>5</td>\n",
              "      <td>16</td>\n",
              "      <td>NaN</td>\n",
              "      <td>NaN</td>\n",
              "      <td>NaN</td>\n",
              "      <td>NaN</td>\n",
              "      <td>NaN</td>\n",
              "    </tr>\n",
              "    <tr>\n",
              "      <th>4</th>\n",
              "      <td>0</td>\n",
              "      <td>0</td>\n",
              "      <td>32</td>\n",
              "      <td>6.0</td>\n",
              "      <td>0</td>\n",
              "      <td>40</td>\n",
              "      <td>11</td>\n",
              "      <td>4</td>\n",
              "      <td>NaN</td>\n",
              "      <td>NaN</td>\n",
              "      <td>NaN</td>\n",
              "      <td>NaN</td>\n",
              "      <td>NaN</td>\n",
              "    </tr>\n",
              "  </tbody>\n",
              "</table>\n",
              "</div>"
            ],
            "text/plain": [
              "   date_block_num  shop_id  ...  item_cnt_month_lag_6  item_cnt_month_lag_12\n",
              "0               0        0  ...                   NaN                    NaN\n",
              "1               0        0  ...                   NaN                    NaN\n",
              "2               0        0  ...                   NaN                    NaN\n",
              "3               0        0  ...                   NaN                    NaN\n",
              "4               0        0  ...                   NaN                    NaN\n",
              "\n",
              "[5 rows x 13 columns]"
            ]
          },
          "metadata": {
            "tags": []
          },
          "execution_count": 47
        }
      ]
    },
    {
      "cell_type": "code",
      "metadata": {
        "id": "qAt8iV6J-LvG"
      },
      "source": [
        "# 해당 월에, 일반적으로 상품들이 팔린 평균 개수 (즉, 월 단위로 같음.) 과 레그.\r\n",
        "\r\n",
        "group = matrix.groupby(['date_block_num']).agg({'item_cnt_month': ['mean']})\r\n",
        "group.columns = [ 'date_avg_item_cnt' ]\r\n",
        "group.reset_index(inplace=True)\r\n",
        "\r\n",
        "matrix = pd.merge(matrix, group, on=['date_block_num'], how='left')\r\n",
        "matrix['date_avg_item_cnt'] = matrix['date_avg_item_cnt'].astype(np.float16)\r\n",
        "matrix = lag_feature(matrix, [1], 'date_avg_item_cnt')\r\n",
        "matrix.drop(['date_avg_item_cnt'], axis=1, inplace=True)\r\n"
      ],
      "execution_count": 48,
      "outputs": []
    },
    {
      "cell_type": "code",
      "metadata": {
        "id": "PflMu-Jk-LyP"
      },
      "source": [
        "# 해당 월에, 각각의 상품 단위로, 팔린 상품 갯수의 평균 (즉, (월, 상품) 단위) 와 레그.\r\n",
        "\r\n",
        "group = matrix.groupby(['date_block_num', 'item_id']).agg({'item_cnt_month': ['mean']})\r\n",
        "group.columns = [ 'date_item_avg_item_cnt' ]\r\n",
        "group.reset_index(inplace=True)\r\n",
        "\r\n",
        "matrix = pd.merge(matrix, group, on=['date_block_num','item_id'], how='left')\r\n",
        "matrix['date_item_avg_item_cnt'] = matrix['date_item_avg_item_cnt'].astype(np.float16)\r\n",
        "matrix = lag_feature(matrix, [1,2,3,6,12], 'date_item_avg_item_cnt')\r\n",
        "matrix.drop(['date_item_avg_item_cnt'], axis=1, inplace=True)\r\n"
      ],
      "execution_count": 49,
      "outputs": []
    },
    {
      "cell_type": "code",
      "metadata": {
        "id": "1eXvIo6L-L0r"
      },
      "source": [
        "# 해당 월에, 각각의 상점 단위로, 팔린 상품 갯수의 평균과 레그. (월, 상점) 단위\r\n",
        "\r\n",
        "group = matrix.groupby(['date_block_num', 'shop_id']).agg({'item_cnt_month': ['mean']})\r\n",
        "group.columns = [ 'date_shop_avg_item_cnt' ]\r\n",
        "group.reset_index(inplace=True)\r\n",
        "\r\n",
        "matrix = pd.merge(matrix, group, on=['date_block_num','shop_id'], how='left')\r\n",
        "matrix['date_shop_avg_item_cnt'] = matrix['date_shop_avg_item_cnt'].astype(np.float16)\r\n",
        "matrix = lag_feature(matrix, [1,2,3,6,12], 'date_shop_avg_item_cnt')\r\n",
        "matrix.drop(['date_shop_avg_item_cnt'], axis=1, inplace=True)\r\n"
      ],
      "execution_count": 50,
      "outputs": []
    },
    {
      "cell_type": "code",
      "metadata": {
        "id": "8qscKXKe-L2z"
      },
      "source": [
        "# 해당 월에, 각각의 아이템 카테고리 단위로, 팔린 상품 갯수의 평균과 레그. (월, 아이템 카테고리) 단위\r\n",
        "\r\n",
        "group = matrix.groupby(['date_block_num', 'item_category_id']).agg({'item_cnt_month': ['mean']})\r\n",
        "group.columns = [ 'date_cat_avg_item_cnt' ]\r\n",
        "group.reset_index(inplace=True)\r\n",
        "\r\n",
        "matrix = pd.merge(matrix, group, on=['date_block_num','item_category_id'], how='left')\r\n",
        "matrix['date_cat_avg_item_cnt'] = matrix['date_cat_avg_item_cnt'].astype(np.float16)\r\n",
        "matrix = lag_feature(matrix, [1], 'date_cat_avg_item_cnt')\r\n",
        "matrix.drop(['date_cat_avg_item_cnt'], axis=1, inplace=True)\r\n"
      ],
      "execution_count": 51,
      "outputs": []
    },
    {
      "cell_type": "code",
      "metadata": {
        "id": "r-zEGGnn-L49"
      },
      "source": [
        "# 해당 월에, 각각의 상점에서, 아이템 카테고리 단위로, 팔린 상품 갯수의 평균과 레그. (월, 상점, 아이템 카테고리) 단위\r\n",
        "\r\n",
        "group = matrix.groupby(['date_block_num', 'shop_id', 'item_category_id']).agg({'item_cnt_month': ['mean']})\r\n",
        "group.columns = ['date_shop_cat_avg_item_cnt']\r\n",
        "group.reset_index(inplace=True)\r\n",
        "\r\n",
        "matrix = pd.merge(matrix, group, on=['date_block_num', 'shop_id', 'item_category_id'], how='left')\r\n",
        "matrix['date_shop_cat_avg_item_cnt'] = matrix['date_shop_cat_avg_item_cnt'].astype(np.float16)\r\n",
        "matrix = lag_feature(matrix, [1], 'date_shop_cat_avg_item_cnt')\r\n",
        "matrix.drop(['date_shop_cat_avg_item_cnt'], axis=1, inplace=True)\r\n"
      ],
      "execution_count": 52,
      "outputs": []
    },
    {
      "cell_type": "code",
      "metadata": {
        "id": "Sy5kQUXh-L7a"
      },
      "source": [
        "# 해당 월에, 각각의 아이템 타입1 단위로, 팔린 상품 갯수의 평균과 레그. (월, 상점, 타입1) 단위\r\n",
        "\r\n",
        "group = matrix.groupby(['date_block_num', 'shop_id', 'type_num']).agg({'item_cnt_month': ['mean']})\r\n",
        "group.columns = ['date_shop_type_avg_item_cnt']\r\n",
        "group.reset_index(inplace=True)\r\n",
        "\r\n",
        "matrix = pd.merge(matrix, group, on=['date_block_num', 'shop_id', 'type_num'], how='left')\r\n",
        "matrix['date_shop_type_avg_item_cnt'] = matrix['date_shop_type_avg_item_cnt'].astype(np.float16)\r\n",
        "matrix = lag_feature(matrix, [1], 'date_shop_type_avg_item_cnt')\r\n",
        "matrix.drop(['date_shop_type_avg_item_cnt'], axis=1, inplace=True)\r\n"
      ],
      "execution_count": 53,
      "outputs": []
    },
    {
      "cell_type": "code",
      "metadata": {
        "id": "9iphuxeW-L_F"
      },
      "source": [
        "# 해당 월에, 각각의 아이템 타입2 단위로, 팔린 상품 갯수의 평균과 레그. (월, 상점, 타입2) 단위\r\n",
        "\r\n",
        "group = matrix.groupby(['date_block_num', 'shop_id', 'subtype_num']).agg({'item_cnt_month': ['mean']})\r\n",
        "group.columns = ['date_shop_subtype_avg_item_cnt']\r\n",
        "group.reset_index(inplace=True)\r\n",
        "\r\n",
        "matrix = pd.merge(matrix, group, on=['date_block_num', 'shop_id', 'subtype_num'], how='left')\r\n",
        "matrix['date_shop_subtype_avg_item_cnt'] = matrix['date_shop_subtype_avg_item_cnt'].astype(np.float16)\r\n",
        "matrix = lag_feature(matrix, [1], 'date_shop_subtype_avg_item_cnt')\r\n",
        "matrix.drop(['date_shop_subtype_avg_item_cnt'], axis=1, inplace=True)\r\n"
      ],
      "execution_count": 54,
      "outputs": []
    },
    {
      "cell_type": "code",
      "metadata": {
        "id": "2UH10-yf-MCr"
      },
      "source": [
        "# 해당 월에, 도시 단위로 팔린 상품 갯수의 평균과 레그 (월, 도시) 단위\r\n",
        "\r\n",
        "group = matrix.groupby(['date_block_num', 'city']).agg({'item_cnt_month': ['mean']})\r\n",
        "group.columns = [ 'date_city_avg_item_cnt' ]\r\n",
        "group.reset_index(inplace=True)\r\n",
        "\r\n",
        "matrix = pd.merge(matrix, group, on=['date_block_num', 'city'], how='left')\r\n",
        "matrix['date_city_avg_item_cnt'] = matrix['date_city_avg_item_cnt'].astype(np.float16)\r\n",
        "matrix = lag_feature(matrix, [1], 'date_city_avg_item_cnt')\r\n",
        "matrix.drop(['date_city_avg_item_cnt'], axis=1, inplace=True)\r\n"
      ],
      "execution_count": 55,
      "outputs": []
    },
    {
      "cell_type": "code",
      "metadata": {
        "id": "fqXfmv2j-MFo"
      },
      "source": [
        "# 해당 월에, 각각 아이템, 도시 단위로, 팔린 상품 갯수의 평균과 레그. (월, 아이템, 도시) 단위\r\n",
        "\r\n",
        "group = matrix.groupby(['date_block_num', 'item_id', 'city']).agg({'item_cnt_month': ['mean']})\r\n",
        "group.columns = [ 'date_item_city_avg_item_cnt' ]\r\n",
        "group.reset_index(inplace=True)\r\n",
        "\r\n",
        "matrix = pd.merge(matrix, group, on=['date_block_num', 'item_id', 'city'], how='left')\r\n",
        "matrix['date_item_city_avg_item_cnt'] = matrix['date_item_city_avg_item_cnt'].astype(np.float16)\r\n",
        "matrix = lag_feature(matrix, [1], 'date_item_city_avg_item_cnt')\r\n",
        "matrix.drop(['date_item_city_avg_item_cnt'], axis=1, inplace=True)\r\n"
      ],
      "execution_count": 56,
      "outputs": []
    },
    {
      "cell_type": "code",
      "metadata": {
        "id": "-uaBc0tw_Z2B"
      },
      "source": [
        "# 해당 월에, 각각의 아이템 타입1 단위로, 팔린 상품 갯수의 평균과 레그. (월, 타입1) 단위\r\n",
        "\r\n",
        "group = matrix.groupby(['date_block_num', 'type_num']).agg({'item_cnt_month': ['mean']})\r\n",
        "group.columns = [ 'date_type_avg_item_cnt' ]\r\n",
        "group.reset_index(inplace=True)\r\n",
        "\r\n",
        "matrix = pd.merge(matrix, group, on=['date_block_num', 'type_num'], how='left')\r\n",
        "matrix['date_type_avg_item_cnt'] = matrix['date_type_avg_item_cnt'].astype(np.float16)\r\n",
        "matrix = lag_feature(matrix, [1], 'date_type_avg_item_cnt')\r\n",
        "matrix.drop(['date_type_avg_item_cnt'], axis=1, inplace=True)\r\n"
      ],
      "execution_count": 57,
      "outputs": []
    },
    {
      "cell_type": "code",
      "metadata": {
        "id": "0vtWhsqK_Z6L"
      },
      "source": [
        "# 해당 월에, 각각의 아이템 타입2 단위로, 팔린 상품 갯수의 평균과 레그. (월, 타입2) 단위\r\n",
        "\r\n",
        "group = matrix.groupby(['date_block_num', 'subtype_num']).agg({'item_cnt_month': ['mean']})\r\n",
        "group.columns = [ 'date_subtype_avg_item_cnt' ]\r\n",
        "group.reset_index(inplace=True)\r\n",
        "\r\n",
        "matrix = pd.merge(matrix, group, on=['date_block_num', 'subtype_num'], how='left')\r\n",
        "matrix['date_subtype_avg_item_cnt'] = matrix['date_subtype_avg_item_cnt'].astype(np.float16)\r\n",
        "matrix = lag_feature(matrix, [1], 'date_subtype_avg_item_cnt')\r\n",
        "matrix.drop(['date_subtype_avg_item_cnt'], axis=1, inplace=True)\r\n"
      ],
      "execution_count": 58,
      "outputs": []
    },
    {
      "cell_type": "markdown",
      "metadata": {
        "id": "Qrrdpx2-_kgo"
      },
      "source": [
        "# Trend features"
      ]
    },
    {
      "cell_type": "code",
      "metadata": {
        "id": "BHAIPmnQ_Z9Z"
      },
      "source": [
        "# 전 기간동안의 각각 상품의 평균 가격. (상품) 단위.\r\n",
        "group = train.groupby(['item_id']).agg({'item_price': ['mean']})\r\n",
        "group.columns = ['item_avg_item_price']\r\n",
        "group.reset_index(inplace=True)\r\n",
        "\r\n",
        "matrix = pd.merge(matrix, group, on=['item_id'], how='left')\r\n",
        "matrix['item_avg_item_price'] = matrix['item_avg_item_price'].astype(np.float16)\r\n",
        "\r\n",
        "# 월별 상품 평균 가격. (월, 상품) 단위.\r\n",
        "group = train.groupby(['date_block_num','item_id']).agg({'item_price': ['mean']})\r\n",
        "group.columns = ['date_item_avg_item_price']\r\n",
        "group.reset_index(inplace=True)\r\n",
        "\r\n",
        "matrix = pd.merge(matrix, group, on=['date_block_num','item_id'], how='left')\r\n",
        "matrix['date_item_avg_item_price'] = matrix['date_item_avg_item_price'].astype(np.float16)\r\n",
        "\r\n",
        "# 월별, 각 1~6개월 전의 평균 가격 (월, 상품) 단위.\r\n",
        "lags = [1,2,3,4,5,6]\r\n",
        "matrix = lag_feature(matrix, lags, 'date_item_avg_item_price')\r\n",
        "\r\n",
        "# 월별, 각 1~6개월 전의 평균 가격과 전 기간 평균 가격과의 차이. (월, 상품) 단위.\r\n",
        "# 전 구간 가격 평균하고 1~6달 가격을 비교함으로써, 지난 1~6달간의 가격 트랜드를 알 수 있음.\r\n",
        "for i in lags:\r\n",
        "    matrix['delta_price_lag_'+str(i)] = \\\r\n",
        "        (matrix['date_item_avg_item_price_lag_'+str(i)] - matrix['item_avg_item_price']) / matrix['item_avg_item_price']\r\n",
        "\r\n",
        "# 현재 달 기준, 지난 1~6달 중, 최근의 트랜드를 찾음.\r\n",
        "# 가장 최근 1달 전이 좋지만, 없을 경우 최대 6달 전까지 찾는 것.\r\n",
        "def select_trend(row):\r\n",
        "    for i in lags:\r\n",
        "        if row['delta_price_lag_'+str(i)]:\r\n",
        "            return row['delta_price_lag_'+str(i)]\r\n",
        "    return 0\r\n",
        "\r\n",
        "matrix['delta_price_lag'] = matrix.apply(select_trend, axis=1)\r\n",
        "matrix['delta_price_lag'] = matrix['delta_price_lag'].astype(np.float16)\r\n",
        "matrix['delta_price_lag'].fillna(0, inplace=True)\r\n",
        "\r\n",
        "# feature drop 하기\r\n",
        "# 가장 최근 price trend 를 찾았으니, 가격과 관련된 이전 lags 들은 필요 없음.\r\n",
        "fetures_to_drop = ['item_avg_item_price', 'date_item_avg_item_price']\r\n",
        "for i in lags:\r\n",
        "    fetures_to_drop += ['date_item_avg_item_price_lag_'+str(i)]\r\n",
        "    fetures_to_drop += ['delta_price_lag_'+str(i)]\r\n",
        "\r\n",
        "matrix.drop(fetures_to_drop, axis=1, inplace=True)\r\n"
      ],
      "execution_count": 59,
      "outputs": []
    },
    {
      "cell_type": "code",
      "metadata": {
        "id": "Uam5qiwc_olw"
      },
      "source": [
        "train['revenue'] = train['item_price'] *  train['item_cnt_day']"
      ],
      "execution_count": 60,
      "outputs": []
    },
    {
      "cell_type": "code",
      "metadata": {
        "id": "at_s9zoc_ood"
      },
      "source": [
        "# 가격 트랜드와 동일하게, 총 수입 트랜드도 잡아봄.\r\n",
        "# 가격 트랜드 방법과 똑같음.\r\n",
        "\r\n",
        "\r\n",
        "# 월별 각각의 상점 총 매출. (월, 상점) 단위.\r\n",
        "group = train.groupby(['date_block_num','shop_id']).agg({'revenue': ['sum']})\r\n",
        "group.columns = ['date_shop_revenue']\r\n",
        "group.reset_index(inplace=True)\r\n",
        "\r\n",
        "matrix = pd.merge(matrix, group, on=['date_block_num','shop_id'], how='left')\r\n",
        "matrix['date_shop_revenue'] = matrix['date_shop_revenue'].astype(np.float32)\r\n",
        "\r\n",
        "# 전 기간동안, 각각의 상점 매출 평균. (상점) 단위.\r\n",
        "group = group.groupby(['shop_id']).agg({'date_shop_revenue': ['mean']})\r\n",
        "group.columns = ['shop_avg_revenue']\r\n",
        "group.reset_index(inplace=True)\r\n",
        "\r\n",
        "matrix = pd.merge(matrix, group, on=['shop_id'], how='left')\r\n",
        "matrix['shop_avg_revenue'] = matrix['shop_avg_revenue'].astype(np.float32)\r\n",
        "\r\n",
        "# 각각 상점의 월평균 매출 - 전기간 평균매출 의 차이. (월, 상점) 단위.\r\n",
        "matrix['delta_revenue'] = (matrix['date_shop_revenue'] - matrix['shop_avg_revenue']) / matrix['shop_avg_revenue']\r\n",
        "matrix['delta_revenue'] = matrix['delta_revenue'].astype(np.float16)\r\n",
        "\r\n",
        "# 가장 최근 한 달전의 총 매출만 사용.\r\n",
        "matrix = lag_feature(matrix, [1], 'delta_revenue')\r\n",
        "\r\n",
        "# 최근 총매출 트랜드를 얻었으니, 필요없는 Feature들 다시 삭제.\r\n",
        "matrix.drop(['date_shop_revenue','shop_avg_revenue','delta_revenue'], axis=1, inplace=True)\r\n",
        "\r\n"
      ],
      "execution_count": 61,
      "outputs": []
    },
    {
      "cell_type": "markdown",
      "metadata": {
        "id": "7mWMegKF_v0m"
      },
      "source": [
        "# Special features"
      ]
    },
    {
      "cell_type": "code",
      "metadata": {
        "id": "FtILyzDW_t57"
      },
      "source": [
        "matrix['month'] = matrix['date_block_num'] % 12\r\n",
        "\r\n",
        "days = pd.Series([31,28,31,30,31,30,31,31,30,31,30,31])\r\n",
        "matrix['days'] = matrix['month'].map(days).astype(np.int8)"
      ],
      "execution_count": 62,
      "outputs": []
    },
    {
      "cell_type": "code",
      "metadata": {
        "id": "JxiepEjdEhp8",
        "colab": {
          "base_uri": "https://localhost:8080/",
          "height": 494
        },
        "outputId": "66a75ce5-133d-4436-8803-fe46eb98941a"
      },
      "source": [
        "train.head(15)"
      ],
      "execution_count": 63,
      "outputs": [
        {
          "output_type": "execute_result",
          "data": {
            "text/html": [
              "<div>\n",
              "<style scoped>\n",
              "    .dataframe tbody tr th:only-of-type {\n",
              "        vertical-align: middle;\n",
              "    }\n",
              "\n",
              "    .dataframe tbody tr th {\n",
              "        vertical-align: top;\n",
              "    }\n",
              "\n",
              "    .dataframe thead th {\n",
              "        text-align: right;\n",
              "    }\n",
              "</style>\n",
              "<table border=\"1\" class=\"dataframe\">\n",
              "  <thead>\n",
              "    <tr style=\"text-align: right;\">\n",
              "      <th></th>\n",
              "      <th>date</th>\n",
              "      <th>date_block_num</th>\n",
              "      <th>shop_id</th>\n",
              "      <th>item_id</th>\n",
              "      <th>item_price</th>\n",
              "      <th>item_cnt_day</th>\n",
              "      <th>revenue</th>\n",
              "    </tr>\n",
              "  </thead>\n",
              "  <tbody>\n",
              "    <tr>\n",
              "      <th>0</th>\n",
              "      <td>02.01.2013</td>\n",
              "      <td>0</td>\n",
              "      <td>59</td>\n",
              "      <td>22154</td>\n",
              "      <td>999.00</td>\n",
              "      <td>1.0</td>\n",
              "      <td>999.00</td>\n",
              "    </tr>\n",
              "    <tr>\n",
              "      <th>1</th>\n",
              "      <td>03.01.2013</td>\n",
              "      <td>0</td>\n",
              "      <td>25</td>\n",
              "      <td>2552</td>\n",
              "      <td>899.00</td>\n",
              "      <td>1.0</td>\n",
              "      <td>899.00</td>\n",
              "    </tr>\n",
              "    <tr>\n",
              "      <th>3</th>\n",
              "      <td>06.01.2013</td>\n",
              "      <td>0</td>\n",
              "      <td>25</td>\n",
              "      <td>2554</td>\n",
              "      <td>1709.05</td>\n",
              "      <td>1.0</td>\n",
              "      <td>1709.05</td>\n",
              "    </tr>\n",
              "    <tr>\n",
              "      <th>4</th>\n",
              "      <td>15.01.2013</td>\n",
              "      <td>0</td>\n",
              "      <td>25</td>\n",
              "      <td>2555</td>\n",
              "      <td>1099.00</td>\n",
              "      <td>1.0</td>\n",
              "      <td>1099.00</td>\n",
              "    </tr>\n",
              "    <tr>\n",
              "      <th>5</th>\n",
              "      <td>10.01.2013</td>\n",
              "      <td>0</td>\n",
              "      <td>25</td>\n",
              "      <td>2564</td>\n",
              "      <td>349.00</td>\n",
              "      <td>1.0</td>\n",
              "      <td>349.00</td>\n",
              "    </tr>\n",
              "    <tr>\n",
              "      <th>6</th>\n",
              "      <td>02.01.2013</td>\n",
              "      <td>0</td>\n",
              "      <td>25</td>\n",
              "      <td>2565</td>\n",
              "      <td>549.00</td>\n",
              "      <td>1.0</td>\n",
              "      <td>549.00</td>\n",
              "    </tr>\n",
              "    <tr>\n",
              "      <th>7</th>\n",
              "      <td>04.01.2013</td>\n",
              "      <td>0</td>\n",
              "      <td>25</td>\n",
              "      <td>2572</td>\n",
              "      <td>239.00</td>\n",
              "      <td>1.0</td>\n",
              "      <td>239.00</td>\n",
              "    </tr>\n",
              "    <tr>\n",
              "      <th>8</th>\n",
              "      <td>11.01.2013</td>\n",
              "      <td>0</td>\n",
              "      <td>25</td>\n",
              "      <td>2572</td>\n",
              "      <td>299.00</td>\n",
              "      <td>1.0</td>\n",
              "      <td>299.00</td>\n",
              "    </tr>\n",
              "    <tr>\n",
              "      <th>9</th>\n",
              "      <td>03.01.2013</td>\n",
              "      <td>0</td>\n",
              "      <td>25</td>\n",
              "      <td>2573</td>\n",
              "      <td>299.00</td>\n",
              "      <td>3.0</td>\n",
              "      <td>897.00</td>\n",
              "    </tr>\n",
              "    <tr>\n",
              "      <th>10</th>\n",
              "      <td>03.01.2013</td>\n",
              "      <td>0</td>\n",
              "      <td>25</td>\n",
              "      <td>2574</td>\n",
              "      <td>399.00</td>\n",
              "      <td>2.0</td>\n",
              "      <td>798.00</td>\n",
              "    </tr>\n",
              "    <tr>\n",
              "      <th>11</th>\n",
              "      <td>05.01.2013</td>\n",
              "      <td>0</td>\n",
              "      <td>25</td>\n",
              "      <td>2574</td>\n",
              "      <td>399.00</td>\n",
              "      <td>1.0</td>\n",
              "      <td>399.00</td>\n",
              "    </tr>\n",
              "    <tr>\n",
              "      <th>12</th>\n",
              "      <td>07.01.2013</td>\n",
              "      <td>0</td>\n",
              "      <td>25</td>\n",
              "      <td>2574</td>\n",
              "      <td>399.00</td>\n",
              "      <td>1.0</td>\n",
              "      <td>399.00</td>\n",
              "    </tr>\n",
              "    <tr>\n",
              "      <th>13</th>\n",
              "      <td>08.01.2013</td>\n",
              "      <td>0</td>\n",
              "      <td>25</td>\n",
              "      <td>2574</td>\n",
              "      <td>399.00</td>\n",
              "      <td>2.0</td>\n",
              "      <td>798.00</td>\n",
              "    </tr>\n",
              "    <tr>\n",
              "      <th>14</th>\n",
              "      <td>10.01.2013</td>\n",
              "      <td>0</td>\n",
              "      <td>25</td>\n",
              "      <td>2574</td>\n",
              "      <td>399.00</td>\n",
              "      <td>1.0</td>\n",
              "      <td>399.00</td>\n",
              "    </tr>\n",
              "    <tr>\n",
              "      <th>15</th>\n",
              "      <td>11.01.2013</td>\n",
              "      <td>0</td>\n",
              "      <td>25</td>\n",
              "      <td>2574</td>\n",
              "      <td>399.00</td>\n",
              "      <td>2.0</td>\n",
              "      <td>798.00</td>\n",
              "    </tr>\n",
              "  </tbody>\n",
              "</table>\n",
              "</div>"
            ],
            "text/plain": [
              "          date  date_block_num  shop_id  ...  item_price  item_cnt_day  revenue\n",
              "0   02.01.2013               0       59  ...      999.00           1.0   999.00\n",
              "1   03.01.2013               0       25  ...      899.00           1.0   899.00\n",
              "3   06.01.2013               0       25  ...     1709.05           1.0  1709.05\n",
              "4   15.01.2013               0       25  ...     1099.00           1.0  1099.00\n",
              "5   10.01.2013               0       25  ...      349.00           1.0   349.00\n",
              "6   02.01.2013               0       25  ...      549.00           1.0   549.00\n",
              "7   04.01.2013               0       25  ...      239.00           1.0   239.00\n",
              "8   11.01.2013               0       25  ...      299.00           1.0   299.00\n",
              "9   03.01.2013               0       25  ...      299.00           3.0   897.00\n",
              "10  03.01.2013               0       25  ...      399.00           2.0   798.00\n",
              "11  05.01.2013               0       25  ...      399.00           1.0   399.00\n",
              "12  07.01.2013               0       25  ...      399.00           1.0   399.00\n",
              "13  08.01.2013               0       25  ...      399.00           2.0   798.00\n",
              "14  10.01.2013               0       25  ...      399.00           1.0   399.00\n",
              "15  11.01.2013               0       25  ...      399.00           2.0   798.00\n",
              "\n",
              "[15 rows x 7 columns]"
            ]
          },
          "metadata": {
            "tags": []
          },
          "execution_count": 63
        }
      ]
    },
    {
      "cell_type": "code",
      "metadata": {
        "id": "msMCfc1q_uIh"
      },
      "source": [
        "cache = {}\r\n",
        "matrix['item_shop_last_sale'] = -1\r\n",
        "matrix['item_shop_last_sale'] = matrix['item_shop_last_sale'].astype(np.int8)\r\n",
        "\r\n",
        "# (상점, 상품)단위로, 해당 상품이 해당 월 기준, 몇 달전에 마지막으로 팔렸는지, item_shop_last_sale 에 저장.\r\n",
        "# 예를 들어 1달 전에 팔렸으면 1임.\r\n",
        "for idx, row in matrix.iterrows():\r\n",
        "    key = str(row.item_id)+' '+str(row.shop_id)\r\n",
        "    if key not in cache:\r\n",
        "        if row.item_cnt_month != 0:\r\n",
        "            cache[key] = row.date_block_num\r\n",
        "    else:\r\n",
        "        last_date_block_num = cache[key]\r\n",
        "        matrix.at[idx, 'item_shop_last_sale'] = row.date_block_num - last_date_block_num\r\n",
        "        cache[key] = row.date_block_num  "
      ],
      "execution_count": 64,
      "outputs": []
    },
    {
      "cell_type": "code",
      "metadata": {
        "id": "LT1vhn0m_uLT"
      },
      "source": [
        "cache = {}\r\n",
        "matrix['item_last_sale'] = -1\r\n",
        "matrix['item_last_sale'] = matrix['item_last_sale'].astype(np.int8)\r\n",
        "\r\n",
        "# (상품) 단위로, 해당 상품이 해당 월 기준, 몇 달전에 마지막으로 팔렸는지, item_last_sale 에 저장.\r\n",
        "for idx, row in matrix.iterrows():    \r\n",
        "    key = row.item_id\r\n",
        "    if key not in cache:\r\n",
        "        if row.item_cnt_month != 0:\r\n",
        "            cache[key] = row.date_block_num\r\n",
        "    else:\r\n",
        "        last_date_block_num = cache[key]\r\n",
        "        if row.date_block_num > last_date_block_num:\r\n",
        "            matrix.at[idx, 'item_last_sale'] = row.date_block_num - last_date_block_num\r\n",
        "            cache[key] = row.date_block_num         "
      ],
      "execution_count": 65,
      "outputs": []
    },
    {
      "cell_type": "code",
      "metadata": {
        "id": "dGhBVLl2_1X3"
      },
      "source": [
        "matrix['item_shop_first_sale'] = matrix['date_block_num'] - matrix.groupby(['item_id','shop_id'])['date_block_num'].transform('min')\r\n",
        "matrix['item_first_sale'] = matrix['date_block_num'] - matrix.groupby('item_id')['date_block_num'].transform('min')"
      ],
      "execution_count": 66,
      "outputs": []
    },
    {
      "cell_type": "markdown",
      "metadata": {
        "id": "sFXgYFQN_5mh"
      },
      "source": [
        "# Final preparations"
      ]
    },
    {
      "cell_type": "code",
      "metadata": {
        "id": "RnRkohuH_1da"
      },
      "source": [
        "matrix = matrix[matrix.date_block_num > 11]"
      ],
      "execution_count": 67,
      "outputs": []
    },
    {
      "cell_type": "code",
      "metadata": {
        "id": "xTcVP58V_8HV"
      },
      "source": [
        "def fill_na(df):\r\n",
        "    for col in df.columns:\r\n",
        "        if ('_lag_' in col) & (df[col].isnull().any()):\r\n",
        "            if ('item_cnt' in col):\r\n",
        "                df[col].fillna(0, inplace=True)         \r\n",
        "    return df\r\n",
        "\r\n",
        "matrix = fill_na(matrix)"
      ],
      "execution_count": 68,
      "outputs": []
    },
    {
      "cell_type": "code",
      "metadata": {
        "id": "1l2G-ACQKA88"
      },
      "source": [
        "import lightgbm as lgb\r\n",
        "from lightgbm import plot_importance\r\n",
        "import sys\r\n",
        "import gc\r\n",
        "import pickle"
      ],
      "execution_count": 69,
      "outputs": []
    },
    {
      "cell_type": "code",
      "metadata": {
        "id": "xpoOOo88_8K7"
      },
      "source": [
        "matrix.to_pickle('data.pkl')\r\n",
        "del matrix\r\n",
        "del cache\r\n",
        "del group\r\n",
        "del items\r\n",
        "del shops\r\n",
        "del categ\r\n",
        "del train\r\n",
        "# leave test for submission\r\n",
        "gc.collect();"
      ],
      "execution_count": 70,
      "outputs": []
    },
    {
      "cell_type": "markdown",
      "metadata": {
        "id": "RJ8AZlDUABFm"
      },
      "source": [
        "*Model*; lgbm"
      ]
    },
    {
      "cell_type": "code",
      "metadata": {
        "id": "CnnS0sUYAXZ2"
      },
      "source": [
        "data = pd.read_pickle('data.pkl')"
      ],
      "execution_count": 71,
      "outputs": []
    },
    {
      "cell_type": "code",
      "metadata": {
        "id": "sjDAOg-6AXka"
      },
      "source": [
        "data = data[[\r\n",
        "    'date_block_num',\r\n",
        "    'shop_id',\r\n",
        "    'item_id',\r\n",
        "    'item_cnt_month',\r\n",
        "    'city',\r\n",
        "    'item_category_id',\r\n",
        "    'type_num',\r\n",
        "    'subtype_num',\r\n",
        "    'item_cnt_month_lag_1',\r\n",
        "    'item_cnt_month_lag_2',\r\n",
        "    'item_cnt_month_lag_3',\r\n",
        "    'item_cnt_month_lag_6',\r\n",
        "    'item_cnt_month_lag_12',\r\n",
        "    'date_avg_item_cnt_lag_1',\r\n",
        "    'date_item_avg_item_cnt_lag_1',\r\n",
        "    'date_item_avg_item_cnt_lag_2',\r\n",
        "    'date_item_avg_item_cnt_lag_3',\r\n",
        "    'date_item_avg_item_cnt_lag_6',\r\n",
        "    'date_item_avg_item_cnt_lag_12',\r\n",
        "    'date_shop_avg_item_cnt_lag_1',\r\n",
        "    'date_shop_avg_item_cnt_lag_2',\r\n",
        "    'date_shop_avg_item_cnt_lag_3',\r\n",
        "    'date_shop_avg_item_cnt_lag_6',\r\n",
        "    'date_shop_avg_item_cnt_lag_12',\r\n",
        "    'date_cat_avg_item_cnt_lag_1',\r\n",
        "    'date_shop_cat_avg_item_cnt_lag_1',\r\n",
        "    #'date_shop_type_avg_item_cnt_lag_1',\r\n",
        "    #'date_shop_subtype_avg_item_cnt_lag_1',\r\n",
        "    'date_city_avg_item_cnt_lag_1',\r\n",
        "    'date_item_city_avg_item_cnt_lag_1',\r\n",
        "    #'date_type_avg_item_cnt_lag_1',\r\n",
        "    #'date_subtype_avg_item_cnt_lag_1',\r\n",
        "    'delta_price_lag',\r\n",
        "    \r\n",
        "    'month',\r\n",
        "    'days',\r\n",
        "    'item_shop_last_sale',\r\n",
        "    'item_last_sale',\r\n",
        "    'item_shop_first_sale',\r\n",
        "    'item_first_sale',\r\n",
        "]]"
      ],
      "execution_count": 72,
      "outputs": []
    },
    {
      "cell_type": "code",
      "metadata": {
        "id": "oAYLni24W1SF"
      },
      "source": [
        "X_train = data[data.date_block_num < 33].drop(['item_cnt_month'], axis=1)\r\n",
        "Y_train = data[data.date_block_num < 33]['item_cnt_month']\r\n",
        "X_valid = data[data.date_block_num == 33].drop(['item_cnt_month'], axis=1)\r\n",
        "Y_valid = data[data.date_block_num == 33]['item_cnt_month']\r\n",
        "X_test = data[data.date_block_num == 34].drop(['item_cnt_month'], axis=1)"
      ],
      "execution_count": 73,
      "outputs": []
    },
    {
      "cell_type": "code",
      "metadata": {
        "id": "3H2gZRkWW1eL"
      },
      "source": [
        "del data\r\n",
        "gc.collect();"
      ],
      "execution_count": 74,
      "outputs": []
    },
    {
      "cell_type": "code",
      "metadata": {
        "colab": {
          "base_uri": "https://localhost:8080/"
        },
        "id": "iNiOdso1U_z1",
        "outputId": "b266e45d-aa15-4fb5-9ffe-8f9d64b52509"
      },
      "source": [
        "!pip install optuna"
      ],
      "execution_count": 75,
      "outputs": [
        {
          "output_type": "stream",
          "text": [
            "Collecting optuna\n",
            "\u001b[?25l  Downloading https://files.pythonhosted.org/packages/91/88/9c53460b97c61bce926dfe9dce51e4887c283416ff89ed30af0b73f44efa/optuna-2.5.0-py3-none-any.whl (287kB)\n",
            "\r\u001b[K     |█▏                              | 10kB 16.6MB/s eta 0:00:01\r\u001b[K     |██▎                             | 20kB 23.4MB/s eta 0:00:01\r\u001b[K     |███▍                            | 30kB 27.1MB/s eta 0:00:01\r\u001b[K     |████▋                           | 40kB 20.6MB/s eta 0:00:01\r\u001b[K     |█████▊                          | 51kB 16.4MB/s eta 0:00:01\r\u001b[K     |██████▉                         | 61kB 13.9MB/s eta 0:00:01\r\u001b[K     |████████                        | 71kB 13.8MB/s eta 0:00:01\r\u001b[K     |█████████▏                      | 81kB 13.1MB/s eta 0:00:01\r\u001b[K     |██████████▎                     | 92kB 12.6MB/s eta 0:00:01\r\u001b[K     |███████████▍                    | 102kB 12.4MB/s eta 0:00:01\r\u001b[K     |████████████▌                   | 112kB 12.4MB/s eta 0:00:01\r\u001b[K     |█████████████▊                  | 122kB 12.4MB/s eta 0:00:01\r\u001b[K     |██████████████▉                 | 133kB 12.4MB/s eta 0:00:01\r\u001b[K     |████████████████                | 143kB 12.4MB/s eta 0:00:01\r\u001b[K     |█████████████████               | 153kB 12.4MB/s eta 0:00:01\r\u001b[K     |██████████████████▎             | 163kB 12.4MB/s eta 0:00:01\r\u001b[K     |███████████████████▍            | 174kB 12.4MB/s eta 0:00:01\r\u001b[K     |████████████████████▌           | 184kB 12.4MB/s eta 0:00:01\r\u001b[K     |█████████████████████▋          | 194kB 12.4MB/s eta 0:00:01\r\u001b[K     |██████████████████████▉         | 204kB 12.4MB/s eta 0:00:01\r\u001b[K     |████████████████████████        | 215kB 12.4MB/s eta 0:00:01\r\u001b[K     |█████████████████████████       | 225kB 12.4MB/s eta 0:00:01\r\u001b[K     |██████████████████████████▎     | 235kB 12.4MB/s eta 0:00:01\r\u001b[K     |███████████████████████████▍    | 245kB 12.4MB/s eta 0:00:01\r\u001b[K     |████████████████████████████▌   | 256kB 12.4MB/s eta 0:00:01\r\u001b[K     |█████████████████████████████▋  | 266kB 12.4MB/s eta 0:00:01\r\u001b[K     |██████████████████████████████▉ | 276kB 12.4MB/s eta 0:00:01\r\u001b[K     |████████████████████████████████| 286kB 12.4MB/s eta 0:00:01\r\u001b[K     |████████████████████████████████| 296kB 12.4MB/s \n",
            "\u001b[?25hRequirement already satisfied: packaging>=20.0 in /usr/local/lib/python3.7/dist-packages (from optuna) (20.9)\n",
            "Collecting colorlog\n",
            "  Downloading https://files.pythonhosted.org/packages/5e/39/0230290df0519d528d8d0ffdfd900150ed24e0076d13b1f19e279444aab1/colorlog-4.7.2-py2.py3-none-any.whl\n",
            "Requirement already satisfied: numpy in /usr/local/lib/python3.7/dist-packages (from optuna) (1.19.5)\n",
            "Requirement already satisfied: scipy!=1.4.0 in /usr/local/lib/python3.7/dist-packages (from optuna) (1.4.1)\n",
            "Requirement already satisfied: sqlalchemy>=1.1.0 in /usr/local/lib/python3.7/dist-packages (from optuna) (1.3.23)\n",
            "Collecting alembic\n",
            "\u001b[?25l  Downloading https://files.pythonhosted.org/packages/d1/45/804c25b5a3a304c5e6eeee9a8dadebe461b80ad6751580e6891cc3d775e9/alembic-1.5.6.tar.gz (1.2MB)\n",
            "\u001b[K     |████████████████████████████████| 1.2MB 12.4MB/s \n",
            "\u001b[?25hRequirement already satisfied: tqdm in /usr/local/lib/python3.7/dist-packages (from optuna) (4.41.1)\n",
            "Collecting cliff\n",
            "\u001b[?25l  Downloading https://files.pythonhosted.org/packages/a2/d6/7d9acb68a77acd140be7fececb7f2701b2a29d2da9c54184cb8f93509590/cliff-3.7.0-py3-none-any.whl (80kB)\n",
            "\u001b[K     |████████████████████████████████| 81kB 11.2MB/s \n",
            "\u001b[?25hCollecting cmaes>=0.6.0\n",
            "  Downloading https://files.pythonhosted.org/packages/01/1f/43b01223a0366171f474320c6e966c39a11587287f098a5f09809b45e05f/cmaes-0.8.2-py3-none-any.whl\n",
            "Requirement already satisfied: joblib in /usr/local/lib/python3.7/dist-packages (from optuna) (1.0.1)\n",
            "Requirement already satisfied: pyparsing>=2.0.2 in /usr/local/lib/python3.7/dist-packages (from packaging>=20.0->optuna) (2.4.7)\n",
            "Collecting Mako\n",
            "\u001b[?25l  Downloading https://files.pythonhosted.org/packages/5c/db/2d2d88b924aa4674a080aae83b59ea19d593250bfe5ed789947c21736785/Mako-1.1.4.tar.gz (479kB)\n",
            "\u001b[K     |████████████████████████████████| 481kB 53.0MB/s \n",
            "\u001b[?25hCollecting python-editor>=0.3\n",
            "  Downloading https://files.pythonhosted.org/packages/c6/d3/201fc3abe391bbae6606e6f1d598c15d367033332bd54352b12f35513717/python_editor-1.0.4-py3-none-any.whl\n",
            "Requirement already satisfied: python-dateutil in /usr/local/lib/python3.7/dist-packages (from alembic->optuna) (2.8.1)\n",
            "Collecting cmd2>=1.0.0\n",
            "\u001b[?25l  Downloading https://files.pythonhosted.org/packages/15/8b/15061b32332bb35ea2a2f6263d0f616779d576e82739ec8e7fcf3c94abf5/cmd2-1.5.0-py3-none-any.whl (133kB)\n",
            "\u001b[K     |████████████████████████████████| 143kB 55.7MB/s \n",
            "\u001b[?25hCollecting stevedore>=2.0.1\n",
            "\u001b[?25l  Downloading https://files.pythonhosted.org/packages/d4/49/b602307aeac3df3384ff1fcd05da9c0376c622a6c48bb5325f28ab165b57/stevedore-3.3.0-py3-none-any.whl (49kB)\n",
            "\u001b[K     |████████████████████████████████| 51kB 7.3MB/s \n",
            "\u001b[?25hRequirement already satisfied: PyYAML>=3.12 in /usr/local/lib/python3.7/dist-packages (from cliff->optuna) (3.13)\n",
            "Requirement already satisfied: PrettyTable>=0.7.2 in /usr/local/lib/python3.7/dist-packages (from cliff->optuna) (2.0.0)\n",
            "Collecting pbr!=2.1.0,>=2.0.0\n",
            "\u001b[?25l  Downloading https://files.pythonhosted.org/packages/fb/48/69046506f6ac61c1eaa9a0d42d22d54673b69e176d30ca98e3f61513e980/pbr-5.5.1-py2.py3-none-any.whl (106kB)\n",
            "\u001b[K     |████████████████████████████████| 112kB 62.2MB/s \n",
            "\u001b[?25hRequirement already satisfied: MarkupSafe>=0.9.2 in /usr/local/lib/python3.7/dist-packages (from Mako->alembic->optuna) (1.1.1)\n",
            "Requirement already satisfied: six>=1.5 in /usr/local/lib/python3.7/dist-packages (from python-dateutil->alembic->optuna) (1.15.0)\n",
            "Collecting pyperclip>=1.6\n",
            "  Downloading https://files.pythonhosted.org/packages/a7/2c/4c64579f847bd5d539803c8b909e54ba087a79d01bb3aba433a95879a6c5/pyperclip-1.8.2.tar.gz\n",
            "Collecting colorama>=0.3.7\n",
            "  Downloading https://files.pythonhosted.org/packages/44/98/5b86278fbbf250d239ae0ecb724f8572af1c91f4a11edf4d36a206189440/colorama-0.4.4-py2.py3-none-any.whl\n",
            "Requirement already satisfied: attrs>=16.3.0 in /usr/local/lib/python3.7/dist-packages (from cmd2>=1.0.0->cliff->optuna) (20.3.0)\n",
            "Requirement already satisfied: wcwidth>=0.1.7 in /usr/local/lib/python3.7/dist-packages (from cmd2>=1.0.0->cliff->optuna) (0.2.5)\n",
            "Requirement already satisfied: importlib-metadata>=1.6.0; python_version < \"3.8\" in /usr/local/lib/python3.7/dist-packages (from cmd2>=1.0.0->cliff->optuna) (3.7.0)\n",
            "Requirement already satisfied: setuptools in /usr/local/lib/python3.7/dist-packages (from PrettyTable>=0.7.2->cliff->optuna) (54.0.0)\n",
            "Requirement already satisfied: zipp>=0.5 in /usr/local/lib/python3.7/dist-packages (from importlib-metadata>=1.6.0; python_version < \"3.8\"->cmd2>=1.0.0->cliff->optuna) (3.4.0)\n",
            "Requirement already satisfied: typing-extensions>=3.6.4; python_version < \"3.8\" in /usr/local/lib/python3.7/dist-packages (from importlib-metadata>=1.6.0; python_version < \"3.8\"->cmd2>=1.0.0->cliff->optuna) (3.7.4.3)\n",
            "Building wheels for collected packages: alembic, Mako, pyperclip\n",
            "  Building wheel for alembic (setup.py) ... \u001b[?25l\u001b[?25hdone\n",
            "  Created wheel for alembic: filename=alembic-1.5.6-py2.py3-none-any.whl size=159505 sha256=c76312ed67d44ce058b417fa2230b6b0e4a7524309146c07a4097f3cdd71f033\n",
            "  Stored in directory: /root/.cache/pip/wheels/38/5f/21/f150e4049d6c8f8edd0e8d9571fc44ff1825d6b21328b224e1\n",
            "  Building wheel for Mako (setup.py) ... \u001b[?25l\u001b[?25hdone\n",
            "  Created wheel for Mako: filename=Mako-1.1.4-py2.py3-none-any.whl size=75675 sha256=c680d368d820625d5bb4790e68fbcf0bc7b6d78ac84fd283328fb84a0f30cee8\n",
            "  Stored in directory: /root/.cache/pip/wheels/ad/10/d3/aeb26e20d19045e2a68e5d3cbb57432e11b5d9c92c99f98d47\n",
            "  Building wheel for pyperclip (setup.py) ... \u001b[?25l\u001b[?25hdone\n",
            "  Created wheel for pyperclip: filename=pyperclip-1.8.2-cp37-none-any.whl size=11107 sha256=85d4e7f5f2bae7a04706a050bbafd8371d86170731a828519aaabac079625bc9\n",
            "  Stored in directory: /root/.cache/pip/wheels/25/af/b8/3407109267803f4015e1ee2ff23be0c8c19ce4008665931ee1\n",
            "Successfully built alembic Mako pyperclip\n",
            "Installing collected packages: colorlog, Mako, python-editor, alembic, pyperclip, colorama, cmd2, pbr, stevedore, cliff, cmaes, optuna\n",
            "Successfully installed Mako-1.1.4 alembic-1.5.6 cliff-3.7.0 cmaes-0.8.2 cmd2-1.5.0 colorama-0.4.4 colorlog-4.7.2 optuna-2.5.0 pbr-5.5.1 pyperclip-1.8.2 python-editor-1.0.4 stevedore-3.3.0\n"
          ],
          "name": "stdout"
        }
      ]
    },
    {
      "cell_type": "code",
      "metadata": {
        "id": "LOK9hlgBXa7h"
      },
      "source": [
        "import optuna\r\n",
        "from optuna import Trial, visualization\r\n",
        "from optuna.samplers import TPESampler"
      ],
      "execution_count": 76,
      "outputs": []
    },
    {
      "cell_type": "code",
      "metadata": {
        "id": "fapY_ieTXi0u"
      },
      "source": [
        "lgb_train = lgb.Dataset(X_train, Y_train)\r\n",
        "lgb_eval  = lgb.Dataset(X_valid, Y_valid, reference=lgb_train)"
      ],
      "execution_count": 77,
      "outputs": []
    },
    {
      "cell_type": "code",
      "metadata": {
        "id": "CWeqqtgXXbYA"
      },
      "source": [
        "def objective(trial):\r\n",
        "\r\n",
        "    # choose parameters that you want\r\n",
        "    \r\n",
        "    param = {\r\n",
        "        \"objective\": \"regression\",\r\n",
        "        \"metric\": \"rmse\",\r\n",
        "        \"verbosity\": -1,\r\n",
        "        \"boosting_type\": \"gbdt\",\r\n",
        "        \"lambda_l1\": trial.suggest_float(\"lambda_l1\", 1e-8, 10.0, log=True),\r\n",
        "        \"lambda_l2\": trial.suggest_float(\"lambda_l2\", 1e-8, 10.0, log=True),\r\n",
        "        \"num_leaves\": trial.suggest_int(\"num_leaves\", 2, 256),\r\n",
        "        \"feature_fraction\": trial.suggest_float(\"feature_fraction\", 0.4, 1.0),\r\n",
        "        \"bagging_fraction\": trial.suggest_float(\"bagging_fraction\", 0.4, 1.0),\r\n",
        "        \"bagging_freq\": trial.suggest_int(\"bagging_freq\", 1, 7),\r\n",
        "        \"min_child_samples\": trial.suggest_int(\"min_child_samples\", 5, 100),\r\n",
        "    }\r\n",
        "\r\n",
        "    model = lgb.train(param, \r\n",
        "                      lgb_train,\r\n",
        "                      valid_sets=[lgb_train,lgb_eval],\r\n",
        "                      early_stopping_rounds=15, #10,\r\n",
        "                      verbose_eval=1)\r\n",
        "    \r\n",
        "    y_pred = model.predict(X_valid)\r\n",
        "    accuracy = mean_squared_error(Y_valid, y_pred,squared=False)\r\n",
        "\r\n",
        "    return accuracy"
      ],
      "execution_count": 83,
      "outputs": []
    },
    {
      "cell_type": "code",
      "metadata": {
        "colab": {
          "base_uri": "https://localhost:8080/"
        },
        "id": "zLNKc8v0DnVl",
        "outputId": "5f9d9956-33a1-4f04-8a51-e5afd0fcf0c3"
      },
      "source": [
        "from sklearn.metrics import mean_squared_error\r\n",
        "\r\n",
        "study = optuna.create_study(direction='minimize')\r\n",
        "study.optimize(objective, n_trials=15)\r\n",
        " \r\n",
        "print('Number of finished trials:', len(study.trials))\r\n",
        "print('Best trial:', study.best_trial.params)"
      ],
      "execution_count": 98,
      "outputs": [
        {
          "output_type": "stream",
          "text": [
            "\u001b[32m[I 2021-03-06 06:55:48,382]\u001b[0m A new study created in memory with name: no-name-e95fe00d-5a82-4066-968f-c1b9bb02abe5\u001b[0m\n"
          ],
          "name": "stderr"
        },
        {
          "output_type": "stream",
          "text": [
            "[1]\ttraining's rmse: 1.14182\tvalid_1's rmse: 1.09981\n",
            "Training until validation scores don't improve for 15 rounds.\n",
            "[2]\ttraining's rmse: 1.10017\tvalid_1's rmse: 1.07041\n",
            "[3]\ttraining's rmse: 1.0652\tvalid_1's rmse: 1.04544\n",
            "[4]\ttraining's rmse: 1.03522\tvalid_1's rmse: 1.0244\n",
            "[5]\ttraining's rmse: 1.01018\tvalid_1's rmse: 1.01047\n",
            "[6]\ttraining's rmse: 0.983754\tvalid_1's rmse: 0.991761\n",
            "[7]\ttraining's rmse: 0.961324\tvalid_1's rmse: 0.978348\n",
            "[8]\ttraining's rmse: 0.939521\tvalid_1's rmse: 0.964892\n",
            "[9]\ttraining's rmse: 0.923297\tvalid_1's rmse: 0.955757\n",
            "[10]\ttraining's rmse: 0.908767\tvalid_1's rmse: 0.946652\n",
            "[11]\ttraining's rmse: 0.897236\tvalid_1's rmse: 0.940553\n",
            "[12]\ttraining's rmse: 0.884853\tvalid_1's rmse: 0.937127\n",
            "[13]\ttraining's rmse: 0.875248\tvalid_1's rmse: 0.932574\n",
            "[14]\ttraining's rmse: 0.866344\tvalid_1's rmse: 0.930849\n",
            "[15]\ttraining's rmse: 0.859263\tvalid_1's rmse: 0.927843\n",
            "[16]\ttraining's rmse: 0.8512\tvalid_1's rmse: 0.92977\n",
            "[17]\ttraining's rmse: 0.845248\tvalid_1's rmse: 0.928682\n",
            "[18]\ttraining's rmse: 0.839135\tvalid_1's rmse: 0.927917\n",
            "[19]\ttraining's rmse: 0.833888\tvalid_1's rmse: 0.927485\n",
            "[20]\ttraining's rmse: 0.827983\tvalid_1's rmse: 0.930009\n",
            "[21]\ttraining's rmse: 0.824014\tvalid_1's rmse: 0.928857\n",
            "[22]\ttraining's rmse: 0.82026\tvalid_1's rmse: 0.927912\n",
            "[23]\ttraining's rmse: 0.817485\tvalid_1's rmse: 0.927035\n",
            "[24]\ttraining's rmse: 0.815258\tvalid_1's rmse: 0.926397\n",
            "[25]\ttraining's rmse: 0.812361\tvalid_1's rmse: 0.926649\n",
            "[26]\ttraining's rmse: 0.809967\tvalid_1's rmse: 0.926617\n",
            "[27]\ttraining's rmse: 0.807567\tvalid_1's rmse: 0.926795\n",
            "[28]\ttraining's rmse: 0.805876\tvalid_1's rmse: 0.926666\n",
            "[29]\ttraining's rmse: 0.803627\tvalid_1's rmse: 0.924469\n",
            "[30]\ttraining's rmse: 0.801795\tvalid_1's rmse: 0.924001\n",
            "[31]\ttraining's rmse: 0.800199\tvalid_1's rmse: 0.923708\n",
            "[32]\ttraining's rmse: 0.79841\tvalid_1's rmse: 0.92217\n",
            "[33]\ttraining's rmse: 0.796195\tvalid_1's rmse: 0.922138\n",
            "[34]\ttraining's rmse: 0.794482\tvalid_1's rmse: 0.92172\n",
            "[35]\ttraining's rmse: 0.79265\tvalid_1's rmse: 0.922144\n",
            "[36]\ttraining's rmse: 0.791295\tvalid_1's rmse: 0.922044\n",
            "[37]\ttraining's rmse: 0.790057\tvalid_1's rmse: 0.922768\n",
            "[38]\ttraining's rmse: 0.788414\tvalid_1's rmse: 0.923087\n",
            "[39]\ttraining's rmse: 0.786967\tvalid_1's rmse: 0.92366\n",
            "[40]\ttraining's rmse: 0.78576\tvalid_1's rmse: 0.923964\n",
            "[41]\ttraining's rmse: 0.782904\tvalid_1's rmse: 0.930573\n",
            "[42]\ttraining's rmse: 0.781955\tvalid_1's rmse: 0.930834\n",
            "[43]\ttraining's rmse: 0.780736\tvalid_1's rmse: 0.930653\n",
            "[44]\ttraining's rmse: 0.779924\tvalid_1's rmse: 0.930473\n",
            "[45]\ttraining's rmse: 0.778909\tvalid_1's rmse: 0.930162\n",
            "[46]\ttraining's rmse: 0.777501\tvalid_1's rmse: 0.929914\n",
            "[47]\ttraining's rmse: 0.776214\tvalid_1's rmse: 0.929635\n",
            "[48]\ttraining's rmse: 0.775531\tvalid_1's rmse: 0.930026\n",
            "[49]\ttraining's rmse: 0.774609\tvalid_1's rmse: 0.929912\n",
            "Early stopping, best iteration is:\n",
            "[34]\ttraining's rmse: 0.794482\tvalid_1's rmse: 0.92172\n"
          ],
          "name": "stdout"
        },
        {
          "output_type": "stream",
          "text": [
            "\u001b[32m[I 2021-03-06 06:56:17,342]\u001b[0m Trial 0 finished with value: 0.9217195435145554 and parameters: {'lambda_l1': 0.1753325100044184, 'lambda_l2': 2.691429699722638e-06, 'num_leaves': 152, 'feature_fraction': 0.45811859601351174, 'bagging_fraction': 0.9638602552922726, 'bagging_freq': 2, 'min_child_samples': 52}. Best is trial 0 with value: 0.9217195435145554.\u001b[0m\n"
          ],
          "name": "stderr"
        },
        {
          "output_type": "stream",
          "text": [
            "[1]\ttraining's rmse: 1.13888\tvalid_1's rmse: 1.10036\n",
            "Training until validation scores don't improve for 15 rounds.\n",
            "[2]\ttraining's rmse: 1.0931\tvalid_1's rmse: 1.06756\n",
            "[3]\ttraining's rmse: 1.05347\tvalid_1's rmse: 1.04109\n",
            "[4]\ttraining's rmse: 1.02008\tvalid_1's rmse: 1.01729\n",
            "[5]\ttraining's rmse: 0.991474\tvalid_1's rmse: 1.00012\n",
            "[6]\ttraining's rmse: 0.96757\tvalid_1's rmse: 0.9857\n",
            "[7]\ttraining's rmse: 0.946706\tvalid_1's rmse: 0.977563\n",
            "[8]\ttraining's rmse: 0.928156\tvalid_1's rmse: 0.967277\n",
            "[9]\ttraining's rmse: 0.912416\tvalid_1's rmse: 0.96156\n",
            "[10]\ttraining's rmse: 0.899663\tvalid_1's rmse: 0.954669\n",
            "[11]\ttraining's rmse: 0.888637\tvalid_1's rmse: 0.951676\n",
            "[12]\ttraining's rmse: 0.87868\tvalid_1's rmse: 0.947292\n",
            "[13]\ttraining's rmse: 0.869875\tvalid_1's rmse: 0.944462\n",
            "[14]\ttraining's rmse: 0.862274\tvalid_1's rmse: 0.942633\n",
            "[15]\ttraining's rmse: 0.855133\tvalid_1's rmse: 0.940503\n",
            "[16]\ttraining's rmse: 0.849142\tvalid_1's rmse: 0.943038\n",
            "[17]\ttraining's rmse: 0.843938\tvalid_1's rmse: 0.942313\n",
            "[18]\ttraining's rmse: 0.839424\tvalid_1's rmse: 0.941283\n",
            "[19]\ttraining's rmse: 0.835807\tvalid_1's rmse: 0.940353\n",
            "[20]\ttraining's rmse: 0.83141\tvalid_1's rmse: 0.944429\n",
            "[21]\ttraining's rmse: 0.82801\tvalid_1's rmse: 0.944163\n",
            "[22]\ttraining's rmse: 0.824611\tvalid_1's rmse: 0.946901\n",
            "[23]\ttraining's rmse: 0.821901\tvalid_1's rmse: 0.946661\n",
            "[24]\ttraining's rmse: 0.819277\tvalid_1's rmse: 0.946038\n",
            "[25]\ttraining's rmse: 0.816162\tvalid_1's rmse: 0.945673\n",
            "[26]\ttraining's rmse: 0.813769\tvalid_1's rmse: 0.945639\n",
            "[27]\ttraining's rmse: 0.811677\tvalid_1's rmse: 0.944612\n",
            "[28]\ttraining's rmse: 0.809149\tvalid_1's rmse: 0.949813\n",
            "[29]\ttraining's rmse: 0.80716\tvalid_1's rmse: 0.949469\n",
            "[30]\ttraining's rmse: 0.805401\tvalid_1's rmse: 0.949184\n",
            "[31]\ttraining's rmse: 0.803558\tvalid_1's rmse: 0.948424\n",
            "[32]\ttraining's rmse: 0.80185\tvalid_1's rmse: 0.94827\n",
            "[33]\ttraining's rmse: 0.800161\tvalid_1's rmse: 0.947951\n"
          ],
          "name": "stdout"
        },
        {
          "output_type": "stream",
          "text": [
            "\u001b[32m[I 2021-03-06 06:56:39,253]\u001b[0m Trial 1 finished with value: 0.9403533903409941 and parameters: {'lambda_l1': 1.551087537164853e-08, 'lambda_l2': 0.0009771872605764866, 'num_leaves': 104, 'feature_fraction': 0.7435430510972324, 'bagging_fraction': 0.9598068577645767, 'bagging_freq': 2, 'min_child_samples': 51}. Best is trial 0 with value: 0.9217195435145554.\u001b[0m\n"
          ],
          "name": "stderr"
        },
        {
          "output_type": "stream",
          "text": [
            "[34]\ttraining's rmse: 0.798655\tvalid_1's rmse: 0.94779\n",
            "Early stopping, best iteration is:\n",
            "[19]\ttraining's rmse: 0.835807\tvalid_1's rmse: 0.940353\n",
            "[1]\ttraining's rmse: 1.13865\tvalid_1's rmse: 1.0989\n",
            "Training until validation scores don't improve for 15 rounds.\n",
            "[2]\ttraining's rmse: 1.09185\tvalid_1's rmse: 1.06463\n",
            "[3]\ttraining's rmse: 1.05059\tvalid_1's rmse: 1.03764\n",
            "[4]\ttraining's rmse: 1.01752\tvalid_1's rmse: 1.01389\n",
            "[5]\ttraining's rmse: 0.990909\tvalid_1's rmse: 0.997883\n",
            "[6]\ttraining's rmse: 0.966211\tvalid_1's rmse: 0.981341\n",
            "[7]\ttraining's rmse: 0.942528\tvalid_1's rmse: 0.970902\n",
            "[8]\ttraining's rmse: 0.92192\tvalid_1's rmse: 0.96253\n",
            "[9]\ttraining's rmse: 0.905711\tvalid_1's rmse: 0.956477\n",
            "[10]\ttraining's rmse: 0.892146\tvalid_1's rmse: 0.949142\n",
            "[11]\ttraining's rmse: 0.880386\tvalid_1's rmse: 0.944428\n",
            "[12]\ttraining's rmse: 0.869031\tvalid_1's rmse: 0.943842\n",
            "[13]\ttraining's rmse: 0.859332\tvalid_1's rmse: 0.944107\n",
            "[14]\ttraining's rmse: 0.850805\tvalid_1's rmse: 0.945679\n",
            "[15]\ttraining's rmse: 0.84335\tvalid_1's rmse: 0.943025\n",
            "[16]\ttraining's rmse: 0.836943\tvalid_1's rmse: 0.941025\n",
            "[17]\ttraining's rmse: 0.831019\tvalid_1's rmse: 0.938694\n",
            "[18]\ttraining's rmse: 0.826405\tvalid_1's rmse: 0.937147\n",
            "[19]\ttraining's rmse: 0.822832\tvalid_1's rmse: 0.936102\n",
            "[20]\ttraining's rmse: 0.818261\tvalid_1's rmse: 0.938939\n",
            "[21]\ttraining's rmse: 0.8148\tvalid_1's rmse: 0.938059\n",
            "[22]\ttraining's rmse: 0.811812\tvalid_1's rmse: 0.937539\n",
            "[23]\ttraining's rmse: 0.808968\tvalid_1's rmse: 0.936955\n",
            "[24]\ttraining's rmse: 0.80651\tvalid_1's rmse: 0.936521\n",
            "[25]\ttraining's rmse: 0.804357\tvalid_1's rmse: 0.935962\n",
            "[26]\ttraining's rmse: 0.801982\tvalid_1's rmse: 0.935685\n",
            "[27]\ttraining's rmse: 0.799968\tvalid_1's rmse: 0.935518\n",
            "[28]\ttraining's rmse: 0.797587\tvalid_1's rmse: 0.93562\n",
            "[29]\ttraining's rmse: 0.795775\tvalid_1's rmse: 0.934685\n",
            "[30]\ttraining's rmse: 0.793573\tvalid_1's rmse: 0.933188\n",
            "[31]\ttraining's rmse: 0.791655\tvalid_1's rmse: 0.931319\n",
            "[32]\ttraining's rmse: 0.790089\tvalid_1's rmse: 0.930697\n",
            "[33]\ttraining's rmse: 0.788108\tvalid_1's rmse: 0.932056\n",
            "[34]\ttraining's rmse: 0.786705\tvalid_1's rmse: 0.932017\n",
            "[35]\ttraining's rmse: 0.785185\tvalid_1's rmse: 0.932257\n",
            "[36]\ttraining's rmse: 0.783908\tvalid_1's rmse: 0.932548\n",
            "[37]\ttraining's rmse: 0.782587\tvalid_1's rmse: 0.931894\n",
            "[38]\ttraining's rmse: 0.781226\tvalid_1's rmse: 0.931857\n",
            "[39]\ttraining's rmse: 0.779906\tvalid_1's rmse: 0.931489\n",
            "[40]\ttraining's rmse: 0.77881\tvalid_1's rmse: 0.931551\n",
            "[41]\ttraining's rmse: 0.777641\tvalid_1's rmse: 0.93183\n",
            "[42]\ttraining's rmse: 0.776653\tvalid_1's rmse: 0.932046\n",
            "[43]\ttraining's rmse: 0.775499\tvalid_1's rmse: 0.931937\n",
            "[44]\ttraining's rmse: 0.774593\tvalid_1's rmse: 0.932268\n",
            "[45]\ttraining's rmse: 0.773386\tvalid_1's rmse: 0.932206\n",
            "[46]\ttraining's rmse: 0.772485\tvalid_1's rmse: 0.932153\n",
            "[47]\ttraining's rmse: 0.7715\tvalid_1's rmse: 0.931996\n",
            "Early stopping, best iteration is:\n",
            "[32]\ttraining's rmse: 0.790089\tvalid_1's rmse: 0.930697\n"
          ],
          "name": "stdout"
        },
        {
          "output_type": "stream",
          "text": [
            "\u001b[32m[I 2021-03-06 06:57:05,993]\u001b[0m Trial 2 finished with value: 0.9306968474618578 and parameters: {'lambda_l1': 2.377898622750144e-06, 'lambda_l2': 1.209691540086987e-06, 'num_leaves': 167, 'feature_fraction': 0.6814097106504045, 'bagging_fraction': 0.738453251725504, 'bagging_freq': 4, 'min_child_samples': 92}. Best is trial 0 with value: 0.9217195435145554.\u001b[0m\n"
          ],
          "name": "stderr"
        },
        {
          "output_type": "stream",
          "text": [
            "[1]\ttraining's rmse: 1.13609\tvalid_1's rmse: 1.09677\n",
            "Training until validation scores don't improve for 15 rounds.\n",
            "[2]\ttraining's rmse: 1.08802\tvalid_1's rmse: 1.06477\n",
            "[3]\ttraining's rmse: 1.04724\tvalid_1's rmse: 1.03764\n",
            "[4]\ttraining's rmse: 1.01292\tvalid_1's rmse: 1.01412\n",
            "[5]\ttraining's rmse: 0.983411\tvalid_1's rmse: 0.995331\n",
            "[6]\ttraining's rmse: 0.958877\tvalid_1's rmse: 0.979149\n",
            "[7]\ttraining's rmse: 0.937357\tvalid_1's rmse: 0.968002\n",
            "[8]\ttraining's rmse: 0.918266\tvalid_1's rmse: 0.960236\n",
            "[9]\ttraining's rmse: 0.902236\tvalid_1's rmse: 0.952294\n",
            "[10]\ttraining's rmse: 0.889098\tvalid_1's rmse: 0.946627\n",
            "[11]\ttraining's rmse: 0.876981\tvalid_1's rmse: 0.944446\n",
            "[12]\ttraining's rmse: 0.867\tvalid_1's rmse: 0.939815\n",
            "[13]\ttraining's rmse: 0.857474\tvalid_1's rmse: 0.940037\n",
            "[14]\ttraining's rmse: 0.849359\tvalid_1's rmse: 0.938204\n",
            "[15]\ttraining's rmse: 0.842151\tvalid_1's rmse: 0.936787\n",
            "[16]\ttraining's rmse: 0.835808\tvalid_1's rmse: 0.934829\n",
            "[17]\ttraining's rmse: 0.830231\tvalid_1's rmse: 0.933906\n",
            "[18]\ttraining's rmse: 0.825392\tvalid_1's rmse: 0.93487\n",
            "[19]\ttraining's rmse: 0.821093\tvalid_1's rmse: 0.934262\n",
            "[20]\ttraining's rmse: 0.817485\tvalid_1's rmse: 0.933399\n",
            "[21]\ttraining's rmse: 0.814038\tvalid_1's rmse: 0.932894\n",
            "[22]\ttraining's rmse: 0.810422\tvalid_1's rmse: 0.935466\n",
            "[23]\ttraining's rmse: 0.807144\tvalid_1's rmse: 0.934656\n",
            "[24]\ttraining's rmse: 0.804093\tvalid_1's rmse: 0.93619\n",
            "[25]\ttraining's rmse: 0.801306\tvalid_1's rmse: 0.933655\n",
            "[26]\ttraining's rmse: 0.799251\tvalid_1's rmse: 0.931586\n",
            "[27]\ttraining's rmse: 0.797014\tvalid_1's rmse: 0.930274\n",
            "[28]\ttraining's rmse: 0.795078\tvalid_1's rmse: 0.930613\n",
            "[29]\ttraining's rmse: 0.793096\tvalid_1's rmse: 0.929647\n",
            "[30]\ttraining's rmse: 0.791249\tvalid_1's rmse: 0.930505\n",
            "[31]\ttraining's rmse: 0.789706\tvalid_1's rmse: 0.93048\n",
            "[32]\ttraining's rmse: 0.787983\tvalid_1's rmse: 0.931382\n",
            "[33]\ttraining's rmse: 0.786476\tvalid_1's rmse: 0.931575\n",
            "[34]\ttraining's rmse: 0.784958\tvalid_1's rmse: 0.931741\n",
            "[35]\ttraining's rmse: 0.7834\tvalid_1's rmse: 0.932485\n",
            "[36]\ttraining's rmse: 0.781856\tvalid_1's rmse: 0.932182\n",
            "[37]\ttraining's rmse: 0.780651\tvalid_1's rmse: 0.932124\n",
            "[38]\ttraining's rmse: 0.778472\tvalid_1's rmse: 0.934597\n",
            "[39]\ttraining's rmse: 0.776889\tvalid_1's rmse: 0.934086\n",
            "[40]\ttraining's rmse: 0.775897\tvalid_1's rmse: 0.934108\n",
            "[41]\ttraining's rmse: 0.774739\tvalid_1's rmse: 0.935312\n",
            "[42]\ttraining's rmse: 0.77351\tvalid_1's rmse: 0.936129\n",
            "[43]\ttraining's rmse: 0.772547\tvalid_1's rmse: 0.936673\n",
            "[44]\ttraining's rmse: 0.771788\tvalid_1's rmse: 0.937174\n",
            "Early stopping, best iteration is:\n",
            "[29]\ttraining's rmse: 0.793096\tvalid_1's rmse: 0.929647\n"
          ],
          "name": "stdout"
        },
        {
          "output_type": "stream",
          "text": [
            "\u001b[32m[I 2021-03-06 06:57:26,431]\u001b[0m Trial 3 finished with value: 0.9296474469643603 and parameters: {'lambda_l1': 1.0701807135853912e-05, 'lambda_l2': 8.374373607018588e-06, 'num_leaves': 198, 'feature_fraction': 0.8908946992742164, 'bagging_fraction': 0.4301503812550074, 'bagging_freq': 5, 'min_child_samples': 79}. Best is trial 0 with value: 0.9217195435145554.\u001b[0m\n"
          ],
          "name": "stderr"
        },
        {
          "output_type": "stream",
          "text": [
            "[1]\ttraining's rmse: 1.13912\tvalid_1's rmse: 1.09983\n",
            "Training until validation scores don't improve for 15 rounds.\n",
            "[2]\ttraining's rmse: 1.09499\tvalid_1's rmse: 1.07033\n",
            "[3]\ttraining's rmse: 1.05762\tvalid_1's rmse: 1.04573\n",
            "[4]\ttraining's rmse: 1.0259\tvalid_1's rmse: 1.02381\n",
            "[5]\ttraining's rmse: 0.998629\tvalid_1's rmse: 1.00738\n",
            "[6]\ttraining's rmse: 0.975753\tvalid_1's rmse: 0.993511\n",
            "[7]\ttraining's rmse: 0.956313\tvalid_1's rmse: 0.983015\n",
            "[8]\ttraining's rmse: 0.939445\tvalid_1's rmse: 0.973255\n",
            "[9]\ttraining's rmse: 0.925066\tvalid_1's rmse: 0.965\n",
            "[10]\ttraining's rmse: 0.912855\tvalid_1's rmse: 0.958152\n",
            "[11]\ttraining's rmse: 0.90209\tvalid_1's rmse: 0.953059\n",
            "[12]\ttraining's rmse: 0.893096\tvalid_1's rmse: 0.94788\n",
            "[13]\ttraining's rmse: 0.885183\tvalid_1's rmse: 0.943459\n",
            "[14]\ttraining's rmse: 0.878334\tvalid_1's rmse: 0.944246\n",
            "[15]\ttraining's rmse: 0.871832\tvalid_1's rmse: 0.941426\n",
            "[16]\ttraining's rmse: 0.866526\tvalid_1's rmse: 0.938526\n",
            "[17]\ttraining's rmse: 0.86176\tvalid_1's rmse: 0.936562\n",
            "[18]\ttraining's rmse: 0.857116\tvalid_1's rmse: 0.934498\n",
            "[19]\ttraining's rmse: 0.853264\tvalid_1's rmse: 0.932882\n",
            "[20]\ttraining's rmse: 0.849295\tvalid_1's rmse: 0.935671\n",
            "[21]\ttraining's rmse: 0.846274\tvalid_1's rmse: 0.934503\n",
            "[22]\ttraining's rmse: 0.842793\tvalid_1's rmse: 0.938962\n",
            "[23]\ttraining's rmse: 0.839923\tvalid_1's rmse: 0.938506\n",
            "[24]\ttraining's rmse: 0.837285\tvalid_1's rmse: 0.937502\n",
            "[25]\ttraining's rmse: 0.834917\tvalid_1's rmse: 0.937307\n",
            "[26]\ttraining's rmse: 0.832801\tvalid_1's rmse: 0.936724\n",
            "[27]\ttraining's rmse: 0.830951\tvalid_1's rmse: 0.935606\n",
            "[28]\ttraining's rmse: 0.829127\tvalid_1's rmse: 0.933803\n",
            "[29]\ttraining's rmse: 0.827369\tvalid_1's rmse: 0.933609\n",
            "[30]\ttraining's rmse: 0.825776\tvalid_1's rmse: 0.933274\n",
            "[31]\ttraining's rmse: 0.824292\tvalid_1's rmse: 0.932863\n",
            "[32]\ttraining's rmse: 0.822761\tvalid_1's rmse: 0.932934\n",
            "[33]\ttraining's rmse: 0.821415\tvalid_1's rmse: 0.932788\n",
            "[34]\ttraining's rmse: 0.819863\tvalid_1's rmse: 0.932969\n",
            "[35]\ttraining's rmse: 0.818585\tvalid_1's rmse: 0.932755\n",
            "[36]\ttraining's rmse: 0.817501\tvalid_1's rmse: 0.932082\n",
            "[37]\ttraining's rmse: 0.816503\tvalid_1's rmse: 0.931657\n",
            "[38]\ttraining's rmse: 0.815497\tvalid_1's rmse: 0.931354\n",
            "[39]\ttraining's rmse: 0.814568\tvalid_1's rmse: 0.931524\n",
            "[40]\ttraining's rmse: 0.813689\tvalid_1's rmse: 0.932404\n",
            "[41]\ttraining's rmse: 0.81259\tvalid_1's rmse: 0.932334\n",
            "[42]\ttraining's rmse: 0.811838\tvalid_1's rmse: 0.93197\n",
            "[43]\ttraining's rmse: 0.810815\tvalid_1's rmse: 0.931933\n",
            "[44]\ttraining's rmse: 0.810056\tvalid_1's rmse: 0.932302\n",
            "[45]\ttraining's rmse: 0.809284\tvalid_1's rmse: 0.93247\n",
            "[46]\ttraining's rmse: 0.808376\tvalid_1's rmse: 0.932606\n",
            "[47]\ttraining's rmse: 0.80736\tvalid_1's rmse: 0.9328\n",
            "[48]\ttraining's rmse: 0.806573\tvalid_1's rmse: 0.933791\n",
            "[49]\ttraining's rmse: 0.805665\tvalid_1's rmse: 0.933803\n",
            "[50]\ttraining's rmse: 0.804987\tvalid_1's rmse: 0.933631\n",
            "[51]\ttraining's rmse: 0.804017\tvalid_1's rmse: 0.934527\n",
            "[52]\ttraining's rmse: 0.803333\tvalid_1's rmse: 0.934338\n",
            "[53]\ttraining's rmse: 0.80263\tvalid_1's rmse: 0.934393\n",
            "Early stopping, best iteration is:\n",
            "[38]\ttraining's rmse: 0.815497\tvalid_1's rmse: 0.931354\n"
          ],
          "name": "stdout"
        },
        {
          "output_type": "stream",
          "text": [
            "\u001b[32m[I 2021-03-06 06:57:59,092]\u001b[0m Trial 4 finished with value: 0.9313537036571744 and parameters: {'lambda_l1': 0.007636401253545301, 'lambda_l2': 1.9700114366733092e-05, 'num_leaves': 58, 'feature_fraction': 0.9261758099861154, 'bagging_fraction': 0.9937607590786265, 'bagging_freq': 2, 'min_child_samples': 77}. Best is trial 0 with value: 0.9217195435145554.\u001b[0m\n"
          ],
          "name": "stderr"
        },
        {
          "output_type": "stream",
          "text": [
            "[1]\ttraining's rmse: 1.13918\tvalid_1's rmse: 1.09997\n",
            "Training until validation scores don't improve for 15 rounds.\n",
            "[2]\ttraining's rmse: 1.09518\tvalid_1's rmse: 1.06973\n",
            "[3]\ttraining's rmse: 1.05791\tvalid_1's rmse: 1.04453\n",
            "[4]\ttraining's rmse: 1.02624\tvalid_1's rmse: 1.02248\n",
            "[5]\ttraining's rmse: 0.998696\tvalid_1's rmse: 1.00519\n",
            "[6]\ttraining's rmse: 0.975984\tvalid_1's rmse: 0.990822\n",
            "[7]\ttraining's rmse: 0.956658\tvalid_1's rmse: 0.97924\n",
            "[8]\ttraining's rmse: 0.939997\tvalid_1's rmse: 0.968651\n",
            "[9]\ttraining's rmse: 0.92523\tvalid_1's rmse: 0.963759\n",
            "[10]\ttraining's rmse: 0.913124\tvalid_1's rmse: 0.957551\n",
            "[11]\ttraining's rmse: 0.902127\tvalid_1's rmse: 0.952249\n",
            "[12]\ttraining's rmse: 0.892979\tvalid_1's rmse: 0.947448\n",
            "[13]\ttraining's rmse: 0.885155\tvalid_1's rmse: 0.94296\n",
            "[14]\ttraining's rmse: 0.877832\tvalid_1's rmse: 0.93939\n",
            "[15]\ttraining's rmse: 0.871157\tvalid_1's rmse: 0.936468\n",
            "[16]\ttraining's rmse: 0.86584\tvalid_1's rmse: 0.933937\n",
            "[17]\ttraining's rmse: 0.86092\tvalid_1's rmse: 0.934693\n",
            "[18]\ttraining's rmse: 0.856944\tvalid_1's rmse: 0.933449\n",
            "[19]\ttraining's rmse: 0.852887\tvalid_1's rmse: 0.931785\n",
            "[20]\ttraining's rmse: 0.849429\tvalid_1's rmse: 0.931634\n",
            "[21]\ttraining's rmse: 0.845984\tvalid_1's rmse: 0.930644\n",
            "[22]\ttraining's rmse: 0.842849\tvalid_1's rmse: 0.92942\n",
            "[23]\ttraining's rmse: 0.839991\tvalid_1's rmse: 0.92782\n",
            "[24]\ttraining's rmse: 0.837571\tvalid_1's rmse: 0.92697\n",
            "[25]\ttraining's rmse: 0.83536\tvalid_1's rmse: 0.926601\n",
            "[26]\ttraining's rmse: 0.832915\tvalid_1's rmse: 0.926646\n",
            "[27]\ttraining's rmse: 0.831067\tvalid_1's rmse: 0.926535\n",
            "[28]\ttraining's rmse: 0.829454\tvalid_1's rmse: 0.925928\n",
            "[29]\ttraining's rmse: 0.827357\tvalid_1's rmse: 0.928671\n",
            "[30]\ttraining's rmse: 0.825747\tvalid_1's rmse: 0.92779\n",
            "[31]\ttraining's rmse: 0.824179\tvalid_1's rmse: 0.927956\n",
            "[32]\ttraining's rmse: 0.822685\tvalid_1's rmse: 0.927808\n",
            "[33]\ttraining's rmse: 0.821156\tvalid_1's rmse: 0.926438\n",
            "[34]\ttraining's rmse: 0.82007\tvalid_1's rmse: 0.926726\n",
            "[35]\ttraining's rmse: 0.818905\tvalid_1's rmse: 0.926576\n",
            "[36]\ttraining's rmse: 0.81792\tvalid_1's rmse: 0.927144\n",
            "[37]\ttraining's rmse: 0.817021\tvalid_1's rmse: 0.926788\n",
            "[38]\ttraining's rmse: 0.815891\tvalid_1's rmse: 0.926278\n",
            "[39]\ttraining's rmse: 0.814837\tvalid_1's rmse: 0.926441\n",
            "[40]\ttraining's rmse: 0.813599\tvalid_1's rmse: 0.92486\n",
            "[41]\ttraining's rmse: 0.812547\tvalid_1's rmse: 0.926896\n",
            "[42]\ttraining's rmse: 0.811687\tvalid_1's rmse: 0.926714\n",
            "[43]\ttraining's rmse: 0.810737\tvalid_1's rmse: 0.927223\n",
            "[44]\ttraining's rmse: 0.809894\tvalid_1's rmse: 0.927556\n",
            "[45]\ttraining's rmse: 0.809236\tvalid_1's rmse: 0.927642\n",
            "[46]\ttraining's rmse: 0.808341\tvalid_1's rmse: 0.928296\n",
            "[47]\ttraining's rmse: 0.807606\tvalid_1's rmse: 0.928754\n",
            "[48]\ttraining's rmse: 0.807024\tvalid_1's rmse: 0.928796\n",
            "[49]\ttraining's rmse: 0.806182\tvalid_1's rmse: 0.929575\n",
            "[50]\ttraining's rmse: 0.805477\tvalid_1's rmse: 0.929027\n",
            "[51]\ttraining's rmse: 0.804296\tvalid_1's rmse: 0.929443\n",
            "[52]\ttraining's rmse: 0.803706\tvalid_1's rmse: 0.929409\n",
            "[53]\ttraining's rmse: 0.803104\tvalid_1's rmse: 0.929443\n",
            "[54]\ttraining's rmse: 0.802425\tvalid_1's rmse: 0.930379\n",
            "[55]\ttraining's rmse: 0.801841\tvalid_1's rmse: 0.930417\n",
            "Early stopping, best iteration is:\n",
            "[40]\ttraining's rmse: 0.813599\tvalid_1's rmse: 0.92486\n"
          ],
          "name": "stdout"
        },
        {
          "output_type": "stream",
          "text": [
            "\u001b[32m[I 2021-03-06 06:58:29,734]\u001b[0m Trial 5 finished with value: 0.9248603091063872 and parameters: {'lambda_l1': 1.3564853610825098e-07, 'lambda_l2': 0.25040771351905095, 'num_leaves': 57, 'feature_fraction': 0.9017795148401163, 'bagging_fraction': 0.9908746583924155, 'bagging_freq': 6, 'min_child_samples': 23}. Best is trial 0 with value: 0.9217195435145554.\u001b[0m\n"
          ],
          "name": "stderr"
        },
        {
          "output_type": "stream",
          "text": [
            "[1]\ttraining's rmse: 1.14127\tvalid_1's rmse: 1.10089\n",
            "Training until validation scores don't improve for 15 rounds.\n",
            "[2]\ttraining's rmse: 1.09654\tvalid_1's rmse: 1.06858\n",
            "[3]\ttraining's rmse: 1.05816\tvalid_1's rmse: 1.04171\n",
            "[4]\ttraining's rmse: 1.02561\tvalid_1's rmse: 1.01763\n",
            "[5]\ttraining's rmse: 0.997994\tvalid_1's rmse: 1.00112\n",
            "[6]\ttraining's rmse: 0.974939\tvalid_1's rmse: 0.986419\n",
            "[7]\ttraining's rmse: 0.954417\tvalid_1's rmse: 0.978278\n",
            "[8]\ttraining's rmse: 0.936531\tvalid_1's rmse: 0.969357\n",
            "[9]\ttraining's rmse: 0.921934\tvalid_1's rmse: 0.960685\n",
            "[10]\ttraining's rmse: 0.909884\tvalid_1's rmse: 0.954423\n",
            "[11]\ttraining's rmse: 0.89928\tvalid_1's rmse: 0.948646\n",
            "[12]\ttraining's rmse: 0.8892\tvalid_1's rmse: 0.947318\n",
            "[13]\ttraining's rmse: 0.880422\tvalid_1's rmse: 0.946668\n",
            "[14]\ttraining's rmse: 0.872906\tvalid_1's rmse: 0.947132\n",
            "[15]\ttraining's rmse: 0.866336\tvalid_1's rmse: 0.944428\n",
            "[16]\ttraining's rmse: 0.860581\tvalid_1's rmse: 0.941936\n",
            "[17]\ttraining's rmse: 0.855654\tvalid_1's rmse: 0.940186\n",
            "[18]\ttraining's rmse: 0.85134\tvalid_1's rmse: 0.939538\n",
            "[19]\ttraining's rmse: 0.847743\tvalid_1's rmse: 0.938433\n",
            "[20]\ttraining's rmse: 0.843729\tvalid_1's rmse: 0.940937\n",
            "[21]\ttraining's rmse: 0.840762\tvalid_1's rmse: 0.940926\n",
            "[22]\ttraining's rmse: 0.837795\tvalid_1's rmse: 0.939724\n",
            "[23]\ttraining's rmse: 0.835111\tvalid_1's rmse: 0.939723\n",
            "[24]\ttraining's rmse: 0.832791\tvalid_1's rmse: 0.939145\n",
            "[25]\ttraining's rmse: 0.830336\tvalid_1's rmse: 0.938514\n",
            "[26]\ttraining's rmse: 0.82853\tvalid_1's rmse: 0.938489\n",
            "[27]\ttraining's rmse: 0.82659\tvalid_1's rmse: 0.938908\n",
            "[28]\ttraining's rmse: 0.824311\tvalid_1's rmse: 0.940792\n",
            "[29]\ttraining's rmse: 0.822387\tvalid_1's rmse: 0.940056\n",
            "[30]\ttraining's rmse: 0.820744\tvalid_1's rmse: 0.939364\n",
            "[31]\ttraining's rmse: 0.819482\tvalid_1's rmse: 0.938865\n",
            "[32]\ttraining's rmse: 0.817693\tvalid_1's rmse: 0.937097\n",
            "[33]\ttraining's rmse: 0.816204\tvalid_1's rmse: 0.936778\n",
            "[34]\ttraining's rmse: 0.814839\tvalid_1's rmse: 0.936302\n",
            "[35]\ttraining's rmse: 0.813486\tvalid_1's rmse: 0.936415\n",
            "[36]\ttraining's rmse: 0.812193\tvalid_1's rmse: 0.935953\n",
            "[37]\ttraining's rmse: 0.811262\tvalid_1's rmse: 0.936676\n",
            "[38]\ttraining's rmse: 0.810259\tvalid_1's rmse: 0.936748\n",
            "[39]\ttraining's rmse: 0.809141\tvalid_1's rmse: 0.937206\n",
            "[40]\ttraining's rmse: 0.807856\tvalid_1's rmse: 0.937844\n",
            "[41]\ttraining's rmse: 0.80684\tvalid_1's rmse: 0.937827\n",
            "[42]\ttraining's rmse: 0.806088\tvalid_1's rmse: 0.937512\n",
            "[43]\ttraining's rmse: 0.805273\tvalid_1's rmse: 0.937752\n",
            "[44]\ttraining's rmse: 0.80458\tvalid_1's rmse: 0.937933\n",
            "[45]\ttraining's rmse: 0.803674\tvalid_1's rmse: 0.938441\n",
            "[46]\ttraining's rmse: 0.802798\tvalid_1's rmse: 0.938466\n",
            "[47]\ttraining's rmse: 0.80171\tvalid_1's rmse: 0.938177\n",
            "[48]\ttraining's rmse: 0.8011\tvalid_1's rmse: 0.938392\n",
            "[49]\ttraining's rmse: 0.800111\tvalid_1's rmse: 0.938451\n",
            "[50]\ttraining's rmse: 0.799345\tvalid_1's rmse: 0.938346\n",
            "[51]\ttraining's rmse: 0.798207\tvalid_1's rmse: 0.938404\n",
            "Early stopping, best iteration is:\n",
            "[36]\ttraining's rmse: 0.812193\tvalid_1's rmse: 0.935953\n"
          ],
          "name": "stdout"
        },
        {
          "output_type": "stream",
          "text": [
            "\u001b[32m[I 2021-03-06 06:58:50,336]\u001b[0m Trial 6 finished with value: 0.9359525452745007 and parameters: {'lambda_l1': 2.1301195691247716e-08, 'lambda_l2': 0.00019239404206804488, 'num_leaves': 69, 'feature_fraction': 0.7627035413365801, 'bagging_fraction': 0.8104439668225762, 'bagging_freq': 1, 'min_child_samples': 92}. Best is trial 0 with value: 0.9217195435145554.\u001b[0m\n"
          ],
          "name": "stderr"
        },
        {
          "output_type": "stream",
          "text": [
            "[1]\ttraining's rmse: 1.13605\tvalid_1's rmse: 1.09682\n",
            "Training until validation scores don't improve for 15 rounds.\n",
            "[2]\ttraining's rmse: 1.08799\tvalid_1's rmse: 1.06451\n",
            "[3]\ttraining's rmse: 1.04801\tvalid_1's rmse: 1.03645\n",
            "[4]\ttraining's rmse: 1.01416\tvalid_1's rmse: 1.01185\n",
            "[5]\ttraining's rmse: 0.984717\tvalid_1's rmse: 0.995958\n",
            "[6]\ttraining's rmse: 0.960367\tvalid_1's rmse: 0.979717\n",
            "[7]\ttraining's rmse: 0.938488\tvalid_1's rmse: 0.969299\n",
            "[8]\ttraining's rmse: 0.919249\tvalid_1's rmse: 0.960934\n",
            "[9]\ttraining's rmse: 0.902811\tvalid_1's rmse: 0.955657\n",
            "[10]\ttraining's rmse: 0.889211\tvalid_1's rmse: 0.952072\n",
            "[11]\ttraining's rmse: 0.877419\tvalid_1's rmse: 0.949974\n",
            "[12]\ttraining's rmse: 0.867673\tvalid_1's rmse: 0.946599\n",
            "[13]\ttraining's rmse: 0.85906\tvalid_1's rmse: 0.947327\n",
            "[14]\ttraining's rmse: 0.851203\tvalid_1's rmse: 0.948096\n",
            "[15]\ttraining's rmse: 0.843746\tvalid_1's rmse: 0.947855\n",
            "[16]\ttraining's rmse: 0.837893\tvalid_1's rmse: 0.946812\n",
            "[17]\ttraining's rmse: 0.83272\tvalid_1's rmse: 0.945132\n",
            "[18]\ttraining's rmse: 0.827844\tvalid_1's rmse: 0.944225\n",
            "[19]\ttraining's rmse: 0.823695\tvalid_1's rmse: 0.942067\n",
            "[20]\ttraining's rmse: 0.819398\tvalid_1's rmse: 0.941827\n",
            "[21]\ttraining's rmse: 0.815835\tvalid_1's rmse: 0.941367\n",
            "[22]\ttraining's rmse: 0.812545\tvalid_1's rmse: 0.940904\n",
            "[23]\ttraining's rmse: 0.809447\tvalid_1's rmse: 0.942712\n",
            "[24]\ttraining's rmse: 0.806241\tvalid_1's rmse: 0.93996\n",
            "[25]\ttraining's rmse: 0.803782\tvalid_1's rmse: 0.940133\n",
            "[26]\ttraining's rmse: 0.801415\tvalid_1's rmse: 0.937423\n",
            "[27]\ttraining's rmse: 0.799016\tvalid_1's rmse: 0.935936\n",
            "[28]\ttraining's rmse: 0.796244\tvalid_1's rmse: 0.939091\n",
            "[29]\ttraining's rmse: 0.794334\tvalid_1's rmse: 0.938814\n",
            "[30]\ttraining's rmse: 0.792237\tvalid_1's rmse: 0.937484\n",
            "[31]\ttraining's rmse: 0.790371\tvalid_1's rmse: 0.937979\n",
            "[32]\ttraining's rmse: 0.78884\tvalid_1's rmse: 0.939043\n",
            "[33]\ttraining's rmse: 0.78699\tvalid_1's rmse: 0.939652\n",
            "[34]\ttraining's rmse: 0.785386\tvalid_1's rmse: 0.940029\n",
            "[35]\ttraining's rmse: 0.783293\tvalid_1's rmse: 0.941056\n",
            "[36]\ttraining's rmse: 0.781232\tvalid_1's rmse: 0.940235\n",
            "[37]\ttraining's rmse: 0.779766\tvalid_1's rmse: 0.939707\n",
            "[38]\ttraining's rmse: 0.778386\tvalid_1's rmse: 0.939843\n",
            "[39]\ttraining's rmse: 0.777021\tvalid_1's rmse: 0.940284\n",
            "[40]\ttraining's rmse: 0.775825\tvalid_1's rmse: 0.941525\n",
            "[41]\ttraining's rmse: 0.774543\tvalid_1's rmse: 0.942339\n",
            "[42]\ttraining's rmse: 0.7735\tvalid_1's rmse: 0.943028\n",
            "Early stopping, best iteration is:\n",
            "[27]\ttraining's rmse: 0.799016\tvalid_1's rmse: 0.935936\n"
          ],
          "name": "stdout"
        },
        {
          "output_type": "stream",
          "text": [
            "\u001b[32m[I 2021-03-06 06:59:11,077]\u001b[0m Trial 7 finished with value: 0.9359359786545541 and parameters: {'lambda_l1': 0.013335860152471282, 'lambda_l2': 0.03431092275935542, 'num_leaves': 165, 'feature_fraction': 0.9329500976508897, 'bagging_fraction': 0.5204668998074229, 'bagging_freq': 7, 'min_child_samples': 71}. Best is trial 0 with value: 0.9217195435145554.\u001b[0m\n"
          ],
          "name": "stderr"
        },
        {
          "output_type": "stream",
          "text": [
            "[1]\ttraining's rmse: 1.13447\tvalid_1's rmse: 1.09716\n",
            "Training until validation scores don't improve for 15 rounds.\n",
            "[2]\ttraining's rmse: 1.08657\tvalid_1's rmse: 1.06287\n",
            "[3]\ttraining's rmse: 1.04414\tvalid_1's rmse: 1.03619\n",
            "[4]\ttraining's rmse: 1.00937\tvalid_1's rmse: 1.01096\n",
            "[5]\ttraining's rmse: 0.978386\tvalid_1's rmse: 0.995294\n",
            "[6]\ttraining's rmse: 0.952899\tvalid_1's rmse: 0.979396\n",
            "[7]\ttraining's rmse: 0.930431\tvalid_1's rmse: 0.96859\n",
            "[8]\ttraining's rmse: 0.910827\tvalid_1's rmse: 0.961071\n",
            "[9]\ttraining's rmse: 0.894394\tvalid_1's rmse: 0.953621\n",
            "[10]\ttraining's rmse: 0.880973\tvalid_1's rmse: 0.946811\n",
            "[11]\ttraining's rmse: 0.869077\tvalid_1's rmse: 0.943779\n",
            "[12]\ttraining's rmse: 0.857108\tvalid_1's rmse: 0.943958\n",
            "[13]\ttraining's rmse: 0.846725\tvalid_1's rmse: 0.945208\n",
            "[14]\ttraining's rmse: 0.837966\tvalid_1's rmse: 0.942608\n",
            "[15]\ttraining's rmse: 0.829894\tvalid_1's rmse: 0.945564\n",
            "[16]\ttraining's rmse: 0.823105\tvalid_1's rmse: 0.948087\n",
            "[17]\ttraining's rmse: 0.816923\tvalid_1's rmse: 0.949085\n",
            "[18]\ttraining's rmse: 0.811416\tvalid_1's rmse: 0.952671\n",
            "[19]\ttraining's rmse: 0.807092\tvalid_1's rmse: 0.952511\n",
            "[20]\ttraining's rmse: 0.802492\tvalid_1's rmse: 0.951704\n",
            "[21]\ttraining's rmse: 0.798565\tvalid_1's rmse: 0.948862\n",
            "[22]\ttraining's rmse: 0.795048\tvalid_1's rmse: 0.94883\n",
            "[23]\ttraining's rmse: 0.79195\tvalid_1's rmse: 0.948332\n",
            "[24]\ttraining's rmse: 0.788752\tvalid_1's rmse: 0.948326\n",
            "[25]\ttraining's rmse: 0.785633\tvalid_1's rmse: 0.947025\n",
            "[26]\ttraining's rmse: 0.782636\tvalid_1's rmse: 0.943805\n",
            "[27]\ttraining's rmse: 0.779517\tvalid_1's rmse: 0.948674\n",
            "[28]\ttraining's rmse: 0.777225\tvalid_1's rmse: 0.948409\n"
          ],
          "name": "stdout"
        },
        {
          "output_type": "stream",
          "text": [
            "\u001b[32m[I 2021-03-06 06:59:27,815]\u001b[0m Trial 8 finished with value: 0.9426076360038905 and parameters: {'lambda_l1': 0.3370839049509881, 'lambda_l2': 0.0002798110881914288, 'num_leaves': 224, 'feature_fraction': 0.7991216963686452, 'bagging_fraction': 0.614796502766487, 'bagging_freq': 3, 'min_child_samples': 12}. Best is trial 0 with value: 0.9217195435145554.\u001b[0m\n"
          ],
          "name": "stderr"
        },
        {
          "output_type": "stream",
          "text": [
            "[29]\ttraining's rmse: 0.775064\tvalid_1's rmse: 0.947253\n",
            "Early stopping, best iteration is:\n",
            "[14]\ttraining's rmse: 0.837966\tvalid_1's rmse: 0.942608\n",
            "[1]\ttraining's rmse: 1.13574\tvalid_1's rmse: 1.09615\n",
            "Training until validation scores don't improve for 15 rounds.\n",
            "[2]\ttraining's rmse: 1.08908\tvalid_1's rmse: 1.06383\n",
            "[3]\ttraining's rmse: 1.04863\tvalid_1's rmse: 1.03626\n",
            "[4]\ttraining's rmse: 1.0145\tvalid_1's rmse: 1.01259\n",
            "[5]\ttraining's rmse: 0.985573\tvalid_1's rmse: 0.993812\n",
            "[6]\ttraining's rmse: 0.961011\tvalid_1's rmse: 0.978706\n",
            "[7]\ttraining's rmse: 0.939295\tvalid_1's rmse: 0.970644\n",
            "[8]\ttraining's rmse: 0.920372\tvalid_1's rmse: 0.964123\n",
            "[9]\ttraining's rmse: 0.904373\tvalid_1's rmse: 0.958232\n",
            "[10]\ttraining's rmse: 0.891013\tvalid_1's rmse: 0.954276\n",
            "[11]\ttraining's rmse: 0.878858\tvalid_1's rmse: 0.948987\n",
            "[12]\ttraining's rmse: 0.868716\tvalid_1's rmse: 0.945881\n",
            "[13]\ttraining's rmse: 0.85982\tvalid_1's rmse: 0.94333\n",
            "[14]\ttraining's rmse: 0.851868\tvalid_1's rmse: 0.940887\n",
            "[15]\ttraining's rmse: 0.844519\tvalid_1's rmse: 0.939186\n",
            "[16]\ttraining's rmse: 0.838204\tvalid_1's rmse: 0.943401\n",
            "[17]\ttraining's rmse: 0.832848\tvalid_1's rmse: 0.94176\n",
            "[18]\ttraining's rmse: 0.827839\tvalid_1's rmse: 0.940541\n",
            "[19]\ttraining's rmse: 0.823682\tvalid_1's rmse: 0.937929\n",
            "[20]\ttraining's rmse: 0.81923\tvalid_1's rmse: 0.938753\n",
            "[21]\ttraining's rmse: 0.815934\tvalid_1's rmse: 0.938215\n",
            "[22]\ttraining's rmse: 0.812588\tvalid_1's rmse: 0.937023\n",
            "[23]\ttraining's rmse: 0.80902\tvalid_1's rmse: 0.938912\n",
            "[24]\ttraining's rmse: 0.806324\tvalid_1's rmse: 0.937594\n",
            "[25]\ttraining's rmse: 0.803572\tvalid_1's rmse: 0.937617\n",
            "[26]\ttraining's rmse: 0.801171\tvalid_1's rmse: 0.935838\n",
            "[27]\ttraining's rmse: 0.798893\tvalid_1's rmse: 0.935813\n",
            "[28]\ttraining's rmse: 0.79705\tvalid_1's rmse: 0.936079\n",
            "[29]\ttraining's rmse: 0.794766\tvalid_1's rmse: 0.938179\n",
            "[30]\ttraining's rmse: 0.792887\tvalid_1's rmse: 0.938085\n",
            "[31]\ttraining's rmse: 0.790897\tvalid_1's rmse: 0.937994\n",
            "[32]\ttraining's rmse: 0.788787\tvalid_1's rmse: 0.939008\n",
            "[33]\ttraining's rmse: 0.787104\tvalid_1's rmse: 0.939935\n",
            "[34]\ttraining's rmse: 0.785562\tvalid_1's rmse: 0.93972\n",
            "[35]\ttraining's rmse: 0.784035\tvalid_1's rmse: 0.940284\n",
            "[36]\ttraining's rmse: 0.782116\tvalid_1's rmse: 0.94116\n",
            "[37]\ttraining's rmse: 0.780492\tvalid_1's rmse: 0.939301\n",
            "[38]\ttraining's rmse: 0.779204\tvalid_1's rmse: 0.940147\n",
            "[39]\ttraining's rmse: 0.777732\tvalid_1's rmse: 0.93881\n",
            "[40]\ttraining's rmse: 0.776643\tvalid_1's rmse: 0.939132\n",
            "[41]\ttraining's rmse: 0.775383\tvalid_1's rmse: 0.939226\n",
            "[42]\ttraining's rmse: 0.77427\tvalid_1's rmse: 0.939522\n",
            "Early stopping, best iteration is:\n",
            "[27]\ttraining's rmse: 0.798893\tvalid_1's rmse: 0.935813\n"
          ],
          "name": "stdout"
        },
        {
          "output_type": "stream",
          "text": [
            "\u001b[32m[I 2021-03-06 06:59:57,592]\u001b[0m Trial 9 finished with value: 0.9358133171197716 and parameters: {'lambda_l1': 0.2608708507964203, 'lambda_l2': 0.018086066351322046, 'num_leaves': 147, 'feature_fraction': 0.864060408407847, 'bagging_fraction': 0.9765548832688007, 'bagging_freq': 3, 'min_child_samples': 87}. Best is trial 0 with value: 0.9217195435145554.\u001b[0m\n"
          ],
          "name": "stderr"
        },
        {
          "output_type": "stream",
          "text": [
            "[1]\ttraining's rmse: 1.14144\tvalid_1's rmse: 1.09903\n",
            "Training until validation scores don't improve for 15 rounds.\n",
            "[2]\ttraining's rmse: 1.09946\tvalid_1's rmse: 1.06935\n",
            "[3]\ttraining's rmse: 1.06265\tvalid_1's rmse: 1.04384\n",
            "[4]\ttraining's rmse: 1.03152\tvalid_1's rmse: 1.02169\n",
            "[5]\ttraining's rmse: 1.00513\tvalid_1's rmse: 1.00648\n",
            "[6]\ttraining's rmse: 0.978143\tvalid_1's rmse: 0.987556\n",
            "[7]\ttraining's rmse: 0.956202\tvalid_1's rmse: 0.972623\n",
            "[8]\ttraining's rmse: 0.933136\tvalid_1's rmse: 0.958721\n",
            "[9]\ttraining's rmse: 0.916117\tvalid_1's rmse: 0.94921\n",
            "[10]\ttraining's rmse: 0.901134\tvalid_1's rmse: 0.939927\n",
            "[11]\ttraining's rmse: 0.889239\tvalid_1's rmse: 0.934224\n",
            "[12]\ttraining's rmse: 0.877816\tvalid_1's rmse: 0.928623\n",
            "[13]\ttraining's rmse: 0.867759\tvalid_1's rmse: 0.924379\n",
            "[14]\ttraining's rmse: 0.857595\tvalid_1's rmse: 0.923769\n",
            "[15]\ttraining's rmse: 0.850225\tvalid_1's rmse: 0.921018\n",
            "[16]\ttraining's rmse: 0.841407\tvalid_1's rmse: 0.924962\n",
            "[17]\ttraining's rmse: 0.834876\tvalid_1's rmse: 0.924191\n",
            "[18]\ttraining's rmse: 0.828513\tvalid_1's rmse: 0.924346\n",
            "[19]\ttraining's rmse: 0.822653\tvalid_1's rmse: 0.924231\n",
            "[20]\ttraining's rmse: 0.815618\tvalid_1's rmse: 0.930007\n",
            "[21]\ttraining's rmse: 0.811682\tvalid_1's rmse: 0.929023\n",
            "[22]\ttraining's rmse: 0.8079\tvalid_1's rmse: 0.92921\n",
            "[23]\ttraining's rmse: 0.805122\tvalid_1's rmse: 0.928925\n",
            "[24]\ttraining's rmse: 0.802425\tvalid_1's rmse: 0.928295\n",
            "[25]\ttraining's rmse: 0.799417\tvalid_1's rmse: 0.928233\n",
            "[26]\ttraining's rmse: 0.79665\tvalid_1's rmse: 0.926203\n",
            "[27]\ttraining's rmse: 0.793848\tvalid_1's rmse: 0.927101\n",
            "[28]\ttraining's rmse: 0.792201\tvalid_1's rmse: 0.92712\n",
            "[29]\ttraining's rmse: 0.789808\tvalid_1's rmse: 0.925555\n"
          ],
          "name": "stdout"
        },
        {
          "output_type": "stream",
          "text": [
            "\u001b[32m[I 2021-03-06 07:00:12,068]\u001b[0m Trial 10 finished with value: 0.9210184047771358 and parameters: {'lambda_l1': 8.932856729787584, 'lambda_l2': 1.2405291653011e-08, 'num_leaves': 247, 'feature_fraction': 0.41984793943517096, 'bagging_fraction': 0.8593233981946952, 'bagging_freq': 1, 'min_child_samples': 41}. Best is trial 10 with value: 0.9210184047771358.\u001b[0m\n"
          ],
          "name": "stderr"
        },
        {
          "output_type": "stream",
          "text": [
            "[30]\ttraining's rmse: 0.787882\tvalid_1's rmse: 0.92688\n",
            "Early stopping, best iteration is:\n",
            "[15]\ttraining's rmse: 0.850225\tvalid_1's rmse: 0.921018\n",
            "[1]\ttraining's rmse: 1.14116\tvalid_1's rmse: 1.09975\n",
            "Training until validation scores don't improve for 15 rounds.\n",
            "[2]\ttraining's rmse: 1.09909\tvalid_1's rmse: 1.0702\n",
            "[3]\ttraining's rmse: 1.06243\tvalid_1's rmse: 1.04488\n",
            "[4]\ttraining's rmse: 1.03138\tvalid_1's rmse: 1.02388\n",
            "[5]\ttraining's rmse: 1.00489\tvalid_1's rmse: 1.00795\n",
            "[6]\ttraining's rmse: 0.977894\tvalid_1's rmse: 0.988642\n",
            "[7]\ttraining's rmse: 0.955814\tvalid_1's rmse: 0.973544\n",
            "[8]\ttraining's rmse: 0.933075\tvalid_1's rmse: 0.959611\n",
            "[9]\ttraining's rmse: 0.915913\tvalid_1's rmse: 0.950097\n",
            "[10]\ttraining's rmse: 0.901054\tvalid_1's rmse: 0.94051\n",
            "[11]\ttraining's rmse: 0.889466\tvalid_1's rmse: 0.934569\n",
            "[12]\ttraining's rmse: 0.878025\tvalid_1's rmse: 0.92901\n",
            "[13]\ttraining's rmse: 0.86783\tvalid_1's rmse: 0.924829\n",
            "[14]\ttraining's rmse: 0.857593\tvalid_1's rmse: 0.923312\n",
            "[15]\ttraining's rmse: 0.850244\tvalid_1's rmse: 0.920245\n",
            "[16]\ttraining's rmse: 0.841439\tvalid_1's rmse: 0.923798\n",
            "[17]\ttraining's rmse: 0.834892\tvalid_1's rmse: 0.922888\n",
            "[18]\ttraining's rmse: 0.828615\tvalid_1's rmse: 0.920581\n",
            "[19]\ttraining's rmse: 0.822827\tvalid_1's rmse: 0.921096\n",
            "[20]\ttraining's rmse: 0.815828\tvalid_1's rmse: 0.926575\n",
            "[21]\ttraining's rmse: 0.811838\tvalid_1's rmse: 0.925465\n",
            "[22]\ttraining's rmse: 0.808042\tvalid_1's rmse: 0.92509\n",
            "[23]\ttraining's rmse: 0.805319\tvalid_1's rmse: 0.925092\n",
            "[24]\ttraining's rmse: 0.802571\tvalid_1's rmse: 0.924651\n",
            "[25]\ttraining's rmse: 0.799385\tvalid_1's rmse: 0.924116\n",
            "[26]\ttraining's rmse: 0.796636\tvalid_1's rmse: 0.922344\n",
            "[27]\ttraining's rmse: 0.793918\tvalid_1's rmse: 0.923172\n",
            "[28]\ttraining's rmse: 0.792235\tvalid_1's rmse: 0.923601\n",
            "[29]\ttraining's rmse: 0.789778\tvalid_1's rmse: 0.923614\n"
          ],
          "name": "stdout"
        },
        {
          "output_type": "stream",
          "text": [
            "\u001b[32m[I 2021-03-06 07:00:26,583]\u001b[0m Trial 11 finished with value: 0.920244748393281 and parameters: {'lambda_l1': 8.34041998531167, 'lambda_l2': 1.5684168833773153e-08, 'num_leaves': 253, 'feature_fraction': 0.41280223396102617, 'bagging_fraction': 0.8473708260325244, 'bagging_freq': 1, 'min_child_samples': 43}. Best is trial 11 with value: 0.920244748393281.\u001b[0m\n"
          ],
          "name": "stderr"
        },
        {
          "output_type": "stream",
          "text": [
            "[30]\ttraining's rmse: 0.788098\tvalid_1's rmse: 0.923795\n",
            "Early stopping, best iteration is:\n",
            "[15]\ttraining's rmse: 0.850244\tvalid_1's rmse: 0.920245\n",
            "[1]\ttraining's rmse: 1.14416\tvalid_1's rmse: 1.10375\n",
            "Training until validation scores don't improve for 15 rounds.\n",
            "[2]\ttraining's rmse: 1.10251\tvalid_1's rmse: 1.0748\n",
            "[3]\ttraining's rmse: 1.06471\tvalid_1's rmse: 1.05102\n",
            "[4]\ttraining's rmse: 1.03449\tvalid_1's rmse: 1.03049\n",
            "[5]\ttraining's rmse: 1.00843\tvalid_1's rmse: 1.01585\n",
            "[6]\ttraining's rmse: 0.980682\tvalid_1's rmse: 0.995623\n",
            "[7]\ttraining's rmse: 0.95831\tvalid_1's rmse: 0.98078\n",
            "[8]\ttraining's rmse: 0.934901\tvalid_1's rmse: 0.967125\n",
            "[9]\ttraining's rmse: 0.917427\tvalid_1's rmse: 0.957166\n",
            "[10]\ttraining's rmse: 0.902557\tvalid_1's rmse: 0.947589\n",
            "[11]\ttraining's rmse: 0.890718\tvalid_1's rmse: 0.941909\n",
            "[12]\ttraining's rmse: 0.878769\tvalid_1's rmse: 0.936132\n",
            "[13]\ttraining's rmse: 0.867786\tvalid_1's rmse: 0.932745\n",
            "[14]\ttraining's rmse: 0.85704\tvalid_1's rmse: 0.933534\n",
            "[15]\ttraining's rmse: 0.851752\tvalid_1's rmse: 0.931177\n",
            "[16]\ttraining's rmse: 0.842415\tvalid_1's rmse: 0.933302\n",
            "[17]\ttraining's rmse: 0.835472\tvalid_1's rmse: 0.931919\n",
            "[18]\ttraining's rmse: 0.82889\tvalid_1's rmse: 0.93078\n",
            "[19]\ttraining's rmse: 0.822966\tvalid_1's rmse: 0.930838\n",
            "[20]\ttraining's rmse: 0.815713\tvalid_1's rmse: 0.935955\n",
            "[21]\ttraining's rmse: 0.811739\tvalid_1's rmse: 0.938769\n",
            "[22]\ttraining's rmse: 0.807526\tvalid_1's rmse: 0.938573\n",
            "[23]\ttraining's rmse: 0.804903\tvalid_1's rmse: 0.938502\n",
            "[24]\ttraining's rmse: 0.801899\tvalid_1's rmse: 0.938299\n",
            "[25]\ttraining's rmse: 0.79937\tvalid_1's rmse: 0.938525\n",
            "[26]\ttraining's rmse: 0.796789\tvalid_1's rmse: 0.93821\n",
            "[27]\ttraining's rmse: 0.794419\tvalid_1's rmse: 0.938713\n",
            "[28]\ttraining's rmse: 0.792484\tvalid_1's rmse: 0.938283\n",
            "[29]\ttraining's rmse: 0.789656\tvalid_1's rmse: 0.936204\n",
            "[30]\ttraining's rmse: 0.787217\tvalid_1's rmse: 0.936398\n",
            "[31]\ttraining's rmse: 0.785679\tvalid_1's rmse: 0.936095\n",
            "[32]\ttraining's rmse: 0.783018\tvalid_1's rmse: 0.934674\n",
            "[33]\ttraining's rmse: 0.780212\tvalid_1's rmse: 0.935328\n",
            "Early stopping, best iteration is:\n",
            "[18]\ttraining's rmse: 0.82889\tvalid_1's rmse: 0.93078\n"
          ],
          "name": "stdout"
        },
        {
          "output_type": "stream",
          "text": [
            "\u001b[32m[I 2021-03-06 07:00:42,227]\u001b[0m Trial 12 finished with value: 0.93078008066909 and parameters: {'lambda_l1': 4.934091519910332, 'lambda_l2': 2.20472591997966e-08, 'num_leaves': 249, 'feature_fraction': 0.4051720700520376, 'bagging_fraction': 0.8686223876961277, 'bagging_freq': 1, 'min_child_samples': 35}. Best is trial 11 with value: 0.920244748393281.\u001b[0m\n"
          ],
          "name": "stderr"
        },
        {
          "output_type": "stream",
          "text": [
            "[1]\ttraining's rmse: 1.13955\tvalid_1's rmse: 1.09896\n",
            "Training until validation scores don't improve for 15 rounds.\n",
            "[2]\ttraining's rmse: 1.09556\tvalid_1's rmse: 1.06792\n",
            "[3]\ttraining's rmse: 1.05213\tvalid_1's rmse: 1.04144\n",
            "[4]\ttraining's rmse: 1.01781\tvalid_1's rmse: 1.01668\n",
            "[5]\ttraining's rmse: 0.991624\tvalid_1's rmse: 1.00081\n",
            "[6]\ttraining's rmse: 0.965955\tvalid_1's rmse: 0.983808\n",
            "[7]\ttraining's rmse: 0.943499\tvalid_1's rmse: 0.970515\n",
            "[8]\ttraining's rmse: 0.921595\tvalid_1's rmse: 0.959747\n",
            "[9]\ttraining's rmse: 0.904556\tvalid_1's rmse: 0.949673\n",
            "[10]\ttraining's rmse: 0.890167\tvalid_1's rmse: 0.942181\n",
            "[11]\ttraining's rmse: 0.878496\tvalid_1's rmse: 0.933465\n",
            "[12]\ttraining's rmse: 0.86476\tvalid_1's rmse: 0.934933\n",
            "[13]\ttraining's rmse: 0.853062\tvalid_1's rmse: 0.936559\n",
            "[14]\ttraining's rmse: 0.843813\tvalid_1's rmse: 0.93748\n",
            "[15]\ttraining's rmse: 0.836578\tvalid_1's rmse: 0.934788\n",
            "[16]\ttraining's rmse: 0.8292\tvalid_1's rmse: 0.933946\n",
            "[17]\ttraining's rmse: 0.8218\tvalid_1's rmse: 0.933329\n",
            "[18]\ttraining's rmse: 0.815688\tvalid_1's rmse: 0.931606\n",
            "[19]\ttraining's rmse: 0.810628\tvalid_1's rmse: 0.931815\n",
            "[20]\ttraining's rmse: 0.804311\tvalid_1's rmse: 0.934648\n",
            "[21]\ttraining's rmse: 0.800082\tvalid_1's rmse: 0.93486\n",
            "[22]\ttraining's rmse: 0.796662\tvalid_1's rmse: 0.934632\n",
            "[23]\ttraining's rmse: 0.793427\tvalid_1's rmse: 0.93465\n",
            "[24]\ttraining's rmse: 0.790595\tvalid_1's rmse: 0.934322\n",
            "[25]\ttraining's rmse: 0.78789\tvalid_1's rmse: 0.933865\n",
            "[26]\ttraining's rmse: 0.785163\tvalid_1's rmse: 0.932479\n",
            "[27]\ttraining's rmse: 0.782677\tvalid_1's rmse: 0.932416\n",
            "[28]\ttraining's rmse: 0.779896\tvalid_1's rmse: 0.934453\n",
            "[29]\ttraining's rmse: 0.77758\tvalid_1's rmse: 0.933583\n",
            "[30]\ttraining's rmse: 0.775549\tvalid_1's rmse: 0.933643\n",
            "[31]\ttraining's rmse: 0.773373\tvalid_1's rmse: 0.934047\n",
            "[32]\ttraining's rmse: 0.771438\tvalid_1's rmse: 0.933345\n",
            "[33]\ttraining's rmse: 0.768932\tvalid_1's rmse: 0.934087\n",
            "Early stopping, best iteration is:\n",
            "[18]\ttraining's rmse: 0.815688\tvalid_1's rmse: 0.931606\n"
          ],
          "name": "stdout"
        },
        {
          "output_type": "stream",
          "text": [
            "\u001b[32m[I 2021-03-06 07:00:59,150]\u001b[0m Trial 13 finished with value: 0.9316063808359558 and parameters: {'lambda_l1': 8.78090807238222, 'lambda_l2': 1.3168963163452203e-08, 'num_leaves': 251, 'feature_fraction': 0.5458570382527669, 'bagging_fraction': 0.8631096243952004, 'bagging_freq': 1, 'min_child_samples': 34}. Best is trial 11 with value: 0.920244748393281.\u001b[0m\n"
          ],
          "name": "stderr"
        },
        {
          "output_type": "stream",
          "text": [
            "[1]\ttraining's rmse: 1.14019\tvalid_1's rmse: 1.09972\n",
            "Training until validation scores don't improve for 15 rounds.\n",
            "[2]\ttraining's rmse: 1.09655\tvalid_1's rmse: 1.06926\n",
            "[3]\ttraining's rmse: 1.05438\tvalid_1's rmse: 1.04016\n",
            "[4]\ttraining's rmse: 1.02061\tvalid_1's rmse: 1.016\n",
            "[5]\ttraining's rmse: 0.995035\tvalid_1's rmse: 1.00206\n",
            "[6]\ttraining's rmse: 0.969695\tvalid_1's rmse: 0.984869\n",
            "[7]\ttraining's rmse: 0.947617\tvalid_1's rmse: 0.971745\n",
            "[8]\ttraining's rmse: 0.926383\tvalid_1's rmse: 0.960965\n",
            "[9]\ttraining's rmse: 0.90958\tvalid_1's rmse: 0.951303\n",
            "[10]\ttraining's rmse: 0.89544\tvalid_1's rmse: 0.944158\n",
            "[11]\ttraining's rmse: 0.884309\tvalid_1's rmse: 0.937732\n",
            "[12]\ttraining's rmse: 0.871217\tvalid_1's rmse: 0.93623\n",
            "[13]\ttraining's rmse: 0.859907\tvalid_1's rmse: 0.935813\n",
            "[14]\ttraining's rmse: 0.851159\tvalid_1's rmse: 0.935563\n",
            "[15]\ttraining's rmse: 0.844107\tvalid_1's rmse: 0.932686\n",
            "[16]\ttraining's rmse: 0.836572\tvalid_1's rmse: 0.936065\n",
            "[17]\ttraining's rmse: 0.829593\tvalid_1's rmse: 0.938576\n",
            "[18]\ttraining's rmse: 0.823546\tvalid_1's rmse: 0.936338\n",
            "[19]\ttraining's rmse: 0.818565\tvalid_1's rmse: 0.937293\n",
            "[20]\ttraining's rmse: 0.812534\tvalid_1's rmse: 0.939744\n",
            "[21]\ttraining's rmse: 0.808429\tvalid_1's rmse: 0.94089\n",
            "[22]\ttraining's rmse: 0.805173\tvalid_1's rmse: 0.940697\n",
            "[23]\ttraining's rmse: 0.80216\tvalid_1's rmse: 0.940619\n",
            "[24]\ttraining's rmse: 0.79976\tvalid_1's rmse: 0.939949\n",
            "[25]\ttraining's rmse: 0.797245\tvalid_1's rmse: 0.939713\n",
            "[26]\ttraining's rmse: 0.794548\tvalid_1's rmse: 0.938217\n",
            "[27]\ttraining's rmse: 0.792291\tvalid_1's rmse: 0.938643\n",
            "[28]\ttraining's rmse: 0.789092\tvalid_1's rmse: 0.940695\n",
            "[29]\ttraining's rmse: 0.786789\tvalid_1's rmse: 0.94007\n"
          ],
          "name": "stdout"
        },
        {
          "output_type": "stream",
          "text": [
            "\u001b[32m[I 2021-03-06 07:01:13,820]\u001b[0m Trial 14 finished with value: 0.9326858530708169 and parameters: {'lambda_l1': 8.052373616848797, 'lambda_l2': 1.41645798415209e-07, 'num_leaves': 211, 'feature_fraction': 0.5465095670683557, 'bagging_fraction': 0.7430337699801673, 'bagging_freq': 1, 'min_child_samples': 39}. Best is trial 11 with value: 0.920244748393281.\u001b[0m\n"
          ],
          "name": "stderr"
        },
        {
          "output_type": "stream",
          "text": [
            "[30]\ttraining's rmse: 0.784727\tvalid_1's rmse: 0.939622\n",
            "Early stopping, best iteration is:\n",
            "[15]\ttraining's rmse: 0.844107\tvalid_1's rmse: 0.932686\n",
            "Number of finished trials: 15\n",
            "Best trial: {'lambda_l1': 8.34041998531167, 'lambda_l2': 1.5684168833773153e-08, 'num_leaves': 253, 'feature_fraction': 0.41280223396102617, 'bagging_fraction': 0.8473708260325244, 'bagging_freq': 1, 'min_child_samples': 43}\n"
          ],
          "name": "stdout"
        }
      ]
    },
    {
      "cell_type": "code",
      "metadata": {
        "colab": {
          "base_uri": "https://localhost:8080/"
        },
        "id": "pmxkiafWDqs3",
        "outputId": "86d9635c-6393-4f4f-a449-d348a75fd904"
      },
      "source": [
        "best_params = study.best_trial.params\r\n",
        "print(f'Best trial parameters\\n{best_params}')"
      ],
      "execution_count": 85,
      "outputs": [
        {
          "output_type": "stream",
          "text": [
            "Best trial parameters\n",
            "{'lambda_l1': 0.02357434672036844, 'lambda_l2': 0.5380330742362078, 'num_leaves': 32, 'feature_fraction': 0.7669798053944352, 'bagging_fraction': 0.9759236056047874, 'bagging_freq': 4, 'min_child_samples': 59}\n"
          ],
          "name": "stdout"
        }
      ]
    },
    {
      "cell_type": "code",
      "metadata": {
        "colab": {
          "base_uri": "https://localhost:8080/"
        },
        "id": "5xznsKyyDslG",
        "outputId": "926d73b9-8bf6-43ea-a12a-5f131b9bd323"
      },
      "source": [
        "# add some fix params\r\n",
        "\r\n",
        "x = {\"objective\": \"regression\",\r\n",
        "     \"metric\"   : \"rmse\",\r\n",
        "     \"verbosity\": -1,\r\n",
        "     \"boosting_type\": \"gbdt\"}\r\n",
        "\r\n",
        "best_params.update(x)\r\n",
        "best_params"
      ],
      "execution_count": 86,
      "outputs": [
        {
          "output_type": "execute_result",
          "data": {
            "text/plain": [
              "{'bagging_fraction': 0.9759236056047874,\n",
              " 'bagging_freq': 4,\n",
              " 'boosting_type': 'gbdt',\n",
              " 'feature_fraction': 0.7669798053944352,\n",
              " 'lambda_l1': 0.02357434672036844,\n",
              " 'lambda_l2': 0.5380330742362078,\n",
              " 'metric': 'rmse',\n",
              " 'min_child_samples': 59,\n",
              " 'num_leaves': 32,\n",
              " 'objective': 'regression',\n",
              " 'verbosity': -1}"
            ]
          },
          "metadata": {
            "tags": []
          },
          "execution_count": 86
        }
      ]
    },
    {
      "cell_type": "code",
      "metadata": {
        "colab": {
          "base_uri": "https://localhost:8080/"
        },
        "id": "XaNHAQWtDuWO",
        "outputId": "2216b76e-2b23-4b61-a136-80cce5127fb8"
      },
      "source": [
        "evals_result = {} \r\n",
        "\r\n",
        "model = lgb.train(best_params,\r\n",
        "                  lgb_train,\r\n",
        "                  valid_sets=[lgb_train,lgb_eval],\r\n",
        "\r\n",
        "                  evals_result=evals_result,\r\n",
        "                  early_stopping_rounds=10, # 20\r\n",
        "                  verbose_eval=1,\r\n",
        "                  )"
      ],
      "execution_count": 87,
      "outputs": [
        {
          "output_type": "stream",
          "text": [
            "[1]\ttraining's rmse: 1.14475\tvalid_1's rmse: 1.10151\n",
            "Training until validation scores don't improve for 30 rounds.\n",
            "[2]\ttraining's rmse: 1.10209\tvalid_1's rmse: 1.07101\n",
            "[3]\ttraining's rmse: 1.06709\tvalid_1's rmse: 1.0466\n",
            "[4]\ttraining's rmse: 1.03606\tvalid_1's rmse: 1.0252\n",
            "[5]\ttraining's rmse: 1.01028\tvalid_1's rmse: 1.00762\n",
            "[6]\ttraining's rmse: 0.987478\tvalid_1's rmse: 0.992993\n",
            "[7]\ttraining's rmse: 0.968832\tvalid_1's rmse: 0.982612\n",
            "[8]\ttraining's rmse: 0.95258\tvalid_1's rmse: 0.972952\n",
            "[9]\ttraining's rmse: 0.939258\tvalid_1's rmse: 0.965974\n",
            "[10]\ttraining's rmse: 0.927741\tvalid_1's rmse: 0.958805\n",
            "[11]\ttraining's rmse: 0.917791\tvalid_1's rmse: 0.952451\n",
            "[12]\ttraining's rmse: 0.909094\tvalid_1's rmse: 0.946631\n",
            "[13]\ttraining's rmse: 0.901496\tvalid_1's rmse: 0.943074\n",
            "[14]\ttraining's rmse: 0.895126\tvalid_1's rmse: 0.940302\n",
            "[15]\ttraining's rmse: 0.88897\tvalid_1's rmse: 0.936925\n",
            "[16]\ttraining's rmse: 0.88401\tvalid_1's rmse: 0.935011\n",
            "[17]\ttraining's rmse: 0.879389\tvalid_1's rmse: 0.934024\n",
            "[18]\ttraining's rmse: 0.875163\tvalid_1's rmse: 0.932636\n",
            "[19]\ttraining's rmse: 0.872002\tvalid_1's rmse: 0.931352\n",
            "[20]\ttraining's rmse: 0.868739\tvalid_1's rmse: 0.931207\n",
            "[21]\ttraining's rmse: 0.865799\tvalid_1's rmse: 0.929546\n",
            "[22]\ttraining's rmse: 0.862914\tvalid_1's rmse: 0.930385\n",
            "[23]\ttraining's rmse: 0.860197\tvalid_1's rmse: 0.928961\n",
            "[24]\ttraining's rmse: 0.857872\tvalid_1's rmse: 0.930619\n",
            "[25]\ttraining's rmse: 0.855642\tvalid_1's rmse: 0.929478\n",
            "[26]\ttraining's rmse: 0.853919\tvalid_1's rmse: 0.928762\n",
            "[27]\ttraining's rmse: 0.852361\tvalid_1's rmse: 0.928352\n",
            "[28]\ttraining's rmse: 0.850925\tvalid_1's rmse: 0.927982\n",
            "[29]\ttraining's rmse: 0.849465\tvalid_1's rmse: 0.927687\n",
            "[30]\ttraining's rmse: 0.84817\tvalid_1's rmse: 0.927169\n",
            "[31]\ttraining's rmse: 0.846776\tvalid_1's rmse: 0.926537\n",
            "[32]\ttraining's rmse: 0.845263\tvalid_1's rmse: 0.925104\n",
            "[33]\ttraining's rmse: 0.844145\tvalid_1's rmse: 0.924757\n",
            "[34]\ttraining's rmse: 0.842985\tvalid_1's rmse: 0.924627\n",
            "[35]\ttraining's rmse: 0.841992\tvalid_1's rmse: 0.925004\n",
            "[36]\ttraining's rmse: 0.840986\tvalid_1's rmse: 0.924741\n",
            "[37]\ttraining's rmse: 0.840115\tvalid_1's rmse: 0.925357\n",
            "[38]\ttraining's rmse: 0.839109\tvalid_1's rmse: 0.925602\n",
            "[39]\ttraining's rmse: 0.838177\tvalid_1's rmse: 0.925531\n",
            "[40]\ttraining's rmse: 0.837219\tvalid_1's rmse: 0.926535\n",
            "[41]\ttraining's rmse: 0.836361\tvalid_1's rmse: 0.92704\n",
            "[42]\ttraining's rmse: 0.835479\tvalid_1's rmse: 0.927193\n",
            "[43]\ttraining's rmse: 0.834747\tvalid_1's rmse: 0.927154\n",
            "[44]\ttraining's rmse: 0.833995\tvalid_1's rmse: 0.926967\n",
            "[45]\ttraining's rmse: 0.833045\tvalid_1's rmse: 0.9272\n",
            "[46]\ttraining's rmse: 0.832437\tvalid_1's rmse: 0.927176\n",
            "[47]\ttraining's rmse: 0.831846\tvalid_1's rmse: 0.927552\n",
            "[48]\ttraining's rmse: 0.831194\tvalid_1's rmse: 0.92843\n",
            "[49]\ttraining's rmse: 0.830633\tvalid_1's rmse: 0.928426\n",
            "[50]\ttraining's rmse: 0.830006\tvalid_1's rmse: 0.928183\n",
            "[51]\ttraining's rmse: 0.829084\tvalid_1's rmse: 0.928406\n",
            "[52]\ttraining's rmse: 0.828415\tvalid_1's rmse: 0.928419\n",
            "[53]\ttraining's rmse: 0.827784\tvalid_1's rmse: 0.928636\n",
            "[54]\ttraining's rmse: 0.827073\tvalid_1's rmse: 0.929253\n",
            "[55]\ttraining's rmse: 0.826331\tvalid_1's rmse: 0.929231\n",
            "[56]\ttraining's rmse: 0.825899\tvalid_1's rmse: 0.929597\n",
            "[57]\ttraining's rmse: 0.825498\tvalid_1's rmse: 0.929367\n",
            "[58]\ttraining's rmse: 0.824972\tvalid_1's rmse: 0.92977\n",
            "[59]\ttraining's rmse: 0.824402\tvalid_1's rmse: 0.929577\n",
            "[60]\ttraining's rmse: 0.823426\tvalid_1's rmse: 0.927563\n",
            "[61]\ttraining's rmse: 0.823015\tvalid_1's rmse: 0.927668\n",
            "[62]\ttraining's rmse: 0.822604\tvalid_1's rmse: 0.927698\n",
            "[63]\ttraining's rmse: 0.821987\tvalid_1's rmse: 0.928243\n",
            "[64]\ttraining's rmse: 0.821542\tvalid_1's rmse: 0.927981\n",
            "Early stopping, best iteration is:\n",
            "[34]\ttraining's rmse: 0.842985\tvalid_1's rmse: 0.924627\n"
          ],
          "name": "stdout"
        }
      ]
    },
    {
      "cell_type": "code",
      "metadata": {
        "colab": {
          "base_uri": "https://localhost:8080/"
        },
        "id": "CTB3gYkyDwXp",
        "outputId": "c69fb1bf-1fe0-452c-fc91-347ae4de394d"
      },
      "source": [
        "y_pred = model.predict(X_valid)\r\n",
        "mean_squared_error(Y_valid, y_pred,squared=False)"
      ],
      "execution_count": 90,
      "outputs": [
        {
          "output_type": "execute_result",
          "data": {
            "text/plain": [
              "0.924626828414807"
            ]
          },
          "metadata": {
            "tags": []
          },
          "execution_count": 90
        }
      ]
    },
    {
      "cell_type": "code",
      "metadata": {
        "colab": {
          "base_uri": "https://localhost:8080/",
          "height": 367
        },
        "id": "bPTOuGK3Dzmf",
        "outputId": "3d063c70-bc7f-4f31-9d68-6b4109aef972"
      },
      "source": [
        "print('Plot metrics recorded during training...')\r\n",
        "ax = lgb.plot_metric(evals_result, figsize=(10, 5))"
      ],
      "execution_count": 94,
      "outputs": [
        {
          "output_type": "stream",
          "text": [
            "Plot metrics recorded during training...\n"
          ],
          "name": "stdout"
        },
        {
          "output_type": "display_data",
          "data": {
            "image/png": "[encoded data removed]",
            "text/plain": [
              "<Figure size 720x360 with 1 Axes>"
            ]
          },
          "metadata": {
            "tags": [],
            "needs_background": "light"
          }
        }
      ]
    },
    {
      "cell_type": "code",
      "metadata": {
        "colab": {
          "base_uri": "https://localhost:8080/",
          "height": 345
        },
        "id": "LY9fyPEID1Cx",
        "outputId": "ee616c5f-c45a-4783-b39c-21e21809f649"
      },
      "source": [
        "# predicting model\r\n",
        "\r\n",
        "Y_test = model.predict(X_test).clip(0, 20)\r\n",
        "\r\n",
        "submission = pd.DataFrame({\r\n",
        "    \"ID\": test.index, \r\n",
        "    \"item_cnt_month\": Y_test\r\n",
        "})\r\n",
        "submission.head(10)"
      ],
      "execution_count": 96,
      "outputs": [
        {
          "output_type": "execute_result",
          "data": {
            "text/html": [
              "<div>\n",
              "<style scoped>\n",
              "    .dataframe tbody tr th:only-of-type {\n",
              "        vertical-align: middle;\n",
              "    }\n",
              "\n",
              "    .dataframe tbody tr th {\n",
              "        vertical-align: top;\n",
              "    }\n",
              "\n",
              "    .dataframe thead th {\n",
              "        text-align: right;\n",
              "    }\n",
              "</style>\n",
              "<table border=\"1\" class=\"dataframe\">\n",
              "  <thead>\n",
              "    <tr style=\"text-align: right;\">\n",
              "      <th></th>\n",
              "      <th>ID</th>\n",
              "      <th>item_cnt_month</th>\n",
              "    </tr>\n",
              "  </thead>\n",
              "  <tbody>\n",
              "    <tr>\n",
              "      <th>0</th>\n",
              "      <td>0</td>\n",
              "      <td>0.561747</td>\n",
              "    </tr>\n",
              "    <tr>\n",
              "      <th>1</th>\n",
              "      <td>1</td>\n",
              "      <td>0.445191</td>\n",
              "    </tr>\n",
              "    <tr>\n",
              "      <th>2</th>\n",
              "      <td>2</td>\n",
              "      <td>1.033932</td>\n",
              "    </tr>\n",
              "    <tr>\n",
              "      <th>3</th>\n",
              "      <td>3</td>\n",
              "      <td>0.405025</td>\n",
              "    </tr>\n",
              "    <tr>\n",
              "      <th>4</th>\n",
              "      <td>4</td>\n",
              "      <td>2.853969</td>\n",
              "    </tr>\n",
              "    <tr>\n",
              "      <th>5</th>\n",
              "      <td>5</td>\n",
              "      <td>0.580685</td>\n",
              "    </tr>\n",
              "    <tr>\n",
              "      <th>6</th>\n",
              "      <td>6</td>\n",
              "      <td>1.088060</td>\n",
              "    </tr>\n",
              "    <tr>\n",
              "      <th>7</th>\n",
              "      <td>7</td>\n",
              "      <td>0.113660</td>\n",
              "    </tr>\n",
              "    <tr>\n",
              "      <th>8</th>\n",
              "      <td>8</td>\n",
              "      <td>0.767736</td>\n",
              "    </tr>\n",
              "    <tr>\n",
              "      <th>9</th>\n",
              "      <td>9</td>\n",
              "      <td>0.902940</td>\n",
              "    </tr>\n",
              "  </tbody>\n",
              "</table>\n",
              "</div>"
            ],
            "text/plain": [
              "   ID  item_cnt_month\n",
              "0   0        0.561747\n",
              "1   1        0.445191\n",
              "2   2        1.033932\n",
              "3   3        0.405025\n",
              "4   4        2.853969\n",
              "5   5        0.580685\n",
              "6   6        1.088060\n",
              "7   7        0.113660\n",
              "8   8        0.767736\n",
              "9   9        0.902940"
            ]
          },
          "metadata": {
            "tags": []
          },
          "execution_count": 96
        }
      ]
    },
    {
      "cell_type": "code",
      "metadata": {
        "id": "wx-CoAwBa7G0"
      },
      "source": [
        "submission.to_csv('lgbm submission.csv', index=False)"
      ],
      "execution_count": 97,
      "outputs": []
    }
  ]
}